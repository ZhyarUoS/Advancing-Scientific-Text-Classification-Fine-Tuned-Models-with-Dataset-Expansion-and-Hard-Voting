{
 "cells": [
  {
   "cell_type": "code",
   "execution_count": null,
   "metadata": {
    "colab": {
     "base_uri": "https://localhost:8080/"
    },
    "id": "B4QvTrTDs5x7",
    "outputId": "2e48caa5-3ac8-4fba-a902-c85a16e2eee9"
   },
   "outputs": [
    {
     "name": "stdout",
     "output_type": "stream",
     "text": [
      "Sun Nov 10 11:40:32 2024       \n",
      "+---------------------------------------------------------------------------------------+\n",
      "| NVIDIA-SMI 535.104.05             Driver Version: 535.104.05   CUDA Version: 12.2     |\n",
      "|-----------------------------------------+----------------------+----------------------+\n",
      "| GPU  Name                 Persistence-M | Bus-Id        Disp.A | Volatile Uncorr. ECC |\n",
      "| Fan  Temp   Perf          Pwr:Usage/Cap |         Memory-Usage | GPU-Util  Compute M. |\n",
      "|                                         |                      |               MIG M. |\n",
      "|=========================================+======================+======================|\n",
      "|   0  Tesla T4                       Off | 00000000:00:04.0 Off |                    0 |\n",
      "| N/A   65C    P8              10W /  70W |      0MiB / 15360MiB |      0%      Default |\n",
      "|                                         |                      |                  N/A |\n",
      "+-----------------------------------------+----------------------+----------------------+\n",
      "                                                                                         \n",
      "+---------------------------------------------------------------------------------------+\n",
      "| Processes:                                                                            |\n",
      "|  GPU   GI   CI        PID   Type   Process name                            GPU Memory |\n",
      "|        ID   ID                                                             Usage      |\n",
      "|=======================================================================================|\n",
      "|  No running processes found                                                           |\n",
      "+---------------------------------------------------------------------------------------+\n"
     ]
    }
   ],
   "source": [
    "gpu_info = !nvidia-smi\n",
    "gpu_info = '\\n'.join(gpu_info)\n",
    "if gpu_info.find('failed') >= 0:\n",
    "  print('Not connected to a GPU')\n",
    "else:\n",
    "  print(gpu_info)"
   ]
  },
  {
   "cell_type": "code",
   "execution_count": null,
   "metadata": {
    "colab": {
     "base_uri": "https://localhost:8080/"
    },
    "id": "NS75qQZEtQ8K",
    "outputId": "5005fffb-d9d7-45df-c083-c3e1cc8dc765"
   },
   "outputs": [
    {
     "name": "stdout",
     "output_type": "stream",
     "text": [
      "Your runtime has 13.6 gigabytes of available RAM\n",
      "\n",
      "Not using a high-RAM runtime\n"
     ]
    }
   ],
   "source": [
    "from psutil import virtual_memory\n",
    "ram_gb = virtual_memory().total / 1e9\n",
    "print('Your runtime has {:.1f} gigabytes of available RAM\\n'.format(ram_gb))\n",
    "\n",
    "if ram_gb < 20:\n",
    "  print('Not using a high-RAM runtime')\n",
    "else:\n",
    "  print('You are using a high-RAM runtime!')"
   ]
  },
  {
   "cell_type": "code",
   "execution_count": null,
   "metadata": {
    "colab": {
     "base_uri": "https://localhost:8080/"
    },
    "id": "0AlVWD1utTsP",
    "outputId": "01a5758b-1f3d-4e19-9e6e-dde40081df9b"
   },
   "outputs": [
    {
     "name": "stdout",
     "output_type": "stream",
     "text": [
      "Mounted at /content/drive\n"
     ]
    }
   ],
   "source": [
    "from google.colab import drive\n",
    "drive.mount('/content/drive')"
   ]
  },
  {
   "cell_type": "code",
   "execution_count": null,
   "metadata": {
    "colab": {
     "base_uri": "https://localhost:8080/"
    },
    "id": "nzmetJDhtVtT",
    "outputId": "ff87f95d-cec0-4f99-ae2a-f14bd7e9b116"
   },
   "outputs": [
    {
     "name": "stdout",
     "output_type": "stream",
     "text": [
      "Requirement already satisfied: transformers in /usr/local/lib/python3.10/dist-packages (4.44.2)\n",
      "Requirement already satisfied: filelock in /usr/local/lib/python3.10/dist-packages (from transformers) (3.16.1)\n",
      "Requirement already satisfied: huggingface-hub<1.0,>=0.23.2 in /usr/local/lib/python3.10/dist-packages (from transformers) (0.24.7)\n",
      "Requirement already satisfied: numpy>=1.17 in /usr/local/lib/python3.10/dist-packages (from transformers) (1.26.4)\n",
      "Requirement already satisfied: packaging>=20.0 in /usr/local/lib/python3.10/dist-packages (from transformers) (24.1)\n",
      "Requirement already satisfied: pyyaml>=5.1 in /usr/local/lib/python3.10/dist-packages (from transformers) (6.0.2)\n",
      "Requirement already satisfied: regex!=2019.12.17 in /usr/local/lib/python3.10/dist-packages (from transformers) (2024.9.11)\n",
      "Requirement already satisfied: requests in /usr/local/lib/python3.10/dist-packages (from transformers) (2.32.3)\n",
      "Requirement already satisfied: safetensors>=0.4.1 in /usr/local/lib/python3.10/dist-packages (from transformers) (0.4.5)\n",
      "Requirement already satisfied: tokenizers<0.20,>=0.19 in /usr/local/lib/python3.10/dist-packages (from transformers) (0.19.1)\n",
      "Requirement already satisfied: tqdm>=4.27 in /usr/local/lib/python3.10/dist-packages (from transformers) (4.66.6)\n",
      "Requirement already satisfied: fsspec>=2023.5.0 in /usr/local/lib/python3.10/dist-packages (from huggingface-hub<1.0,>=0.23.2->transformers) (2024.10.0)\n",
      "Requirement already satisfied: typing-extensions>=3.7.4.3 in /usr/local/lib/python3.10/dist-packages (from huggingface-hub<1.0,>=0.23.2->transformers) (4.12.2)\n",
      "Requirement already satisfied: charset-normalizer<4,>=2 in /usr/local/lib/python3.10/dist-packages (from requests->transformers) (3.4.0)\n",
      "Requirement already satisfied: idna<4,>=2.5 in /usr/local/lib/python3.10/dist-packages (from requests->transformers) (3.10)\n",
      "Requirement already satisfied: urllib3<3,>=1.21.1 in /usr/local/lib/python3.10/dist-packages (from requests->transformers) (2.2.3)\n",
      "Requirement already satisfied: certifi>=2017.4.17 in /usr/local/lib/python3.10/dist-packages (from requests->transformers) (2024.8.30)\n"
     ]
    }
   ],
   "source": [
    "!pip install transformers"
   ]
  },
  {
   "cell_type": "code",
   "execution_count": null,
   "metadata": {
    "id": "o1b6s5YpuqI_"
   },
   "outputs": [],
   "source": [
    "import os\n",
    "import re\n",
    "import numpy as np\n",
    "import pandas as pd\n",
    "from sklearn.model_selection import train_test_split\n",
    "from sklearn.metrics import confusion_matrix, classification_report, f1_score, precision_score, recall_score\n",
    "from transformers import AutoTokenizer, AutoModelForSequenceClassification, AdamW, get_linear_schedule_with_warmup\n",
    "import torch\n",
    "from torch.utils.data import DataLoader, TensorDataset, RandomSampler, SequentialSampler\n",
    "import torch.nn.functional as F\n",
    "from tqdm import trange, tqdm\n",
    "import matplotlib.pyplot as plt\n",
    "import sklearn.utils\n",
    "import time\n",
    "from torch.utils.data import TensorDataset"
   ]
  },
  {
   "cell_type": "code",
   "execution_count": null,
   "metadata": {
    "id": "EnKxLmqAuzN3"
   },
   "outputs": [],
   "source": [
    "def clean_text(text):\n",
    "    if isinstance(text, (str, np.ndarray)): \n",
    "        if isinstance(text, str):\n",
    "            text = text.lower()\n",
    "            text = re.sub(r'[^a-zA-Z0-9\\s]', '', text)\n",
    "            return text\n",
    "        elif isinstance(text, np.ndarray):\n",
    "            return np.array([clean_text(t) for t in text])\n",
    "    elif pd.isnull(text): \n",
    "        return \"\"\n",
    "    else:\n",
    "    \n",
    "        try:\n",
    "            text = str(text)\n",
    "            text = text.lower()\n",
    "            text = re.sub(r'[^a-zA-Z0-9\\s]', '', text)\n",
    "            return text\n",
    "        except Exception as e:\n",
    "            print(f\"Error cleaning text: {e}, Text Type: {type(text)}, Text Value: {text}\")\n",
    "            return \"\" "
   ]
  },
  {
   "cell_type": "code",
   "execution_count": null,
   "metadata": {
    "id": "1m8ZSsBZu1yh"
   },
   "outputs": [],
   "source": [
    "labeled_data = pd.read_csv(\"/content/drive/MyDrive/WoS/data/WoSDataset_18933.csv\")\n",
    "\n",
    "for col in ['Keywords', 'Abstract']:\n",
    "    labeled_data[col] = labeled_data[col].apply(clean_text)\n",
    "\n",
    "labeled_data['combined_text'] = labeled_data['Keywords'] + \" [SEP] \" + labeled_data['Abstract']"
   ]
  },
  {
   "cell_type": "code",
   "execution_count": null,
   "metadata": {
    "id": "kcD4ZhflKLyC"
   },
   "outputs": [],
   "source": [
    "abstractslbl = labeled_data['Abstract']\n",
    "keywordsslbl = labeled_data['Keywords']\n",
    "domainlbl = labeled_data['Domain']\n",
    "lbls = labeled_data['Label']"
   ]
  },
  {
   "cell_type": "code",
   "execution_count": null,
   "metadata": {
    "colab": {
     "base_uri": "https://localhost:8080/"
    },
    "id": "OhCyifkpJ49N",
    "outputId": "7b09e48d-2514-4e7b-ac66-cd31503df5a6"
   },
   "outputs": [
    {
     "name": "stdout",
     "output_type": "stream",
     "text": [
      "(18932, 5)\n",
      "Index(['Label', 'Domain', 'Keywords', 'Abstract', 'combined_text'], dtype='object')\n"
     ]
    }
   ],
   "source": [
    "print(np.shape(labeled_data))\n",
    "print(labeled_data.columns)"
   ]
  },
  {
   "cell_type": "code",
   "execution_count": null,
   "metadata": {
    "colab": {
     "base_uri": "https://localhost:8080/"
    },
    "id": "2FCJG01mKbKQ",
    "outputId": "81ddaace-b0fb-4ce9-d387-0aacfd88914e"
   },
   "outputs": [
    {
     "name": "stdout",
     "output_type": "stream",
     "text": [
      "Labels  ['CS' 'Civil' 'ECE' 'MAE' 'Medical' 'Psychology' 'biochemistry']\n",
      "Label counts  [2758 2870 1952 3100 2634 2906 2712]\n"
     ]
    }
   ],
   "source": [
    "labels = np.unique(domainlbl, return_counts=True)[0]\n",
    "labelCounts=  np.unique(domainlbl, return_counts=True)[1]\n",
    "\n",
    "print(\"Labels \", labels)\n",
    "print(\"Label counts \", labelCounts)"
   ]
  },
  {
   "cell_type": "code",
   "execution_count": null,
   "metadata": {
    "colab": {
     "base_uri": "https://localhost:8080/",
     "height": 571
    },
    "id": "EiF7Vq6BKuWY",
    "outputId": "812e8e20-35bb-4af9-fa8d-e2ee2562b018"
   },
   "outputs": [
    {
     "data": {
      "image/png": "[encoded data removed]",
      "text/plain": [
       "<Figure size 1000x600 with 1 Axes>"
      ]
     },
     "metadata": {},
     "output_type": "display_data"
    },
    {
     "name": "stdout",
     "output_type": "stream",
     "text": [
      "The label CS has 2758 records in the dataset.\n",
      "The label Civil has 2870 records in the dataset.\n",
      "The label ECE has 1952 records in the dataset.\n",
      "The label MAE has 3100 records in the dataset.\n",
      "The label Medical has 2634 records in the dataset.\n",
      "The label Psychology has 2906 records in the dataset.\n",
      "The label biochemistry has 2712 records in the dataset.\n"
     ]
    }
   ],
   "source": [
    "plt.figure(figsize=(10, 6))\n",
    "plt.title(\"Class Counts (Dataset)\")\n",
    "plt.pie(labelCounts, labels=labels, autopct='%1.1f%%', startangle=140, colors=plt.cm.Paired(range(len(labels))))\n",
    "plt.axis('equal')\n",
    "plt.show()\n",
    "\n",
    "for i, label in enumerate(labels):\n",
    "    print(\"The label\", label, \"has\", labelCounts[i], \"records in the dataset.\")"
   ]
  },
  {
   "cell_type": "code",
   "execution_count": null,
   "metadata": {
    "id": "700DOQ7qhoQy"
   },
   "outputs": [],
   "source": [
    "labeled_data_shuffled = sklearn.utils.shuffle(labeled_data)\n",
    "abstracts_shuffled = labeled_data_shuffled['Abstract'].values\n",
    "keywords_shuffled = labeled_data_shuffled['Keywords'].values\n",
    "domains_shuffled = labeled_data_shuffled['Domain'].values\n",
    "allLabels_shuffled = labeled_data_shuffled['Label'].values\n",
    "allLabels_digit_shuffled = allLabels_shuffled.astype(int)"
   ]
  },
  {
   "cell_type": "code",
   "execution_count": null,
   "metadata": {
    "colab": {
     "base_uri": "https://localhost:8080/"
    },
    "id": "3GC2HbB_63Pu",
    "outputId": "fb2bf869-966c-4183-ba5a-390909e14a34"
   },
   "outputs": [
    {
     "name": "stdout",
     "output_type": "stream",
     "text": [
      "(18932, 5)\n",
      "(18932,)\n",
      "(18932,)\n",
      "(18932,)\n",
      " interview anxiety interview performance person perception job interview         [SEP] the aim of this study was to investigate a the behavioral cues that are displayed by and trait judgments formed about anxious interviewees and b why anxious interviewees receive lower interview performance ratings the behavioral expression of interview anxiety model was created as a conceptual framework to explore these relations we videotaped and transcribed mock job interviews obtained ratings of interview anxiety and interview performance and trained raters to assess several verbal and nonverbal cues and trait judgments the results indicated that few behavioral cues but several traits were related to interviewee and interviewer ratings of interview anxiety two factors emerged from our factor analysis on the trait judgmentsassertiveness and interpersonal warmth mediation analyses were performed and indicated that assertiveness and interpersonal warmth mediated the relation between interview anxiety and interview performance speech rate words spoken per minute and assertiveness were found to mediate the relation between interviewee and interviewer ratings of interview anxiety overall the results indicated that interviewees should focus less on their nervous tics and more on the broader impressions that they convey our findings indicate that anxious interviewees may want to focus on how assertive and interpersonally warm they appear to interviewers to our knowledge this is the first study to use a validated interview anxiety measure to examine behavioral cues and traits exhibited by anxious interviewees we offer new insight into why anxious interviewees receive lower interview performance ratings\n"
     ]
    }
   ],
   "source": [
    "print(np.shape(labeled_data_shuffled))\n",
    "print(np.shape(abstracts_shuffled))\n",
    "print(np.shape(keywords_shuffled))\n",
    "print(np.shape(domains_shuffled))\n",
    "\n",
    "print(labeled_data_shuffled['combined_text'][0])"
   ]
  },
  {
   "cell_type": "code",
   "execution_count": null,
   "metadata": {
    "colab": {
     "base_uri": "https://localhost:8080/"
    },
    "id": "Kudfd8zLhsTv",
    "outputId": "498580b3-3175-47b1-9e1e-8501e2dc718f"
   },
   "outputs": [
    {
     "name": "stdout",
     "output_type": "stream",
     "text": [
      "(15145, 5)\n",
      "(3787, 5)\n",
      "(15145, 5)\n",
      "(3787, 5)\n",
      "(1894, 5)\n"
     ]
    }
   ],
   "source": [
    "train_data, test_data = train_test_split(labeled_data_shuffled, test_size=0.2, random_state=42)\n",
    "print(np.shape(train_data))\n",
    "print(np.shape(test_data))\n",
    "\n",
    "_, val_data = train_test_split(test_data, test_size=0.5, random_state=42)\n",
    "print(np.shape(train_data))\n",
    "print(np.shape(test_data))\n",
    "print(np.shape(val_data))\n",
    "\n"
   ]
  },
  {
   "cell_type": "code",
   "execution_count": null,
   "metadata": {
    "colab": {
     "base_uri": "https://localhost:8080/",
     "height": 240,
     "referenced_widgets": [
      "f46cb6c6b01d4a00b115e2624da6b24e",
      "124784addb7a46a2af7105cda931ba19",
      "8d2d26d1c41942459da35c163e82710c",
      "25f95f642dc74cccb713a34d829099d4",
      "1166520a4cd3403ba28da5dbe2f130f6",
      "c63e5bc937f14200ae207fb48d35d7d8",
      "21842d0258fa4e08b954a22d2d1eb7f8",
      "ae04be488f74486d9e1bb86fff2cdbc2",
      "3dd88e35dc6a4005bc00186463527907",
      "69724d521fa740aca0758d35d274b970",
      "8cec78dfa72940cab5d73be18f616126",
      "2975893c28194a91ba6b1dee8575e142",
      "3dc69b4991f34ab5860b4e748c1475dc",
      "3766aea490364c7a81bee65e82420cec",
      "f70bcc3c9b8545c09ddc568a7d53ca3f",
      "fdb4fda1ecf34aa9859efbe13ed32335",
      "f3489a1f27064e10af9253dd96be6170",
      "aee08a90490945348f6bcd0cabf5229e",
      "479c93fa2d6146c79549ee276f095597",
      "83f8f95b705b49dbb6520a1cb1c2a1ac",
      "1b0e87ab38274761a2fc7b04990292d6",
      "3737b949cbb6455fb22a1a51c6497149"
     ]
    },
    "id": "YIZ4uxq2h0Rn",
    "outputId": "a310fd60-a32f-49a4-9d01-b5c1e90b33b6"
   },
   "outputs": [
    {
     "name": "stderr",
     "output_type": "stream",
     "text": [
      "/usr/local/lib/python3.10/dist-packages/huggingface_hub/utils/_token.py:89: UserWarning: \n",
      "The secret `HF_TOKEN` does not exist in your Colab secrets.\n",
      "To authenticate with the Hugging Face Hub, create a token in your settings tab (https://huggingface.co/settings/tokens), set it as secret in your Google Colab and restart your session.\n",
      "You will be able to reuse this secret in all of your notebooks.\n",
      "Please note that authentication is recommended but still optional to access public models or datasets.\n",
      "  warnings.warn(\n"
     ]
    },
    {
     "data": {
      "application/vnd.jupyter.widget-view+json": {
       "model_id": "f46cb6c6b01d4a00b115e2624da6b24e",
       "version_major": 2,
       "version_minor": 0
      },
      "text/plain": [
       "config.json:   0%|          | 0.00/1.11k [00:00<?, ?B/s]"
      ]
     },
     "metadata": {},
     "output_type": "display_data"
    },
    {
     "data": {
      "application/vnd.jupyter.widget-view+json": {
       "model_id": "2975893c28194a91ba6b1dee8575e142",
       "version_major": 2,
       "version_minor": 0
      },
      "text/plain": [
       "vocab.txt:   0%|          | 0.00/213k [00:00<?, ?B/s]"
      ]
     },
     "metadata": {},
     "output_type": "display_data"
    },
    {
     "name": "stderr",
     "output_type": "stream",
     "text": [
      "/usr/local/lib/python3.10/dist-packages/transformers/tokenization_utils_base.py:1601: FutureWarning: `clean_up_tokenization_spaces` was not set. It will be set to `True` by default. This behavior will be depracted in transformers v4.45, and will be then set to `False` by default. For more details check this issue: https://github.com/huggingface/transformers/issues/31884\n",
      "  warnings.warn(\n"
     ]
    }
   ],
   "source": [
    "tokenizer = AutoTokenizer.from_pretrained(\"dmis-lab/biobert-base-cased-v1.2\")"
   ]
  },
  {
   "cell_type": "code",
   "execution_count": null,
   "metadata": {
    "id": "sCxmsPk9T7tW"
   },
   "outputs": [],
   "source": [
    "abstractslbltrain = train_data['Abstract']\n",
    "keywordsslbltrain = train_data['Keywords']\n",
    "domainlbltrain = train_data['Domain']\n",
    "lblstrain = train_data['Label']"
   ]
  },
  {
   "cell_type": "code",
   "execution_count": null,
   "metadata": {
    "colab": {
     "base_uri": "https://localhost:8080/"
    },
    "id": "e1aaQ3j-T8vi",
    "outputId": "ebad54c6-71e9-44f4-a932-6389dc21eaa9"
   },
   "outputs": [
    {
     "name": "stdout",
     "output_type": "stream",
     "text": [
      "(18932, 5)\n",
      "Index(['Label', 'Domain', 'Keywords', 'Abstract', 'combined_text'], dtype='object')\n"
     ]
    }
   ],
   "source": [
    "print(np.shape(labeled_data))\n",
    "print(labeled_data.columns)"
   ]
  },
  {
   "cell_type": "code",
   "execution_count": null,
   "metadata": {
    "colab": {
     "base_uri": "https://localhost:8080/"
    },
    "id": "8Gr4SA7PUATC",
    "outputId": "9c5052b5-611d-417f-a9d8-2adb049a82b6"
   },
   "outputs": [
    {
     "name": "stdout",
     "output_type": "stream",
     "text": [
      "Labels  ['CS' 'Civil' 'ECE' 'MAE' 'Medical' 'Psychology' 'biochemistry']\n",
      "Label counts  [2209 2281 1565 2497 2090 2322 2181]\n"
     ]
    }
   ],
   "source": [
    "labels = np.unique(domainlbltrain, return_counts=True)[0]\n",
    "labelCounts=  np.unique(domainlbltrain, return_counts=True)[1]\n",
    "\n",
    "print(\"Labels \", labels)\n",
    "print(\"Label counts \", labelCounts)"
   ]
  },
  {
   "cell_type": "code",
   "execution_count": null,
   "metadata": {
    "colab": {
     "base_uri": "https://localhost:8080/",
     "height": 571
    },
    "id": "GDOn_hrNUGSy",
    "outputId": "3dbfb0e2-2d53-425d-f6ec-2db5a28c46e7"
   },
   "outputs": [
    {
     "data": {
      "image/png": "[encoded data removed]",
      "text/plain": [
       "<Figure size 1000x600 with 1 Axes>"
      ]
     },
     "metadata": {},
     "output_type": "display_data"
    },
    {
     "name": "stdout",
     "output_type": "stream",
     "text": [
      "The label CS has 2209 records in the dataset.\n",
      "The label Civil has 2281 records in the dataset.\n",
      "The label ECE has 1565 records in the dataset.\n",
      "The label MAE has 2497 records in the dataset.\n",
      "The label Medical has 2090 records in the dataset.\n",
      "The label Psychology has 2322 records in the dataset.\n",
      "The label biochemistry has 2181 records in the dataset.\n"
     ]
    }
   ],
   "source": [
    "# Visualize domain counts in dataset\n",
    "plt.figure(figsize=(10, 6))\n",
    "plt.title(\"Class Counts (Dataset)\")\n",
    "plt.pie(labelCounts, labels=labels, autopct='%1.1f%%', startangle=140, colors=plt.cm.Paired(range(len(labels))))\n",
    "plt.axis('equal')\n",
    "plt.show()\n",
    "\n",
    "for i, label in enumerate(labels):\n",
    "    print(\"The label\", label, \"has\", labelCounts[i], \"records in the dataset.\")"
   ]
  },
  {
   "cell_type": "code",
   "execution_count": null,
   "metadata": {
    "id": "JGvdipmIZEPq"
   },
   "outputs": [],
   "source": [
    "abstractslbltest = test_data['Abstract']\n",
    "keywordsslbltest = test_data['Keywords']\n",
    "domainlbltest = test_data['Domain']\n",
    "lblstest = test_data['Label']"
   ]
  },
  {
   "cell_type": "code",
   "execution_count": null,
   "metadata": {
    "colab": {
     "base_uri": "https://localhost:8080/"
    },
    "id": "l64aJDKxZEfQ",
    "outputId": "f6ed4a27-b477-44a7-bde6-077d3dd0bc75"
   },
   "outputs": [
    {
     "name": "stdout",
     "output_type": "stream",
     "text": [
      "Labels  ['CS' 'Civil' 'ECE' 'MAE' 'Medical' 'Psychology' 'biochemistry']\n",
      "Label counts  [549 589 387 603 544 584 531]\n"
     ]
    }
   ],
   "source": [
    "labels = np.unique(domainlbltest, return_counts=True)[0]\n",
    "labelCounts=  np.unique(domainlbltest, return_counts=True)[1]\n",
    "\n",
    "print(\"Labels \", labels)\n",
    "print(\"Label counts \", labelCounts)"
   ]
  },
  {
   "cell_type": "code",
   "execution_count": null,
   "metadata": {
    "colab": {
     "base_uri": "https://localhost:8080/",
     "height": 571
    },
    "id": "RhCMATTGZErU",
    "outputId": "c5fa47c6-1b08-4a30-d9b2-faa7ff4faf1f"
   },
   "outputs": [
    {
     "data": {
      "image/png": "[encoded data removed]",
      "text/plain": [
       "<Figure size 1000x600 with 1 Axes>"
      ]
     },
     "metadata": {},
     "output_type": "display_data"
    },
    {
     "name": "stdout",
     "output_type": "stream",
     "text": [
      "The label CS has 549 records in the dataset.\n",
      "The label Civil has 589 records in the dataset.\n",
      "The label ECE has 387 records in the dataset.\n",
      "The label MAE has 603 records in the dataset.\n",
      "The label Medical has 544 records in the dataset.\n",
      "The label Psychology has 584 records in the dataset.\n",
      "The label biochemistry has 531 records in the dataset.\n"
     ]
    }
   ],
   "source": [
    "# Visualize domain counts in dataset\n",
    "plt.figure(figsize=(10, 6))\n",
    "plt.title(\"Class Counts (Dataset)\")\n",
    "plt.pie(labelCounts, labels=labels, autopct='%1.1f%%', startangle=140, colors=plt.cm.Paired(range(len(labels))))\n",
    "plt.axis('equal')\n",
    "plt.show()\n",
    "\n",
    "for i, label in enumerate(labels):\n",
    "    print(\"The label\", label, \"has\", labelCounts[i], \"records in the dataset.\")"
   ]
  },
  {
   "cell_type": "code",
   "execution_count": null,
   "metadata": {
    "id": "0eWbApo_ZROV"
   },
   "outputs": [],
   "source": [
    "abstractslblval = val_data['Abstract']\n",
    "keywordsslblval = val_data['Keywords']\n",
    "domainlblval = val_data['Domain']\n",
    "lblsval = val_data['Label']"
   ]
  },
  {
   "cell_type": "code",
   "execution_count": null,
   "metadata": {
    "colab": {
     "base_uri": "https://localhost:8080/"
    },
    "id": "alfNPrPwZRmt",
    "outputId": "1df4b6dd-81f8-4612-9039-1f118734a5f5"
   },
   "outputs": [
    {
     "name": "stdout",
     "output_type": "stream",
     "text": [
      "Labels  ['CS' 'Civil' 'ECE' 'MAE' 'Medical' 'Psychology' 'biochemistry']\n",
      "Label counts  [272 303 192 290 268 307 262]\n"
     ]
    }
   ],
   "source": [
    "labels = np.unique(domainlblval, return_counts=True)[0]\n",
    "labelCounts=  np.unique(domainlblval, return_counts=True)[1]\n",
    "\n",
    "print(\"Labels \", labels)\n",
    "print(\"Label counts \", labelCounts)"
   ]
  },
  {
   "cell_type": "code",
   "execution_count": null,
   "metadata": {
    "colab": {
     "base_uri": "https://localhost:8080/",
     "height": 572
    },
    "id": "-vH16QzfZE6m",
    "outputId": "d3f4bb44-70d6-4793-e48f-fba45c5b21d7"
   },
   "outputs": [
    {
     "data": {
      "image/png": "[encoded data removed]",
      "text/plain": [
       "<Figure size 1000x600 with 1 Axes>"
      ]
     },
     "metadata": {},
     "output_type": "display_data"
    },
    {
     "name": "stdout",
     "output_type": "stream",
     "text": [
      "The label CS has 272 records in the dataset.\n",
      "The label Civil has 303 records in the dataset.\n",
      "The label ECE has 192 records in the dataset.\n",
      "The label MAE has 290 records in the dataset.\n",
      "The label Medical has 268 records in the dataset.\n",
      "The label Psychology has 307 records in the dataset.\n",
      "The label biochemistry has 262 records in the dataset.\n"
     ]
    }
   ],
   "source": [
    "# Visualize domain counts in dataset\n",
    "plt.figure(figsize=(10, 6))\n",
    "plt.title(\"Class Counts (Dataset)\")\n",
    "plt.pie(labelCounts, labels=labels, autopct='%1.1f%%', startangle=140, colors=plt.cm.Paired(range(len(labels))))\n",
    "plt.axis('equal')\n",
    "plt.show()\n",
    "\n",
    "for i, label in enumerate(labels):\n",
    "    print(\"The label\", label, \"has\", labelCounts[i], \"records in the dataset.\")"
   ]
  },
  {
   "cell_type": "code",
   "execution_count": null,
   "metadata": {
    "id": "pxeAvHMGh3fx"
   },
   "outputs": [],
   "source": [
    "def encode_data(data, tokenizer, max_length=128, labeled=True):\n",
    "    inputs = tokenizer(\n",
    "        data['combined_text'].tolist(),\n",
    "        max_length=max_length,\n",
    "        padding=\"max_length\",\n",
    "        truncation=True,\n",
    "        return_tensors=\"pt\"\n",
    "    )\n",
    "\n",
    "    if labeled and 'Label' in data.columns:\n",
    "        labels = torch.tensor(data['Label'].values.astype(int))\n",
    "        return TensorDataset(inputs['input_ids'], inputs['attention_mask'], labels)\n",
    "    else:\n",
    "        return TensorDataset(inputs['input_ids'], inputs['attention_mask'])\n"
   ]
  },
  {
   "cell_type": "code",
   "execution_count": null,
   "metadata": {
    "id": "bqVvQ4ZriHk_"
   },
   "outputs": [],
   "source": [
    "train_dataset = encode_data(train_data, tokenizer)\n",
    "val_dataset = encode_data(val_data, tokenizer)\n",
    "test_dataset = encode_data(test_data, tokenizer)"
   ]
  },
  {
   "cell_type": "code",
   "execution_count": null,
   "metadata": {
    "id": "MVqj6GkGiOLU"
   },
   "outputs": [],
   "source": [
    "train_dataloader = DataLoader(train_dataset, sampler=RandomSampler(train_dataset), batch_size=32)\n",
    "val_dataloader = DataLoader(val_dataset, sampler=SequentialSampler(val_dataset), batch_size=32)\n",
    "test_dataloader = DataLoader(test_dataset, sampler=SequentialSampler(test_dataset), batch_size=32)"
   ]
  },
  {
   "cell_type": "code",
   "execution_count": null,
   "metadata": {
    "colab": {
     "base_uri": "https://localhost:8080/",
     "height": 902,
     "referenced_widgets": [
      "c0902293eaab40a5ae167cc1a43f3d5e",
      "63a88f0ee0c64474a11bb078efe7f3e4",
      "e50013e8afc74a9c842973bd831590d7",
      "d90b2c4891ab49149e29811287acac18",
      "2242c538bcb64fc8a50ce45eec5ff2ef",
      "3cf36889b8af4446927164fafe50c020",
      "255599711e4a46c4928029aad528e5a5",
      "bb2e6d4833894a54b7cf5e8b5d02ef1f",
      "cc76d546e8874ad98fac7e05b181f013",
      "3c92e44ec35a4612bcb8f21731337241",
      "7bcb83f1956c4d4c8f35aea63b9feffd"
     ]
    },
    "id": "xZnFwk-jiQ1N",
    "outputId": "92c7dd6d-071f-46e1-f8f6-df01ebd8ae7e"
   },
   "outputs": [
    {
     "name": "stdout",
     "output_type": "stream",
     "text": [
      "7\n"
     ]
    },
    {
     "data": {
      "application/vnd.jupyter.widget-view+json": {
       "model_id": "c0902293eaab40a5ae167cc1a43f3d5e",
       "version_major": 2,
       "version_minor": 0
      },
      "text/plain": [
       "pytorch_model.bin:   0%|          | 0.00/436M [00:00<?, ?B/s]"
      ]
     },
     "metadata": {},
     "output_type": "display_data"
    },
    {
     "name": "stderr",
     "output_type": "stream",
     "text": [
      "Some weights of BertForSequenceClassification were not initialized from the model checkpoint at dmis-lab/biobert-base-cased-v1.2 and are newly initialized: ['classifier.bias', 'classifier.weight']\n",
      "You should probably TRAIN this model on a down-stream task to be able to use it for predictions and inference.\n"
     ]
    },
    {
     "data": {
      "text/plain": [
       "BertForSequenceClassification(\n",
       "  (bert): BertModel(\n",
       "    (embeddings): BertEmbeddings(\n",
       "      (word_embeddings): Embedding(28996, 768, padding_idx=0)\n",
       "      (position_embeddings): Embedding(512, 768)\n",
       "      (token_type_embeddings): Embedding(2, 768)\n",
       "      (LayerNorm): LayerNorm((768,), eps=1e-12, elementwise_affine=True)\n",
       "      (dropout): Dropout(p=0.1, inplace=False)\n",
       "    )\n",
       "    (encoder): BertEncoder(\n",
       "      (layer): ModuleList(\n",
       "        (0-11): 12 x BertLayer(\n",
       "          (attention): BertAttention(\n",
       "            (self): BertSdpaSelfAttention(\n",
       "              (query): Linear(in_features=768, out_features=768, bias=True)\n",
       "              (key): Linear(in_features=768, out_features=768, bias=True)\n",
       "              (value): Linear(in_features=768, out_features=768, bias=True)\n",
       "              (dropout): Dropout(p=0.1, inplace=False)\n",
       "            )\n",
       "            (output): BertSelfOutput(\n",
       "              (dense): Linear(in_features=768, out_features=768, bias=True)\n",
       "              (LayerNorm): LayerNorm((768,), eps=1e-12, elementwise_affine=True)\n",
       "              (dropout): Dropout(p=0.1, inplace=False)\n",
       "            )\n",
       "          )\n",
       "          (intermediate): BertIntermediate(\n",
       "            (dense): Linear(in_features=768, out_features=3072, bias=True)\n",
       "            (intermediate_act_fn): GELUActivation()\n",
       "          )\n",
       "          (output): BertOutput(\n",
       "            (dense): Linear(in_features=3072, out_features=768, bias=True)\n",
       "            (LayerNorm): LayerNorm((768,), eps=1e-12, elementwise_affine=True)\n",
       "            (dropout): Dropout(p=0.1, inplace=False)\n",
       "          )\n",
       "        )\n",
       "      )\n",
       "    )\n",
       "    (pooler): BertPooler(\n",
       "      (dense): Linear(in_features=768, out_features=768, bias=True)\n",
       "      (activation): Tanh()\n",
       "    )\n",
       "  )\n",
       "  (dropout): Dropout(p=0.1, inplace=False)\n",
       "  (classifier): Linear(in_features=768, out_features=7, bias=True)\n",
       ")"
      ]
     },
     "execution_count": 28,
     "metadata": {},
     "output_type": "execute_result"
    }
   ],
   "source": [
    "print(len(np.unique(train_data['Label'])))\n",
    "model = AutoModelForSequenceClassification.from_pretrained(\"dmis-lab/biobert-base-cased-v1.2\", num_labels=len(np.unique(train_data['Label'])))\n",
    "device = torch.device(\"cuda\" if torch.cuda.is_available() else \"cpu\")\n",
    "model.to(device)"
   ]
  },
  {
   "cell_type": "code",
   "execution_count": null,
   "metadata": {
    "id": "tkWRqh9eiozN"
   },
   "outputs": [],
   "source": [
    "def calculate_metrics_f(valType, predictions, true_labels):\n",
    "    if valType == 'test':\n",
    "        cm = confusion_matrix(true_labels, predictions)\n",
    "        report = classification_report(true_labels, predictions)\n",
    "        f1_micro = f1_score(true_labels, predictions, average='micro')\n",
    "        print(\"\\nClassification Report:\\n\", report)\n",
    "        return f1_micro\n",
    "    elif valType == 'val':\n",
    "        f1_micro = f1_score(true_labels, predictions, average='micro')\n",
    "        return f1_micro"
   ]
  },
  {
   "cell_type": "code",
   "execution_count": null,
   "metadata": {
    "id": "qtxucMQfkITn"
   },
   "outputs": [],
   "source": [
    "def calculate_metrics(valType, predictions, true_labels):\n",
    "    # Confusion matrix\n",
    "    if(valType == 'test'):\n",
    "        cm = confusion_matrix(true_labels, predictions)\n",
    "        print(\"Confusion Matrix:\\n\", cm)\n",
    "\n",
    "        report = classification_report(true_labels, predictions, target_names=[str(i) for i in range(len(np.unique(true_labels)))])\n",
    "        print(\"\\nClassification Report:\\n\", report)\n",
    "\n",
    "        f1_macro = f1_score(true_labels, predictions, average='macro')\n",
    "        f1_micro = f1_score(true_labels, predictions, average='micro')\n",
    "        f1_weighted = f1_score(true_labels, predictions, average='weighted')\n",
    "\n",
    "        precision_macro = precision_score(true_labels, predictions, average='macro')\n",
    "        precision_micro = precision_score(true_labels, predictions, average='micro')\n",
    "        precision_weighted = precision_score(true_labels, predictions, average='weighted')\n",
    "\n",
    "        recall_macro = recall_score(true_labels, predictions, average='macro')\n",
    "        recall_micro = recall_score(true_labels, predictions, average='micro')\n",
    "        recall_weighted = recall_score(true_labels, predictions, average='weighted')\n",
    "\n",
    "        print(f\"Macro F1 Score: {f1_macro}\")\n",
    "        print(f\"Micro F1 Score: {f1_micro}\")\n",
    "        print(f\"Weighted F1 Score: {f1_weighted}\")\n",
    "\n",
    "        print(f\"Macro Precision: {precision_macro}\")\n",
    "        print(f\"Micro Precision: {precision_micro}\")\n",
    "        print(f\"Weighted Precision: {precision_weighted}\")\n",
    "\n",
    "        print(f\"Macro Recall: {recall_macro}\")\n",
    "        print(f\"Micro Recall: {recall_micro}\")\n",
    "        print(f\"Weighted Recall: {recall_weighted}\")\n",
    "\n",
    "    elif(valType == 'val'):\n",
    "        cm = confusion_matrix(true_labels, predictions)\n",
    "        f1_macro = f1_score(true_labels, predictions, average='macro')\n",
    "        f1_micro = f1_score(true_labels, predictions, average='micro')\n",
    "        f1_weighted = f1_score(true_labels, predictions, average='weighted')\n",
    "\n",
    "        precision_macro = precision_score(true_labels, predictions, average='macro')\n",
    "        precision_micro = precision_score(true_labels, predictions, average='micro')\n",
    "        precision_weighted = precision_score(true_labels, predictions, average='weighted')\n",
    "\n",
    "        recall_macro = recall_score(true_labels, predictions, average='macro')\n",
    "        recall_micro = recall_score(true_labels, predictions, average='micro')\n",
    "        recall_weighted = recall_score(true_labels, predictions, average='weighted')\n",
    "        # print('Val Micro F1:', f1_micro)\n",
    "        return f1_micro"
   ]
  },
  {
   "cell_type": "code",
   "execution_count": null,
   "metadata": {
    "colab": {
     "base_uri": "https://localhost:8080/"
    },
    "id": "TacIdpsRite9",
    "outputId": "461cd116-cd64-488f-dbdb-48c6179f286d"
   },
   "outputs": [
    {
     "name": "stdout",
     "output_type": "stream",
     "text": [
      "\n",
      "Training with learning rate: 2e-05\n"
     ]
    },
    {
     "name": "stderr",
     "output_type": "stream",
     "text": [
      "/usr/local/lib/python3.10/dist-packages/transformers/optimization.py:591: FutureWarning: This implementation of AdamW is deprecated and will be removed in a future version. Use the PyTorch implementation torch.optim.AdamW instead, or set `no_deprecation_warning=True` to disable this warning\n",
      "  warnings.warn(\n",
      "Epoch 1/20: 100%|██████████| 474/474 [04:56<00:00,  1.60batch/s]\n"
     ]
    },
    {
     "name": "stdout",
     "output_type": "stream",
     "text": [
      "Train Loss: 1.2004954907650183\n",
      "Validation Micro F1: 0.8875395987328405\n",
      "Epoch 1/20, Train Loss: 1.2004954907650183, Val Micro F1: 0.8875395987328405\n",
      "Best model saved.\n"
     ]
    },
    {
     "name": "stderr",
     "output_type": "stream",
     "text": [
      "Epoch 2/20: 100%|██████████| 474/474 [04:56<00:00,  1.60batch/s]\n"
     ]
    },
    {
     "name": "stdout",
     "output_type": "stream",
     "text": [
      "Train Loss: 0.3350068432699402\n",
      "Validation Micro F1: 0.912882787750792\n",
      "Epoch 2/20, Train Loss: 0.3350068432699402, Val Micro F1: 0.912882787750792\n",
      "Best model saved.\n"
     ]
    },
    {
     "name": "stderr",
     "output_type": "stream",
     "text": [
      "Epoch 3/20: 100%|██████████| 474/474 [04:56<00:00,  1.60batch/s]\n"
     ]
    },
    {
     "name": "stdout",
     "output_type": "stream",
     "text": [
      "Train Loss: 0.22312614005766337\n",
      "Validation Micro F1: 0.909714889123548\n",
      "Epoch 3/20, Train Loss: 0.22312614005766337, Val Micro F1: 0.909714889123548\n"
     ]
    },
    {
     "name": "stderr",
     "output_type": "stream",
     "text": [
      "Epoch 4/20: 100%|██████████| 474/474 [04:56<00:00,  1.60batch/s]\n"
     ]
    },
    {
     "name": "stdout",
     "output_type": "stream",
     "text": [
      "Train Loss: 0.1475781198995746\n",
      "Validation Micro F1: 0.9118268215417107\n",
      "Epoch 4/20, Train Loss: 0.1475781198995746, Val Micro F1: 0.9118268215417107\n"
     ]
    },
    {
     "name": "stderr",
     "output_type": "stream",
     "text": [
      "Epoch 5/20: 100%|██████████| 474/474 [04:56<00:00,  1.60batch/s]\n"
     ]
    },
    {
     "name": "stdout",
     "output_type": "stream",
     "text": [
      "Train Loss: 0.08859345955255477\n",
      "Validation Micro F1: 0.9165786694825766\n",
      "Epoch 5/20, Train Loss: 0.08859345955255477, Val Micro F1: 0.9165786694825766\n",
      "Best model saved.\n"
     ]
    },
    {
     "name": "stderr",
     "output_type": "stream",
     "text": [
      "Epoch 6/20: 100%|██████████| 474/474 [04:56<00:00,  1.60batch/s]\n"
     ]
    },
    {
     "name": "stdout",
     "output_type": "stream",
     "text": [
      "Train Loss: 0.05929921826108001\n",
      "Validation Micro F1: 0.9118268215417107\n",
      "Epoch 6/20, Train Loss: 0.05929921826108001, Val Micro F1: 0.9118268215417107\n"
     ]
    },
    {
     "name": "stderr",
     "output_type": "stream",
     "text": [
      "Epoch 7/20: 100%|██████████| 474/474 [04:55<00:00,  1.60batch/s]\n"
     ]
    },
    {
     "name": "stdout",
     "output_type": "stream",
     "text": [
      "Train Loss: 0.03551166927965578\n",
      "Validation Micro F1: 0.9160506863780359\n",
      "Epoch 7/20, Train Loss: 0.03551166927965578, Val Micro F1: 0.9160506863780359\n"
     ]
    },
    {
     "name": "stderr",
     "output_type": "stream",
     "text": [
      "Epoch 8/20: 100%|██████████| 474/474 [04:55<00:00,  1.60batch/s]\n"
     ]
    },
    {
     "name": "stdout",
     "output_type": "stream",
     "text": [
      "Train Loss: 0.024148442747094965\n",
      "Validation Micro F1: 0.9155227032734953\n",
      "Epoch 8/20, Train Loss: 0.024148442747094965, Val Micro F1: 0.9155227032734953\n"
     ]
    },
    {
     "name": "stderr",
     "output_type": "stream",
     "text": [
      "Epoch 9/20: 100%|██████████| 474/474 [04:56<00:00,  1.60batch/s]\n"
     ]
    },
    {
     "name": "stdout",
     "output_type": "stream",
     "text": [
      "Train Loss: 0.01742880939572798\n",
      "Validation Micro F1: 0.9234424498416051\n",
      "Epoch 9/20, Train Loss: 0.01742880939572798, Val Micro F1: 0.9234424498416051\n",
      "Best model saved.\n"
     ]
    },
    {
     "name": "stderr",
     "output_type": "stream",
     "text": [
      "Epoch 10/20: 100%|██████████| 474/474 [04:56<00:00,  1.60batch/s]\n"
     ]
    },
    {
     "name": "stdout",
     "output_type": "stream",
     "text": [
      "Train Loss: 0.008756554697076337\n",
      "Validation Micro F1: 0.914466737064414\n",
      "Epoch 10/20, Train Loss: 0.008756554697076337, Val Micro F1: 0.914466737064414\n"
     ]
    },
    {
     "name": "stderr",
     "output_type": "stream",
     "text": [
      "Epoch 11/20: 100%|██████████| 474/474 [04:56<00:00,  1.60batch/s]\n"
     ]
    },
    {
     "name": "stdout",
     "output_type": "stream",
     "text": [
      "Train Loss: 0.009077018393814675\n",
      "Validation Micro F1: 0.9171066525871172\n",
      "Epoch 11/20, Train Loss: 0.009077018393814675, Val Micro F1: 0.9171066525871172\n"
     ]
    },
    {
     "name": "stderr",
     "output_type": "stream",
     "text": [
      "Epoch 12/20: 100%|██████████| 474/474 [04:56<00:00,  1.60batch/s]\n"
     ]
    },
    {
     "name": "stdout",
     "output_type": "stream",
     "text": [
      "Train Loss: 0.01369237538782255\n",
      "Validation Micro F1: 0.9118268215417107\n",
      "Epoch 12/20, Train Loss: 0.01369237538782255, Val Micro F1: 0.9118268215417107\n"
     ]
    },
    {
     "name": "stderr",
     "output_type": "stream",
     "text": [
      "Epoch 13/20: 100%|██████████| 474/474 [04:56<00:00,  1.60batch/s]\n"
     ]
    },
    {
     "name": "stdout",
     "output_type": "stream",
     "text": [
      "Train Loss: 0.008290786296927434\n",
      "Validation Micro F1: 0.9176346356916578\n",
      "Epoch 13/20, Train Loss: 0.008290786296927434, Val Micro F1: 0.9176346356916578\n"
     ]
    },
    {
     "name": "stderr",
     "output_type": "stream",
     "text": [
      "Epoch 14/20: 100%|██████████| 474/474 [04:56<00:00,  1.60batch/s]\n"
     ]
    },
    {
     "name": "stdout",
     "output_type": "stream",
     "text": [
      "Train Loss: 0.004069030040507657\n",
      "Validation Micro F1: 0.925026399155227\n",
      "Epoch 14/20, Train Loss: 0.004069030040507657, Val Micro F1: 0.925026399155227\n",
      "Best model saved.\n"
     ]
    },
    {
     "name": "stderr",
     "output_type": "stream",
     "text": [
      "Epoch 15/20: 100%|██████████| 474/474 [04:56<00:00,  1.60batch/s]\n"
     ]
    },
    {
     "name": "stdout",
     "output_type": "stream",
     "text": [
      "Train Loss: 0.0034157844906390882\n",
      "Validation Micro F1: 0.9244984160506864\n",
      "Epoch 15/20, Train Loss: 0.0034157844906390882, Val Micro F1: 0.9244984160506864\n"
     ]
    },
    {
     "name": "stderr",
     "output_type": "stream",
     "text": [
      "Epoch 16/20: 100%|██████████| 474/474 [04:56<00:00,  1.60batch/s]\n"
     ]
    },
    {
     "name": "stdout",
     "output_type": "stream",
     "text": [
      "Train Loss: 0.0029628582100800476\n",
      "Validation Micro F1: 0.925026399155227\n",
      "Epoch 16/20, Train Loss: 0.0029628582100800476, Val Micro F1: 0.925026399155227\n"
     ]
    },
    {
     "name": "stderr",
     "output_type": "stream",
     "text": [
      "Epoch 17/20: 100%|██████████| 474/474 [04:56<00:00,  1.60batch/s]\n"
     ]
    },
    {
     "name": "stdout",
     "output_type": "stream",
     "text": [
      "Train Loss: 0.001681575377435887\n",
      "Validation Micro F1: 0.9244984160506864\n",
      "Epoch 17/20, Train Loss: 0.001681575377435887, Val Micro F1: 0.9244984160506864\n"
     ]
    },
    {
     "name": "stderr",
     "output_type": "stream",
     "text": [
      "Epoch 18/20: 100%|██████████| 474/474 [04:56<00:00,  1.60batch/s]\n"
     ]
    },
    {
     "name": "stdout",
     "output_type": "stream",
     "text": [
      "Train Loss: 0.0017094200947086174\n",
      "Validation Micro F1: 0.9287222808870116\n",
      "Epoch 18/20, Train Loss: 0.0017094200947086174, Val Micro F1: 0.9287222808870116\n",
      "Best model saved.\n"
     ]
    },
    {
     "name": "stderr",
     "output_type": "stream",
     "text": [
      "Epoch 19/20: 100%|██████████| 474/474 [04:56<00:00,  1.60batch/s]\n"
     ]
    },
    {
     "name": "stdout",
     "output_type": "stream",
     "text": [
      "Train Loss: 0.0016726447229839976\n",
      "Validation Micro F1: 0.9287222808870116\n",
      "Epoch 19/20, Train Loss: 0.0016726447229839976, Val Micro F1: 0.9287222808870116\n"
     ]
    },
    {
     "name": "stderr",
     "output_type": "stream",
     "text": [
      "Epoch 20/20: 100%|██████████| 474/474 [04:56<00:00,  1.60batch/s]\n"
     ]
    },
    {
     "name": "stdout",
     "output_type": "stream",
     "text": [
      "Train Loss: 0.0009700213225567242\n"
     ]
    },
    {
     "name": "stderr",
     "output_type": "stream",
     "text": [
      "/usr/local/lib/python3.10/dist-packages/transformers/optimization.py:591: FutureWarning: This implementation of AdamW is deprecated and will be removed in a future version. Use the PyTorch implementation torch.optim.AdamW instead, or set `no_deprecation_warning=True` to disable this warning\n",
      "  warnings.warn(\n"
     ]
    },
    {
     "name": "stdout",
     "output_type": "stream",
     "text": [
      "Validation Micro F1: 0.9271383315733897\n",
      "Epoch 20/20, Train Loss: 0.0009700213225567242, Val Micro F1: 0.9271383315733897\n",
      "\n",
      "Training with learning rate: 5e-06\n"
     ]
    },
    {
     "name": "stderr",
     "output_type": "stream",
     "text": [
      "Epoch 1/20: 100%|██████████| 474/474 [04:56<00:00,  1.60batch/s]\n"
     ]
    },
    {
     "name": "stdout",
     "output_type": "stream",
     "text": [
      "Train Loss: 0.0008994660720993954\n",
      "Validation Micro F1: 0.925026399155227\n",
      "Epoch 1/20, Train Loss: 0.0008994660720993954, Val Micro F1: 0.925026399155227\n"
     ]
    },
    {
     "name": "stderr",
     "output_type": "stream",
     "text": [
      "Epoch 2/20: 100%|██████████| 474/474 [04:56<00:00,  1.60batch/s]\n"
     ]
    },
    {
     "name": "stdout",
     "output_type": "stream",
     "text": [
      "Train Loss: 0.0031285180222367834\n",
      "Validation Micro F1: 0.9223864836325237\n",
      "Epoch 2/20, Train Loss: 0.0031285180222367834, Val Micro F1: 0.9223864836325237\n"
     ]
    },
    {
     "name": "stderr",
     "output_type": "stream",
     "text": [
      "Epoch 3/20: 100%|██████████| 474/474 [04:56<00:00,  1.60batch/s]\n"
     ]
    },
    {
     "name": "stdout",
     "output_type": "stream",
     "text": [
      "Train Loss: 0.0026586899563155867\n"
     ]
    },
    {
     "name": "stderr",
     "output_type": "stream",
     "text": [
      "/usr/local/lib/python3.10/dist-packages/transformers/optimization.py:591: FutureWarning: This implementation of AdamW is deprecated and will be removed in a future version. Use the PyTorch implementation torch.optim.AdamW instead, or set `no_deprecation_warning=True` to disable this warning\n",
      "  warnings.warn(\n"
     ]
    },
    {
     "name": "stdout",
     "output_type": "stream",
     "text": [
      "Validation Micro F1: 0.925026399155227\n",
      "Epoch 3/20, Train Loss: 0.0026586899563155867, Val Micro F1: 0.925026399155227\n",
      "Early stopping applied.\n",
      "\n",
      "Training with learning rate: 1e-06\n"
     ]
    },
    {
     "name": "stderr",
     "output_type": "stream",
     "text": [
      "Epoch 1/20: 100%|██████████| 474/474 [04:56<00:00,  1.60batch/s]\n"
     ]
    },
    {
     "name": "stdout",
     "output_type": "stream",
     "text": [
      "Train Loss: 0.0008215332968479302\n"
     ]
    },
    {
     "name": "stderr",
     "output_type": "stream",
     "text": [
      "/usr/local/lib/python3.10/dist-packages/transformers/optimization.py:591: FutureWarning: This implementation of AdamW is deprecated and will be removed in a future version. Use the PyTorch implementation torch.optim.AdamW instead, or set `no_deprecation_warning=True` to disable this warning\n",
      "  warnings.warn(\n"
     ]
    },
    {
     "name": "stdout",
     "output_type": "stream",
     "text": [
      "Validation Micro F1: 0.9239704329461457\n",
      "Epoch 1/20, Train Loss: 0.0008215332968479302, Val Micro F1: 0.9239704329461457\n",
      "Early stopping applied.\n",
      "\n",
      "Training with learning rate: 2e-06\n"
     ]
    },
    {
     "name": "stderr",
     "output_type": "stream",
     "text": [
      "Epoch 1/20: 100%|██████████| 474/474 [04:56<00:00,  1.60batch/s]\n"
     ]
    },
    {
     "name": "stdout",
     "output_type": "stream",
     "text": [
      "Train Loss: 0.0008381861560736814\n",
      "Validation Micro F1: 0.9213305174234424\n",
      "Epoch 1/20, Train Loss: 0.0008381861560736814, Val Micro F1: 0.9213305174234424\n",
      "Early stopping applied.\n"
     ]
    },
    {
     "name": "stderr",
     "output_type": "stream",
     "text": [
      "<ipython-input-31-99034260d263>:60: FutureWarning: You are using `torch.load` with `weights_only=False` (the current default value), which uses the default pickle module implicitly. It is possible to construct malicious pickle data which will execute arbitrary code during unpickling (See https://github.com/pytorch/pytorch/blob/main/SECURITY.md#untrusted-models for more details). In a future release, the default value for `weights_only` will be flipped to `True`. This limits the functions that could be executed during unpickling. Arbitrary objects will no longer be allowed to be loaded via this mode unless they are explicitly allowlisted by the user via `torch.serialization.add_safe_globals`. We recommend you start setting `weights_only=True` for any use case where you don't have full control of the loaded file. Please open an issue on GitHub for any issues related to this experimental feature.\n",
      "  model.load_state_dict(torch.load('best_model.pth'))\n"
     ]
    },
    {
     "name": "stdout",
     "output_type": "stream",
     "text": [
      "Best model loaded.\n"
     ]
    }
   ],
   "source": [
    "\n",
    "epochs = 20\n",
    "learning_rates = [2e-5, 5e-6, 1e-6, 2e-6]\n",
    "early_stopping_patience = 5\n",
    "best_val_f1 = 0\n",
    "early_stopping_counter = 0\n",
    "\n",
    "for lr in learning_rates:\n",
    "    print(f\"\\nTraining with learning rate: {lr}\")\n",
    "    optimizer = AdamW(model.parameters(), lr=lr, eps=1e-8)\n",
    "    total_steps = len(train_dataloader) * epochs\n",
    "    scheduler = get_linear_schedule_with_warmup(optimizer, num_warmup_steps=0.1 * total_steps, num_training_steps=total_steps)\n",
    "\n",
    "    for epoch in range(epochs):\n",
    "        model.train()\n",
    "        total_train_loss = 0\n",
    "        for batch in tqdm(train_dataloader, desc=f\"Epoch {epoch + 1}/{epochs}\", unit=\"batch\"):\n",
    "            batch = tuple(t.to(device) for t in batch)\n",
    "            input_ids, input_mask, labels = batch\n",
    "            model.zero_grad()\n",
    "            outputs = model(input_ids=input_ids, attention_mask=input_mask, labels=labels)\n",
    "            loss = outputs.loss\n",
    "            total_train_loss += loss.item()\n",
    "            loss.backward()\n",
    "            optimizer.step()\n",
    "            scheduler.step()\n",
    "        avg_train_loss = total_train_loss / len(train_dataloader)\n",
    "        print(f\"Train Loss: {avg_train_loss}\")\n",
    "\n",
    "        # Validation\n",
    "        model.eval()\n",
    "        predictions, true_labels = [], []\n",
    "        for batch in val_dataloader:\n",
    "            batch = tuple(t.to(device) for t in batch)\n",
    "            input_ids, input_mask, labels = batch\n",
    "            with torch.no_grad():\n",
    "                outputs = model(input_ids=input_ids, attention_mask=input_mask)\n",
    "            logits = outputs.logits.detach().cpu().numpy()\n",
    "            batch_predictions = np.argmax(logits, axis=1)\n",
    "            predictions.extend(batch_predictions)\n",
    "            true_labels.extend(labels.to('cpu').numpy())\n",
    "        val_f1 = f1_score(true_labels, predictions, average='micro')\n",
    "        print(f\"Validation Micro F1: {val_f1}\")\n",
    "        val_micro_f1 = calculate_metrics_f('val', predictions, true_labels)\n",
    "        print(f\"Epoch {epoch + 1}/{epochs}, Train Loss: {avg_train_loss}, Val Micro F1: {val_micro_f1}\")\n",
    "\n",
    "        # Early stopping check\n",
    "        if val_f1 > best_val_f1:\n",
    "            best_val_f1 = val_f1\n",
    "            early_stopping_counter = 0\n",
    "            torch.save(model.state_dict(), 'best_model.pth')\n",
    "            print(\"Best model saved.\")\n",
    "        else:\n",
    "            early_stopping_counter += 1\n",
    "            if early_stopping_counter >= early_stopping_patience:\n",
    "                print(\"Early stopping applied.\")\n",
    "                break\n",
    "\n",
    "# Load the best model for testing\n",
    "model.load_state_dict(torch.load('best_model.pth'))\n",
    "print(\"Best model loaded.\")"
   ]
  },
  {
   "cell_type": "code",
   "execution_count": null,
   "metadata": {
    "colab": {
     "base_uri": "https://localhost:8080/"
    },
    "id": "zCM_A6DjkgfI",
    "outputId": "a46fdecb-04dc-4503-ced8-860dd061adbe"
   },
   "outputs": [
    {
     "name": "stdout",
     "output_type": "stream",
     "text": [
      "Confusion Matrix:\n",
      " [[515  10   5  11   7   0   1]\n",
      " [  7 361   0  11   7   0   1]\n",
      " [  3   1 543   2   6  28   1]\n",
      " [  6  21   0 565  10   1   0]\n",
      " [  8   4   1  11 562   0   3]\n",
      " [  1   3  52   3   2 463  20]\n",
      " [  5   2   0   1   8  22 493]]\n",
      "\n",
      "Classification Report:\n",
      "               precision    recall  f1-score   support\n",
      "\n",
      "           0       0.94      0.94      0.94       549\n",
      "           1       0.90      0.93      0.92       387\n",
      "           2       0.90      0.93      0.92       584\n",
      "           3       0.94      0.94      0.94       603\n",
      "           4       0.93      0.95      0.94       589\n",
      "           5       0.90      0.85      0.88       544\n",
      "           6       0.95      0.93      0.94       531\n",
      "\n",
      "    accuracy                           0.92      3787\n",
      "   macro avg       0.92      0.92      0.92      3787\n",
      "weighted avg       0.92      0.92      0.92      3787\n",
      "\n",
      "Macro F1 Score: 0.9238958998920154\n",
      "Micro F1 Score: 0.9247425402693424\n",
      "Weighted F1 Score: 0.9245815667803192\n",
      "Macro Precision: 0.9237322009881134\n",
      "Micro Precision: 0.9247425402693424\n",
      "Weighted Precision: 0.9248219734374626\n",
      "Macro Recall: 0.9244802111206581\n",
      "Micro Recall: 0.9247425402693424\n",
      "Weighted Recall: 0.9247425402693424\n"
     ]
    }
   ],
   "source": [
    "# Evaluation\n",
    "model.eval()\n",
    "predictions = []\n",
    "true_labels = []\n",
    "\n",
    "for batch in test_dataloader:\n",
    "    batch = tuple(t.to(device) for t in batch)\n",
    "    input_ids, input_mask, labels = batch\n",
    "\n",
    "    with torch.no_grad():\n",
    "        outputs = model(input_ids=input_ids, attention_mask=input_mask)\n",
    "        logits = outputs.logits\n",
    "\n",
    "    logits = logits.detach().cpu().numpy()\n",
    "    label_ids = labels.to('cpu').numpy()\n",
    "\n",
    "    batch_predictions = np.argmax(logits, axis=1)\n",
    "    predictions.extend(batch_predictions)\n",
    "    true_labels.extend(label_ids)\n",
    "\n",
    "# Calculate and print metrics\n",
    "calculate_metrics('test', predictions, true_labels)"
   ]
  },
  {
   "cell_type": "code",
   "execution_count": null,
   "metadata": {
    "colab": {
     "base_uri": "https://localhost:8080/"
    },
    "id": "XGeuh6E0UgD-",
    "outputId": "3a6f0b2e-b34d-4ad9-eb93-be54caf34911"
   },
   "outputs": [
    {
     "name": "stdout",
     "output_type": "stream",
     "text": [
      "\n",
      "Test Metrics:\n",
      "Confusion Matrix:\n",
      " [[515  10   5  11   7   0   1]\n",
      " [  7 361   0  11   7   0   1]\n",
      " [  3   1 543   2   6  28   1]\n",
      " [  6  21   0 565  10   1   0]\n",
      " [  8   4   1  11 562   0   3]\n",
      " [  1   3  52   3   2 463  20]\n",
      " [  5   2   0   1   8  22 493]]\n",
      "Classification Report:\n",
      "               precision    recall  f1-score   support\n",
      "\n",
      "           0       0.94      0.94      0.94       549\n",
      "           1       0.90      0.93      0.92       387\n",
      "           2       0.90      0.93      0.92       584\n",
      "           3       0.94      0.94      0.94       603\n",
      "           4       0.93      0.95      0.94       589\n",
      "           5       0.90      0.85      0.88       544\n",
      "           6       0.95      0.93      0.94       531\n",
      "\n",
      "    accuracy                           0.92      3787\n",
      "   macro avg       0.92      0.92      0.92      3787\n",
      "weighted avg       0.92      0.92      0.92      3787\n",
      "\n",
      "Macro F1: 0.9238958998920154\n",
      "Micro F1: 0.9247425402693424\n",
      "Weighted F1: 0.9245815667803192\n"
     ]
    }
   ],
   "source": [
    "print(\"\\nTest Metrics:\")\n",
    "print(\"Confusion Matrix:\\n\", confusion_matrix(true_labels, predictions))\n",
    "print(\"Classification Report:\\n\", classification_report(true_labels, predictions))\n",
    "print(\"Macro F1:\", f1_score(true_labels, predictions, average='macro'))\n",
    "print(\"Micro F1:\", f1_score(true_labels, predictions, average='micro'))\n",
    "print(\"Weighted F1:\", f1_score(true_labels, predictions, average='weighted'))"
   ]
  },
  {
   "cell_type": "code",
   "execution_count": null,
   "metadata": {
    "id": "q2YXRSBbhOZR"
   },
   "outputs": [],
   "source": [
    "model.save_pretrained('/content/drive/MyDrive/WoS/BioBERT_WoS_18933_records')"
   ]
  },
  {
   "cell_type": "code",
   "execution_count": null,
   "metadata": {
    "colab": {
     "base_uri": "https://localhost:8080/",
     "height": 34
    },
    "id": "yVRdYSJFbBUs",
    "outputId": "31e69d41-6755-43b6-bec6-1bb37388637d"
   },
   "outputs": [
    {
     "name": "stdout",
     "output_type": "stream",
     "text": [
      "End of the runtime!\n"
     ]
    }
   ],
   "source": [
    "from google.colab import runtime\n",
    "print('End of the runtime!')\n",
    "runtime.unassign()"
   ]
  }
 ],
 "metadata": {
  "accelerator": "GPU",
  "colab": {
   "gpuType": "T4",
   "provenance": []
  },
  "kernelspec": {
   "display_name": "Python 3",
   "name": "python3"
  },
  "language_info": {
   "name": "python"
  },
  "widgets": {
   "application/vnd.jupyter.widget-state+json": {
    "1166520a4cd3403ba28da5dbe2f130f6": {
     "model_module": "@jupyter-widgets/base",
     "model_module_version": "1.2.0",
     "model_name": "LayoutModel",
     "state": {
      "_model_module": "@jupyter-widgets/base",
      "_model_module_version": "1.2.0",
      "_model_name": "LayoutModel",
      "_view_count": null,
      "_view_module": "@jupyter-widgets/base",
      "_view_module_version": "1.2.0",
      "_view_name": "LayoutView",
      "align_content": null,
      "align_items": null,
      "align_self": null,
      "border": null,
      "bottom": null,
      "display": null,
      "flex": null,
      "flex_flow": null,
      "grid_area": null,
      "grid_auto_columns": null,
      "grid_auto_flow": null,
      "grid_auto_rows": null,
      "grid_column": null,
      "grid_gap": null,
      "grid_row": null,
      "grid_template_areas": null,
      "grid_template_columns": null,
      "grid_template_rows": null,
      "height": null,
      "justify_content": null,
      "justify_items": null,
      "left": null,
      "margin": null,
      "max_height": null,
      "max_width": null,
      "min_height": null,
      "min_width": null,
      "object_fit": null,
      "object_position": null,
      "order": null,
      "overflow": null,
      "overflow_x": null,
      "overflow_y": null,
      "padding": null,
      "right": null,
      "top": null,
      "visibility": null,
      "width": null
     }
    },
    "124784addb7a46a2af7105cda931ba19": {
     "model_module": "@jupyter-widgets/controls",
     "model_module_version": "1.5.0",
     "model_name": "HTMLModel",
     "state": {
      "_dom_classes": [],
      "_model_module": "@jupyter-widgets/controls",
      "_model_module_version": "1.5.0",
      "_model_name": "HTMLModel",
      "_view_count": null,
      "_view_module": "@jupyter-widgets/controls",
      "_view_module_version": "1.5.0",
      "_view_name": "HTMLView",
      "description": "",
      "description_tooltip": null,
      "layout": "IPY_MODEL_c63e5bc937f14200ae207fb48d35d7d8",
      "placeholder": "​",
      "style": "IPY_MODEL_21842d0258fa4e08b954a22d2d1eb7f8",
      "value": "config.json: 100%"
     }
    },
    "1b0e87ab38274761a2fc7b04990292d6": {
     "model_module": "@jupyter-widgets/base",
     "model_module_version": "1.2.0",
     "model_name": "LayoutModel",
     "state": {
      "_model_module": "@jupyter-widgets/base",
      "_model_module_version": "1.2.0",
      "_model_name": "LayoutModel",
      "_view_count": null,
      "_view_module": "@jupyter-widgets/base",
      "_view_module_version": "1.2.0",
      "_view_name": "LayoutView",
      "align_content": null,
      "align_items": null,
      "align_self": null,
      "border": null,
      "bottom": null,
      "display": null,
      "flex": null,
      "flex_flow": null,
      "grid_area": null,
      "grid_auto_columns": null,
      "grid_auto_flow": null,
      "grid_auto_rows": null,
      "grid_column": null,
      "grid_gap": null,
      "grid_row": null,
      "grid_template_areas": null,
      "grid_template_columns": null,
      "grid_template_rows": null,
      "height": null,
      "justify_content": null,
      "justify_items": null,
      "left": null,
      "margin": null,
      "max_height": null,
      "max_width": null,
      "min_height": null,
      "min_width": null,
      "object_fit": null,
      "object_position": null,
      "order": null,
      "overflow": null,
      "overflow_x": null,
      "overflow_y": null,
      "padding": null,
      "right": null,
      "top": null,
      "visibility": null,
      "width": null
     }
    },
    "21842d0258fa4e08b954a22d2d1eb7f8": {
     "model_module": "@jupyter-widgets/controls",
     "model_module_version": "1.5.0",
     "model_name": "DescriptionStyleModel",
     "state": {
      "_model_module": "@jupyter-widgets/controls",
      "_model_module_version": "1.5.0",
      "_model_name": "DescriptionStyleModel",
      "_view_count": null,
      "_view_module": "@jupyter-widgets/base",
      "_view_module_version": "1.2.0",
      "_view_name": "StyleView",
      "description_width": ""
     }
    },
    "2242c538bcb64fc8a50ce45eec5ff2ef": {
     "model_module": "@jupyter-widgets/base",
     "model_module_version": "1.2.0",
     "model_name": "LayoutModel",
     "state": {
      "_model_module": "@jupyter-widgets/base",
      "_model_module_version": "1.2.0",
      "_model_name": "LayoutModel",
      "_view_count": null,
      "_view_module": "@jupyter-widgets/base",
      "_view_module_version": "1.2.0",
      "_view_name": "LayoutView",
      "align_content": null,
      "align_items": null,
      "align_self": null,
      "border": null,
      "bottom": null,
      "display": null,
      "flex": null,
      "flex_flow": null,
      "grid_area": null,
      "grid_auto_columns": null,
      "grid_auto_flow": null,
      "grid_auto_rows": null,
      "grid_column": null,
      "grid_gap": null,
      "grid_row": null,
      "grid_template_areas": null,
      "grid_template_columns": null,
      "grid_template_rows": null,
      "height": null,
      "justify_content": null,
      "justify_items": null,
      "left": null,
      "margin": null,
      "max_height": null,
      "max_width": null,
      "min_height": null,
      "min_width": null,
      "object_fit": null,
      "object_position": null,
      "order": null,
      "overflow": null,
      "overflow_x": null,
      "overflow_y": null,
      "padding": null,
      "right": null,
      "top": null,
      "visibility": null,
      "width": null
     }
    },
    "255599711e4a46c4928029aad528e5a5": {
     "model_module": "@jupyter-widgets/controls",
     "model_module_version": "1.5.0",
     "model_name": "DescriptionStyleModel",
     "state": {
      "_model_module": "@jupyter-widgets/controls",
      "_model_module_version": "1.5.0",
      "_model_name": "DescriptionStyleModel",
      "_view_count": null,
      "_view_module": "@jupyter-widgets/base",
      "_view_module_version": "1.2.0",
      "_view_name": "StyleView",
      "description_width": ""
     }
    },
    "25f95f642dc74cccb713a34d829099d4": {
     "model_module": "@jupyter-widgets/controls",
     "model_module_version": "1.5.0",
     "model_name": "HTMLModel",
     "state": {
      "_dom_classes": [],
      "_model_module": "@jupyter-widgets/controls",
      "_model_module_version": "1.5.0",
      "_model_name": "HTMLModel",
      "_view_count": null,
      "_view_module": "@jupyter-widgets/controls",
      "_view_module_version": "1.5.0",
      "_view_name": "HTMLView",
      "description": "",
      "description_tooltip": null,
      "layout": "IPY_MODEL_69724d521fa740aca0758d35d274b970",
      "placeholder": "​",
      "style": "IPY_MODEL_8cec78dfa72940cab5d73be18f616126",
      "value": " 1.11k/1.11k [00:00&lt;00:00, 62.9kB/s]"
     }
    },
    "2975893c28194a91ba6b1dee8575e142": {
     "model_module": "@jupyter-widgets/controls",
     "model_module_version": "1.5.0",
     "model_name": "HBoxModel",
     "state": {
      "_dom_classes": [],
      "_model_module": "@jupyter-widgets/controls",
      "_model_module_version": "1.5.0",
      "_model_name": "HBoxModel",
      "_view_count": null,
      "_view_module": "@jupyter-widgets/controls",
      "_view_module_version": "1.5.0",
      "_view_name": "HBoxView",
      "box_style": "",
      "children": [
       "IPY_MODEL_3dc69b4991f34ab5860b4e748c1475dc",
       "IPY_MODEL_3766aea490364c7a81bee65e82420cec",
       "IPY_MODEL_f70bcc3c9b8545c09ddc568a7d53ca3f"
      ],
      "layout": "IPY_MODEL_fdb4fda1ecf34aa9859efbe13ed32335"
     }
    },
    "3737b949cbb6455fb22a1a51c6497149": {
     "model_module": "@jupyter-widgets/controls",
     "model_module_version": "1.5.0",
     "model_name": "DescriptionStyleModel",
     "state": {
      "_model_module": "@jupyter-widgets/controls",
      "_model_module_version": "1.5.0",
      "_model_name": "DescriptionStyleModel",
      "_view_count": null,
      "_view_module": "@jupyter-widgets/base",
      "_view_module_version": "1.2.0",
      "_view_name": "StyleView",
      "description_width": ""
     }
    },
    "3766aea490364c7a81bee65e82420cec": {
     "model_module": "@jupyter-widgets/controls",
     "model_module_version": "1.5.0",
     "model_name": "FloatProgressModel",
     "state": {
      "_dom_classes": [],
      "_model_module": "@jupyter-widgets/controls",
      "_model_module_version": "1.5.0",
      "_model_name": "FloatProgressModel",
      "_view_count": null,
      "_view_module": "@jupyter-widgets/controls",
      "_view_module_version": "1.5.0",
      "_view_name": "ProgressView",
      "bar_style": "success",
      "description": "",
      "description_tooltip": null,
      "layout": "IPY_MODEL_479c93fa2d6146c79549ee276f095597",
      "max": 213450,
      "min": 0,
      "orientation": "horizontal",
      "style": "IPY_MODEL_83f8f95b705b49dbb6520a1cb1c2a1ac",
      "value": 213450
     }
    },
    "3c92e44ec35a4612bcb8f21731337241": {
     "model_module": "@jupyter-widgets/base",
     "model_module_version": "1.2.0",
     "model_name": "LayoutModel",
     "state": {
      "_model_module": "@jupyter-widgets/base",
      "_model_module_version": "1.2.0",
      "_model_name": "LayoutModel",
      "_view_count": null,
      "_view_module": "@jupyter-widgets/base",
      "_view_module_version": "1.2.0",
      "_view_name": "LayoutView",
      "align_content": null,
      "align_items": null,
      "align_self": null,
      "border": null,
      "bottom": null,
      "display": null,
      "flex": null,
      "flex_flow": null,
      "grid_area": null,
      "grid_auto_columns": null,
      "grid_auto_flow": null,
      "grid_auto_rows": null,
      "grid_column": null,
      "grid_gap": null,
      "grid_row": null,
      "grid_template_areas": null,
      "grid_template_columns": null,
      "grid_template_rows": null,
      "height": null,
      "justify_content": null,
      "justify_items": null,
      "left": null,
      "margin": null,
      "max_height": null,
      "max_width": null,
      "min_height": null,
      "min_width": null,
      "object_fit": null,
      "object_position": null,
      "order": null,
      "overflow": null,
      "overflow_x": null,
      "overflow_y": null,
      "padding": null,
      "right": null,
      "top": null,
      "visibility": null,
      "width": null
     }
    },
    "3cf36889b8af4446927164fafe50c020": {
     "model_module": "@jupyter-widgets/base",
     "model_module_version": "1.2.0",
     "model_name": "LayoutModel",
     "state": {
      "_model_module": "@jupyter-widgets/base",
      "_model_module_version": "1.2.0",
      "_model_name": "LayoutModel",
      "_view_count": null,
      "_view_module": "@jupyter-widgets/base",
      "_view_module_version": "1.2.0",
      "_view_name": "LayoutView",
      "align_content": null,
      "align_items": null,
      "align_self": null,
      "border": null,
      "bottom": null,
      "display": null,
      "flex": null,
      "flex_flow": null,
      "grid_area": null,
      "grid_auto_columns": null,
      "grid_auto_flow": null,
      "grid_auto_rows": null,
      "grid_column": null,
      "grid_gap": null,
      "grid_row": null,
      "grid_template_areas": null,
      "grid_template_columns": null,
      "grid_template_rows": null,
      "height": null,
      "justify_content": null,
      "justify_items": null,
      "left": null,
      "margin": null,
      "max_height": null,
      "max_width": null,
      "min_height": null,
      "min_width": null,
      "object_fit": null,
      "object_position": null,
      "order": null,
      "overflow": null,
      "overflow_x": null,
      "overflow_y": null,
      "padding": null,
      "right": null,
      "top": null,
      "visibility": null,
      "width": null
     }
    },
    "3dc69b4991f34ab5860b4e748c1475dc": {
     "model_module": "@jupyter-widgets/controls",
     "model_module_version": "1.5.0",
     "model_name": "HTMLModel",
     "state": {
      "_dom_classes": [],
      "_model_module": "@jupyter-widgets/controls",
      "_model_module_version": "1.5.0",
      "_model_name": "HTMLModel",
      "_view_count": null,
      "_view_module": "@jupyter-widgets/controls",
      "_view_module_version": "1.5.0",
      "_view_name": "HTMLView",
      "description": "",
      "description_tooltip": null,
      "layout": "IPY_MODEL_f3489a1f27064e10af9253dd96be6170",
      "placeholder": "​",
      "style": "IPY_MODEL_aee08a90490945348f6bcd0cabf5229e",
      "value": "vocab.txt: 100%"
     }
    },
    "3dd88e35dc6a4005bc00186463527907": {
     "model_module": "@jupyter-widgets/controls",
     "model_module_version": "1.5.0",
     "model_name": "ProgressStyleModel",
     "state": {
      "_model_module": "@jupyter-widgets/controls",
      "_model_module_version": "1.5.0",
      "_model_name": "ProgressStyleModel",
      "_view_count": null,
      "_view_module": "@jupyter-widgets/base",
      "_view_module_version": "1.2.0",
      "_view_name": "StyleView",
      "bar_color": null,
      "description_width": ""
     }
    },
    "479c93fa2d6146c79549ee276f095597": {
     "model_module": "@jupyter-widgets/base",
     "model_module_version": "1.2.0",
     "model_name": "LayoutModel",
     "state": {
      "_model_module": "@jupyter-widgets/base",
      "_model_module_version": "1.2.0",
      "_model_name": "LayoutModel",
      "_view_count": null,
      "_view_module": "@jupyter-widgets/base",
      "_view_module_version": "1.2.0",
      "_view_name": "LayoutView",
      "align_content": null,
      "align_items": null,
      "align_self": null,
      "border": null,
      "bottom": null,
      "display": null,
      "flex": null,
      "flex_flow": null,
      "grid_area": null,
      "grid_auto_columns": null,
      "grid_auto_flow": null,
      "grid_auto_rows": null,
      "grid_column": null,
      "grid_gap": null,
      "grid_row": null,
      "grid_template_areas": null,
      "grid_template_columns": null,
      "grid_template_rows": null,
      "height": null,
      "justify_content": null,
      "justify_items": null,
      "left": null,
      "margin": null,
      "max_height": null,
      "max_width": null,
      "min_height": null,
      "min_width": null,
      "object_fit": null,
      "object_position": null,
      "order": null,
      "overflow": null,
      "overflow_x": null,
      "overflow_y": null,
      "padding": null,
      "right": null,
      "top": null,
      "visibility": null,
      "width": null
     }
    },
    "63a88f0ee0c64474a11bb078efe7f3e4": {
     "model_module": "@jupyter-widgets/controls",
     "model_module_version": "1.5.0",
     "model_name": "HTMLModel",
     "state": {
      "_dom_classes": [],
      "_model_module": "@jupyter-widgets/controls",
      "_model_module_version": "1.5.0",
      "_model_name": "HTMLModel",
      "_view_count": null,
      "_view_module": "@jupyter-widgets/controls",
      "_view_module_version": "1.5.0",
      "_view_name": "HTMLView",
      "description": "",
      "description_tooltip": null,
      "layout": "IPY_MODEL_3cf36889b8af4446927164fafe50c020",
      "placeholder": "​",
      "style": "IPY_MODEL_255599711e4a46c4928029aad528e5a5",
      "value": "pytorch_model.bin: 100%"
     }
    },
    "69724d521fa740aca0758d35d274b970": {
     "model_module": "@jupyter-widgets/base",
     "model_module_version": "1.2.0",
     "model_name": "LayoutModel",
     "state": {
      "_model_module": "@jupyter-widgets/base",
      "_model_module_version": "1.2.0",
      "_model_name": "LayoutModel",
      "_view_count": null,
      "_view_module": "@jupyter-widgets/base",
      "_view_module_version": "1.2.0",
      "_view_name": "LayoutView",
      "align_content": null,
      "align_items": null,
      "align_self": null,
      "border": null,
      "bottom": null,
      "display": null,
      "flex": null,
      "flex_flow": null,
      "grid_area": null,
      "grid_auto_columns": null,
      "grid_auto_flow": null,
      "grid_auto_rows": null,
      "grid_column": null,
      "grid_gap": null,
      "grid_row": null,
      "grid_template_areas": null,
      "grid_template_columns": null,
      "grid_template_rows": null,
      "height": null,
      "justify_content": null,
      "justify_items": null,
      "left": null,
      "margin": null,
      "max_height": null,
      "max_width": null,
      "min_height": null,
      "min_width": null,
      "object_fit": null,
      "object_position": null,
      "order": null,
      "overflow": null,
      "overflow_x": null,
      "overflow_y": null,
      "padding": null,
      "right": null,
      "top": null,
      "visibility": null,
      "width": null
     }
    },
    "7bcb83f1956c4d4c8f35aea63b9feffd": {
     "model_module": "@jupyter-widgets/controls",
     "model_module_version": "1.5.0",
     "model_name": "DescriptionStyleModel",
     "state": {
      "_model_module": "@jupyter-widgets/controls",
      "_model_module_version": "1.5.0",
      "_model_name": "DescriptionStyleModel",
      "_view_count": null,
      "_view_module": "@jupyter-widgets/base",
      "_view_module_version": "1.2.0",
      "_view_name": "StyleView",
      "description_width": ""
     }
    },
    "83f8f95b705b49dbb6520a1cb1c2a1ac": {
     "model_module": "@jupyter-widgets/controls",
     "model_module_version": "1.5.0",
     "model_name": "ProgressStyleModel",
     "state": {
      "_model_module": "@jupyter-widgets/controls",
      "_model_module_version": "1.5.0",
      "_model_name": "ProgressStyleModel",
      "_view_count": null,
      "_view_module": "@jupyter-widgets/base",
      "_view_module_version": "1.2.0",
      "_view_name": "StyleView",
      "bar_color": null,
      "description_width": ""
     }
    },
    "8cec78dfa72940cab5d73be18f616126": {
     "model_module": "@jupyter-widgets/controls",
     "model_module_version": "1.5.0",
     "model_name": "DescriptionStyleModel",
     "state": {
      "_model_module": "@jupyter-widgets/controls",
      "_model_module_version": "1.5.0",
      "_model_name": "DescriptionStyleModel",
      "_view_count": null,
      "_view_module": "@jupyter-widgets/base",
      "_view_module_version": "1.2.0",
      "_view_name": "StyleView",
      "description_width": ""
     }
    },
    "8d2d26d1c41942459da35c163e82710c": {
     "model_module": "@jupyter-widgets/controls",
     "model_module_version": "1.5.0",
     "model_name": "FloatProgressModel",
     "state": {
      "_dom_classes": [],
      "_model_module": "@jupyter-widgets/controls",
      "_model_module_version": "1.5.0",
      "_model_name": "FloatProgressModel",
      "_view_count": null,
      "_view_module": "@jupyter-widgets/controls",
      "_view_module_version": "1.5.0",
      "_view_name": "ProgressView",
      "bar_style": "success",
      "description": "",
      "description_tooltip": null,
      "layout": "IPY_MODEL_ae04be488f74486d9e1bb86fff2cdbc2",
      "max": 1110,
      "min": 0,
      "orientation": "horizontal",
      "style": "IPY_MODEL_3dd88e35dc6a4005bc00186463527907",
      "value": 1110
     }
    },
    "ae04be488f74486d9e1bb86fff2cdbc2": {
     "model_module": "@jupyter-widgets/base",
     "model_module_version": "1.2.0",
     "model_name": "LayoutModel",
     "state": {
      "_model_module": "@jupyter-widgets/base",
      "_model_module_version": "1.2.0",
      "_model_name": "LayoutModel",
      "_view_count": null,
      "_view_module": "@jupyter-widgets/base",
      "_view_module_version": "1.2.0",
      "_view_name": "LayoutView",
      "align_content": null,
      "align_items": null,
      "align_self": null,
      "border": null,
      "bottom": null,
      "display": null,
      "flex": null,
      "flex_flow": null,
      "grid_area": null,
      "grid_auto_columns": null,
      "grid_auto_flow": null,
      "grid_auto_rows": null,
      "grid_column": null,
      "grid_gap": null,
      "grid_row": null,
      "grid_template_areas": null,
      "grid_template_columns": null,
      "grid_template_rows": null,
      "height": null,
      "justify_content": null,
      "justify_items": null,
      "left": null,
      "margin": null,
      "max_height": null,
      "max_width": null,
      "min_height": null,
      "min_width": null,
      "object_fit": null,
      "object_position": null,
      "order": null,
      "overflow": null,
      "overflow_x": null,
      "overflow_y": null,
      "padding": null,
      "right": null,
      "top": null,
      "visibility": null,
      "width": null
     }
    },
    "aee08a90490945348f6bcd0cabf5229e": {
     "model_module": "@jupyter-widgets/controls",
     "model_module_version": "1.5.0",
     "model_name": "DescriptionStyleModel",
     "state": {
      "_model_module": "@jupyter-widgets/controls",
      "_model_module_version": "1.5.0",
      "_model_name": "DescriptionStyleModel",
      "_view_count": null,
      "_view_module": "@jupyter-widgets/base",
      "_view_module_version": "1.2.0",
      "_view_name": "StyleView",
      "description_width": ""
     }
    },
    "bb2e6d4833894a54b7cf5e8b5d02ef1f": {
     "model_module": "@jupyter-widgets/base",
     "model_module_version": "1.2.0",
     "model_name": "LayoutModel",
     "state": {
      "_model_module": "@jupyter-widgets/base",
      "_model_module_version": "1.2.0",
      "_model_name": "LayoutModel",
      "_view_count": null,
      "_view_module": "@jupyter-widgets/base",
      "_view_module_version": "1.2.0",
      "_view_name": "LayoutView",
      "align_content": null,
      "align_items": null,
      "align_self": null,
      "border": null,
      "bottom": null,
      "display": null,
      "flex": null,
      "flex_flow": null,
      "grid_area": null,
      "grid_auto_columns": null,
      "grid_auto_flow": null,
      "grid_auto_rows": null,
      "grid_column": null,
      "grid_gap": null,
      "grid_row": null,
      "grid_template_areas": null,
      "grid_template_columns": null,
      "grid_template_rows": null,
      "height": null,
      "justify_content": null,
      "justify_items": null,
      "left": null,
      "margin": null,
      "max_height": null,
      "max_width": null,
      "min_height": null,
      "min_width": null,
      "object_fit": null,
      "object_position": null,
      "order": null,
      "overflow": null,
      "overflow_x": null,
      "overflow_y": null,
      "padding": null,
      "right": null,
      "top": null,
      "visibility": null,
      "width": null
     }
    },
    "c0902293eaab40a5ae167cc1a43f3d5e": {
     "model_module": "@jupyter-widgets/controls",
     "model_module_version": "1.5.0",
     "model_name": "HBoxModel",
     "state": {
      "_dom_classes": [],
      "_model_module": "@jupyter-widgets/controls",
      "_model_module_version": "1.5.0",
      "_model_name": "HBoxModel",
      "_view_count": null,
      "_view_module": "@jupyter-widgets/controls",
      "_view_module_version": "1.5.0",
      "_view_name": "HBoxView",
      "box_style": "",
      "children": [
       "IPY_MODEL_63a88f0ee0c64474a11bb078efe7f3e4",
       "IPY_MODEL_e50013e8afc74a9c842973bd831590d7",
       "IPY_MODEL_d90b2c4891ab49149e29811287acac18"
      ],
      "layout": "IPY_MODEL_2242c538bcb64fc8a50ce45eec5ff2ef"
     }
    },
    "c63e5bc937f14200ae207fb48d35d7d8": {
     "model_module": "@jupyter-widgets/base",
     "model_module_version": "1.2.0",
     "model_name": "LayoutModel",
     "state": {
      "_model_module": "@jupyter-widgets/base",
      "_model_module_version": "1.2.0",
      "_model_name": "LayoutModel",
      "_view_count": null,
      "_view_module": "@jupyter-widgets/base",
      "_view_module_version": "1.2.0",
      "_view_name": "LayoutView",
      "align_content": null,
      "align_items": null,
      "align_self": null,
      "border": null,
      "bottom": null,
      "display": null,
      "flex": null,
      "flex_flow": null,
      "grid_area": null,
      "grid_auto_columns": null,
      "grid_auto_flow": null,
      "grid_auto_rows": null,
      "grid_column": null,
      "grid_gap": null,
      "grid_row": null,
      "grid_template_areas": null,
      "grid_template_columns": null,
      "grid_template_rows": null,
      "height": null,
      "justify_content": null,
      "justify_items": null,
      "left": null,
      "margin": null,
      "max_height": null,
      "max_width": null,
      "min_height": null,
      "min_width": null,
      "object_fit": null,
      "object_position": null,
      "order": null,
      "overflow": null,
      "overflow_x": null,
      "overflow_y": null,
      "padding": null,
      "right": null,
      "top": null,
      "visibility": null,
      "width": null
     }
    },
    "cc76d546e8874ad98fac7e05b181f013": {
     "model_module": "@jupyter-widgets/controls",
     "model_module_version": "1.5.0",
     "model_name": "ProgressStyleModel",
     "state": {
      "_model_module": "@jupyter-widgets/controls",
      "_model_module_version": "1.5.0",
      "_model_name": "ProgressStyleModel",
      "_view_count": null,
      "_view_module": "@jupyter-widgets/base",
      "_view_module_version": "1.2.0",
      "_view_name": "StyleView",
      "bar_color": null,
      "description_width": ""
     }
    },
    "d90b2c4891ab49149e29811287acac18": {
     "model_module": "@jupyter-widgets/controls",
     "model_module_version": "1.5.0",
     "model_name": "HTMLModel",
     "state": {
      "_dom_classes": [],
      "_model_module": "@jupyter-widgets/controls",
      "_model_module_version": "1.5.0",
      "_model_name": "HTMLModel",
      "_view_count": null,
      "_view_module": "@jupyter-widgets/controls",
      "_view_module_version": "1.5.0",
      "_view_name": "HTMLView",
      "description": "",
      "description_tooltip": null,
      "layout": "IPY_MODEL_3c92e44ec35a4612bcb8f21731337241",
      "placeholder": "​",
      "style": "IPY_MODEL_7bcb83f1956c4d4c8f35aea63b9feffd",
      "value": " 436M/436M [00:07&lt;00:00, 92.9MB/s]"
     }
    },
    "e50013e8afc74a9c842973bd831590d7": {
     "model_module": "@jupyter-widgets/controls",
     "model_module_version": "1.5.0",
     "model_name": "FloatProgressModel",
     "state": {
      "_dom_classes": [],
      "_model_module": "@jupyter-widgets/controls",
      "_model_module_version": "1.5.0",
      "_model_name": "FloatProgressModel",
      "_view_count": null,
      "_view_module": "@jupyter-widgets/controls",
      "_view_module_version": "1.5.0",
      "_view_name": "ProgressView",
      "bar_style": "success",
      "description": "",
      "description_tooltip": null,
      "layout": "IPY_MODEL_bb2e6d4833894a54b7cf5e8b5d02ef1f",
      "max": 435783451,
      "min": 0,
      "orientation": "horizontal",
      "style": "IPY_MODEL_cc76d546e8874ad98fac7e05b181f013",
      "value": 435783451
     }
    },
    "f3489a1f27064e10af9253dd96be6170": {
     "model_module": "@jupyter-widgets/base",
     "model_module_version": "1.2.0",
     "model_name": "LayoutModel",
     "state": {
      "_model_module": "@jupyter-widgets/base",
      "_model_module_version": "1.2.0",
      "_model_name": "LayoutModel",
      "_view_count": null,
      "_view_module": "@jupyter-widgets/base",
      "_view_module_version": "1.2.0",
      "_view_name": "LayoutView",
      "align_content": null,
      "align_items": null,
      "align_self": null,
      "border": null,
      "bottom": null,
      "display": null,
      "flex": null,
      "flex_flow": null,
      "grid_area": null,
      "grid_auto_columns": null,
      "grid_auto_flow": null,
      "grid_auto_rows": null,
      "grid_column": null,
      "grid_gap": null,
      "grid_row": null,
      "grid_template_areas": null,
      "grid_template_columns": null,
      "grid_template_rows": null,
      "height": null,
      "justify_content": null,
      "justify_items": null,
      "left": null,
      "margin": null,
      "max_height": null,
      "max_width": null,
      "min_height": null,
      "min_width": null,
      "object_fit": null,
      "object_position": null,
      "order": null,
      "overflow": null,
      "overflow_x": null,
      "overflow_y": null,
      "padding": null,
      "right": null,
      "top": null,
      "visibility": null,
      "width": null
     }
    },
    "f46cb6c6b01d4a00b115e2624da6b24e": {
     "model_module": "@jupyter-widgets/controls",
     "model_module_version": "1.5.0",
     "model_name": "HBoxModel",
     "state": {
      "_dom_classes": [],
      "_model_module": "@jupyter-widgets/controls",
      "_model_module_version": "1.5.0",
      "_model_name": "HBoxModel",
      "_view_count": null,
      "_view_module": "@jupyter-widgets/controls",
      "_view_module_version": "1.5.0",
      "_view_name": "HBoxView",
      "box_style": "",
      "children": [
       "IPY_MODEL_124784addb7a46a2af7105cda931ba19",
       "IPY_MODEL_8d2d26d1c41942459da35c163e82710c",
       "IPY_MODEL_25f95f642dc74cccb713a34d829099d4"
      ],
      "layout": "IPY_MODEL_1166520a4cd3403ba28da5dbe2f130f6"
     }
    },
    "f70bcc3c9b8545c09ddc568a7d53ca3f": {
     "model_module": "@jupyter-widgets/controls",
     "model_module_version": "1.5.0",
     "model_name": "HTMLModel",
     "state": {
      "_dom_classes": [],
      "_model_module": "@jupyter-widgets/controls",
      "_model_module_version": "1.5.0",
      "_model_name": "HTMLModel",
      "_view_count": null,
      "_view_module": "@jupyter-widgets/controls",
      "_view_module_version": "1.5.0",
      "_view_name": "HTMLView",
      "description": "",
      "description_tooltip": null,
      "layout": "IPY_MODEL_1b0e87ab38274761a2fc7b04990292d6",
      "placeholder": "​",
      "style": "IPY_MODEL_3737b949cbb6455fb22a1a51c6497149",
      "value": " 213k/213k [00:00&lt;00:00, 623kB/s]"
     }
    },
    "fdb4fda1ecf34aa9859efbe13ed32335": {
     "model_module": "@jupyter-widgets/base",
     "model_module_version": "1.2.0",
     "model_name": "LayoutModel",
     "state": {
      "_model_module": "@jupyter-widgets/base",
      "_model_module_version": "1.2.0",
      "_model_name": "LayoutModel",
      "_view_count": null,
      "_view_module": "@jupyter-widgets/base",
      "_view_module_version": "1.2.0",
      "_view_name": "LayoutView",
      "align_content": null,
      "align_items": null,
      "align_self": null,
      "border": null,
      "bottom": null,
      "display": null,
      "flex": null,
      "flex_flow": null,
      "grid_area": null,
      "grid_auto_columns": null,
      "grid_auto_flow": null,
      "grid_auto_rows": null,
      "grid_column": null,
      "grid_gap": null,
      "grid_row": null,
      "grid_template_areas": null,
      "grid_template_columns": null,
      "grid_template_rows": null,
      "height": null,
      "justify_content": null,
      "justify_items": null,
      "left": null,
      "margin": null,
      "max_height": null,
      "max_width": null,
      "min_height": null,
      "min_width": null,
      "object_fit": null,
      "object_position": null,
      "order": null,
      "overflow": null,
      "overflow_x": null,
      "overflow_y": null,
      "padding": null,
      "right": null,
      "top": null,
      "visibility": null,
      "width": null
     }
    }
   }
  }
 },
 "nbformat": 4,
 "nbformat_minor": 0
}
