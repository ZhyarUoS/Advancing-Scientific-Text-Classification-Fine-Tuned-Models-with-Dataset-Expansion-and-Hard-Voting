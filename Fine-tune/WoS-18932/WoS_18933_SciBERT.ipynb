{
 "cells": [
  {
   "cell_type": "code",
   "execution_count": null,
   "metadata": {
    "colab": {
     "base_uri": "https://localhost:8080/"
    },
    "id": "B4QvTrTDs5x7",
    "outputId": "87de3785-b004-4dd6-eb0c-af22c21a72c1"
   },
   "outputs": [
    {
     "name": "stdout",
     "output_type": "stream",
     "text": [
      "Sun Nov 10 11:06:47 2024       \n",
      "+---------------------------------------------------------------------------------------+\n",
      "| NVIDIA-SMI 535.104.05             Driver Version: 535.104.05   CUDA Version: 12.2     |\n",
      "|-----------------------------------------+----------------------+----------------------+\n",
      "| GPU  Name                 Persistence-M | Bus-Id        Disp.A | Volatile Uncorr. ECC |\n",
      "| Fan  Temp   Perf          Pwr:Usage/Cap |         Memory-Usage | GPU-Util  Compute M. |\n",
      "|                                         |                      |               MIG M. |\n",
      "|=========================================+======================+======================|\n",
      "|   0  Tesla T4                       Off | 00000000:00:04.0 Off |                    0 |\n",
      "| N/A   36C    P8               9W /  70W |      0MiB / 15360MiB |      0%      Default |\n",
      "|                                         |                      |                  N/A |\n",
      "+-----------------------------------------+----------------------+----------------------+\n",
      "                                                                                         \n",
      "+---------------------------------------------------------------------------------------+\n",
      "| Processes:                                                                            |\n",
      "|  GPU   GI   CI        PID   Type   Process name                            GPU Memory |\n",
      "|        ID   ID                                                             Usage      |\n",
      "|=======================================================================================|\n",
      "|  No running processes found                                                           |\n",
      "+---------------------------------------------------------------------------------------+\n"
     ]
    }
   ],
   "source": [
    "gpu_info = !nvidia-smi\n",
    "gpu_info = '\\n'.join(gpu_info)\n",
    "if gpu_info.find('failed') >= 0:\n",
    "  print('Not connected to a GPU')\n",
    "else:\n",
    "  print(gpu_info)"
   ]
  },
  {
   "cell_type": "code",
   "execution_count": null,
   "metadata": {
    "colab": {
     "base_uri": "https://localhost:8080/"
    },
    "id": "NS75qQZEtQ8K",
    "outputId": "2d00fe7e-4ca8-4bcd-cdc7-7d933b21da53"
   },
   "outputs": [
    {
     "name": "stdout",
     "output_type": "stream",
     "text": [
      "Your runtime has 13.6 gigabytes of available RAM\n",
      "\n",
      "Not using a high-RAM runtime\n"
     ]
    }
   ],
   "source": [
    "from psutil import virtual_memory\n",
    "ram_gb = virtual_memory().total / 1e9\n",
    "print('Your runtime has {:.1f} gigabytes of available RAM\\n'.format(ram_gb))\n",
    "\n",
    "if ram_gb < 20:\n",
    "  print('Not using a high-RAM runtime')\n",
    "else:\n",
    "  print('You are using a high-RAM runtime!')"
   ]
  },
  {
   "cell_type": "code",
   "execution_count": null,
   "metadata": {
    "colab": {
     "base_uri": "https://localhost:8080/"
    },
    "id": "0AlVWD1utTsP",
    "outputId": "7e42316e-b552-475b-a86c-36ae9a3d5e5a"
   },
   "outputs": [
    {
     "name": "stdout",
     "output_type": "stream",
     "text": [
      "Mounted at /content/drive\n"
     ]
    }
   ],
   "source": [
    "from google.colab import drive\n",
    "drive.mount('/content/drive')"
   ]
  },
  {
   "cell_type": "code",
   "execution_count": null,
   "metadata": {
    "colab": {
     "base_uri": "https://localhost:8080/"
    },
    "id": "nzmetJDhtVtT",
    "outputId": "ff87f95d-cec0-4f99-ae2a-f14bd7e9b116"
   },
   "outputs": [
    {
     "name": "stdout",
     "output_type": "stream",
     "text": [
      "Requirement already satisfied: transformers in /usr/local/lib/python3.10/dist-packages (4.44.2)\n",
      "Requirement already satisfied: filelock in /usr/local/lib/python3.10/dist-packages (from transformers) (3.16.1)\n",
      "Requirement already satisfied: huggingface-hub<1.0,>=0.23.2 in /usr/local/lib/python3.10/dist-packages (from transformers) (0.24.7)\n",
      "Requirement already satisfied: numpy>=1.17 in /usr/local/lib/python3.10/dist-packages (from transformers) (1.26.4)\n",
      "Requirement already satisfied: packaging>=20.0 in /usr/local/lib/python3.10/dist-packages (from transformers) (24.1)\n",
      "Requirement already satisfied: pyyaml>=5.1 in /usr/local/lib/python3.10/dist-packages (from transformers) (6.0.2)\n",
      "Requirement already satisfied: regex!=2019.12.17 in /usr/local/lib/python3.10/dist-packages (from transformers) (2024.9.11)\n",
      "Requirement already satisfied: requests in /usr/local/lib/python3.10/dist-packages (from transformers) (2.32.3)\n",
      "Requirement already satisfied: safetensors>=0.4.1 in /usr/local/lib/python3.10/dist-packages (from transformers) (0.4.5)\n",
      "Requirement already satisfied: tokenizers<0.20,>=0.19 in /usr/local/lib/python3.10/dist-packages (from transformers) (0.19.1)\n",
      "Requirement already satisfied: tqdm>=4.27 in /usr/local/lib/python3.10/dist-packages (from transformers) (4.66.6)\n",
      "Requirement already satisfied: fsspec>=2023.5.0 in /usr/local/lib/python3.10/dist-packages (from huggingface-hub<1.0,>=0.23.2->transformers) (2024.10.0)\n",
      "Requirement already satisfied: typing-extensions>=3.7.4.3 in /usr/local/lib/python3.10/dist-packages (from huggingface-hub<1.0,>=0.23.2->transformers) (4.12.2)\n",
      "Requirement already satisfied: charset-normalizer<4,>=2 in /usr/local/lib/python3.10/dist-packages (from requests->transformers) (3.4.0)\n",
      "Requirement already satisfied: idna<4,>=2.5 in /usr/local/lib/python3.10/dist-packages (from requests->transformers) (3.10)\n",
      "Requirement already satisfied: urllib3<3,>=1.21.1 in /usr/local/lib/python3.10/dist-packages (from requests->transformers) (2.2.3)\n",
      "Requirement already satisfied: certifi>=2017.4.17 in /usr/local/lib/python3.10/dist-packages (from requests->transformers) (2024.8.30)\n"
     ]
    }
   ],
   "source": [
    "!pip install transformers"
   ]
  },
  {
   "cell_type": "code",
   "execution_count": null,
   "metadata": {
    "id": "o1b6s5YpuqI_"
   },
   "outputs": [],
   "source": [
    "import os\n",
    "import re\n",
    "import numpy as np\n",
    "import pandas as pd\n",
    "from sklearn.model_selection import train_test_split\n",
    "from sklearn.metrics import confusion_matrix, classification_report, f1_score, precision_score, recall_score\n",
    "from transformers import AutoTokenizer, AutoModelForSequenceClassification, AdamW, get_linear_schedule_with_warmup\n",
    "import torch\n",
    "from torch.utils.data import DataLoader, TensorDataset, RandomSampler, SequentialSampler\n",
    "import torch.nn.functional as F\n",
    "from tqdm import trange, tqdm\n",
    "import matplotlib.pyplot as plt\n",
    "import sklearn.utils\n",
    "import time\n",
    "from torch.utils.data import TensorDataset"
   ]
  },
  {
   "cell_type": "code",
   "execution_count": null,
   "metadata": {
    "id": "EnKxLmqAuzN3"
   },
   "outputs": [],
   "source": [
    "def clean_text(text):\n",
    "    if isinstance(text, (str, np.ndarray)): \n",
    "        if isinstance(text, str):\n",
    "            text = text.lower()\n",
    "            text = re.sub(r'[^a-zA-Z0-9\\s]', '', text)\n",
    "            return text\n",
    "        elif isinstance(text, np.ndarray):\n",
    "            return np.array([clean_text(t) for t in text])\n",
    "    elif pd.isnull(text): \n",
    "        return \"\"\n",
    "    else:\n",
    "        try:\n",
    "            text = str(text)\n",
    "            text = text.lower()\n",
    "            text = re.sub(r'[^a-zA-Z0-9\\s]', '', text)\n",
    "            return text\n",
    "        except Exception as e:\n",
    "            print(f\"Error cleaning text: {e}, Text Type: {type(text)}, Text Value: {text}\")\n",
    "            return \"\" "
   ]
  },
  {
   "cell_type": "code",
   "execution_count": null,
   "metadata": {
    "id": "1m8ZSsBZu1yh"
   },
   "outputs": [],
   "source": [
    "labeled_data = pd.read_csv(\"/content/drive/MyDrive/WoS/data/WoSDataset_18933.csv\")\n",
    "\n",
    "for col in ['Keywords', 'Abstract']:\n",
    "    labeled_data[col] = labeled_data[col].apply(clean_text)\n",
    "\n",
    "labeled_data['combined_text'] = labeled_data['Keywords'] + \" [SEP] \" + labeled_data['Abstract']"
   ]
  },
  {
   "cell_type": "code",
   "execution_count": null,
   "metadata": {
    "id": "kcD4ZhflKLyC"
   },
   "outputs": [],
   "source": [
    "abstractslbl = labeled_data['Abstract']\n",
    "keywordsslbl = labeled_data['Keywords']\n",
    "domainlbl = labeled_data['Domain']\n",
    "lbls = labeled_data['Label']"
   ]
  },
  {
   "cell_type": "code",
   "execution_count": null,
   "metadata": {
    "colab": {
     "base_uri": "https://localhost:8080/"
    },
    "id": "OhCyifkpJ49N",
    "outputId": "44dc0572-1131-43b6-febd-6930b92768e4"
   },
   "outputs": [
    {
     "name": "stdout",
     "output_type": "stream",
     "text": [
      "(18932, 5)\n",
      "Index(['Label', 'Domain', 'Keywords', 'Abstract', 'combined_text'], dtype='object')\n"
     ]
    }
   ],
   "source": [
    "print(np.shape(labeled_data))\n",
    "print(labeled_data.columns)"
   ]
  },
  {
   "cell_type": "code",
   "execution_count": null,
   "metadata": {
    "colab": {
     "base_uri": "https://localhost:8080/"
    },
    "id": "2FCJG01mKbKQ",
    "outputId": "0151d2c1-dbb3-44fc-cee6-14c06b8e831e"
   },
   "outputs": [
    {
     "name": "stdout",
     "output_type": "stream",
     "text": [
      "Labels  ['CS' 'Civil' 'ECE' 'MAE' 'Medical' 'Psychology' 'biochemistry']\n",
      "Label counts  [2758 2870 1952 3100 2634 2906 2712]\n"
     ]
    }
   ],
   "source": [
    "labels = np.unique(domainlbl, return_counts=True)[0]\n",
    "labelCounts=  np.unique(domainlbl, return_counts=True)[1]\n",
    "\n",
    "print(\"Labels \", labels)\n",
    "print(\"Label counts \", labelCounts)"
   ]
  },
  {
   "cell_type": "code",
   "execution_count": null,
   "metadata": {
    "colab": {
     "base_uri": "https://localhost:8080/",
     "height": 571
    },
    "id": "EiF7Vq6BKuWY",
    "outputId": "210a2891-16db-4ee0-a16a-4d0246fe295c"
   },
   "outputs": [
    {
     "data": {
      "image/png": "[encoded data removed]",
      "text/plain": [
       "<Figure size 1000x600 with 1 Axes>"
      ]
     },
     "metadata": {},
     "output_type": "display_data"
    },
    {
     "name": "stdout",
     "output_type": "stream",
     "text": [
      "The label CS has 2758 records in the dataset.\n",
      "The label Civil has 2870 records in the dataset.\n",
      "The label ECE has 1952 records in the dataset.\n",
      "The label MAE has 3100 records in the dataset.\n",
      "The label Medical has 2634 records in the dataset.\n",
      "The label Psychology has 2906 records in the dataset.\n",
      "The label biochemistry has 2712 records in the dataset.\n"
     ]
    }
   ],
   "source": [
    "plt.figure(figsize=(10, 6))\n",
    "plt.title(\"Class Counts (Dataset)\")\n",
    "plt.pie(labelCounts, labels=labels, autopct='%1.1f%%', startangle=140, colors=plt.cm.Paired(range(len(labels))))\n",
    "plt.axis('equal')\n",
    "plt.show()\n",
    "\n",
    "for i, label in enumerate(labels):\n",
    "    print(\"The label\", label, \"has\", labelCounts[i], \"records in the dataset.\")"
   ]
  },
  {
   "cell_type": "code",
   "execution_count": null,
   "metadata": {
    "id": "700DOQ7qhoQy"
   },
   "outputs": [],
   "source": [
    "labeled_data_shuffled = sklearn.utils.shuffle(labeled_data)\n",
    "abstracts_shuffled = labeled_data_shuffled['Abstract'].values\n",
    "keywords_shuffled = labeled_data_shuffled['Keywords'].values\n",
    "domains_shuffled = labeled_data_shuffled['Domain'].values\n",
    "allLabels_shuffled = labeled_data_shuffled['Label'].values\n",
    "allLabels_digit_shuffled = allLabels_shuffled.astype(int)"
   ]
  },
  {
   "cell_type": "code",
   "execution_count": null,
   "metadata": {
    "colab": {
     "base_uri": "https://localhost:8080/"
    },
    "id": "3GC2HbB_63Pu",
    "outputId": "1b45da00-1afb-4cba-c33c-7e2b78af8170"
   },
   "outputs": [
    {
     "name": "stdout",
     "output_type": "stream",
     "text": [
      "(18932, 5)\n",
      "(18932,)\n",
      "(18932,)\n",
      "(18932,)\n",
      " interview anxiety interview performance person perception job interview         [SEP] the aim of this study was to investigate a the behavioral cues that are displayed by and trait judgments formed about anxious interviewees and b why anxious interviewees receive lower interview performance ratings the behavioral expression of interview anxiety model was created as a conceptual framework to explore these relations we videotaped and transcribed mock job interviews obtained ratings of interview anxiety and interview performance and trained raters to assess several verbal and nonverbal cues and trait judgments the results indicated that few behavioral cues but several traits were related to interviewee and interviewer ratings of interview anxiety two factors emerged from our factor analysis on the trait judgmentsassertiveness and interpersonal warmth mediation analyses were performed and indicated that assertiveness and interpersonal warmth mediated the relation between interview anxiety and interview performance speech rate words spoken per minute and assertiveness were found to mediate the relation between interviewee and interviewer ratings of interview anxiety overall the results indicated that interviewees should focus less on their nervous tics and more on the broader impressions that they convey our findings indicate that anxious interviewees may want to focus on how assertive and interpersonally warm they appear to interviewers to our knowledge this is the first study to use a validated interview anxiety measure to examine behavioral cues and traits exhibited by anxious interviewees we offer new insight into why anxious interviewees receive lower interview performance ratings\n"
     ]
    }
   ],
   "source": [
    "print(np.shape(labeled_data_shuffled))\n",
    "print(np.shape(abstracts_shuffled))\n",
    "print(np.shape(keywords_shuffled))\n",
    "print(np.shape(domains_shuffled))\n",
    "\n",
    "print(labeled_data_shuffled['combined_text'][0])"
   ]
  },
  {
   "cell_type": "code",
   "execution_count": null,
   "metadata": {
    "colab": {
     "base_uri": "https://localhost:8080/"
    },
    "id": "Kudfd8zLhsTv",
    "outputId": "7f821bd6-c56f-4c7e-a989-a328c8e88e5b"
   },
   "outputs": [
    {
     "name": "stdout",
     "output_type": "stream",
     "text": [
      "(15145, 5)\n",
      "(3787, 5)\n",
      "(15145, 5)\n",
      "(3787, 5)\n",
      "(1894, 5)\n"
     ]
    }
   ],
   "source": [
    "train_data, test_data = train_test_split(labeled_data_shuffled, test_size=0.2, random_state=42)\n",
    "print(np.shape(train_data))\n",
    "print(np.shape(test_data))\n",
    "\n",
    "_, val_data = train_test_split(test_data, test_size=0.5, random_state=42)\n",
    "print(np.shape(train_data))\n",
    "print(np.shape(test_data))\n",
    "print(np.shape(val_data))\n",
    "\n"
   ]
  },
  {
   "cell_type": "code",
   "execution_count": null,
   "metadata": {
    "colab": {
     "base_uri": "https://localhost:8080/",
     "height": 240,
     "referenced_widgets": [
      "dc057fcc627d4833ab997bd90c2542d8",
      "702521a41e1148f0965e4e9a604add07",
      "d4658dd6db7945d9a7eb43dfda4fa617",
      "947226df392c47bd8072d4745be92230",
      "316279b8e4324c2b84f20901d056e527",
      "afd7ee8654ba48ff93118b9824224199",
      "e87d91220785433eb8215b9a14af3522",
      "ae58c3cf96114bd7b105298c32031bd1",
      "3b59f060d1cd4b1ea00892a802bde9c5",
      "2e76bebc7bec4dd6a4ce3a5552165e5d",
      "8c1a9a6a7bdc417c9e71d2b03a8825a3",
      "b09e728ea5a54474817b7ab679667c6d",
      "2a79b50badac48ef89d3e9586dc4c3fe",
      "774e1fb221c34a768ca04b9600ea3d76",
      "09a50a616b5e4549898dc15379f93853",
      "73a2547d261844c285e3151ac10b9790",
      "36849dc9c6914e2fb04b9efd66ee11ca",
      "4446524ba1c34e77a6db583d6c552ca6",
      "246881284371459cac395d74917d983e",
      "5b8d4ab745bd47009224ff7d53d372f4",
      "da72f43d809545c48d3de8a3583cfeb0",
      "55a7a55061fc47d7b542ceada721c0d1"
     ]
    },
    "id": "YIZ4uxq2h0Rn",
    "outputId": "c3e94a41-9ac7-40bc-c5ef-6c2cdc480477"
   },
   "outputs": [
    {
     "name": "stderr",
     "output_type": "stream",
     "text": [
      "/usr/local/lib/python3.10/dist-packages/huggingface_hub/utils/_token.py:89: UserWarning: \n",
      "The secret `HF_TOKEN` does not exist in your Colab secrets.\n",
      "To authenticate with the Hugging Face Hub, create a token in your settings tab (https://huggingface.co/settings/tokens), set it as secret in your Google Colab and restart your session.\n",
      "You will be able to reuse this secret in all of your notebooks.\n",
      "Please note that authentication is recommended but still optional to access public models or datasets.\n",
      "  warnings.warn(\n"
     ]
    },
    {
     "data": {
      "application/vnd.jupyter.widget-view+json": {
       "model_id": "dc057fcc627d4833ab997bd90c2542d8",
       "version_major": 2,
       "version_minor": 0
      },
      "text/plain": [
       "config.json:   0%|          | 0.00/385 [00:00<?, ?B/s]"
      ]
     },
     "metadata": {},
     "output_type": "display_data"
    },
    {
     "data": {
      "application/vnd.jupyter.widget-view+json": {
       "model_id": "b09e728ea5a54474817b7ab679667c6d",
       "version_major": 2,
       "version_minor": 0
      },
      "text/plain": [
       "vocab.txt:   0%|          | 0.00/228k [00:00<?, ?B/s]"
      ]
     },
     "metadata": {},
     "output_type": "display_data"
    },
    {
     "name": "stderr",
     "output_type": "stream",
     "text": [
      "/usr/local/lib/python3.10/dist-packages/transformers/tokenization_utils_base.py:1601: FutureWarning: `clean_up_tokenization_spaces` was not set. It will be set to `True` by default. This behavior will be depracted in transformers v4.45, and will be then set to `False` by default. For more details check this issue: https://github.com/huggingface/transformers/issues/31884\n",
      "  warnings.warn(\n"
     ]
    }
   ],
   "source": [
    "tokenizer = AutoTokenizer.from_pretrained(\"allenai/scibert_scivocab_uncased\")"
   ]
  },
  {
   "cell_type": "code",
   "execution_count": null,
   "metadata": {
    "id": "sCxmsPk9T7tW"
   },
   "outputs": [],
   "source": [
    "abstractslbltrain = train_data['Abstract']\n",
    "keywordsslbltrain = train_data['Keywords']\n",
    "domainlbltrain = train_data['Domain']\n",
    "lblstrain = train_data['Label']"
   ]
  },
  {
   "cell_type": "code",
   "execution_count": null,
   "metadata": {
    "colab": {
     "base_uri": "https://localhost:8080/"
    },
    "id": "e1aaQ3j-T8vi",
    "outputId": "89a3c269-2ca3-4066-fc3b-f231bd705f14"
   },
   "outputs": [
    {
     "name": "stdout",
     "output_type": "stream",
     "text": [
      "(18932, 5)\n",
      "Index(['Label', 'Domain', 'Keywords', 'Abstract', 'combined_text'], dtype='object')\n"
     ]
    }
   ],
   "source": [
    "print(np.shape(labeled_data))\n",
    "print(labeled_data.columns)"
   ]
  },
  {
   "cell_type": "code",
   "execution_count": null,
   "metadata": {
    "colab": {
     "base_uri": "https://localhost:8080/"
    },
    "id": "8Gr4SA7PUATC",
    "outputId": "657882d2-a349-44d7-da89-bd59dc9ef37e"
   },
   "outputs": [
    {
     "name": "stdout",
     "output_type": "stream",
     "text": [
      "Labels  ['CS' 'Civil' 'ECE' 'MAE' 'Medical' 'Psychology' 'biochemistry']\n",
      "Label counts  [2207 2300 1578 2473 2092 2342 2153]\n"
     ]
    }
   ],
   "source": [
    "labels = np.unique(domainlbltrain, return_counts=True)[0]\n",
    "labelCounts=  np.unique(domainlbltrain, return_counts=True)[1]\n",
    "\n",
    "print(\"Labels \", labels)\n",
    "print(\"Label counts \", labelCounts)"
   ]
  },
  {
   "cell_type": "code",
   "execution_count": null,
   "metadata": {
    "colab": {
     "base_uri": "https://localhost:8080/",
     "height": 571
    },
    "id": "GDOn_hrNUGSy",
    "outputId": "0fdf4f99-183f-4f8a-c0ea-34b72f9a7eb0"
   },
   "outputs": [
    {
     "data": {
      "image/png": "[encoded data removed]",
      "text/plain": [
       "<Figure size 1000x600 with 1 Axes>"
      ]
     },
     "metadata": {},
     "output_type": "display_data"
    },
    {
     "name": "stdout",
     "output_type": "stream",
     "text": [
      "The label CS has 2207 records in the dataset.\n",
      "The label Civil has 2300 records in the dataset.\n",
      "The label ECE has 1578 records in the dataset.\n",
      "The label MAE has 2473 records in the dataset.\n",
      "The label Medical has 2092 records in the dataset.\n",
      "The label Psychology has 2342 records in the dataset.\n",
      "The label biochemistry has 2153 records in the dataset.\n"
     ]
    }
   ],
   "source": [
    "# Visualize domain counts in dataset\n",
    "plt.figure(figsize=(10, 6))\n",
    "plt.title(\"Class Counts (Dataset)\")\n",
    "plt.pie(labelCounts, labels=labels, autopct='%1.1f%%', startangle=140, colors=plt.cm.Paired(range(len(labels))))\n",
    "plt.axis('equal')\n",
    "plt.show()\n",
    "\n",
    "for i, label in enumerate(labels):\n",
    "    print(\"The label\", label, \"has\", labelCounts[i], \"records in the dataset.\")"
   ]
  },
  {
   "cell_type": "code",
   "execution_count": null,
   "metadata": {
    "id": "JGvdipmIZEPq"
   },
   "outputs": [],
   "source": [
    "abstractslbltest = test_data['Abstract']\n",
    "keywordsslbltest = test_data['Keywords']\n",
    "domainlbltest = test_data['Domain']\n",
    "lblstest = test_data['Label']"
   ]
  },
  {
   "cell_type": "code",
   "execution_count": null,
   "metadata": {
    "colab": {
     "base_uri": "https://localhost:8080/"
    },
    "id": "l64aJDKxZEfQ",
    "outputId": "a4807482-4b08-4de1-e167-e5de78d3b71d"
   },
   "outputs": [
    {
     "name": "stdout",
     "output_type": "stream",
     "text": [
      "Labels  ['CS' 'Civil' 'ECE' 'MAE' 'Medical' 'Psychology' 'biochemistry']\n",
      "Label counts  [551 570 374 627 542 564 559]\n"
     ]
    }
   ],
   "source": [
    "labels = np.unique(domainlbltest, return_counts=True)[0]\n",
    "labelCounts=  np.unique(domainlbltest, return_counts=True)[1]\n",
    "\n",
    "print(\"Labels \", labels)\n",
    "print(\"Label counts \", labelCounts)"
   ]
  },
  {
   "cell_type": "code",
   "execution_count": null,
   "metadata": {
    "colab": {
     "base_uri": "https://localhost:8080/",
     "height": 571
    },
    "id": "RhCMATTGZErU",
    "outputId": "cce062a5-43b5-43c9-8dee-7eb85ae878db"
   },
   "outputs": [
    {
     "data": {
      "image/png": "[encoded data removed]",
      "text/plain": [
       "<Figure size 1000x600 with 1 Axes>"
      ]
     },
     "metadata": {},
     "output_type": "display_data"
    },
    {
     "name": "stdout",
     "output_type": "stream",
     "text": [
      "The label CS has 551 records in the dataset.\n",
      "The label Civil has 570 records in the dataset.\n",
      "The label ECE has 374 records in the dataset.\n",
      "The label MAE has 627 records in the dataset.\n",
      "The label Medical has 542 records in the dataset.\n",
      "The label Psychology has 564 records in the dataset.\n",
      "The label biochemistry has 559 records in the dataset.\n"
     ]
    }
   ],
   "source": [
    "# Visualize domain counts in dataset\n",
    "plt.figure(figsize=(10, 6))\n",
    "plt.title(\"Class Counts (Dataset)\")\n",
    "plt.pie(labelCounts, labels=labels, autopct='%1.1f%%', startangle=140, colors=plt.cm.Paired(range(len(labels))))\n",
    "plt.axis('equal')\n",
    "plt.show()\n",
    "\n",
    "for i, label in enumerate(labels):\n",
    "    print(\"The label\", label, \"has\", labelCounts[i], \"records in the dataset.\")"
   ]
  },
  {
   "cell_type": "code",
   "execution_count": null,
   "metadata": {
    "id": "0eWbApo_ZROV"
   },
   "outputs": [],
   "source": [
    "abstractslblval = val_data['Abstract']\n",
    "keywordsslblval = val_data['Keywords']\n",
    "domainlblval = val_data['Domain']\n",
    "lblsval = val_data['Label']"
   ]
  },
  {
   "cell_type": "code",
   "execution_count": null,
   "metadata": {
    "colab": {
     "base_uri": "https://localhost:8080/"
    },
    "id": "alfNPrPwZRmt",
    "outputId": "ba99d83d-1825-4545-f374-59f6ebb51de5"
   },
   "outputs": [
    {
     "name": "stdout",
     "output_type": "stream",
     "text": [
      "Labels  ['CS' 'Civil' 'ECE' 'MAE' 'Medical' 'Psychology' 'biochemistry']\n",
      "Label counts  [273 285 176 317 287 281 275]\n"
     ]
    }
   ],
   "source": [
    "labels = np.unique(domainlblval, return_counts=True)[0]\n",
    "labelCounts=  np.unique(domainlblval, return_counts=True)[1]\n",
    "\n",
    "print(\"Labels \", labels)\n",
    "print(\"Label counts \", labelCounts)"
   ]
  },
  {
   "cell_type": "code",
   "execution_count": null,
   "metadata": {
    "colab": {
     "base_uri": "https://localhost:8080/",
     "height": 571
    },
    "id": "-vH16QzfZE6m",
    "outputId": "8539d2ca-ad41-4a10-a245-eb83ee0134ea"
   },
   "outputs": [
    {
     "data": {
      "image/png": "[encoded data removed]",
      "text/plain": [
       "<Figure size 1000x600 with 1 Axes>"
      ]
     },
     "metadata": {},
     "output_type": "display_data"
    },
    {
     "name": "stdout",
     "output_type": "stream",
     "text": [
      "The label CS has 273 records in the dataset.\n",
      "The label Civil has 285 records in the dataset.\n",
      "The label ECE has 176 records in the dataset.\n",
      "The label MAE has 317 records in the dataset.\n",
      "The label Medical has 287 records in the dataset.\n",
      "The label Psychology has 281 records in the dataset.\n",
      "The label biochemistry has 275 records in the dataset.\n"
     ]
    }
   ],
   "source": [
    "# Visualize domain counts in dataset\n",
    "plt.figure(figsize=(10, 6))\n",
    "plt.title(\"Class Counts (Dataset)\")\n",
    "plt.pie(labelCounts, labels=labels, autopct='%1.1f%%', startangle=140, colors=plt.cm.Paired(range(len(labels))))\n",
    "plt.axis('equal')\n",
    "plt.show()\n",
    "\n",
    "for i, label in enumerate(labels):\n",
    "    print(\"The label\", label, \"has\", labelCounts[i], \"records in the dataset.\")"
   ]
  },
  {
   "cell_type": "code",
   "execution_count": null,
   "metadata": {
    "id": "pxeAvHMGh3fx"
   },
   "outputs": [],
   "source": [
    "def encode_data(data, tokenizer, max_length=128, labeled=True):\n",
    "    inputs = tokenizer(\n",
    "        data['combined_text'].tolist(),\n",
    "        max_length=max_length,\n",
    "        padding=\"max_length\",\n",
    "        truncation=True,\n",
    "        return_tensors=\"pt\"\n",
    "    )\n",
    "\n",
    "    if labeled and 'Label' in data.columns:\n",
    "        labels = torch.tensor(data['Label'].values.astype(int))\n",
    "        return TensorDataset(inputs['input_ids'], inputs['attention_mask'], labels)\n",
    "    else:\n",
    "        return TensorDataset(inputs['input_ids'], inputs['attention_mask'])\n"
   ]
  },
  {
   "cell_type": "code",
   "execution_count": null,
   "metadata": {
    "id": "bqVvQ4ZriHk_"
   },
   "outputs": [],
   "source": [
    "train_dataset = encode_data(train_data, tokenizer)\n",
    "val_dataset = encode_data(val_data, tokenizer)\n",
    "test_dataset = encode_data(test_data, tokenizer)"
   ]
  },
  {
   "cell_type": "code",
   "execution_count": null,
   "metadata": {
    "id": "MVqj6GkGiOLU"
   },
   "outputs": [],
   "source": [
    "train_dataloader = DataLoader(train_dataset, sampler=RandomSampler(train_dataset), batch_size=32)\n",
    "val_dataloader = DataLoader(val_dataset, sampler=SequentialSampler(val_dataset), batch_size=32)\n",
    "test_dataloader = DataLoader(test_dataset, sampler=SequentialSampler(test_dataset), batch_size=32)"
   ]
  },
  {
   "cell_type": "code",
   "execution_count": null,
   "metadata": {
    "colab": {
     "base_uri": "https://localhost:8080/",
     "height": 902,
     "referenced_widgets": [
      "dbe608152d284925be06133f9f6ed32a",
      "ce2b9af425dd41598ae22b6898adab7d",
      "a5bd40de6b6549099c4f11fbd086a64a",
      "d0b03e17871f49c9a51d091d12166cc2",
      "be81dbcf51c444feb4980cd6c3e7e993",
      "8bc88846af934a1184afbb18647cadc4",
      "e1ae2c65b1604da3924815a98fed6e08",
      "4c71f46bb5b9446282cccac7cfe10a3a",
      "ffcfbff1cac64f51aa7de178ef70c81b",
      "595c1d90f3364a289795d4ad09df3e13",
      "3cdd84856cec4c7a9e88dd1e6c25307e"
     ]
    },
    "id": "xZnFwk-jiQ1N",
    "outputId": "08e3da9c-5c26-44de-d8c9-d0a741fe4127"
   },
   "outputs": [
    {
     "name": "stdout",
     "output_type": "stream",
     "text": [
      "7\n"
     ]
    },
    {
     "data": {
      "application/vnd.jupyter.widget-view+json": {
       "model_id": "dbe608152d284925be06133f9f6ed32a",
       "version_major": 2,
       "version_minor": 0
      },
      "text/plain": [
       "pytorch_model.bin:   0%|          | 0.00/442M [00:00<?, ?B/s]"
      ]
     },
     "metadata": {},
     "output_type": "display_data"
    },
    {
     "name": "stderr",
     "output_type": "stream",
     "text": [
      "Some weights of BertForSequenceClassification were not initialized from the model checkpoint at allenai/scibert_scivocab_uncased and are newly initialized: ['classifier.bias', 'classifier.weight']\n",
      "You should probably TRAIN this model on a down-stream task to be able to use it for predictions and inference.\n"
     ]
    },
    {
     "data": {
      "text/plain": [
       "BertForSequenceClassification(\n",
       "  (bert): BertModel(\n",
       "    (embeddings): BertEmbeddings(\n",
       "      (word_embeddings): Embedding(31090, 768, padding_idx=0)\n",
       "      (position_embeddings): Embedding(512, 768)\n",
       "      (token_type_embeddings): Embedding(2, 768)\n",
       "      (LayerNorm): LayerNorm((768,), eps=1e-12, elementwise_affine=True)\n",
       "      (dropout): Dropout(p=0.1, inplace=False)\n",
       "    )\n",
       "    (encoder): BertEncoder(\n",
       "      (layer): ModuleList(\n",
       "        (0-11): 12 x BertLayer(\n",
       "          (attention): BertAttention(\n",
       "            (self): BertSdpaSelfAttention(\n",
       "              (query): Linear(in_features=768, out_features=768, bias=True)\n",
       "              (key): Linear(in_features=768, out_features=768, bias=True)\n",
       "              (value): Linear(in_features=768, out_features=768, bias=True)\n",
       "              (dropout): Dropout(p=0.1, inplace=False)\n",
       "            )\n",
       "            (output): BertSelfOutput(\n",
       "              (dense): Linear(in_features=768, out_features=768, bias=True)\n",
       "              (LayerNorm): LayerNorm((768,), eps=1e-12, elementwise_affine=True)\n",
       "              (dropout): Dropout(p=0.1, inplace=False)\n",
       "            )\n",
       "          )\n",
       "          (intermediate): BertIntermediate(\n",
       "            (dense): Linear(in_features=768, out_features=3072, bias=True)\n",
       "            (intermediate_act_fn): GELUActivation()\n",
       "          )\n",
       "          (output): BertOutput(\n",
       "            (dense): Linear(in_features=3072, out_features=768, bias=True)\n",
       "            (LayerNorm): LayerNorm((768,), eps=1e-12, elementwise_affine=True)\n",
       "            (dropout): Dropout(p=0.1, inplace=False)\n",
       "          )\n",
       "        )\n",
       "      )\n",
       "    )\n",
       "    (pooler): BertPooler(\n",
       "      (dense): Linear(in_features=768, out_features=768, bias=True)\n",
       "      (activation): Tanh()\n",
       "    )\n",
       "  )\n",
       "  (dropout): Dropout(p=0.1, inplace=False)\n",
       "  (classifier): Linear(in_features=768, out_features=7, bias=True)\n",
       ")"
      ]
     },
     "execution_count": 28,
     "metadata": {},
     "output_type": "execute_result"
    }
   ],
   "source": [
    "print(len(np.unique(train_data['Label'])))\n",
    "model = AutoModelForSequenceClassification.from_pretrained(\"allenai/scibert_scivocab_uncased\", num_labels=len(np.unique(train_data['Label'])))\n",
    "device = torch.device(\"cuda\" if torch.cuda.is_available() else \"cpu\")\n",
    "model.to(device)"
   ]
  },
  {
   "cell_type": "code",
   "execution_count": null,
   "metadata": {
    "id": "tkWRqh9eiozN"
   },
   "outputs": [],
   "source": [
    "def calculate_metrics_f(valType, predictions, true_labels):\n",
    "    if valType == 'test':\n",
    "        cm = confusion_matrix(true_labels, predictions)\n",
    "        report = classification_report(true_labels, predictions)\n",
    "        f1_micro = f1_score(true_labels, predictions, average='micro')\n",
    "        print(\"\\nClassification Report:\\n\", report)\n",
    "        return f1_micro\n",
    "    elif valType == 'val':\n",
    "        f1_micro = f1_score(true_labels, predictions, average='micro')\n",
    "        return f1_micro"
   ]
  },
  {
   "cell_type": "code",
   "execution_count": null,
   "metadata": {
    "id": "qtxucMQfkITn"
   },
   "outputs": [],
   "source": [
    "def calculate_metrics(valType, predictions, true_labels):\n",
    "    # Confusion matrix\n",
    "    if(valType == 'test'):\n",
    "        cm = confusion_matrix(true_labels, predictions)\n",
    "        print(\"Confusion Matrix:\\n\", cm)\n",
    "\n",
    "        report = classification_report(true_labels, predictions, target_names=[str(i) for i in range(len(np.unique(true_labels)))])\n",
    "        print(\"\\nClassification Report:\\n\", report)\n",
    "\n",
    "        f1_macro = f1_score(true_labels, predictions, average='macro')\n",
    "        f1_micro = f1_score(true_labels, predictions, average='micro')\n",
    "        f1_weighted = f1_score(true_labels, predictions, average='weighted')\n",
    "\n",
    "        precision_macro = precision_score(true_labels, predictions, average='macro')\n",
    "        precision_micro = precision_score(true_labels, predictions, average='micro')\n",
    "        precision_weighted = precision_score(true_labels, predictions, average='weighted')\n",
    "\n",
    "        recall_macro = recall_score(true_labels, predictions, average='macro')\n",
    "        recall_micro = recall_score(true_labels, predictions, average='micro')\n",
    "        recall_weighted = recall_score(true_labels, predictions, average='weighted')\n",
    "\n",
    "        print(f\"Macro F1 Score: {f1_macro}\")\n",
    "        print(f\"Micro F1 Score: {f1_micro}\")\n",
    "        print(f\"Weighted F1 Score: {f1_weighted}\")\n",
    "\n",
    "        print(f\"Macro Precision: {precision_macro}\")\n",
    "        print(f\"Micro Precision: {precision_micro}\")\n",
    "        print(f\"Weighted Precision: {precision_weighted}\")\n",
    "\n",
    "        print(f\"Macro Recall: {recall_macro}\")\n",
    "        print(f\"Micro Recall: {recall_micro}\")\n",
    "        print(f\"Weighted Recall: {recall_weighted}\")\n",
    "\n",
    "    elif(valType == 'val'):\n",
    "        cm = confusion_matrix(true_labels, predictions)\n",
    "        f1_macro = f1_score(true_labels, predictions, average='macro')\n",
    "        f1_micro = f1_score(true_labels, predictions, average='micro')\n",
    "        f1_weighted = f1_score(true_labels, predictions, average='weighted')\n",
    "\n",
    "        precision_macro = precision_score(true_labels, predictions, average='macro')\n",
    "        precision_micro = precision_score(true_labels, predictions, average='micro')\n",
    "        precision_weighted = precision_score(true_labels, predictions, average='weighted')\n",
    "\n",
    "        recall_macro = recall_score(true_labels, predictions, average='macro')\n",
    "        recall_micro = recall_score(true_labels, predictions, average='micro')\n",
    "        recall_weighted = recall_score(true_labels, predictions, average='weighted')\n",
    "        # print('Val Micro F1:', f1_micro)\n",
    "        return f1_micro"
   ]
  },
  {
   "cell_type": "code",
   "execution_count": null,
   "metadata": {
    "colab": {
     "base_uri": "https://localhost:8080/"
    },
    "id": "TacIdpsRite9",
    "outputId": "6110a85e-bb0b-4e7d-e632-802cc3a2a6aa"
   },
   "outputs": [
    {
     "name": "stdout",
     "output_type": "stream",
     "text": [
      "\n",
      "Training with learning rate: 2e-05\n"
     ]
    },
    {
     "name": "stderr",
     "output_type": "stream",
     "text": [
      "/usr/local/lib/python3.10/dist-packages/transformers/optimization.py:591: FutureWarning: This implementation of AdamW is deprecated and will be removed in a future version. Use the PyTorch implementation torch.optim.AdamW instead, or set `no_deprecation_warning=True` to disable this warning\n",
      "  warnings.warn(\n",
      "Epoch 1/20: 100%|██████████| 474/474 [05:14<00:00,  1.51batch/s]\n"
     ]
    },
    {
     "name": "stdout",
     "output_type": "stream",
     "text": [
      "Train Loss: 1.0530049511651953\n",
      "Validation Micro F1: 0.8975712777191129\n",
      "Epoch 1/20, Train Loss: 1.0530049511651953, Val Micro F1: 0.8975712777191129\n",
      "Best model saved.\n"
     ]
    },
    {
     "name": "stderr",
     "output_type": "stream",
     "text": [
      "Epoch 2/20: 100%|██████████| 474/474 [05:27<00:00,  1.45batch/s]\n"
     ]
    },
    {
     "name": "stdout",
     "output_type": "stream",
     "text": [
      "Train Loss: 0.2899176328902758\n",
      "Validation Micro F1: 0.9213305174234424\n",
      "Epoch 2/20, Train Loss: 0.2899176328902758, Val Micro F1: 0.9213305174234424\n",
      "Best model saved.\n"
     ]
    },
    {
     "name": "stderr",
     "output_type": "stream",
     "text": [
      "Epoch 3/20: 100%|██████████| 474/474 [05:27<00:00,  1.45batch/s]\n"
     ]
    },
    {
     "name": "stdout",
     "output_type": "stream",
     "text": [
      "Train Loss: 0.18926103700361047\n",
      "Validation Micro F1: 0.9107708553326294\n",
      "Epoch 3/20, Train Loss: 0.18926103700361047, Val Micro F1: 0.9107708553326294\n"
     ]
    },
    {
     "name": "stderr",
     "output_type": "stream",
     "text": [
      "Epoch 4/20: 100%|██████████| 474/474 [05:27<00:00,  1.45batch/s]\n"
     ]
    },
    {
     "name": "stdout",
     "output_type": "stream",
     "text": [
      "Train Loss: 0.11297315303904283\n",
      "Validation Micro F1: 0.9186906019007391\n",
      "Epoch 4/20, Train Loss: 0.11297315303904283, Val Micro F1: 0.9186906019007391\n"
     ]
    },
    {
     "name": "stderr",
     "output_type": "stream",
     "text": [
      "Epoch 5/20: 100%|██████████| 474/474 [05:27<00:00,  1.45batch/s]\n"
     ]
    },
    {
     "name": "stdout",
     "output_type": "stream",
     "text": [
      "Train Loss: 0.06741909613883916\n",
      "Validation Micro F1: 0.9229144667370645\n",
      "Epoch 5/20, Train Loss: 0.06741909613883916, Val Micro F1: 0.9229144667370645\n",
      "Best model saved.\n"
     ]
    },
    {
     "name": "stderr",
     "output_type": "stream",
     "text": [
      "Epoch 6/20: 100%|██████████| 474/474 [05:27<00:00,  1.45batch/s]\n"
     ]
    },
    {
     "name": "stdout",
     "output_type": "stream",
     "text": [
      "Train Loss: 0.04538730951173443\n",
      "Validation Micro F1: 0.9176346356916578\n",
      "Epoch 6/20, Train Loss: 0.04538730951173443, Val Micro F1: 0.9176346356916578\n"
     ]
    },
    {
     "name": "stderr",
     "output_type": "stream",
     "text": [
      "Epoch 7/20: 100%|██████████| 474/474 [05:26<00:00,  1.45batch/s]\n"
     ]
    },
    {
     "name": "stdout",
     "output_type": "stream",
     "text": [
      "Train Loss: 0.026268960756027703\n",
      "Validation Micro F1: 0.9181626187961985\n",
      "Epoch 7/20, Train Loss: 0.026268960756027703, Val Micro F1: 0.9181626187961985\n"
     ]
    },
    {
     "name": "stderr",
     "output_type": "stream",
     "text": [
      "Epoch 8/20: 100%|██████████| 474/474 [05:27<00:00,  1.45batch/s]\n"
     ]
    },
    {
     "name": "stdout",
     "output_type": "stream",
     "text": [
      "Train Loss: 0.016627705017181374\n",
      "Validation Micro F1: 0.9149947201689546\n",
      "Epoch 8/20, Train Loss: 0.016627705017181374, Val Micro F1: 0.9149947201689546\n"
     ]
    },
    {
     "name": "stderr",
     "output_type": "stream",
     "text": [
      "Epoch 9/20: 100%|██████████| 474/474 [05:27<00:00,  1.45batch/s]\n"
     ]
    },
    {
     "name": "stdout",
     "output_type": "stream",
     "text": [
      "Train Loss: 0.009873629686666283\n",
      "Validation Micro F1: 0.9218585005279831\n",
      "Epoch 9/20, Train Loss: 0.009873629686666283, Val Micro F1: 0.9218585005279831\n"
     ]
    },
    {
     "name": "stderr",
     "output_type": "stream",
     "text": [
      "Epoch 10/20: 100%|██████████| 474/474 [05:27<00:00,  1.45batch/s]\n"
     ]
    },
    {
     "name": "stdout",
     "output_type": "stream",
     "text": [
      "Train Loss: 0.009666168414358883\n"
     ]
    },
    {
     "name": "stderr",
     "output_type": "stream",
     "text": [
      "/usr/local/lib/python3.10/dist-packages/transformers/optimization.py:591: FutureWarning: This implementation of AdamW is deprecated and will be removed in a future version. Use the PyTorch implementation torch.optim.AdamW instead, or set `no_deprecation_warning=True` to disable this warning\n",
      "  warnings.warn(\n"
     ]
    },
    {
     "name": "stdout",
     "output_type": "stream",
     "text": [
      "Validation Micro F1: 0.91129883843717\n",
      "Epoch 10/20, Train Loss: 0.009666168414358883, Val Micro F1: 0.91129883843717\n",
      "Early stopping applied.\n",
      "\n",
      "Training with learning rate: 5e-06\n"
     ]
    },
    {
     "name": "stderr",
     "output_type": "stream",
     "text": [
      "Epoch 1/20: 100%|██████████| 474/474 [05:26<00:00,  1.45batch/s]\n"
     ]
    },
    {
     "name": "stdout",
     "output_type": "stream",
     "text": [
      "Train Loss: 0.005279884802964457\n"
     ]
    },
    {
     "name": "stderr",
     "output_type": "stream",
     "text": [
      "/usr/local/lib/python3.10/dist-packages/transformers/optimization.py:591: FutureWarning: This implementation of AdamW is deprecated and will be removed in a future version. Use the PyTorch implementation torch.optim.AdamW instead, or set `no_deprecation_warning=True` to disable this warning\n",
      "  warnings.warn(\n"
     ]
    },
    {
     "name": "stdout",
     "output_type": "stream",
     "text": [
      "Validation Micro F1: 0.9176346356916578\n",
      "Epoch 1/20, Train Loss: 0.005279884802964457, Val Micro F1: 0.9176346356916578\n",
      "Early stopping applied.\n",
      "\n",
      "Training with learning rate: 1e-06\n"
     ]
    },
    {
     "name": "stderr",
     "output_type": "stream",
     "text": [
      "Epoch 1/20: 100%|██████████| 474/474 [05:26<00:00,  1.45batch/s]\n"
     ]
    },
    {
     "name": "stdout",
     "output_type": "stream",
     "text": [
      "Train Loss: 0.0029805737251871684\n"
     ]
    },
    {
     "name": "stderr",
     "output_type": "stream",
     "text": [
      "/usr/local/lib/python3.10/dist-packages/transformers/optimization.py:591: FutureWarning: This implementation of AdamW is deprecated and will be removed in a future version. Use the PyTorch implementation torch.optim.AdamW instead, or set `no_deprecation_warning=True` to disable this warning\n",
      "  warnings.warn(\n"
     ]
    },
    {
     "name": "stdout",
     "output_type": "stream",
     "text": [
      "Validation Micro F1: 0.9176346356916578\n",
      "Epoch 1/20, Train Loss: 0.0029805737251871684, Val Micro F1: 0.9176346356916578\n",
      "Early stopping applied.\n",
      "\n",
      "Training with learning rate: 2e-06\n"
     ]
    },
    {
     "name": "stderr",
     "output_type": "stream",
     "text": [
      "Epoch 1/20: 100%|██████████| 474/474 [05:26<00:00,  1.45batch/s]\n"
     ]
    },
    {
     "name": "stdout",
     "output_type": "stream",
     "text": [
      "Train Loss: 0.0018994151996517405\n",
      "Validation Micro F1: 0.9202745512143612\n",
      "Epoch 1/20, Train Loss: 0.0018994151996517405, Val Micro F1: 0.9202745512143612\n",
      "Early stopping applied.\n"
     ]
    },
    {
     "name": "stderr",
     "output_type": "stream",
     "text": [
      "<ipython-input-31-99034260d263>:60: FutureWarning: You are using `torch.load` with `weights_only=False` (the current default value), which uses the default pickle module implicitly. It is possible to construct malicious pickle data which will execute arbitrary code during unpickling (See https://github.com/pytorch/pytorch/blob/main/SECURITY.md#untrusted-models for more details). In a future release, the default value for `weights_only` will be flipped to `True`. This limits the functions that could be executed during unpickling. Arbitrary objects will no longer be allowed to be loaded via this mode unless they are explicitly allowlisted by the user via `torch.serialization.add_safe_globals`. We recommend you start setting `weights_only=True` for any use case where you don't have full control of the loaded file. Please open an issue on GitHub for any issues related to this experimental feature.\n",
      "  model.load_state_dict(torch.load('best_model.pth'))\n"
     ]
    },
    {
     "name": "stdout",
     "output_type": "stream",
     "text": [
      "Best model loaded.\n"
     ]
    }
   ],
   "source": [
    "\n",
    "epochs = 20\n",
    "learning_rates = [2e-5, 5e-6, 1e-6, 2e-6]\n",
    "early_stopping_patience = 5\n",
    "best_val_f1 = 0\n",
    "early_stopping_counter = 0\n",
    "\n",
    "for lr in learning_rates:\n",
    "    print(f\"\\nTraining with learning rate: {lr}\")\n",
    "    optimizer = AdamW(model.parameters(), lr=lr, eps=1e-8)\n",
    "    total_steps = len(train_dataloader) * epochs\n",
    "    scheduler = get_linear_schedule_with_warmup(optimizer, num_warmup_steps=0.1 * total_steps, num_training_steps=total_steps)\n",
    "\n",
    "    for epoch in range(epochs):\n",
    "        model.train()\n",
    "        total_train_loss = 0\n",
    "        for batch in tqdm(train_dataloader, desc=f\"Epoch {epoch + 1}/{epochs}\", unit=\"batch\"):\n",
    "            batch = tuple(t.to(device) for t in batch)\n",
    "            input_ids, input_mask, labels = batch\n",
    "            model.zero_grad()\n",
    "            outputs = model(input_ids=input_ids, attention_mask=input_mask, labels=labels)\n",
    "            loss = outputs.loss\n",
    "            total_train_loss += loss.item()\n",
    "            loss.backward()\n",
    "            optimizer.step()\n",
    "            scheduler.step()\n",
    "        avg_train_loss = total_train_loss / len(train_dataloader)\n",
    "        print(f\"Train Loss: {avg_train_loss}\")\n",
    "\n",
    "        # Validation\n",
    "        model.eval()\n",
    "        predictions, true_labels = [], []\n",
    "        for batch in val_dataloader:\n",
    "            batch = tuple(t.to(device) for t in batch)\n",
    "            input_ids, input_mask, labels = batch\n",
    "            with torch.no_grad():\n",
    "                outputs = model(input_ids=input_ids, attention_mask=input_mask)\n",
    "            logits = outputs.logits.detach().cpu().numpy()\n",
    "            batch_predictions = np.argmax(logits, axis=1)\n",
    "            predictions.extend(batch_predictions)\n",
    "            true_labels.extend(labels.to('cpu').numpy())\n",
    "        val_f1 = f1_score(true_labels, predictions, average='micro')\n",
    "        print(f\"Validation Micro F1: {val_f1}\")\n",
    "        val_micro_f1 = calculate_metrics_f('val', predictions, true_labels)\n",
    "        print(f\"Epoch {epoch + 1}/{epochs}, Train Loss: {avg_train_loss}, Val Micro F1: {val_micro_f1}\")\n",
    "\n",
    "        # Early stopping check\n",
    "        if val_f1 > best_val_f1:\n",
    "            best_val_f1 = val_f1\n",
    "            early_stopping_counter = 0\n",
    "            torch.save(model.state_dict(), 'best_model.pth')\n",
    "            print(\"Best model saved.\")\n",
    "        else:\n",
    "            early_stopping_counter += 1\n",
    "            if early_stopping_counter >= early_stopping_patience:\n",
    "                print(\"Early stopping applied.\")\n",
    "                break\n",
    "\n",
    "# Load the best model for testing\n",
    "model.load_state_dict(torch.load('best_model.pth'))\n",
    "print(\"Best model loaded.\")"
   ]
  },
  {
   "cell_type": "code",
   "execution_count": null,
   "metadata": {
    "colab": {
     "base_uri": "https://localhost:8080/"
    },
    "id": "zCM_A6DjkgfI",
    "outputId": "200d39d0-9f34-4197-bb74-e7c9d35c5b79"
   },
   "outputs": [
    {
     "name": "stdout",
     "output_type": "stream",
     "text": [
      "Confusion Matrix:\n",
      " [[520  10   1   9   7   2   2]\n",
      " [  5 357   0  10   2   0   0]\n",
      " [  5   1 513   2   3  39   1]\n",
      " [  4  26   1 570  22   3   1]\n",
      " [  6   7   4   5 543   3   2]\n",
      " [  2   0  23   0   2 490  25]\n",
      " [ 10   5   2   2   5  27 508]]\n",
      "\n",
      "Classification Report:\n",
      "               precision    recall  f1-score   support\n",
      "\n",
      "           0       0.94      0.94      0.94       551\n",
      "           1       0.88      0.95      0.92       374\n",
      "           2       0.94      0.91      0.93       564\n",
      "           3       0.95      0.91      0.93       627\n",
      "           4       0.93      0.95      0.94       570\n",
      "           5       0.87      0.90      0.89       542\n",
      "           6       0.94      0.91      0.93       559\n",
      "\n",
      "    accuracy                           0.92      3787\n",
      "   macro avg       0.92      0.93      0.92      3787\n",
      "weighted avg       0.93      0.92      0.92      3787\n",
      "\n",
      "Macro F1 Score: 0.9239059886359724\n",
      "Micro F1 Score: 0.9244784790071296\n",
      "Weighted F1 Score: 0.9246250436986028\n",
      "Macro Precision: 0.9226580322677967\n",
      "Micro Precision: 0.9244784790071296\n",
      "Weighted Precision: 0.9255721145518279\n",
      "Macro Recall: 0.9260579658854627\n",
      "Micro Recall: 0.9244784790071296\n",
      "Weighted Recall: 0.9244784790071296\n"
     ]
    }
   ],
   "source": [
    "# Evaluation\n",
    "model.eval()\n",
    "predictions = []\n",
    "true_labels = []\n",
    "\n",
    "for batch in test_dataloader:\n",
    "    batch = tuple(t.to(device) for t in batch)\n",
    "    input_ids, input_mask, labels = batch\n",
    "\n",
    "    with torch.no_grad():\n",
    "        outputs = model(input_ids=input_ids, attention_mask=input_mask)\n",
    "        logits = outputs.logits\n",
    "\n",
    "    logits = logits.detach().cpu().numpy()\n",
    "    label_ids = labels.to('cpu').numpy()\n",
    "\n",
    "    batch_predictions = np.argmax(logits, axis=1)\n",
    "    predictions.extend(batch_predictions)\n",
    "    true_labels.extend(label_ids)\n",
    "\n",
    "# Calculate and print metrics\n",
    "calculate_metrics('test', predictions, true_labels)"
   ]
  },
  {
   "cell_type": "code",
   "execution_count": null,
   "metadata": {
    "colab": {
     "base_uri": "https://localhost:8080/"
    },
    "id": "XGeuh6E0UgD-",
    "outputId": "e47c7d00-99f0-4f87-d29f-c85e854b8de2"
   },
   "outputs": [
    {
     "name": "stdout",
     "output_type": "stream",
     "text": [
      "\n",
      "Test Metrics:\n",
      "Confusion Matrix:\n",
      " [[520  10   1   9   7   2   2]\n",
      " [  5 357   0  10   2   0   0]\n",
      " [  5   1 513   2   3  39   1]\n",
      " [  4  26   1 570  22   3   1]\n",
      " [  6   7   4   5 543   3   2]\n",
      " [  2   0  23   0   2 490  25]\n",
      " [ 10   5   2   2   5  27 508]]\n",
      "Classification Report:\n",
      "               precision    recall  f1-score   support\n",
      "\n",
      "           0       0.94      0.94      0.94       551\n",
      "           1       0.88      0.95      0.92       374\n",
      "           2       0.94      0.91      0.93       564\n",
      "           3       0.95      0.91      0.93       627\n",
      "           4       0.93      0.95      0.94       570\n",
      "           5       0.87      0.90      0.89       542\n",
      "           6       0.94      0.91      0.93       559\n",
      "\n",
      "    accuracy                           0.92      3787\n",
      "   macro avg       0.92      0.93      0.92      3787\n",
      "weighted avg       0.93      0.92      0.92      3787\n",
      "\n",
      "Macro F1: 0.9239059886359724\n",
      "Micro F1: 0.9244784790071296\n",
      "Weighted F1: 0.9246250436986028\n"
     ]
    }
   ],
   "source": [
    "# Calculate and display test metrics\n",
    "print(\"\\nTest Metrics:\")\n",
    "print(\"Confusion Matrix:\\n\", confusion_matrix(true_labels, predictions))\n",
    "print(\"Classification Report:\\n\", classification_report(true_labels, predictions))\n",
    "print(\"Macro F1:\", f1_score(true_labels, predictions, average='macro'))\n",
    "print(\"Micro F1:\", f1_score(true_labels, predictions, average='micro'))\n",
    "print(\"Weighted F1:\", f1_score(true_labels, predictions, average='weighted'))"
   ]
  },
  {
   "cell_type": "code",
   "execution_count": null,
   "metadata": {
    "id": "q2YXRSBbhOZR"
   },
   "outputs": [],
   "source": [
    "for name, param in model.named_parameters():\n",
    "    if not param.is_contiguous():\n",
    "        param.data = param.data.contiguous()\n",
    "model.save_pretrained('/content/drive/MyDrive/WoS/SciBERT_WoS_18933_records')"
   ]
  },
  {
   "cell_type": "code",
   "execution_count": null,
   "metadata": {
    "id": "yVRdYSJFbBUs"
   },
   "outputs": [],
   "source": [
    "from google.colab import runtime\n",
    "print('End of the runtime!')\n",
    "runtime.unassign()"
   ]
  }
 ],
 "metadata": {
  "accelerator": "GPU",
  "colab": {
   "gpuType": "T4",
   "provenance": []
  },
  "kernelspec": {
   "display_name": "Python 3",
   "name": "python3"
  },
  "language_info": {
   "name": "python"
  },
  "widgets": {
   "application/vnd.jupyter.widget-state+json": {
    "09a50a616b5e4549898dc15379f93853": {
     "model_module": "@jupyter-widgets/controls",
     "model_module_version": "1.5.0",
     "model_name": "HTMLModel",
     "state": {
      "_dom_classes": [],
      "_model_module": "@jupyter-widgets/controls",
      "_model_module_version": "1.5.0",
      "_model_name": "HTMLModel",
      "_view_count": null,
      "_view_module": "@jupyter-widgets/controls",
      "_view_module_version": "1.5.0",
      "_view_name": "HTMLView",
      "description": "",
      "description_tooltip": null,
      "layout": "IPY_MODEL_da72f43d809545c48d3de8a3583cfeb0",
      "placeholder": "​",
      "style": "IPY_MODEL_55a7a55061fc47d7b542ceada721c0d1",
      "value": " 228k/228k [00:00&lt;00:00, 1.40MB/s]"
     }
    },
    "246881284371459cac395d74917d983e": {
     "model_module": "@jupyter-widgets/base",
     "model_module_version": "1.2.0",
     "model_name": "LayoutModel",
     "state": {
      "_model_module": "@jupyter-widgets/base",
      "_model_module_version": "1.2.0",
      "_model_name": "LayoutModel",
      "_view_count": null,
      "_view_module": "@jupyter-widgets/base",
      "_view_module_version": "1.2.0",
      "_view_name": "LayoutView",
      "align_content": null,
      "align_items": null,
      "align_self": null,
      "border": null,
      "bottom": null,
      "display": null,
      "flex": null,
      "flex_flow": null,
      "grid_area": null,
      "grid_auto_columns": null,
      "grid_auto_flow": null,
      "grid_auto_rows": null,
      "grid_column": null,
      "grid_gap": null,
      "grid_row": null,
      "grid_template_areas": null,
      "grid_template_columns": null,
      "grid_template_rows": null,
      "height": null,
      "justify_content": null,
      "justify_items": null,
      "left": null,
      "margin": null,
      "max_height": null,
      "max_width": null,
      "min_height": null,
      "min_width": null,
      "object_fit": null,
      "object_position": null,
      "order": null,
      "overflow": null,
      "overflow_x": null,
      "overflow_y": null,
      "padding": null,
      "right": null,
      "top": null,
      "visibility": null,
      "width": null
     }
    },
    "2a79b50badac48ef89d3e9586dc4c3fe": {
     "model_module": "@jupyter-widgets/controls",
     "model_module_version": "1.5.0",
     "model_name": "HTMLModel",
     "state": {
      "_dom_classes": [],
      "_model_module": "@jupyter-widgets/controls",
      "_model_module_version": "1.5.0",
      "_model_name": "HTMLModel",
      "_view_count": null,
      "_view_module": "@jupyter-widgets/controls",
      "_view_module_version": "1.5.0",
      "_view_name": "HTMLView",
      "description": "",
      "description_tooltip": null,
      "layout": "IPY_MODEL_36849dc9c6914e2fb04b9efd66ee11ca",
      "placeholder": "​",
      "style": "IPY_MODEL_4446524ba1c34e77a6db583d6c552ca6",
      "value": "vocab.txt: 100%"
     }
    },
    "2e76bebc7bec4dd6a4ce3a5552165e5d": {
     "model_module": "@jupyter-widgets/base",
     "model_module_version": "1.2.0",
     "model_name": "LayoutModel",
     "state": {
      "_model_module": "@jupyter-widgets/base",
      "_model_module_version": "1.2.0",
      "_model_name": "LayoutModel",
      "_view_count": null,
      "_view_module": "@jupyter-widgets/base",
      "_view_module_version": "1.2.0",
      "_view_name": "LayoutView",
      "align_content": null,
      "align_items": null,
      "align_self": null,
      "border": null,
      "bottom": null,
      "display": null,
      "flex": null,
      "flex_flow": null,
      "grid_area": null,
      "grid_auto_columns": null,
      "grid_auto_flow": null,
      "grid_auto_rows": null,
      "grid_column": null,
      "grid_gap": null,
      "grid_row": null,
      "grid_template_areas": null,
      "grid_template_columns": null,
      "grid_template_rows": null,
      "height": null,
      "justify_content": null,
      "justify_items": null,
      "left": null,
      "margin": null,
      "max_height": null,
      "max_width": null,
      "min_height": null,
      "min_width": null,
      "object_fit": null,
      "object_position": null,
      "order": null,
      "overflow": null,
      "overflow_x": null,
      "overflow_y": null,
      "padding": null,
      "right": null,
      "top": null,
      "visibility": null,
      "width": null
     }
    },
    "316279b8e4324c2b84f20901d056e527": {
     "model_module": "@jupyter-widgets/base",
     "model_module_version": "1.2.0",
     "model_name": "LayoutModel",
     "state": {
      "_model_module": "@jupyter-widgets/base",
      "_model_module_version": "1.2.0",
      "_model_name": "LayoutModel",
      "_view_count": null,
      "_view_module": "@jupyter-widgets/base",
      "_view_module_version": "1.2.0",
      "_view_name": "LayoutView",
      "align_content": null,
      "align_items": null,
      "align_self": null,
      "border": null,
      "bottom": null,
      "display": null,
      "flex": null,
      "flex_flow": null,
      "grid_area": null,
      "grid_auto_columns": null,
      "grid_auto_flow": null,
      "grid_auto_rows": null,
      "grid_column": null,
      "grid_gap": null,
      "grid_row": null,
      "grid_template_areas": null,
      "grid_template_columns": null,
      "grid_template_rows": null,
      "height": null,
      "justify_content": null,
      "justify_items": null,
      "left": null,
      "margin": null,
      "max_height": null,
      "max_width": null,
      "min_height": null,
      "min_width": null,
      "object_fit": null,
      "object_position": null,
      "order": null,
      "overflow": null,
      "overflow_x": null,
      "overflow_y": null,
      "padding": null,
      "right": null,
      "top": null,
      "visibility": null,
      "width": null
     }
    },
    "36849dc9c6914e2fb04b9efd66ee11ca": {
     "model_module": "@jupyter-widgets/base",
     "model_module_version": "1.2.0",
     "model_name": "LayoutModel",
     "state": {
      "_model_module": "@jupyter-widgets/base",
      "_model_module_version": "1.2.0",
      "_model_name": "LayoutModel",
      "_view_count": null,
      "_view_module": "@jupyter-widgets/base",
      "_view_module_version": "1.2.0",
      "_view_name": "LayoutView",
      "align_content": null,
      "align_items": null,
      "align_self": null,
      "border": null,
      "bottom": null,
      "display": null,
      "flex": null,
      "flex_flow": null,
      "grid_area": null,
      "grid_auto_columns": null,
      "grid_auto_flow": null,
      "grid_auto_rows": null,
      "grid_column": null,
      "grid_gap": null,
      "grid_row": null,
      "grid_template_areas": null,
      "grid_template_columns": null,
      "grid_template_rows": null,
      "height": null,
      "justify_content": null,
      "justify_items": null,
      "left": null,
      "margin": null,
      "max_height": null,
      "max_width": null,
      "min_height": null,
      "min_width": null,
      "object_fit": null,
      "object_position": null,
      "order": null,
      "overflow": null,
      "overflow_x": null,
      "overflow_y": null,
      "padding": null,
      "right": null,
      "top": null,
      "visibility": null,
      "width": null
     }
    },
    "3b59f060d1cd4b1ea00892a802bde9c5": {
     "model_module": "@jupyter-widgets/controls",
     "model_module_version": "1.5.0",
     "model_name": "ProgressStyleModel",
     "state": {
      "_model_module": "@jupyter-widgets/controls",
      "_model_module_version": "1.5.0",
      "_model_name": "ProgressStyleModel",
      "_view_count": null,
      "_view_module": "@jupyter-widgets/base",
      "_view_module_version": "1.2.0",
      "_view_name": "StyleView",
      "bar_color": null,
      "description_width": ""
     }
    },
    "3cdd84856cec4c7a9e88dd1e6c25307e": {
     "model_module": "@jupyter-widgets/controls",
     "model_module_version": "1.5.0",
     "model_name": "DescriptionStyleModel",
     "state": {
      "_model_module": "@jupyter-widgets/controls",
      "_model_module_version": "1.5.0",
      "_model_name": "DescriptionStyleModel",
      "_view_count": null,
      "_view_module": "@jupyter-widgets/base",
      "_view_module_version": "1.2.0",
      "_view_name": "StyleView",
      "description_width": ""
     }
    },
    "4446524ba1c34e77a6db583d6c552ca6": {
     "model_module": "@jupyter-widgets/controls",
     "model_module_version": "1.5.0",
     "model_name": "DescriptionStyleModel",
     "state": {
      "_model_module": "@jupyter-widgets/controls",
      "_model_module_version": "1.5.0",
      "_model_name": "DescriptionStyleModel",
      "_view_count": null,
      "_view_module": "@jupyter-widgets/base",
      "_view_module_version": "1.2.0",
      "_view_name": "StyleView",
      "description_width": ""
     }
    },
    "4c71f46bb5b9446282cccac7cfe10a3a": {
     "model_module": "@jupyter-widgets/base",
     "model_module_version": "1.2.0",
     "model_name": "LayoutModel",
     "state": {
      "_model_module": "@jupyter-widgets/base",
      "_model_module_version": "1.2.0",
      "_model_name": "LayoutModel",
      "_view_count": null,
      "_view_module": "@jupyter-widgets/base",
      "_view_module_version": "1.2.0",
      "_view_name": "LayoutView",
      "align_content": null,
      "align_items": null,
      "align_self": null,
      "border": null,
      "bottom": null,
      "display": null,
      "flex": null,
      "flex_flow": null,
      "grid_area": null,
      "grid_auto_columns": null,
      "grid_auto_flow": null,
      "grid_auto_rows": null,
      "grid_column": null,
      "grid_gap": null,
      "grid_row": null,
      "grid_template_areas": null,
      "grid_template_columns": null,
      "grid_template_rows": null,
      "height": null,
      "justify_content": null,
      "justify_items": null,
      "left": null,
      "margin": null,
      "max_height": null,
      "max_width": null,
      "min_height": null,
      "min_width": null,
      "object_fit": null,
      "object_position": null,
      "order": null,
      "overflow": null,
      "overflow_x": null,
      "overflow_y": null,
      "padding": null,
      "right": null,
      "top": null,
      "visibility": null,
      "width": null
     }
    },
    "55a7a55061fc47d7b542ceada721c0d1": {
     "model_module": "@jupyter-widgets/controls",
     "model_module_version": "1.5.0",
     "model_name": "DescriptionStyleModel",
     "state": {
      "_model_module": "@jupyter-widgets/controls",
      "_model_module_version": "1.5.0",
      "_model_name": "DescriptionStyleModel",
      "_view_count": null,
      "_view_module": "@jupyter-widgets/base",
      "_view_module_version": "1.2.0",
      "_view_name": "StyleView",
      "description_width": ""
     }
    },
    "595c1d90f3364a289795d4ad09df3e13": {
     "model_module": "@jupyter-widgets/base",
     "model_module_version": "1.2.0",
     "model_name": "LayoutModel",
     "state": {
      "_model_module": "@jupyter-widgets/base",
      "_model_module_version": "1.2.0",
      "_model_name": "LayoutModel",
      "_view_count": null,
      "_view_module": "@jupyter-widgets/base",
      "_view_module_version": "1.2.0",
      "_view_name": "LayoutView",
      "align_content": null,
      "align_items": null,
      "align_self": null,
      "border": null,
      "bottom": null,
      "display": null,
      "flex": null,
      "flex_flow": null,
      "grid_area": null,
      "grid_auto_columns": null,
      "grid_auto_flow": null,
      "grid_auto_rows": null,
      "grid_column": null,
      "grid_gap": null,
      "grid_row": null,
      "grid_template_areas": null,
      "grid_template_columns": null,
      "grid_template_rows": null,
      "height": null,
      "justify_content": null,
      "justify_items": null,
      "left": null,
      "margin": null,
      "max_height": null,
      "max_width": null,
      "min_height": null,
      "min_width": null,
      "object_fit": null,
      "object_position": null,
      "order": null,
      "overflow": null,
      "overflow_x": null,
      "overflow_y": null,
      "padding": null,
      "right": null,
      "top": null,
      "visibility": null,
      "width": null
     }
    },
    "5b8d4ab745bd47009224ff7d53d372f4": {
     "model_module": "@jupyter-widgets/controls",
     "model_module_version": "1.5.0",
     "model_name": "ProgressStyleModel",
     "state": {
      "_model_module": "@jupyter-widgets/controls",
      "_model_module_version": "1.5.0",
      "_model_name": "ProgressStyleModel",
      "_view_count": null,
      "_view_module": "@jupyter-widgets/base",
      "_view_module_version": "1.2.0",
      "_view_name": "StyleView",
      "bar_color": null,
      "description_width": ""
     }
    },
    "702521a41e1148f0965e4e9a604add07": {
     "model_module": "@jupyter-widgets/controls",
     "model_module_version": "1.5.0",
     "model_name": "HTMLModel",
     "state": {
      "_dom_classes": [],
      "_model_module": "@jupyter-widgets/controls",
      "_model_module_version": "1.5.0",
      "_model_name": "HTMLModel",
      "_view_count": null,
      "_view_module": "@jupyter-widgets/controls",
      "_view_module_version": "1.5.0",
      "_view_name": "HTMLView",
      "description": "",
      "description_tooltip": null,
      "layout": "IPY_MODEL_afd7ee8654ba48ff93118b9824224199",
      "placeholder": "​",
      "style": "IPY_MODEL_e87d91220785433eb8215b9a14af3522",
      "value": "config.json: 100%"
     }
    },
    "73a2547d261844c285e3151ac10b9790": {
     "model_module": "@jupyter-widgets/base",
     "model_module_version": "1.2.0",
     "model_name": "LayoutModel",
     "state": {
      "_model_module": "@jupyter-widgets/base",
      "_model_module_version": "1.2.0",
      "_model_name": "LayoutModel",
      "_view_count": null,
      "_view_module": "@jupyter-widgets/base",
      "_view_module_version": "1.2.0",
      "_view_name": "LayoutView",
      "align_content": null,
      "align_items": null,
      "align_self": null,
      "border": null,
      "bottom": null,
      "display": null,
      "flex": null,
      "flex_flow": null,
      "grid_area": null,
      "grid_auto_columns": null,
      "grid_auto_flow": null,
      "grid_auto_rows": null,
      "grid_column": null,
      "grid_gap": null,
      "grid_row": null,
      "grid_template_areas": null,
      "grid_template_columns": null,
      "grid_template_rows": null,
      "height": null,
      "justify_content": null,
      "justify_items": null,
      "left": null,
      "margin": null,
      "max_height": null,
      "max_width": null,
      "min_height": null,
      "min_width": null,
      "object_fit": null,
      "object_position": null,
      "order": null,
      "overflow": null,
      "overflow_x": null,
      "overflow_y": null,
      "padding": null,
      "right": null,
      "top": null,
      "visibility": null,
      "width": null
     }
    },
    "774e1fb221c34a768ca04b9600ea3d76": {
     "model_module": "@jupyter-widgets/controls",
     "model_module_version": "1.5.0",
     "model_name": "FloatProgressModel",
     "state": {
      "_dom_classes": [],
      "_model_module": "@jupyter-widgets/controls",
      "_model_module_version": "1.5.0",
      "_model_name": "FloatProgressModel",
      "_view_count": null,
      "_view_module": "@jupyter-widgets/controls",
      "_view_module_version": "1.5.0",
      "_view_name": "ProgressView",
      "bar_style": "success",
      "description": "",
      "description_tooltip": null,
      "layout": "IPY_MODEL_246881284371459cac395d74917d983e",
      "max": 227845,
      "min": 0,
      "orientation": "horizontal",
      "style": "IPY_MODEL_5b8d4ab745bd47009224ff7d53d372f4",
      "value": 227845
     }
    },
    "8bc88846af934a1184afbb18647cadc4": {
     "model_module": "@jupyter-widgets/base",
     "model_module_version": "1.2.0",
     "model_name": "LayoutModel",
     "state": {
      "_model_module": "@jupyter-widgets/base",
      "_model_module_version": "1.2.0",
      "_model_name": "LayoutModel",
      "_view_count": null,
      "_view_module": "@jupyter-widgets/base",
      "_view_module_version": "1.2.0",
      "_view_name": "LayoutView",
      "align_content": null,
      "align_items": null,
      "align_self": null,
      "border": null,
      "bottom": null,
      "display": null,
      "flex": null,
      "flex_flow": null,
      "grid_area": null,
      "grid_auto_columns": null,
      "grid_auto_flow": null,
      "grid_auto_rows": null,
      "grid_column": null,
      "grid_gap": null,
      "grid_row": null,
      "grid_template_areas": null,
      "grid_template_columns": null,
      "grid_template_rows": null,
      "height": null,
      "justify_content": null,
      "justify_items": null,
      "left": null,
      "margin": null,
      "max_height": null,
      "max_width": null,
      "min_height": null,
      "min_width": null,
      "object_fit": null,
      "object_position": null,
      "order": null,
      "overflow": null,
      "overflow_x": null,
      "overflow_y": null,
      "padding": null,
      "right": null,
      "top": null,
      "visibility": null,
      "width": null
     }
    },
    "8c1a9a6a7bdc417c9e71d2b03a8825a3": {
     "model_module": "@jupyter-widgets/controls",
     "model_module_version": "1.5.0",
     "model_name": "DescriptionStyleModel",
     "state": {
      "_model_module": "@jupyter-widgets/controls",
      "_model_module_version": "1.5.0",
      "_model_name": "DescriptionStyleModel",
      "_view_count": null,
      "_view_module": "@jupyter-widgets/base",
      "_view_module_version": "1.2.0",
      "_view_name": "StyleView",
      "description_width": ""
     }
    },
    "947226df392c47bd8072d4745be92230": {
     "model_module": "@jupyter-widgets/controls",
     "model_module_version": "1.5.0",
     "model_name": "HTMLModel",
     "state": {
      "_dom_classes": [],
      "_model_module": "@jupyter-widgets/controls",
      "_model_module_version": "1.5.0",
      "_model_name": "HTMLModel",
      "_view_count": null,
      "_view_module": "@jupyter-widgets/controls",
      "_view_module_version": "1.5.0",
      "_view_name": "HTMLView",
      "description": "",
      "description_tooltip": null,
      "layout": "IPY_MODEL_2e76bebc7bec4dd6a4ce3a5552165e5d",
      "placeholder": "​",
      "style": "IPY_MODEL_8c1a9a6a7bdc417c9e71d2b03a8825a3",
      "value": " 385/385 [00:00&lt;00:00, 26.8kB/s]"
     }
    },
    "a5bd40de6b6549099c4f11fbd086a64a": {
     "model_module": "@jupyter-widgets/controls",
     "model_module_version": "1.5.0",
     "model_name": "FloatProgressModel",
     "state": {
      "_dom_classes": [],
      "_model_module": "@jupyter-widgets/controls",
      "_model_module_version": "1.5.0",
      "_model_name": "FloatProgressModel",
      "_view_count": null,
      "_view_module": "@jupyter-widgets/controls",
      "_view_module_version": "1.5.0",
      "_view_name": "ProgressView",
      "bar_style": "success",
      "description": "",
      "description_tooltip": null,
      "layout": "IPY_MODEL_4c71f46bb5b9446282cccac7cfe10a3a",
      "max": 442221694,
      "min": 0,
      "orientation": "horizontal",
      "style": "IPY_MODEL_ffcfbff1cac64f51aa7de178ef70c81b",
      "value": 442221694
     }
    },
    "ae58c3cf96114bd7b105298c32031bd1": {
     "model_module": "@jupyter-widgets/base",
     "model_module_version": "1.2.0",
     "model_name": "LayoutModel",
     "state": {
      "_model_module": "@jupyter-widgets/base",
      "_model_module_version": "1.2.0",
      "_model_name": "LayoutModel",
      "_view_count": null,
      "_view_module": "@jupyter-widgets/base",
      "_view_module_version": "1.2.0",
      "_view_name": "LayoutView",
      "align_content": null,
      "align_items": null,
      "align_self": null,
      "border": null,
      "bottom": null,
      "display": null,
      "flex": null,
      "flex_flow": null,
      "grid_area": null,
      "grid_auto_columns": null,
      "grid_auto_flow": null,
      "grid_auto_rows": null,
      "grid_column": null,
      "grid_gap": null,
      "grid_row": null,
      "grid_template_areas": null,
      "grid_template_columns": null,
      "grid_template_rows": null,
      "height": null,
      "justify_content": null,
      "justify_items": null,
      "left": null,
      "margin": null,
      "max_height": null,
      "max_width": null,
      "min_height": null,
      "min_width": null,
      "object_fit": null,
      "object_position": null,
      "order": null,
      "overflow": null,
      "overflow_x": null,
      "overflow_y": null,
      "padding": null,
      "right": null,
      "top": null,
      "visibility": null,
      "width": null
     }
    },
    "afd7ee8654ba48ff93118b9824224199": {
     "model_module": "@jupyter-widgets/base",
     "model_module_version": "1.2.0",
     "model_name": "LayoutModel",
     "state": {
      "_model_module": "@jupyter-widgets/base",
      "_model_module_version": "1.2.0",
      "_model_name": "LayoutModel",
      "_view_count": null,
      "_view_module": "@jupyter-widgets/base",
      "_view_module_version": "1.2.0",
      "_view_name": "LayoutView",
      "align_content": null,
      "align_items": null,
      "align_self": null,
      "border": null,
      "bottom": null,
      "display": null,
      "flex": null,
      "flex_flow": null,
      "grid_area": null,
      "grid_auto_columns": null,
      "grid_auto_flow": null,
      "grid_auto_rows": null,
      "grid_column": null,
      "grid_gap": null,
      "grid_row": null,
      "grid_template_areas": null,
      "grid_template_columns": null,
      "grid_template_rows": null,
      "height": null,
      "justify_content": null,
      "justify_items": null,
      "left": null,
      "margin": null,
      "max_height": null,
      "max_width": null,
      "min_height": null,
      "min_width": null,
      "object_fit": null,
      "object_position": null,
      "order": null,
      "overflow": null,
      "overflow_x": null,
      "overflow_y": null,
      "padding": null,
      "right": null,
      "top": null,
      "visibility": null,
      "width": null
     }
    },
    "b09e728ea5a54474817b7ab679667c6d": {
     "model_module": "@jupyter-widgets/controls",
     "model_module_version": "1.5.0",
     "model_name": "HBoxModel",
     "state": {
      "_dom_classes": [],
      "_model_module": "@jupyter-widgets/controls",
      "_model_module_version": "1.5.0",
      "_model_name": "HBoxModel",
      "_view_count": null,
      "_view_module": "@jupyter-widgets/controls",
      "_view_module_version": "1.5.0",
      "_view_name": "HBoxView",
      "box_style": "",
      "children": [
       "IPY_MODEL_2a79b50badac48ef89d3e9586dc4c3fe",
       "IPY_MODEL_774e1fb221c34a768ca04b9600ea3d76",
       "IPY_MODEL_09a50a616b5e4549898dc15379f93853"
      ],
      "layout": "IPY_MODEL_73a2547d261844c285e3151ac10b9790"
     }
    },
    "be81dbcf51c444feb4980cd6c3e7e993": {
     "model_module": "@jupyter-widgets/base",
     "model_module_version": "1.2.0",
     "model_name": "LayoutModel",
     "state": {
      "_model_module": "@jupyter-widgets/base",
      "_model_module_version": "1.2.0",
      "_model_name": "LayoutModel",
      "_view_count": null,
      "_view_module": "@jupyter-widgets/base",
      "_view_module_version": "1.2.0",
      "_view_name": "LayoutView",
      "align_content": null,
      "align_items": null,
      "align_self": null,
      "border": null,
      "bottom": null,
      "display": null,
      "flex": null,
      "flex_flow": null,
      "grid_area": null,
      "grid_auto_columns": null,
      "grid_auto_flow": null,
      "grid_auto_rows": null,
      "grid_column": null,
      "grid_gap": null,
      "grid_row": null,
      "grid_template_areas": null,
      "grid_template_columns": null,
      "grid_template_rows": null,
      "height": null,
      "justify_content": null,
      "justify_items": null,
      "left": null,
      "margin": null,
      "max_height": null,
      "max_width": null,
      "min_height": null,
      "min_width": null,
      "object_fit": null,
      "object_position": null,
      "order": null,
      "overflow": null,
      "overflow_x": null,
      "overflow_y": null,
      "padding": null,
      "right": null,
      "top": null,
      "visibility": null,
      "width": null
     }
    },
    "ce2b9af425dd41598ae22b6898adab7d": {
     "model_module": "@jupyter-widgets/controls",
     "model_module_version": "1.5.0",
     "model_name": "HTMLModel",
     "state": {
      "_dom_classes": [],
      "_model_module": "@jupyter-widgets/controls",
      "_model_module_version": "1.5.0",
      "_model_name": "HTMLModel",
      "_view_count": null,
      "_view_module": "@jupyter-widgets/controls",
      "_view_module_version": "1.5.0",
      "_view_name": "HTMLView",
      "description": "",
      "description_tooltip": null,
      "layout": "IPY_MODEL_8bc88846af934a1184afbb18647cadc4",
      "placeholder": "​",
      "style": "IPY_MODEL_e1ae2c65b1604da3924815a98fed6e08",
      "value": "pytorch_model.bin: 100%"
     }
    },
    "d0b03e17871f49c9a51d091d12166cc2": {
     "model_module": "@jupyter-widgets/controls",
     "model_module_version": "1.5.0",
     "model_name": "HTMLModel",
     "state": {
      "_dom_classes": [],
      "_model_module": "@jupyter-widgets/controls",
      "_model_module_version": "1.5.0",
      "_model_name": "HTMLModel",
      "_view_count": null,
      "_view_module": "@jupyter-widgets/controls",
      "_view_module_version": "1.5.0",
      "_view_name": "HTMLView",
      "description": "",
      "description_tooltip": null,
      "layout": "IPY_MODEL_595c1d90f3364a289795d4ad09df3e13",
      "placeholder": "​",
      "style": "IPY_MODEL_3cdd84856cec4c7a9e88dd1e6c25307e",
      "value": " 442M/442M [00:13&lt;00:00, 41.2MB/s]"
     }
    },
    "d4658dd6db7945d9a7eb43dfda4fa617": {
     "model_module": "@jupyter-widgets/controls",
     "model_module_version": "1.5.0",
     "model_name": "FloatProgressModel",
     "state": {
      "_dom_classes": [],
      "_model_module": "@jupyter-widgets/controls",
      "_model_module_version": "1.5.0",
      "_model_name": "FloatProgressModel",
      "_view_count": null,
      "_view_module": "@jupyter-widgets/controls",
      "_view_module_version": "1.5.0",
      "_view_name": "ProgressView",
      "bar_style": "success",
      "description": "",
      "description_tooltip": null,
      "layout": "IPY_MODEL_ae58c3cf96114bd7b105298c32031bd1",
      "max": 385,
      "min": 0,
      "orientation": "horizontal",
      "style": "IPY_MODEL_3b59f060d1cd4b1ea00892a802bde9c5",
      "value": 385
     }
    },
    "da72f43d809545c48d3de8a3583cfeb0": {
     "model_module": "@jupyter-widgets/base",
     "model_module_version": "1.2.0",
     "model_name": "LayoutModel",
     "state": {
      "_model_module": "@jupyter-widgets/base",
      "_model_module_version": "1.2.0",
      "_model_name": "LayoutModel",
      "_view_count": null,
      "_view_module": "@jupyter-widgets/base",
      "_view_module_version": "1.2.0",
      "_view_name": "LayoutView",
      "align_content": null,
      "align_items": null,
      "align_self": null,
      "border": null,
      "bottom": null,
      "display": null,
      "flex": null,
      "flex_flow": null,
      "grid_area": null,
      "grid_auto_columns": null,
      "grid_auto_flow": null,
      "grid_auto_rows": null,
      "grid_column": null,
      "grid_gap": null,
      "grid_row": null,
      "grid_template_areas": null,
      "grid_template_columns": null,
      "grid_template_rows": null,
      "height": null,
      "justify_content": null,
      "justify_items": null,
      "left": null,
      "margin": null,
      "max_height": null,
      "max_width": null,
      "min_height": null,
      "min_width": null,
      "object_fit": null,
      "object_position": null,
      "order": null,
      "overflow": null,
      "overflow_x": null,
      "overflow_y": null,
      "padding": null,
      "right": null,
      "top": null,
      "visibility": null,
      "width": null
     }
    },
    "dbe608152d284925be06133f9f6ed32a": {
     "model_module": "@jupyter-widgets/controls",
     "model_module_version": "1.5.0",
     "model_name": "HBoxModel",
     "state": {
      "_dom_classes": [],
      "_model_module": "@jupyter-widgets/controls",
      "_model_module_version": "1.5.0",
      "_model_name": "HBoxModel",
      "_view_count": null,
      "_view_module": "@jupyter-widgets/controls",
      "_view_module_version": "1.5.0",
      "_view_name": "HBoxView",
      "box_style": "",
      "children": [
       "IPY_MODEL_ce2b9af425dd41598ae22b6898adab7d",
       "IPY_MODEL_a5bd40de6b6549099c4f11fbd086a64a",
       "IPY_MODEL_d0b03e17871f49c9a51d091d12166cc2"
      ],
      "layout": "IPY_MODEL_be81dbcf51c444feb4980cd6c3e7e993"
     }
    },
    "dc057fcc627d4833ab997bd90c2542d8": {
     "model_module": "@jupyter-widgets/controls",
     "model_module_version": "1.5.0",
     "model_name": "HBoxModel",
     "state": {
      "_dom_classes": [],
      "_model_module": "@jupyter-widgets/controls",
      "_model_module_version": "1.5.0",
      "_model_name": "HBoxModel",
      "_view_count": null,
      "_view_module": "@jupyter-widgets/controls",
      "_view_module_version": "1.5.0",
      "_view_name": "HBoxView",
      "box_style": "",
      "children": [
       "IPY_MODEL_702521a41e1148f0965e4e9a604add07",
       "IPY_MODEL_d4658dd6db7945d9a7eb43dfda4fa617",
       "IPY_MODEL_947226df392c47bd8072d4745be92230"
      ],
      "layout": "IPY_MODEL_316279b8e4324c2b84f20901d056e527"
     }
    },
    "e1ae2c65b1604da3924815a98fed6e08": {
     "model_module": "@jupyter-widgets/controls",
     "model_module_version": "1.5.0",
     "model_name": "DescriptionStyleModel",
     "state": {
      "_model_module": "@jupyter-widgets/controls",
      "_model_module_version": "1.5.0",
      "_model_name": "DescriptionStyleModel",
      "_view_count": null,
      "_view_module": "@jupyter-widgets/base",
      "_view_module_version": "1.2.0",
      "_view_name": "StyleView",
      "description_width": ""
     }
    },
    "e87d91220785433eb8215b9a14af3522": {
     "model_module": "@jupyter-widgets/controls",
     "model_module_version": "1.5.0",
     "model_name": "DescriptionStyleModel",
     "state": {
      "_model_module": "@jupyter-widgets/controls",
      "_model_module_version": "1.5.0",
      "_model_name": "DescriptionStyleModel",
      "_view_count": null,
      "_view_module": "@jupyter-widgets/base",
      "_view_module_version": "1.2.0",
      "_view_name": "StyleView",
      "description_width": ""
     }
    },
    "ffcfbff1cac64f51aa7de178ef70c81b": {
     "model_module": "@jupyter-widgets/controls",
     "model_module_version": "1.5.0",
     "model_name": "ProgressStyleModel",
     "state": {
      "_model_module": "@jupyter-widgets/controls",
      "_model_module_version": "1.5.0",
      "_model_name": "ProgressStyleModel",
      "_view_count": null,
      "_view_module": "@jupyter-widgets/base",
      "_view_module_version": "1.2.0",
      "_view_name": "StyleView",
      "bar_color": null,
      "description_width": ""
     }
    }
   }
  }
 },
 "nbformat": 4,
 "nbformat_minor": 0
}
