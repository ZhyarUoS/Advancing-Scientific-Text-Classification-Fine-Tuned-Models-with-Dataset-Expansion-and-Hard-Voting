{
 "cells": [
  {
   "cell_type": "code",
   "execution_count": null,
   "metadata": {
    "colab": {
     "base_uri": "https://localhost:8080/"
    },
    "id": "B4QvTrTDs5x7",
    "outputId": "98c14310-aa56-4664-ad00-79323a81ab57"
   },
   "outputs": [
    {
     "name": "stdout",
     "output_type": "stream",
     "text": [
      "Sun Nov 10 14:30:31 2024       \n",
      "+---------------------------------------------------------------------------------------+\n",
      "| NVIDIA-SMI 535.104.05             Driver Version: 535.104.05   CUDA Version: 12.2     |\n",
      "|-----------------------------------------+----------------------+----------------------+\n",
      "| GPU  Name                 Persistence-M | Bus-Id        Disp.A | Volatile Uncorr. ECC |\n",
      "| Fan  Temp   Perf          Pwr:Usage/Cap |         Memory-Usage | GPU-Util  Compute M. |\n",
      "|                                         |                      |               MIG M. |\n",
      "|=========================================+======================+======================|\n",
      "|   0  Tesla T4                       Off | 00000000:00:04.0 Off |                    0 |\n",
      "| N/A   67C    P8              11W /  70W |      0MiB / 15360MiB |      0%      Default |\n",
      "|                                         |                      |                  N/A |\n",
      "+-----------------------------------------+----------------------+----------------------+\n",
      "                                                                                         \n",
      "+---------------------------------------------------------------------------------------+\n",
      "| Processes:                                                                            |\n",
      "|  GPU   GI   CI        PID   Type   Process name                            GPU Memory |\n",
      "|        ID   ID                                                             Usage      |\n",
      "|=======================================================================================|\n",
      "|  No running processes found                                                           |\n",
      "+---------------------------------------------------------------------------------------+\n"
     ]
    }
   ],
   "source": [
    "gpu_info = !nvidia-smi\n",
    "gpu_info = '\\n'.join(gpu_info)\n",
    "if gpu_info.find('failed') >= 0:\n",
    "  print('Not connected to a GPU')\n",
    "else:\n",
    "  print(gpu_info)"
   ]
  },
  {
   "cell_type": "code",
   "execution_count": null,
   "metadata": {
    "colab": {
     "base_uri": "https://localhost:8080/"
    },
    "id": "NS75qQZEtQ8K",
    "outputId": "13833a6f-82ae-4467-d276-c2bc1826cc6e"
   },
   "outputs": [
    {
     "name": "stdout",
     "output_type": "stream",
     "text": [
      "Your runtime has 13.6 gigabytes of available RAM\n",
      "\n",
      "Not using a high-RAM runtime\n"
     ]
    }
   ],
   "source": [
    "from psutil import virtual_memory\n",
    "ram_gb = virtual_memory().total / 1e9\n",
    "print('Your runtime has {:.1f} gigabytes of available RAM\\n'.format(ram_gb))\n",
    "\n",
    "if ram_gb < 20:\n",
    "  print('Not using a high-RAM runtime')\n",
    "else:\n",
    "  print('You are using a high-RAM runtime!')"
   ]
  },
  {
   "cell_type": "code",
   "execution_count": null,
   "metadata": {
    "colab": {
     "base_uri": "https://localhost:8080/"
    },
    "id": "0AlVWD1utTsP",
    "outputId": "1d0c28ec-5195-4e93-d4bd-e81d05384a9f"
   },
   "outputs": [
    {
     "name": "stdout",
     "output_type": "stream",
     "text": [
      "Mounted at /content/drive\n"
     ]
    }
   ],
   "source": [
    "from google.colab import drive\n",
    "drive.mount('/content/drive')"
   ]
  },
  {
   "cell_type": "code",
   "execution_count": null,
   "metadata": {
    "colab": {
     "base_uri": "https://localhost:8080/"
    },
    "id": "nzmetJDhtVtT",
    "outputId": "da0b5fad-55e9-4a12-ed7b-63fc5f6e5ed2"
   },
   "outputs": [
    {
     "name": "stdout",
     "output_type": "stream",
     "text": [
      "Requirement already satisfied: transformers in /usr/local/lib/python3.10/dist-packages (4.44.2)\n",
      "Requirement already satisfied: filelock in /usr/local/lib/python3.10/dist-packages (from transformers) (3.16.1)\n",
      "Requirement already satisfied: huggingface-hub<1.0,>=0.23.2 in /usr/local/lib/python3.10/dist-packages (from transformers) (0.24.7)\n",
      "Requirement already satisfied: numpy>=1.17 in /usr/local/lib/python3.10/dist-packages (from transformers) (1.26.4)\n",
      "Requirement already satisfied: packaging>=20.0 in /usr/local/lib/python3.10/dist-packages (from transformers) (24.1)\n",
      "Requirement already satisfied: pyyaml>=5.1 in /usr/local/lib/python3.10/dist-packages (from transformers) (6.0.2)\n",
      "Requirement already satisfied: regex!=2019.12.17 in /usr/local/lib/python3.10/dist-packages (from transformers) (2024.9.11)\n",
      "Requirement already satisfied: requests in /usr/local/lib/python3.10/dist-packages (from transformers) (2.32.3)\n",
      "Requirement already satisfied: safetensors>=0.4.1 in /usr/local/lib/python3.10/dist-packages (from transformers) (0.4.5)\n",
      "Requirement already satisfied: tokenizers<0.20,>=0.19 in /usr/local/lib/python3.10/dist-packages (from transformers) (0.19.1)\n",
      "Requirement already satisfied: tqdm>=4.27 in /usr/local/lib/python3.10/dist-packages (from transformers) (4.66.6)\n",
      "Requirement already satisfied: fsspec>=2023.5.0 in /usr/local/lib/python3.10/dist-packages (from huggingface-hub<1.0,>=0.23.2->transformers) (2024.10.0)\n",
      "Requirement already satisfied: typing-extensions>=3.7.4.3 in /usr/local/lib/python3.10/dist-packages (from huggingface-hub<1.0,>=0.23.2->transformers) (4.12.2)\n",
      "Requirement already satisfied: charset-normalizer<4,>=2 in /usr/local/lib/python3.10/dist-packages (from requests->transformers) (3.4.0)\n",
      "Requirement already satisfied: idna<4,>=2.5 in /usr/local/lib/python3.10/dist-packages (from requests->transformers) (3.10)\n",
      "Requirement already satisfied: urllib3<3,>=1.21.1 in /usr/local/lib/python3.10/dist-packages (from requests->transformers) (2.2.3)\n",
      "Requirement already satisfied: certifi>=2017.4.17 in /usr/local/lib/python3.10/dist-packages (from requests->transformers) (2024.8.30)\n"
     ]
    }
   ],
   "source": [
    "!pip install transformers"
   ]
  },
  {
   "cell_type": "code",
   "execution_count": null,
   "metadata": {
    "id": "o1b6s5YpuqI_"
   },
   "outputs": [],
   "source": [
    "import os\n",
    "import re\n",
    "import numpy as np\n",
    "import pandas as pd\n",
    "from sklearn.model_selection import train_test_split\n",
    "from sklearn.metrics import confusion_matrix, classification_report, f1_score, precision_score, recall_score\n",
    "from transformers import AutoTokenizer, AutoModelForSequenceClassification, AdamW, get_linear_schedule_with_warmup\n",
    "import torch\n",
    "from torch.utils.data import DataLoader, TensorDataset, RandomSampler, SequentialSampler\n",
    "import torch.nn.functional as F\n",
    "from tqdm import trange, tqdm\n",
    "import matplotlib.pyplot as plt\n",
    "import sklearn.utils\n",
    "import time\n",
    "from torch.utils.data import TensorDataset"
   ]
  },
  {
   "cell_type": "code",
   "execution_count": null,
   "metadata": {
    "id": "EnKxLmqAuzN3"
   },
   "outputs": [],
   "source": [
    "def clean_text(text):\n",
    "    if isinstance(text, (str, np.ndarray)): \n",
    "        if isinstance(text, str):\n",
    "            text = text.lower()\n",
    "            text = re.sub(r'[^a-zA-Z0-9\\s]', '', text)\n",
    "            return text\n",
    "        elif isinstance(text, np.ndarray):\n",
    "            return np.array([clean_text(t) for t in text])\n",
    "    elif pd.isnull(text): \n",
    "        return \"\"\n",
    "    else:\n",
    "        try:\n",
    "            text = str(text)\n",
    "            text = text.lower()\n",
    "            text = re.sub(r'[^a-zA-Z0-9\\s]', '', text)\n",
    "            return text\n",
    "        except Exception as e:\n",
    "            print(f\"Error cleaning text: {e}, Text Type: {type(text)}, Text Value: {text}\")\n",
    "            return \"\" "
   ]
  },
  {
   "cell_type": "code",
   "execution_count": null,
   "metadata": {
    "id": "1m8ZSsBZu1yh"
   },
   "outputs": [],
   "source": [
    "labeled_data = pd.read_csv(\"/content/drive/MyDrive/WoS/data/WoSDataset_53949.csv\")\n",
    "\n",
    "for col in ['Keywords', 'Abstract']:\n",
    "    labeled_data[col] = labeled_data[col].apply(clean_text)\n",
    "\n",
    "labeled_data['combined_text'] = labeled_data['Keywords'] + \" [SEP] \" + labeled_data['Abstract']"
   ]
  },
  {
   "cell_type": "code",
   "execution_count": null,
   "metadata": {
    "id": "kcD4ZhflKLyC"
   },
   "outputs": [],
   "source": [
    "abstractslbl = labeled_data['Abstract']\n",
    "keywordsslbl = labeled_data['Keywords']\n",
    "domainlbl = labeled_data['Domain']\n",
    "lbls = labeled_data['Label']"
   ]
  },
  {
   "cell_type": "code",
   "execution_count": null,
   "metadata": {
    "colab": {
     "base_uri": "https://localhost:8080/"
    },
    "id": "OhCyifkpJ49N",
    "outputId": "9f1d83c8-8c45-4d55-9ad0-91d7aabd5f44"
   },
   "outputs": [
    {
     "name": "stdout",
     "output_type": "stream",
     "text": [
      "(53949, 5)\n",
      "Index(['Label', 'Domain', 'Keywords', 'Abstract', 'combined_text'], dtype='object')\n"
     ]
    }
   ],
   "source": [
    "print(np.shape(labeled_data))\n",
    "print(labeled_data.columns)"
   ]
  },
  {
   "cell_type": "code",
   "execution_count": null,
   "metadata": {
    "colab": {
     "base_uri": "https://localhost:8080/"
    },
    "id": "2FCJG01mKbKQ",
    "outputId": "c4cf9cb3-385f-43f9-837e-0c3da0268fac"
   },
   "outputs": [
    {
     "name": "stdout",
     "output_type": "stream",
     "text": [
      "Labels  ['CS' 'Civil' 'ECE' 'MAE' 'Medical' 'Psychology' 'biochemistry']\n",
      "Label counts  [ 7773  5000  6303  4472 15641  8089  6671]\n"
     ]
    }
   ],
   "source": [
    "labels = np.unique(domainlbl, return_counts=True)[0]\n",
    "labelCounts=  np.unique(domainlbl, return_counts=True)[1]\n",
    "\n",
    "print(\"Labels \", labels)\n",
    "print(\"Label counts \", labelCounts)"
   ]
  },
  {
   "cell_type": "code",
   "execution_count": null,
   "metadata": {
    "colab": {
     "base_uri": "https://localhost:8080/",
     "height": 645
    },
    "id": "EiF7Vq6BKuWY",
    "outputId": "db11619a-8c6f-40d8-a4ab-273799d9cedf"
   },
   "outputs": [
    {
     "data": {
      "image/png": "[encoded data removed]",
      "text/plain": [
       "<Figure size 1000x600 with 1 Axes>"
      ]
     },
     "metadata": {},
     "output_type": "display_data"
    },
    {
     "name": "stdout",
     "output_type": "stream",
     "text": [
      "The label CS has 7773 records in the dataset.\n",
      "The label Civil has 5000 records in the dataset.\n",
      "The label ECE has 6303 records in the dataset.\n",
      "The label MAE has 4472 records in the dataset.\n",
      "The label Medical has 15641 records in the dataset.\n",
      "The label Psychology has 8089 records in the dataset.\n",
      "The label biochemistry has 6671 records in the dataset.\n"
     ]
    }
   ],
   "source": [
    "plt.figure(figsize=(10, 6))\n",
    "plt.title(\"Class Counts (Dataset)\")\n",
    "plt.pie(labelCounts, labels=labels, autopct='%1.1f%%', startangle=140, colors=plt.cm.Paired(range(len(labels))))\n",
    "plt.axis('equal')\n",
    "plt.show()\n",
    "\n",
    "for i, label in enumerate(labels):\n",
    "    print(\"The label\", label, \"has\", labelCounts[i], \"records in the dataset.\")"
   ]
  },
  {
   "cell_type": "code",
   "execution_count": null,
   "metadata": {
    "id": "700DOQ7qhoQy"
   },
   "outputs": [],
   "source": [
    "labeled_data_shuffled = sklearn.utils.shuffle(labeled_data)\n",
    "abstracts_shuffled = labeled_data_shuffled['Abstract'].values\n",
    "keywords_shuffled = labeled_data_shuffled['Keywords'].values\n",
    "domains_shuffled = labeled_data_shuffled['Domain'].values\n",
    "allLabels_shuffled = labeled_data_shuffled['Label'].values\n",
    "allLabels_digit_shuffled = allLabels_shuffled.astype(int)"
   ]
  },
  {
   "cell_type": "code",
   "execution_count": null,
   "metadata": {
    "colab": {
     "base_uri": "https://localhost:8080/"
    },
    "id": "3GC2HbB_63Pu",
    "outputId": "552cde67-839e-44f2-b463-967495cac6ec"
   },
   "outputs": [
    {
     "name": "stdout",
     "output_type": "stream",
     "text": [
      "(53949, 5)\n",
      "(53949,)\n",
      "(53949,)\n",
      "(53949,)\n",
      " 21dimensional nonlinear optical waves erbiumdoped optical fibre symbolic computation soliton solution soliton interaction         [SEP] 2  1dimensional nonlinear optical waves through the coherently excited resonant medium doped with the erbium atoms can be described by a 2  1dimensional nonlinear schrodinger equation coupled with the selfinduced transparency equations for such a system via the hirota method and symbolic computation linear forms one twoand nsoliton solutions are obtained asymptotic analysis is conducted and suggests that the interaction between the two solitons is elastic bright solitons are obtained for the fields e and p while the dark ones for the field n with e as the electric field p as the polarization in the resonant medium induced by the electric field and n as the population inversion profile of the dopant atoms headon interaction between the bidirectional two solitons and overtaking interaction between the unidirectional two solitons are seen influence of the averaged natural frequency on the solitons are studied 1 can affect the velocities of all the solitons 2 amplitudes of the solitons for the fields p and n increase with decreasing and decrease with increasing 3 with decreasing for the fields p and n onepeak one soliton turns into the twopeak one as well as interaction type changes from the interaction between two onepeak ones to that between a onepeak one and a twopeak one 4 for the field e influence of on the solitons cannot be found the results of this paper might be of potential applications in the design of optical communication systems which can produce the bright and dark solitons simultaneously\n"
     ]
    }
   ],
   "source": [
    "print(np.shape(labeled_data_shuffled))\n",
    "print(np.shape(abstracts_shuffled))\n",
    "print(np.shape(keywords_shuffled))\n",
    "print(np.shape(domains_shuffled))\n",
    "\n",
    "print(labeled_data_shuffled['combined_text'][0])"
   ]
  },
  {
   "cell_type": "code",
   "execution_count": null,
   "metadata": {
    "colab": {
     "base_uri": "https://localhost:8080/"
    },
    "id": "Kudfd8zLhsTv",
    "outputId": "4dea64fa-c84e-4843-e7ec-dafbc4871dea"
   },
   "outputs": [
    {
     "name": "stdout",
     "output_type": "stream",
     "text": [
      "(43159, 5)\n",
      "(10790, 5)\n",
      "(43159, 5)\n",
      "(10790, 5)\n",
      "(5395, 5)\n"
     ]
    }
   ],
   "source": [
    "train_data, test_data = train_test_split(labeled_data_shuffled, test_size=0.2, random_state=42)\n",
    "print(np.shape(train_data))\n",
    "print(np.shape(test_data))\n",
    "\n",
    "_, val_data = train_test_split(test_data, test_size=0.5, random_state=42)\n",
    "print(np.shape(train_data))\n",
    "print(np.shape(test_data))\n",
    "print(np.shape(val_data))\n",
    "\n"
   ]
  },
  {
   "cell_type": "code",
   "execution_count": null,
   "metadata": {
    "colab": {
     "base_uri": "https://localhost:8080/",
     "height": 240,
     "referenced_widgets": [
      "723656dd24ba4bac956aa87fe6212501",
      "59f0a78f3fea4a56bad15d94bbc024b6",
      "e1b25c64dc1a4aa09875947eb817be0c",
      "7d57eebfb1de4f9ca68738dc7eb829e6",
      "28119725101e4eda961d719db20abd10",
      "1b3a121382194273899619d137a6a837",
      "2f2817fd14594614b924b62d9b6bcdd3",
      "93f1b9f4f1564334aee562f918d75445",
      "c4135c17b64940fa8e92572b36c2e5eb",
      "17493105e32d4d43861d8083d4d9bd10",
      "827f9c845f864483b30919d79e8c1317",
      "79e1141c892c488d9a1c413c275a17cf",
      "eb42ea972b2d439e8b404267525453fb",
      "f016864eceb443d0bca3ad16f626a200",
      "4ecdfd32d59e40de8a4d8040460ee838",
      "50d89b33af6b4de3987544f0acefde45",
      "29dd4cbad5d8471d8c342d91a50f734f",
      "45e8271504544edeac9f4c0b93d70817",
      "2e96d2bd8f4b44489a86e469a8ea0fee",
      "6c64197021694e289cb0b360a5dcedfc",
      "5bed879b57f2499c82dbef58f3c8c395",
      "44d9911c5be14ac5991d85741ae61962"
     ]
    },
    "id": "YIZ4uxq2h0Rn",
    "outputId": "1964eb82-f44e-452a-c910-c528af5407cc"
   },
   "outputs": [
    {
     "name": "stderr",
     "output_type": "stream",
     "text": [
      "/usr/local/lib/python3.10/dist-packages/huggingface_hub/utils/_token.py:89: UserWarning: \n",
      "The secret `HF_TOKEN` does not exist in your Colab secrets.\n",
      "To authenticate with the Hugging Face Hub, create a token in your settings tab (https://huggingface.co/settings/tokens), set it as secret in your Google Colab and restart your session.\n",
      "You will be able to reuse this secret in all of your notebooks.\n",
      "Please note that authentication is recommended but still optional to access public models or datasets.\n",
      "  warnings.warn(\n"
     ]
    },
    {
     "data": {
      "application/vnd.jupyter.widget-view+json": {
       "model_id": "723656dd24ba4bac956aa87fe6212501",
       "version_major": 2,
       "version_minor": 0
      },
      "text/plain": [
       "config.json:   0%|          | 0.00/1.11k [00:00<?, ?B/s]"
      ]
     },
     "metadata": {},
     "output_type": "display_data"
    },
    {
     "data": {
      "application/vnd.jupyter.widget-view+json": {
       "model_id": "79e1141c892c488d9a1c413c275a17cf",
       "version_major": 2,
       "version_minor": 0
      },
      "text/plain": [
       "vocab.txt:   0%|          | 0.00/213k [00:00<?, ?B/s]"
      ]
     },
     "metadata": {},
     "output_type": "display_data"
    },
    {
     "name": "stderr",
     "output_type": "stream",
     "text": [
      "/usr/local/lib/python3.10/dist-packages/transformers/tokenization_utils_base.py:1601: FutureWarning: `clean_up_tokenization_spaces` was not set. It will be set to `True` by default. This behavior will be depracted in transformers v4.45, and will be then set to `False` by default. For more details check this issue: https://github.com/huggingface/transformers/issues/31884\n",
      "  warnings.warn(\n"
     ]
    }
   ],
   "source": [
    "tokenizer = AutoTokenizer.from_pretrained(\"dmis-lab/biobert-base-cased-v1.2\")"
   ]
  },
  {
   "cell_type": "code",
   "execution_count": null,
   "metadata": {
    "id": "sCxmsPk9T7tW"
   },
   "outputs": [],
   "source": [
    "abstractslbltrain = train_data['Abstract']\n",
    "keywordsslbltrain = train_data['Keywords']\n",
    "domainlbltrain = train_data['Domain']\n",
    "lblstrain = train_data['Label']"
   ]
  },
  {
   "cell_type": "code",
   "execution_count": null,
   "metadata": {
    "colab": {
     "base_uri": "https://localhost:8080/"
    },
    "id": "e1aaQ3j-T8vi",
    "outputId": "3870360d-07a7-47a8-daa9-dea39bfa11f4"
   },
   "outputs": [
    {
     "name": "stdout",
     "output_type": "stream",
     "text": [
      "(53949, 5)\n",
      "Index(['Label', 'Domain', 'Keywords', 'Abstract', 'combined_text'], dtype='object')\n"
     ]
    }
   ],
   "source": [
    "print(np.shape(labeled_data))\n",
    "print(labeled_data.columns)"
   ]
  },
  {
   "cell_type": "code",
   "execution_count": null,
   "metadata": {
    "colab": {
     "base_uri": "https://localhost:8080/"
    },
    "id": "8Gr4SA7PUATC",
    "outputId": "c419e6c9-dedf-498d-c2d4-9668babe1fd0"
   },
   "outputs": [
    {
     "name": "stdout",
     "output_type": "stream",
     "text": [
      "Labels  ['CS' 'Civil' 'ECE' 'MAE' 'Medical' 'Psychology' 'biochemistry']\n",
      "Label counts  [ 6290  4025  5032  3633 12418  6450  5311]\n"
     ]
    }
   ],
   "source": [
    "labels = np.unique(domainlbltrain, return_counts=True)[0]\n",
    "labelCounts=  np.unique(domainlbltrain, return_counts=True)[1]\n",
    "\n",
    "print(\"Labels \", labels)\n",
    "print(\"Label counts \", labelCounts)"
   ]
  },
  {
   "cell_type": "code",
   "execution_count": null,
   "metadata": {
    "colab": {
     "base_uri": "https://localhost:8080/",
     "height": 644
    },
    "id": "GDOn_hrNUGSy",
    "outputId": "5433a9d5-d4a4-4f59-a6e6-443df6d9d709"
   },
   "outputs": [
    {
     "data": {
      "image/png": "[encoded data removed]",
      "text/plain": [
       "<Figure size 1000x600 with 1 Axes>"
      ]
     },
     "metadata": {},
     "output_type": "display_data"
    },
    {
     "name": "stdout",
     "output_type": "stream",
     "text": [
      "The label CS has 6290 records in the dataset.\n",
      "The label Civil has 4025 records in the dataset.\n",
      "The label ECE has 5032 records in the dataset.\n",
      "The label MAE has 3633 records in the dataset.\n",
      "The label Medical has 12418 records in the dataset.\n",
      "The label Psychology has 6450 records in the dataset.\n",
      "The label biochemistry has 5311 records in the dataset.\n"
     ]
    }
   ],
   "source": [
    "plt.figure(figsize=(10, 6))\n",
    "plt.title(\"Class Counts (Dataset)\")\n",
    "plt.pie(labelCounts, labels=labels, autopct='%1.1f%%', startangle=140, colors=plt.cm.Paired(range(len(labels))))\n",
    "plt.axis('equal')\n",
    "plt.show()\n",
    "\n",
    "for i, label in enumerate(labels):\n",
    "    print(\"The label\", label, \"has\", labelCounts[i], \"records in the dataset.\")"
   ]
  },
  {
   "cell_type": "code",
   "execution_count": null,
   "metadata": {
    "id": "JGvdipmIZEPq"
   },
   "outputs": [],
   "source": [
    "abstractslbltest = test_data['Abstract']\n",
    "keywordsslbltest = test_data['Keywords']\n",
    "domainlbltest = test_data['Domain']\n",
    "lblstest = test_data['Label']"
   ]
  },
  {
   "cell_type": "code",
   "execution_count": null,
   "metadata": {
    "colab": {
     "base_uri": "https://localhost:8080/"
    },
    "id": "l64aJDKxZEfQ",
    "outputId": "e7adda22-8241-4896-9110-e42799b88707"
   },
   "outputs": [
    {
     "name": "stdout",
     "output_type": "stream",
     "text": [
      "Labels  ['CS' 'Civil' 'ECE' 'MAE' 'Medical' 'Psychology' 'biochemistry']\n",
      "Label counts  [1483  975 1271  839 3223 1639 1360]\n"
     ]
    }
   ],
   "source": [
    "labels = np.unique(domainlbltest, return_counts=True)[0]\n",
    "labelCounts=  np.unique(domainlbltest, return_counts=True)[1]\n",
    "\n",
    "print(\"Labels \", labels)\n",
    "print(\"Label counts \", labelCounts)"
   ]
  },
  {
   "cell_type": "code",
   "execution_count": null,
   "metadata": {
    "colab": {
     "base_uri": "https://localhost:8080/",
     "height": 647
    },
    "id": "RhCMATTGZErU",
    "outputId": "36ba4899-2be7-44e4-fe26-4dbd62c9b4ed"
   },
   "outputs": [
    {
     "data": {
      "image/png": "[encoded data removed]",
      "text/plain": [
       "<Figure size 1000x600 with 1 Axes>"
      ]
     },
     "metadata": {},
     "output_type": "display_data"
    },
    {
     "name": "stdout",
     "output_type": "stream",
     "text": [
      "The label CS has 1483 records in the dataset.\n",
      "The label Civil has 975 records in the dataset.\n",
      "The label ECE has 1271 records in the dataset.\n",
      "The label MAE has 839 records in the dataset.\n",
      "The label Medical has 3223 records in the dataset.\n",
      "The label Psychology has 1639 records in the dataset.\n",
      "The label biochemistry has 1360 records in the dataset.\n"
     ]
    }
   ],
   "source": [
    "plt.figure(figsize=(10, 6))\n",
    "plt.title(\"Class Counts (Dataset)\")\n",
    "plt.pie(labelCounts, labels=labels, autopct='%1.1f%%', startangle=140, colors=plt.cm.Paired(range(len(labels))))\n",
    "plt.axis('equal')\n",
    "plt.show()\n",
    "\n",
    "for i, label in enumerate(labels):\n",
    "    print(\"The label\", label, \"has\", labelCounts[i], \"records in the dataset.\")"
   ]
  },
  {
   "cell_type": "code",
   "execution_count": null,
   "metadata": {
    "id": "0eWbApo_ZROV"
   },
   "outputs": [],
   "source": [
    "abstractslblval = val_data['Abstract']\n",
    "keywordsslblval = val_data['Keywords']\n",
    "domainlblval = val_data['Domain']\n",
    "lblsval = val_data['Label']"
   ]
  },
  {
   "cell_type": "code",
   "execution_count": null,
   "metadata": {
    "colab": {
     "base_uri": "https://localhost:8080/"
    },
    "id": "alfNPrPwZRmt",
    "outputId": "efacf4ef-7d5a-4c44-d4d1-5d3cd1d8d42e"
   },
   "outputs": [
    {
     "name": "stdout",
     "output_type": "stream",
     "text": [
      "Labels  ['CS' 'Civil' 'ECE' 'MAE' 'Medical' 'Psychology' 'biochemistry']\n",
      "Label counts  [ 754  464  609  422 1663  823  660]\n"
     ]
    }
   ],
   "source": [
    "labels = np.unique(domainlblval, return_counts=True)[0]\n",
    "labelCounts=  np.unique(domainlblval, return_counts=True)[1]\n",
    "\n",
    "print(\"Labels \", labels)\n",
    "print(\"Label counts \", labelCounts)"
   ]
  },
  {
   "cell_type": "code",
   "execution_count": null,
   "metadata": {
    "colab": {
     "base_uri": "https://localhost:8080/",
     "height": 649
    },
    "id": "-vH16QzfZE6m",
    "outputId": "dfc4408c-78fd-47f6-9ef1-006d83a19a16"
   },
   "outputs": [
    {
     "data": {
      "image/png": "[encoded data removed]",
      "text/plain": [
       "<Figure size 1000x600 with 1 Axes>"
      ]
     },
     "metadata": {},
     "output_type": "display_data"
    },
    {
     "name": "stdout",
     "output_type": "stream",
     "text": [
      "The label CS has 754 records in the dataset.\n",
      "The label Civil has 464 records in the dataset.\n",
      "The label ECE has 609 records in the dataset.\n",
      "The label MAE has 422 records in the dataset.\n",
      "The label Medical has 1663 records in the dataset.\n",
      "The label Psychology has 823 records in the dataset.\n",
      "The label biochemistry has 660 records in the dataset.\n"
     ]
    }
   ],
   "source": [
    "plt.figure(figsize=(10, 6))\n",
    "plt.title(\"Class Counts (Dataset)\")\n",
    "plt.pie(labelCounts, labels=labels, autopct='%1.1f%%', startangle=140, colors=plt.cm.Paired(range(len(labels))))\n",
    "plt.axis('equal')\n",
    "plt.show()\n",
    "\n",
    "for i, label in enumerate(labels):\n",
    "    print(\"The label\", label, \"has\", labelCounts[i], \"records in the dataset.\")"
   ]
  },
  {
   "cell_type": "code",
   "execution_count": null,
   "metadata": {
    "id": "pxeAvHMGh3fx"
   },
   "outputs": [],
   "source": [
    "def encode_data(data, tokenizer, max_length=128, labeled=True):\n",
    "    inputs = tokenizer(\n",
    "        data['combined_text'].tolist(),\n",
    "        max_length=max_length,\n",
    "        padding=\"max_length\",\n",
    "        truncation=True,\n",
    "        return_tensors=\"pt\"\n",
    "    )\n",
    "\n",
    "    if labeled and 'Label' in data.columns:\n",
    "        labels = torch.tensor(data['Label'].values.astype(int))\n",
    "        return TensorDataset(inputs['input_ids'], inputs['attention_mask'], labels)\n",
    "    else:\n",
    "        return TensorDataset(inputs['input_ids'], inputs['attention_mask'])\n"
   ]
  },
  {
   "cell_type": "code",
   "execution_count": null,
   "metadata": {
    "id": "bqVvQ4ZriHk_"
   },
   "outputs": [],
   "source": [
    "train_dataset = encode_data(train_data, tokenizer)\n",
    "val_dataset = encode_data(val_data, tokenizer)\n",
    "test_dataset = encode_data(test_data, tokenizer)"
   ]
  },
  {
   "cell_type": "code",
   "execution_count": null,
   "metadata": {
    "id": "MVqj6GkGiOLU"
   },
   "outputs": [],
   "source": [
    "train_dataloader = DataLoader(train_dataset, sampler=RandomSampler(train_dataset), batch_size=32)\n",
    "val_dataloader = DataLoader(val_dataset, sampler=SequentialSampler(val_dataset), batch_size=32)\n",
    "test_dataloader = DataLoader(test_dataset, sampler=SequentialSampler(test_dataset), batch_size=32)"
   ]
  },
  {
   "cell_type": "code",
   "execution_count": null,
   "metadata": {
    "colab": {
     "base_uri": "https://localhost:8080/",
     "height": 902,
     "referenced_widgets": [
      "805047b0528c4e03af66ed9827a075af",
      "1e146eee536e4a22b2de807191037e10",
      "3d00094712fc40e193ccdf3f7ba7383f",
      "f05ed55fee144056a47fc0fa9163d647",
      "d9942eea2cf74663b3e6a8f99f391667",
      "76f22b73d0484927924f8eb12edcf9b7",
      "b80bf82489cb4acbb777600fb0e3f2e1",
      "35c3cac9b6174a49b8e9adacc0b69eb5",
      "152990ed0b7341938a3b0837db771c40",
      "44b455b171724445980dabd4320e40c8",
      "be33956138d747c88e37b95ad00c2c4b"
     ]
    },
    "id": "xZnFwk-jiQ1N",
    "outputId": "8c5cd847-6be7-420e-de36-85d64ef31ef1"
   },
   "outputs": [
    {
     "name": "stdout",
     "output_type": "stream",
     "text": [
      "7\n"
     ]
    },
    {
     "data": {
      "application/vnd.jupyter.widget-view+json": {
       "model_id": "805047b0528c4e03af66ed9827a075af",
       "version_major": 2,
       "version_minor": 0
      },
      "text/plain": [
       "pytorch_model.bin:   0%|          | 0.00/436M [00:00<?, ?B/s]"
      ]
     },
     "metadata": {},
     "output_type": "display_data"
    },
    {
     "name": "stderr",
     "output_type": "stream",
     "text": [
      "Some weights of BertForSequenceClassification were not initialized from the model checkpoint at dmis-lab/biobert-base-cased-v1.2 and are newly initialized: ['classifier.bias', 'classifier.weight']\n",
      "You should probably TRAIN this model on a down-stream task to be able to use it for predictions and inference.\n"
     ]
    },
    {
     "data": {
      "text/plain": [
       "BertForSequenceClassification(\n",
       "  (bert): BertModel(\n",
       "    (embeddings): BertEmbeddings(\n",
       "      (word_embeddings): Embedding(28996, 768, padding_idx=0)\n",
       "      (position_embeddings): Embedding(512, 768)\n",
       "      (token_type_embeddings): Embedding(2, 768)\n",
       "      (LayerNorm): LayerNorm((768,), eps=1e-12, elementwise_affine=True)\n",
       "      (dropout): Dropout(p=0.1, inplace=False)\n",
       "    )\n",
       "    (encoder): BertEncoder(\n",
       "      (layer): ModuleList(\n",
       "        (0-11): 12 x BertLayer(\n",
       "          (attention): BertAttention(\n",
       "            (self): BertSdpaSelfAttention(\n",
       "              (query): Linear(in_features=768, out_features=768, bias=True)\n",
       "              (key): Linear(in_features=768, out_features=768, bias=True)\n",
       "              (value): Linear(in_features=768, out_features=768, bias=True)\n",
       "              (dropout): Dropout(p=0.1, inplace=False)\n",
       "            )\n",
       "            (output): BertSelfOutput(\n",
       "              (dense): Linear(in_features=768, out_features=768, bias=True)\n",
       "              (LayerNorm): LayerNorm((768,), eps=1e-12, elementwise_affine=True)\n",
       "              (dropout): Dropout(p=0.1, inplace=False)\n",
       "            )\n",
       "          )\n",
       "          (intermediate): BertIntermediate(\n",
       "            (dense): Linear(in_features=768, out_features=3072, bias=True)\n",
       "            (intermediate_act_fn): GELUActivation()\n",
       "          )\n",
       "          (output): BertOutput(\n",
       "            (dense): Linear(in_features=3072, out_features=768, bias=True)\n",
       "            (LayerNorm): LayerNorm((768,), eps=1e-12, elementwise_affine=True)\n",
       "            (dropout): Dropout(p=0.1, inplace=False)\n",
       "          )\n",
       "        )\n",
       "      )\n",
       "    )\n",
       "    (pooler): BertPooler(\n",
       "      (dense): Linear(in_features=768, out_features=768, bias=True)\n",
       "      (activation): Tanh()\n",
       "    )\n",
       "  )\n",
       "  (dropout): Dropout(p=0.1, inplace=False)\n",
       "  (classifier): Linear(in_features=768, out_features=7, bias=True)\n",
       ")"
      ]
     },
     "execution_count": 28,
     "metadata": {},
     "output_type": "execute_result"
    }
   ],
   "source": [
    "print(len(np.unique(train_data['Label'])))\n",
    "model = AutoModelForSequenceClassification.from_pretrained(\"dmis-lab/biobert-base-cased-v1.2\", num_labels=len(np.unique(train_data['Label'])))\n",
    "device = torch.device(\"cuda\" if torch.cuda.is_available() else \"cpu\")\n",
    "model.to(device)"
   ]
  },
  {
   "cell_type": "code",
   "execution_count": null,
   "metadata": {
    "id": "tkWRqh9eiozN"
   },
   "outputs": [],
   "source": [
    "def calculate_metrics_f(valType, predictions, true_labels):\n",
    "    if valType == 'test':\n",
    "        cm = confusion_matrix(true_labels, predictions)\n",
    "        report = classification_report(true_labels, predictions)\n",
    "        f1_micro = f1_score(true_labels, predictions, average='micro')\n",
    "        print(\"\\nClassification Report:\\n\", report)\n",
    "        return f1_micro\n",
    "    elif valType == 'val':\n",
    "        f1_micro = f1_score(true_labels, predictions, average='micro')\n",
    "        return f1_micro"
   ]
  },
  {
   "cell_type": "code",
   "execution_count": null,
   "metadata": {
    "id": "qtxucMQfkITn"
   },
   "outputs": [],
   "source": [
    "def calculate_metrics(valType, predictions, true_labels):\n",
    "    # Confusion matrix\n",
    "    if(valType == 'test'):\n",
    "        cm = confusion_matrix(true_labels, predictions)\n",
    "        print(\"Confusion Matrix:\\n\", cm)\n",
    "\n",
    "       \n",
    "        report = classification_report(true_labels, predictions, target_names=[str(i) for i in range(len(np.unique(true_labels)))])\n",
    "        print(\"\\nClassification Report:\\n\", report)\n",
    "\n",
    "        f1_macro = f1_score(true_labels, predictions, average='macro')\n",
    "        f1_micro = f1_score(true_labels, predictions, average='micro')\n",
    "        f1_weighted = f1_score(true_labels, predictions, average='weighted')\n",
    "\n",
    "        precision_macro = precision_score(true_labels, predictions, average='macro')\n",
    "        precision_micro = precision_score(true_labels, predictions, average='micro')\n",
    "        precision_weighted = precision_score(true_labels, predictions, average='weighted')\n",
    "\n",
    "        recall_macro = recall_score(true_labels, predictions, average='macro')\n",
    "        recall_micro = recall_score(true_labels, predictions, average='micro')\n",
    "        recall_weighted = recall_score(true_labels, predictions, average='weighted')\n",
    "\n",
    "        print(f\"Macro F1 Score: {f1_macro}\")\n",
    "        print(f\"Micro F1 Score: {f1_micro}\")\n",
    "        print(f\"Weighted F1 Score: {f1_weighted}\")\n",
    "\n",
    "        print(f\"Macro Precision: {precision_macro}\")\n",
    "        print(f\"Micro Precision: {precision_micro}\")\n",
    "        print(f\"Weighted Precision: {precision_weighted}\")\n",
    "\n",
    "        print(f\"Macro Recall: {recall_macro}\")\n",
    "        print(f\"Micro Recall: {recall_micro}\")\n",
    "        print(f\"Weighted Recall: {recall_weighted}\")\n",
    "\n",
    "    elif(valType == 'val'):\n",
    "        cm = confusion_matrix(true_labels, predictions)\n",
    "        f1_macro = f1_score(true_labels, predictions, average='macro')\n",
    "        f1_micro = f1_score(true_labels, predictions, average='micro')\n",
    "        f1_weighted = f1_score(true_labels, predictions, average='weighted')\n",
    "\n",
    "        precision_macro = precision_score(true_labels, predictions, average='macro')\n",
    "        precision_micro = precision_score(true_labels, predictions, average='micro')\n",
    "        precision_weighted = precision_score(true_labels, predictions, average='weighted')\n",
    "\n",
    "        recall_macro = recall_score(true_labels, predictions, average='macro')\n",
    "        recall_micro = recall_score(true_labels, predictions, average='micro')\n",
    "        recall_weighted = recall_score(true_labels, predictions, average='weighted')\n",
    "        # print('Val Micro F1:', f1_micro)\n",
    "        return f1_micro"
   ]
  },
  {
   "cell_type": "code",
   "execution_count": null,
   "metadata": {
    "colab": {
     "base_uri": "https://localhost:8080/"
    },
    "id": "TacIdpsRite9",
    "outputId": "5488c92c-761f-4fd5-bca6-ab4cce65e0e5"
   },
   "outputs": [
    {
     "name": "stdout",
     "output_type": "stream",
     "text": [
      "\n",
      "Training with learning rate: 2e-05\n"
     ]
    },
    {
     "name": "stderr",
     "output_type": "stream",
     "text": [
      "/usr/local/lib/python3.10/dist-packages/transformers/optimization.py:591: FutureWarning: This implementation of AdamW is deprecated and will be removed in a future version. Use the PyTorch implementation torch.optim.AdamW instead, or set `no_deprecation_warning=True` to disable this warning\n",
      "  warnings.warn(\n",
      "Epoch 1/20: 100%|██████████| 1349/1349 [14:22<00:00,  1.56batch/s]\n"
     ]
    },
    {
     "name": "stdout",
     "output_type": "stream",
     "text": [
      "Train Loss: 0.9493373160211134\n",
      "Validation Micro F1: 0.8515291936978684\n",
      "Epoch 1/20, Train Loss: 0.9493373160211134, Val Micro F1: 0.8515291936978684\n",
      "Best model saved.\n"
     ]
    },
    {
     "name": "stderr",
     "output_type": "stream",
     "text": [
      "Epoch 2/20: 100%|██████████| 1349/1349 [14:24<00:00,  1.56batch/s]\n"
     ]
    },
    {
     "name": "stdout",
     "output_type": "stream",
     "text": [
      "Train Loss: 0.40342515607048973\n",
      "Validation Micro F1: 0.8635773864689528\n",
      "Epoch 2/20, Train Loss: 0.40342515607048973, Val Micro F1: 0.8635773864689528\n",
      "Best model saved.\n"
     ]
    },
    {
     "name": "stderr",
     "output_type": "stream",
     "text": [
      "Epoch 3/20: 100%|██████████| 1349/1349 [14:23<00:00,  1.56batch/s]\n"
     ]
    },
    {
     "name": "stdout",
     "output_type": "stream",
     "text": [
      "Train Loss: 0.3068817570706135\n",
      "Validation Micro F1: 0.878035217794254\n",
      "Epoch 3/20, Train Loss: 0.3068817570706135, Val Micro F1: 0.878035217794254\n",
      "Best model saved.\n"
     ]
    },
    {
     "name": "stderr",
     "output_type": "stream",
     "text": [
      "Epoch 4/20: 100%|██████████| 1349/1349 [14:24<00:00,  1.56batch/s]\n"
     ]
    },
    {
     "name": "stdout",
     "output_type": "stream",
     "text": [
      "Train Loss: 0.225170907654901\n",
      "Validation Micro F1: 0.8819277108433735\n",
      "Epoch 4/20, Train Loss: 0.225170907654901, Val Micro F1: 0.8819277108433735\n",
      "Best model saved.\n"
     ]
    },
    {
     "name": "stderr",
     "output_type": "stream",
     "text": [
      "Epoch 5/20: 100%|██████████| 1349/1349 [14:24<00:00,  1.56batch/s]\n"
     ]
    },
    {
     "name": "stdout",
     "output_type": "stream",
     "text": [
      "Train Loss: 0.1508667860891231\n",
      "Validation Micro F1: 0.8696941612604263\n",
      "Epoch 5/20, Train Loss: 0.1508667860891231, Val Micro F1: 0.8696941612604263\n"
     ]
    },
    {
     "name": "stderr",
     "output_type": "stream",
     "text": [
      "Epoch 6/20: 100%|██████████| 1349/1349 [14:25<00:00,  1.56batch/s]\n"
     ]
    },
    {
     "name": "stdout",
     "output_type": "stream",
     "text": [
      "Train Loss: 0.09881791113679048\n",
      "Validation Micro F1: 0.8759962928637628\n",
      "Epoch 6/20, Train Loss: 0.09881791113679048, Val Micro F1: 0.8759962928637628\n"
     ]
    },
    {
     "name": "stderr",
     "output_type": "stream",
     "text": [
      "Epoch 7/20: 100%|██████████| 1349/1349 [14:25<00:00,  1.56batch/s]\n"
     ]
    },
    {
     "name": "stdout",
     "output_type": "stream",
     "text": [
      "Train Loss: 0.0641054613812598\n",
      "Validation Micro F1: 0.8713623725671918\n",
      "Epoch 7/20, Train Loss: 0.0641054613812598, Val Micro F1: 0.8713623725671918\n"
     ]
    },
    {
     "name": "stderr",
     "output_type": "stream",
     "text": [
      "Epoch 8/20: 100%|██████████| 1349/1349 [14:25<00:00,  1.56batch/s]\n"
     ]
    },
    {
     "name": "stdout",
     "output_type": "stream",
     "text": [
      "Train Loss: 0.04375756373390793\n",
      "Validation Micro F1: 0.875625579240037\n",
      "Epoch 8/20, Train Loss: 0.04375756373390793, Val Micro F1: 0.875625579240037\n"
     ]
    },
    {
     "name": "stderr",
     "output_type": "stream",
     "text": [
      "Epoch 9/20: 100%|██████████| 1349/1349 [14:24<00:00,  1.56batch/s]\n"
     ]
    },
    {
     "name": "stdout",
     "output_type": "stream",
     "text": [
      "Train Loss: 0.03098986338315051\n"
     ]
    },
    {
     "name": "stderr",
     "output_type": "stream",
     "text": [
      "/usr/local/lib/python3.10/dist-packages/transformers/optimization.py:591: FutureWarning: This implementation of AdamW is deprecated and will be removed in a future version. Use the PyTorch implementation torch.optim.AdamW instead, or set `no_deprecation_warning=True` to disable this warning\n",
      "  warnings.warn(\n"
     ]
    },
    {
     "name": "stdout",
     "output_type": "stream",
     "text": [
      "Validation Micro F1: 0.8748841519925857\n",
      "Epoch 9/20, Train Loss: 0.03098986338315051, Val Micro F1: 0.8748841519925857\n",
      "Early stopping applied.\n",
      "\n",
      "Training with learning rate: 5e-06\n"
     ]
    },
    {
     "name": "stderr",
     "output_type": "stream",
     "text": [
      "Epoch 1/20: 100%|██████████| 1349/1349 [14:24<00:00,  1.56batch/s]\n"
     ]
    },
    {
     "name": "stdout",
     "output_type": "stream",
     "text": [
      "Train Loss: 0.014828761551767178\n"
     ]
    },
    {
     "name": "stderr",
     "output_type": "stream",
     "text": [
      "/usr/local/lib/python3.10/dist-packages/transformers/optimization.py:591: FutureWarning: This implementation of AdamW is deprecated and will be removed in a future version. Use the PyTorch implementation torch.optim.AdamW instead, or set `no_deprecation_warning=True` to disable this warning\n",
      "  warnings.warn(\n"
     ]
    },
    {
     "name": "stdout",
     "output_type": "stream",
     "text": [
      "Validation Micro F1: 0.8765523632993513\n",
      "Epoch 1/20, Train Loss: 0.014828761551767178, Val Micro F1: 0.8765523632993513\n",
      "Early stopping applied.\n",
      "\n",
      "Training with learning rate: 1e-06\n"
     ]
    },
    {
     "name": "stderr",
     "output_type": "stream",
     "text": [
      "Epoch 1/20: 100%|██████████| 1349/1349 [14:24<00:00,  1.56batch/s]\n"
     ]
    },
    {
     "name": "stdout",
     "output_type": "stream",
     "text": [
      "Train Loss: 0.008916458987168866\n"
     ]
    },
    {
     "name": "stderr",
     "output_type": "stream",
     "text": [
      "/usr/local/lib/python3.10/dist-packages/transformers/optimization.py:591: FutureWarning: This implementation of AdamW is deprecated and will be removed in a future version. Use the PyTorch implementation torch.optim.AdamW instead, or set `no_deprecation_warning=True` to disable this warning\n",
      "  warnings.warn(\n"
     ]
    },
    {
     "name": "stdout",
     "output_type": "stream",
     "text": [
      "Validation Micro F1: 0.8782205746061168\n",
      "Epoch 1/20, Train Loss: 0.008916458987168866, Val Micro F1: 0.8782205746061168\n",
      "Early stopping applied.\n",
      "\n",
      "Training with learning rate: 2e-06\n"
     ]
    },
    {
     "name": "stderr",
     "output_type": "stream",
     "text": [
      "Epoch 1/20: 100%|██████████| 1349/1349 [14:25<00:00,  1.56batch/s]\n"
     ]
    },
    {
     "name": "stdout",
     "output_type": "stream",
     "text": [
      "Train Loss: 0.007744165019182595\n",
      "Validation Micro F1: 0.8782205746061168\n",
      "Epoch 1/20, Train Loss: 0.007744165019182595, Val Micro F1: 0.8782205746061168\n",
      "Early stopping applied.\n"
     ]
    },
    {
     "name": "stderr",
     "output_type": "stream",
     "text": [
      "<ipython-input-31-99034260d263>:60: FutureWarning: You are using `torch.load` with `weights_only=False` (the current default value), which uses the default pickle module implicitly. It is possible to construct malicious pickle data which will execute arbitrary code during unpickling (See https://github.com/pytorch/pytorch/blob/main/SECURITY.md#untrusted-models for more details). In a future release, the default value for `weights_only` will be flipped to `True`. This limits the functions that could be executed during unpickling. Arbitrary objects will no longer be allowed to be loaded via this mode unless they are explicitly allowlisted by the user via `torch.serialization.add_safe_globals`. We recommend you start setting `weights_only=True` for any use case where you don't have full control of the loaded file. Please open an issue on GitHub for any issues related to this experimental feature.\n",
      "  model.load_state_dict(torch.load('best_model.pth'))\n"
     ]
    },
    {
     "name": "stdout",
     "output_type": "stream",
     "text": [
      "Best model loaded.\n"
     ]
    }
   ],
   "source": [
    "\n",
    "epochs = 20\n",
    "learning_rates = [2e-5, 5e-6, 1e-6, 2e-6]\n",
    "early_stopping_patience = 5\n",
    "best_val_f1 = 0\n",
    "early_stopping_counter = 0\n",
    "\n",
    "for lr in learning_rates:\n",
    "    print(f\"\\nTraining with learning rate: {lr}\")\n",
    "    optimizer = AdamW(model.parameters(), lr=lr, eps=1e-8)\n",
    "    total_steps = len(train_dataloader) * epochs\n",
    "    scheduler = get_linear_schedule_with_warmup(optimizer, num_warmup_steps=0.1 * total_steps, num_training_steps=total_steps)\n",
    "\n",
    "    for epoch in range(epochs):\n",
    "        model.train()\n",
    "        total_train_loss = 0\n",
    "        for batch in tqdm(train_dataloader, desc=f\"Epoch {epoch + 1}/{epochs}\", unit=\"batch\"):\n",
    "            batch = tuple(t.to(device) for t in batch)\n",
    "            input_ids, input_mask, labels = batch\n",
    "            model.zero_grad()\n",
    "            outputs = model(input_ids=input_ids, attention_mask=input_mask, labels=labels)\n",
    "            loss = outputs.loss\n",
    "            total_train_loss += loss.item()\n",
    "            loss.backward()\n",
    "            optimizer.step()\n",
    "            scheduler.step()\n",
    "        avg_train_loss = total_train_loss / len(train_dataloader)\n",
    "        print(f\"Train Loss: {avg_train_loss}\")\n",
    "\n",
    "        # Validation\n",
    "        model.eval()\n",
    "        predictions, true_labels = [], []\n",
    "        for batch in val_dataloader:\n",
    "            batch = tuple(t.to(device) for t in batch)\n",
    "            input_ids, input_mask, labels = batch\n",
    "            with torch.no_grad():\n",
    "                outputs = model(input_ids=input_ids, attention_mask=input_mask)\n",
    "            logits = outputs.logits.detach().cpu().numpy()\n",
    "            batch_predictions = np.argmax(logits, axis=1)\n",
    "            predictions.extend(batch_predictions)\n",
    "            true_labels.extend(labels.to('cpu').numpy())\n",
    "        val_f1 = f1_score(true_labels, predictions, average='micro')\n",
    "        print(f\"Validation Micro F1: {val_f1}\")\n",
    "        val_micro_f1 = calculate_metrics_f('val', predictions, true_labels)\n",
    "        print(f\"Epoch {epoch + 1}/{epochs}, Train Loss: {avg_train_loss}, Val Micro F1: {val_micro_f1}\")\n",
    "\n",
    "        # Early stopping check\n",
    "        if val_f1 > best_val_f1:\n",
    "            best_val_f1 = val_f1\n",
    "            early_stopping_counter = 0\n",
    "            torch.save(model.state_dict(), 'best_model.pth')\n",
    "            print(\"Best model saved.\")\n",
    "        else:\n",
    "            early_stopping_counter += 1\n",
    "            if early_stopping_counter >= early_stopping_patience:\n",
    "                print(\"Early stopping applied.\")\n",
    "                break\n",
    "\n",
    "# Load the best model for testing\n",
    "model.load_state_dict(torch.load('best_model.pth'))\n",
    "print(\"Best model loaded.\")"
   ]
  },
  {
   "cell_type": "code",
   "execution_count": null,
   "metadata": {
    "colab": {
     "base_uri": "https://localhost:8080/"
    },
    "id": "zCM_A6DjkgfI",
    "outputId": "6e93aa59-a4da-4687-ab49-d84e9b774a74"
   },
   "outputs": [
    {
     "name": "stdout",
     "output_type": "stream",
     "text": [
      "Confusion Matrix:\n",
      " [[1339   41   16   20   18   11   38]\n",
      " [  41 1182    5   19   16    3    5]\n",
      " [  16   12 1355    8   15  190   43]\n",
      " [  19   55   10  710   25   11    9]\n",
      " [  23   15    7   25  887    9    9]\n",
      " [  17    7  189    8   10 2788  204]\n",
      " [   8    1    4    6    5  110 1226]]\n",
      "\n",
      "Classification Report:\n",
      "               precision    recall  f1-score   support\n",
      "\n",
      "           0       0.92      0.90      0.91      1483\n",
      "           1       0.90      0.93      0.91      1271\n",
      "           2       0.85      0.83      0.84      1639\n",
      "           3       0.89      0.85      0.87       839\n",
      "           4       0.91      0.91      0.91       975\n",
      "           5       0.89      0.87      0.88      3223\n",
      "           6       0.80      0.90      0.85      1360\n",
      "\n",
      "    accuracy                           0.88     10790\n",
      "   macro avg       0.88      0.88      0.88     10790\n",
      "weighted avg       0.88      0.88      0.88     10790\n",
      "\n",
      "Macro F1 Score: 0.8811501706006439\n",
      "Micro F1 Score: 0.8792400370713623\n",
      "Weighted F1 Score: 0.8793356424177603\n",
      "Macro Precision: 0.8804040009096646\n",
      "Micro Precision: 0.8792400370713623\n",
      "Weighted Precision: 0.8805701722283861\n",
      "Macro Recall: 0.8831559747422649\n",
      "Micro Recall: 0.8792400370713623\n",
      "Weighted Recall: 0.8792400370713623\n"
     ]
    }
   ],
   "source": [
    "# Evaluation\n",
    "model.eval()\n",
    "predictions = []\n",
    "true_labels = []\n",
    "\n",
    "for batch in test_dataloader:\n",
    "    batch = tuple(t.to(device) for t in batch)\n",
    "    input_ids, input_mask, labels = batch\n",
    "\n",
    "    with torch.no_grad():\n",
    "        outputs = model(input_ids=input_ids, attention_mask=input_mask)\n",
    "        logits = outputs.logits\n",
    "\n",
    "    logits = logits.detach().cpu().numpy()\n",
    "    label_ids = labels.to('cpu').numpy()\n",
    "\n",
    "    batch_predictions = np.argmax(logits, axis=1)\n",
    "    predictions.extend(batch_predictions)\n",
    "    true_labels.extend(label_ids)\n",
    "\n",
    "# Calculate and print metrics\n",
    "calculate_metrics('test', predictions, true_labels)"
   ]
  },
  {
   "cell_type": "code",
   "execution_count": null,
   "metadata": {
    "colab": {
     "base_uri": "https://localhost:8080/"
    },
    "id": "XGeuh6E0UgD-",
    "outputId": "6271d38e-0ba7-42ae-b03a-6f57b5fa0c78"
   },
   "outputs": [
    {
     "name": "stdout",
     "output_type": "stream",
     "text": [
      "\n",
      "Test Metrics:\n",
      "Confusion Matrix:\n",
      " [[1339   41   16   20   18   11   38]\n",
      " [  41 1182    5   19   16    3    5]\n",
      " [  16   12 1355    8   15  190   43]\n",
      " [  19   55   10  710   25   11    9]\n",
      " [  23   15    7   25  887    9    9]\n",
      " [  17    7  189    8   10 2788  204]\n",
      " [   8    1    4    6    5  110 1226]]\n",
      "Classification Report:\n",
      "               precision    recall  f1-score   support\n",
      "\n",
      "           0       0.92      0.90      0.91      1483\n",
      "           1       0.90      0.93      0.91      1271\n",
      "           2       0.85      0.83      0.84      1639\n",
      "           3       0.89      0.85      0.87       839\n",
      "           4       0.91      0.91      0.91       975\n",
      "           5       0.89      0.87      0.88      3223\n",
      "           6       0.80      0.90      0.85      1360\n",
      "\n",
      "    accuracy                           0.88     10790\n",
      "   macro avg       0.88      0.88      0.88     10790\n",
      "weighted avg       0.88      0.88      0.88     10790\n",
      "\n",
      "Macro F1: 0.8811501706006439\n",
      "Micro F1: 0.8792400370713623\n",
      "Weighted F1: 0.8793356424177603\n"
     ]
    }
   ],
   "source": [
    "# Calculate and display test metrics\n",
    "print(\"\\nTest Metrics:\")\n",
    "print(\"Confusion Matrix:\\n\", confusion_matrix(true_labels, predictions))\n",
    "print(\"Classification Report:\\n\", classification_report(true_labels, predictions))\n",
    "print(\"Macro F1:\", f1_score(true_labels, predictions, average='macro'))\n",
    "print(\"Micro F1:\", f1_score(true_labels, predictions, average='micro'))\n",
    "print(\"Weighted F1:\", f1_score(true_labels, predictions, average='weighted'))"
   ]
  },
  {
   "cell_type": "code",
   "execution_count": null,
   "metadata": {
    "id": "q2YXRSBbhOZR"
   },
   "outputs": [],
   "source": [
    "for name, param in model.named_parameters():\n",
    "    if not param.is_contiguous():\n",
    "        param.data = param.data.contiguous()\n",
    "model.save_pretrained('/content/drive/MyDrive/WoS/BioBERT_WoS_53949_records')"
   ]
  },
  {
   "cell_type": "code",
   "execution_count": null,
   "metadata": {
    "id": "yVRdYSJFbBUs"
   },
   "outputs": [],
   "source": [
    "from google.colab import runtime\n",
    "print('End of the runtime!')\n",
    "runtime.unassign()"
   ]
  }
 ],
 "metadata": {
  "accelerator": "GPU",
  "colab": {
   "gpuType": "T4",
   "provenance": []
  },
  "kernelspec": {
   "display_name": "Python 3",
   "name": "python3"
  },
  "language_info": {
   "name": "python"
  },
  "widgets": {
   "application/vnd.jupyter.widget-state+json": {
    "152990ed0b7341938a3b0837db771c40": {
     "model_module": "@jupyter-widgets/controls",
     "model_module_version": "1.5.0",
     "model_name": "ProgressStyleModel",
     "state": {
      "_model_module": "@jupyter-widgets/controls",
      "_model_module_version": "1.5.0",
      "_model_name": "ProgressStyleModel",
      "_view_count": null,
      "_view_module": "@jupyter-widgets/base",
      "_view_module_version": "1.2.0",
      "_view_name": "StyleView",
      "bar_color": null,
      "description_width": ""
     }
    },
    "17493105e32d4d43861d8083d4d9bd10": {
     "model_module": "@jupyter-widgets/base",
     "model_module_version": "1.2.0",
     "model_name": "LayoutModel",
     "state": {
      "_model_module": "@jupyter-widgets/base",
      "_model_module_version": "1.2.0",
      "_model_name": "LayoutModel",
      "_view_count": null,
      "_view_module": "@jupyter-widgets/base",
      "_view_module_version": "1.2.0",
      "_view_name": "LayoutView",
      "align_content": null,
      "align_items": null,
      "align_self": null,
      "border": null,
      "bottom": null,
      "display": null,
      "flex": null,
      "flex_flow": null,
      "grid_area": null,
      "grid_auto_columns": null,
      "grid_auto_flow": null,
      "grid_auto_rows": null,
      "grid_column": null,
      "grid_gap": null,
      "grid_row": null,
      "grid_template_areas": null,
      "grid_template_columns": null,
      "grid_template_rows": null,
      "height": null,
      "justify_content": null,
      "justify_items": null,
      "left": null,
      "margin": null,
      "max_height": null,
      "max_width": null,
      "min_height": null,
      "min_width": null,
      "object_fit": null,
      "object_position": null,
      "order": null,
      "overflow": null,
      "overflow_x": null,
      "overflow_y": null,
      "padding": null,
      "right": null,
      "top": null,
      "visibility": null,
      "width": null
     }
    },
    "1b3a121382194273899619d137a6a837": {
     "model_module": "@jupyter-widgets/base",
     "model_module_version": "1.2.0",
     "model_name": "LayoutModel",
     "state": {
      "_model_module": "@jupyter-widgets/base",
      "_model_module_version": "1.2.0",
      "_model_name": "LayoutModel",
      "_view_count": null,
      "_view_module": "@jupyter-widgets/base",
      "_view_module_version": "1.2.0",
      "_view_name": "LayoutView",
      "align_content": null,
      "align_items": null,
      "align_self": null,
      "border": null,
      "bottom": null,
      "display": null,
      "flex": null,
      "flex_flow": null,
      "grid_area": null,
      "grid_auto_columns": null,
      "grid_auto_flow": null,
      "grid_auto_rows": null,
      "grid_column": null,
      "grid_gap": null,
      "grid_row": null,
      "grid_template_areas": null,
      "grid_template_columns": null,
      "grid_template_rows": null,
      "height": null,
      "justify_content": null,
      "justify_items": null,
      "left": null,
      "margin": null,
      "max_height": null,
      "max_width": null,
      "min_height": null,
      "min_width": null,
      "object_fit": null,
      "object_position": null,
      "order": null,
      "overflow": null,
      "overflow_x": null,
      "overflow_y": null,
      "padding": null,
      "right": null,
      "top": null,
      "visibility": null,
      "width": null
     }
    },
    "1e146eee536e4a22b2de807191037e10": {
     "model_module": "@jupyter-widgets/controls",
     "model_module_version": "1.5.0",
     "model_name": "HTMLModel",
     "state": {
      "_dom_classes": [],
      "_model_module": "@jupyter-widgets/controls",
      "_model_module_version": "1.5.0",
      "_model_name": "HTMLModel",
      "_view_count": null,
      "_view_module": "@jupyter-widgets/controls",
      "_view_module_version": "1.5.0",
      "_view_name": "HTMLView",
      "description": "",
      "description_tooltip": null,
      "layout": "IPY_MODEL_76f22b73d0484927924f8eb12edcf9b7",
      "placeholder": "​",
      "style": "IPY_MODEL_b80bf82489cb4acbb777600fb0e3f2e1",
      "value": "pytorch_model.bin: 100%"
     }
    },
    "28119725101e4eda961d719db20abd10": {
     "model_module": "@jupyter-widgets/base",
     "model_module_version": "1.2.0",
     "model_name": "LayoutModel",
     "state": {
      "_model_module": "@jupyter-widgets/base",
      "_model_module_version": "1.2.0",
      "_model_name": "LayoutModel",
      "_view_count": null,
      "_view_module": "@jupyter-widgets/base",
      "_view_module_version": "1.2.0",
      "_view_name": "LayoutView",
      "align_content": null,
      "align_items": null,
      "align_self": null,
      "border": null,
      "bottom": null,
      "display": null,
      "flex": null,
      "flex_flow": null,
      "grid_area": null,
      "grid_auto_columns": null,
      "grid_auto_flow": null,
      "grid_auto_rows": null,
      "grid_column": null,
      "grid_gap": null,
      "grid_row": null,
      "grid_template_areas": null,
      "grid_template_columns": null,
      "grid_template_rows": null,
      "height": null,
      "justify_content": null,
      "justify_items": null,
      "left": null,
      "margin": null,
      "max_height": null,
      "max_width": null,
      "min_height": null,
      "min_width": null,
      "object_fit": null,
      "object_position": null,
      "order": null,
      "overflow": null,
      "overflow_x": null,
      "overflow_y": null,
      "padding": null,
      "right": null,
      "top": null,
      "visibility": null,
      "width": null
     }
    },
    "29dd4cbad5d8471d8c342d91a50f734f": {
     "model_module": "@jupyter-widgets/base",
     "model_module_version": "1.2.0",
     "model_name": "LayoutModel",
     "state": {
      "_model_module": "@jupyter-widgets/base",
      "_model_module_version": "1.2.0",
      "_model_name": "LayoutModel",
      "_view_count": null,
      "_view_module": "@jupyter-widgets/base",
      "_view_module_version": "1.2.0",
      "_view_name": "LayoutView",
      "align_content": null,
      "align_items": null,
      "align_self": null,
      "border": null,
      "bottom": null,
      "display": null,
      "flex": null,
      "flex_flow": null,
      "grid_area": null,
      "grid_auto_columns": null,
      "grid_auto_flow": null,
      "grid_auto_rows": null,
      "grid_column": null,
      "grid_gap": null,
      "grid_row": null,
      "grid_template_areas": null,
      "grid_template_columns": null,
      "grid_template_rows": null,
      "height": null,
      "justify_content": null,
      "justify_items": null,
      "left": null,
      "margin": null,
      "max_height": null,
      "max_width": null,
      "min_height": null,
      "min_width": null,
      "object_fit": null,
      "object_position": null,
      "order": null,
      "overflow": null,
      "overflow_x": null,
      "overflow_y": null,
      "padding": null,
      "right": null,
      "top": null,
      "visibility": null,
      "width": null
     }
    },
    "2e96d2bd8f4b44489a86e469a8ea0fee": {
     "model_module": "@jupyter-widgets/base",
     "model_module_version": "1.2.0",
     "model_name": "LayoutModel",
     "state": {
      "_model_module": "@jupyter-widgets/base",
      "_model_module_version": "1.2.0",
      "_model_name": "LayoutModel",
      "_view_count": null,
      "_view_module": "@jupyter-widgets/base",
      "_view_module_version": "1.2.0",
      "_view_name": "LayoutView",
      "align_content": null,
      "align_items": null,
      "align_self": null,
      "border": null,
      "bottom": null,
      "display": null,
      "flex": null,
      "flex_flow": null,
      "grid_area": null,
      "grid_auto_columns": null,
      "grid_auto_flow": null,
      "grid_auto_rows": null,
      "grid_column": null,
      "grid_gap": null,
      "grid_row": null,
      "grid_template_areas": null,
      "grid_template_columns": null,
      "grid_template_rows": null,
      "height": null,
      "justify_content": null,
      "justify_items": null,
      "left": null,
      "margin": null,
      "max_height": null,
      "max_width": null,
      "min_height": null,
      "min_width": null,
      "object_fit": null,
      "object_position": null,
      "order": null,
      "overflow": null,
      "overflow_x": null,
      "overflow_y": null,
      "padding": null,
      "right": null,
      "top": null,
      "visibility": null,
      "width": null
     }
    },
    "2f2817fd14594614b924b62d9b6bcdd3": {
     "model_module": "@jupyter-widgets/controls",
     "model_module_version": "1.5.0",
     "model_name": "DescriptionStyleModel",
     "state": {
      "_model_module": "@jupyter-widgets/controls",
      "_model_module_version": "1.5.0",
      "_model_name": "DescriptionStyleModel",
      "_view_count": null,
      "_view_module": "@jupyter-widgets/base",
      "_view_module_version": "1.2.0",
      "_view_name": "StyleView",
      "description_width": ""
     }
    },
    "35c3cac9b6174a49b8e9adacc0b69eb5": {
     "model_module": "@jupyter-widgets/base",
     "model_module_version": "1.2.0",
     "model_name": "LayoutModel",
     "state": {
      "_model_module": "@jupyter-widgets/base",
      "_model_module_version": "1.2.0",
      "_model_name": "LayoutModel",
      "_view_count": null,
      "_view_module": "@jupyter-widgets/base",
      "_view_module_version": "1.2.0",
      "_view_name": "LayoutView",
      "align_content": null,
      "align_items": null,
      "align_self": null,
      "border": null,
      "bottom": null,
      "display": null,
      "flex": null,
      "flex_flow": null,
      "grid_area": null,
      "grid_auto_columns": null,
      "grid_auto_flow": null,
      "grid_auto_rows": null,
      "grid_column": null,
      "grid_gap": null,
      "grid_row": null,
      "grid_template_areas": null,
      "grid_template_columns": null,
      "grid_template_rows": null,
      "height": null,
      "justify_content": null,
      "justify_items": null,
      "left": null,
      "margin": null,
      "max_height": null,
      "max_width": null,
      "min_height": null,
      "min_width": null,
      "object_fit": null,
      "object_position": null,
      "order": null,
      "overflow": null,
      "overflow_x": null,
      "overflow_y": null,
      "padding": null,
      "right": null,
      "top": null,
      "visibility": null,
      "width": null
     }
    },
    "3d00094712fc40e193ccdf3f7ba7383f": {
     "model_module": "@jupyter-widgets/controls",
     "model_module_version": "1.5.0",
     "model_name": "FloatProgressModel",
     "state": {
      "_dom_classes": [],
      "_model_module": "@jupyter-widgets/controls",
      "_model_module_version": "1.5.0",
      "_model_name": "FloatProgressModel",
      "_view_count": null,
      "_view_module": "@jupyter-widgets/controls",
      "_view_module_version": "1.5.0",
      "_view_name": "ProgressView",
      "bar_style": "success",
      "description": "",
      "description_tooltip": null,
      "layout": "IPY_MODEL_35c3cac9b6174a49b8e9adacc0b69eb5",
      "max": 435783451,
      "min": 0,
      "orientation": "horizontal",
      "style": "IPY_MODEL_152990ed0b7341938a3b0837db771c40",
      "value": 435783451
     }
    },
    "44b455b171724445980dabd4320e40c8": {
     "model_module": "@jupyter-widgets/base",
     "model_module_version": "1.2.0",
     "model_name": "LayoutModel",
     "state": {
      "_model_module": "@jupyter-widgets/base",
      "_model_module_version": "1.2.0",
      "_model_name": "LayoutModel",
      "_view_count": null,
      "_view_module": "@jupyter-widgets/base",
      "_view_module_version": "1.2.0",
      "_view_name": "LayoutView",
      "align_content": null,
      "align_items": null,
      "align_self": null,
      "border": null,
      "bottom": null,
      "display": null,
      "flex": null,
      "flex_flow": null,
      "grid_area": null,
      "grid_auto_columns": null,
      "grid_auto_flow": null,
      "grid_auto_rows": null,
      "grid_column": null,
      "grid_gap": null,
      "grid_row": null,
      "grid_template_areas": null,
      "grid_template_columns": null,
      "grid_template_rows": null,
      "height": null,
      "justify_content": null,
      "justify_items": null,
      "left": null,
      "margin": null,
      "max_height": null,
      "max_width": null,
      "min_height": null,
      "min_width": null,
      "object_fit": null,
      "object_position": null,
      "order": null,
      "overflow": null,
      "overflow_x": null,
      "overflow_y": null,
      "padding": null,
      "right": null,
      "top": null,
      "visibility": null,
      "width": null
     }
    },
    "44d9911c5be14ac5991d85741ae61962": {
     "model_module": "@jupyter-widgets/controls",
     "model_module_version": "1.5.0",
     "model_name": "DescriptionStyleModel",
     "state": {
      "_model_module": "@jupyter-widgets/controls",
      "_model_module_version": "1.5.0",
      "_model_name": "DescriptionStyleModel",
      "_view_count": null,
      "_view_module": "@jupyter-widgets/base",
      "_view_module_version": "1.2.0",
      "_view_name": "StyleView",
      "description_width": ""
     }
    },
    "45e8271504544edeac9f4c0b93d70817": {
     "model_module": "@jupyter-widgets/controls",
     "model_module_version": "1.5.0",
     "model_name": "DescriptionStyleModel",
     "state": {
      "_model_module": "@jupyter-widgets/controls",
      "_model_module_version": "1.5.0",
      "_model_name": "DescriptionStyleModel",
      "_view_count": null,
      "_view_module": "@jupyter-widgets/base",
      "_view_module_version": "1.2.0",
      "_view_name": "StyleView",
      "description_width": ""
     }
    },
    "4ecdfd32d59e40de8a4d8040460ee838": {
     "model_module": "@jupyter-widgets/controls",
     "model_module_version": "1.5.0",
     "model_name": "HTMLModel",
     "state": {
      "_dom_classes": [],
      "_model_module": "@jupyter-widgets/controls",
      "_model_module_version": "1.5.0",
      "_model_name": "HTMLModel",
      "_view_count": null,
      "_view_module": "@jupyter-widgets/controls",
      "_view_module_version": "1.5.0",
      "_view_name": "HTMLView",
      "description": "",
      "description_tooltip": null,
      "layout": "IPY_MODEL_5bed879b57f2499c82dbef58f3c8c395",
      "placeholder": "​",
      "style": "IPY_MODEL_44d9911c5be14ac5991d85741ae61962",
      "value": " 213k/213k [00:00&lt;00:00, 3.11MB/s]"
     }
    },
    "50d89b33af6b4de3987544f0acefde45": {
     "model_module": "@jupyter-widgets/base",
     "model_module_version": "1.2.0",
     "model_name": "LayoutModel",
     "state": {
      "_model_module": "@jupyter-widgets/base",
      "_model_module_version": "1.2.0",
      "_model_name": "LayoutModel",
      "_view_count": null,
      "_view_module": "@jupyter-widgets/base",
      "_view_module_version": "1.2.0",
      "_view_name": "LayoutView",
      "align_content": null,
      "align_items": null,
      "align_self": null,
      "border": null,
      "bottom": null,
      "display": null,
      "flex": null,
      "flex_flow": null,
      "grid_area": null,
      "grid_auto_columns": null,
      "grid_auto_flow": null,
      "grid_auto_rows": null,
      "grid_column": null,
      "grid_gap": null,
      "grid_row": null,
      "grid_template_areas": null,
      "grid_template_columns": null,
      "grid_template_rows": null,
      "height": null,
      "justify_content": null,
      "justify_items": null,
      "left": null,
      "margin": null,
      "max_height": null,
      "max_width": null,
      "min_height": null,
      "min_width": null,
      "object_fit": null,
      "object_position": null,
      "order": null,
      "overflow": null,
      "overflow_x": null,
      "overflow_y": null,
      "padding": null,
      "right": null,
      "top": null,
      "visibility": null,
      "width": null
     }
    },
    "59f0a78f3fea4a56bad15d94bbc024b6": {
     "model_module": "@jupyter-widgets/controls",
     "model_module_version": "1.5.0",
     "model_name": "HTMLModel",
     "state": {
      "_dom_classes": [],
      "_model_module": "@jupyter-widgets/controls",
      "_model_module_version": "1.5.0",
      "_model_name": "HTMLModel",
      "_view_count": null,
      "_view_module": "@jupyter-widgets/controls",
      "_view_module_version": "1.5.0",
      "_view_name": "HTMLView",
      "description": "",
      "description_tooltip": null,
      "layout": "IPY_MODEL_1b3a121382194273899619d137a6a837",
      "placeholder": "​",
      "style": "IPY_MODEL_2f2817fd14594614b924b62d9b6bcdd3",
      "value": "config.json: 100%"
     }
    },
    "5bed879b57f2499c82dbef58f3c8c395": {
     "model_module": "@jupyter-widgets/base",
     "model_module_version": "1.2.0",
     "model_name": "LayoutModel",
     "state": {
      "_model_module": "@jupyter-widgets/base",
      "_model_module_version": "1.2.0",
      "_model_name": "LayoutModel",
      "_view_count": null,
      "_view_module": "@jupyter-widgets/base",
      "_view_module_version": "1.2.0",
      "_view_name": "LayoutView",
      "align_content": null,
      "align_items": null,
      "align_self": null,
      "border": null,
      "bottom": null,
      "display": null,
      "flex": null,
      "flex_flow": null,
      "grid_area": null,
      "grid_auto_columns": null,
      "grid_auto_flow": null,
      "grid_auto_rows": null,
      "grid_column": null,
      "grid_gap": null,
      "grid_row": null,
      "grid_template_areas": null,
      "grid_template_columns": null,
      "grid_template_rows": null,
      "height": null,
      "justify_content": null,
      "justify_items": null,
      "left": null,
      "margin": null,
      "max_height": null,
      "max_width": null,
      "min_height": null,
      "min_width": null,
      "object_fit": null,
      "object_position": null,
      "order": null,
      "overflow": null,
      "overflow_x": null,
      "overflow_y": null,
      "padding": null,
      "right": null,
      "top": null,
      "visibility": null,
      "width": null
     }
    },
    "6c64197021694e289cb0b360a5dcedfc": {
     "model_module": "@jupyter-widgets/controls",
     "model_module_version": "1.5.0",
     "model_name": "ProgressStyleModel",
     "state": {
      "_model_module": "@jupyter-widgets/controls",
      "_model_module_version": "1.5.0",
      "_model_name": "ProgressStyleModel",
      "_view_count": null,
      "_view_module": "@jupyter-widgets/base",
      "_view_module_version": "1.2.0",
      "_view_name": "StyleView",
      "bar_color": null,
      "description_width": ""
     }
    },
    "723656dd24ba4bac956aa87fe6212501": {
     "model_module": "@jupyter-widgets/controls",
     "model_module_version": "1.5.0",
     "model_name": "HBoxModel",
     "state": {
      "_dom_classes": [],
      "_model_module": "@jupyter-widgets/controls",
      "_model_module_version": "1.5.0",
      "_model_name": "HBoxModel",
      "_view_count": null,
      "_view_module": "@jupyter-widgets/controls",
      "_view_module_version": "1.5.0",
      "_view_name": "HBoxView",
      "box_style": "",
      "children": [
       "IPY_MODEL_59f0a78f3fea4a56bad15d94bbc024b6",
       "IPY_MODEL_e1b25c64dc1a4aa09875947eb817be0c",
       "IPY_MODEL_7d57eebfb1de4f9ca68738dc7eb829e6"
      ],
      "layout": "IPY_MODEL_28119725101e4eda961d719db20abd10"
     }
    },
    "76f22b73d0484927924f8eb12edcf9b7": {
     "model_module": "@jupyter-widgets/base",
     "model_module_version": "1.2.0",
     "model_name": "LayoutModel",
     "state": {
      "_model_module": "@jupyter-widgets/base",
      "_model_module_version": "1.2.0",
      "_model_name": "LayoutModel",
      "_view_count": null,
      "_view_module": "@jupyter-widgets/base",
      "_view_module_version": "1.2.0",
      "_view_name": "LayoutView",
      "align_content": null,
      "align_items": null,
      "align_self": null,
      "border": null,
      "bottom": null,
      "display": null,
      "flex": null,
      "flex_flow": null,
      "grid_area": null,
      "grid_auto_columns": null,
      "grid_auto_flow": null,
      "grid_auto_rows": null,
      "grid_column": null,
      "grid_gap": null,
      "grid_row": null,
      "grid_template_areas": null,
      "grid_template_columns": null,
      "grid_template_rows": null,
      "height": null,
      "justify_content": null,
      "justify_items": null,
      "left": null,
      "margin": null,
      "max_height": null,
      "max_width": null,
      "min_height": null,
      "min_width": null,
      "object_fit": null,
      "object_position": null,
      "order": null,
      "overflow": null,
      "overflow_x": null,
      "overflow_y": null,
      "padding": null,
      "right": null,
      "top": null,
      "visibility": null,
      "width": null
     }
    },
    "79e1141c892c488d9a1c413c275a17cf": {
     "model_module": "@jupyter-widgets/controls",
     "model_module_version": "1.5.0",
     "model_name": "HBoxModel",
     "state": {
      "_dom_classes": [],
      "_model_module": "@jupyter-widgets/controls",
      "_model_module_version": "1.5.0",
      "_model_name": "HBoxModel",
      "_view_count": null,
      "_view_module": "@jupyter-widgets/controls",
      "_view_module_version": "1.5.0",
      "_view_name": "HBoxView",
      "box_style": "",
      "children": [
       "IPY_MODEL_eb42ea972b2d439e8b404267525453fb",
       "IPY_MODEL_f016864eceb443d0bca3ad16f626a200",
       "IPY_MODEL_4ecdfd32d59e40de8a4d8040460ee838"
      ],
      "layout": "IPY_MODEL_50d89b33af6b4de3987544f0acefde45"
     }
    },
    "7d57eebfb1de4f9ca68738dc7eb829e6": {
     "model_module": "@jupyter-widgets/controls",
     "model_module_version": "1.5.0",
     "model_name": "HTMLModel",
     "state": {
      "_dom_classes": [],
      "_model_module": "@jupyter-widgets/controls",
      "_model_module_version": "1.5.0",
      "_model_name": "HTMLModel",
      "_view_count": null,
      "_view_module": "@jupyter-widgets/controls",
      "_view_module_version": "1.5.0",
      "_view_name": "HTMLView",
      "description": "",
      "description_tooltip": null,
      "layout": "IPY_MODEL_17493105e32d4d43861d8083d4d9bd10",
      "placeholder": "​",
      "style": "IPY_MODEL_827f9c845f864483b30919d79e8c1317",
      "value": " 1.11k/1.11k [00:00&lt;00:00, 33.8kB/s]"
     }
    },
    "805047b0528c4e03af66ed9827a075af": {
     "model_module": "@jupyter-widgets/controls",
     "model_module_version": "1.5.0",
     "model_name": "HBoxModel",
     "state": {
      "_dom_classes": [],
      "_model_module": "@jupyter-widgets/controls",
      "_model_module_version": "1.5.0",
      "_model_name": "HBoxModel",
      "_view_count": null,
      "_view_module": "@jupyter-widgets/controls",
      "_view_module_version": "1.5.0",
      "_view_name": "HBoxView",
      "box_style": "",
      "children": [
       "IPY_MODEL_1e146eee536e4a22b2de807191037e10",
       "IPY_MODEL_3d00094712fc40e193ccdf3f7ba7383f",
       "IPY_MODEL_f05ed55fee144056a47fc0fa9163d647"
      ],
      "layout": "IPY_MODEL_d9942eea2cf74663b3e6a8f99f391667"
     }
    },
    "827f9c845f864483b30919d79e8c1317": {
     "model_module": "@jupyter-widgets/controls",
     "model_module_version": "1.5.0",
     "model_name": "DescriptionStyleModel",
     "state": {
      "_model_module": "@jupyter-widgets/controls",
      "_model_module_version": "1.5.0",
      "_model_name": "DescriptionStyleModel",
      "_view_count": null,
      "_view_module": "@jupyter-widgets/base",
      "_view_module_version": "1.2.0",
      "_view_name": "StyleView",
      "description_width": ""
     }
    },
    "93f1b9f4f1564334aee562f918d75445": {
     "model_module": "@jupyter-widgets/base",
     "model_module_version": "1.2.0",
     "model_name": "LayoutModel",
     "state": {
      "_model_module": "@jupyter-widgets/base",
      "_model_module_version": "1.2.0",
      "_model_name": "LayoutModel",
      "_view_count": null,
      "_view_module": "@jupyter-widgets/base",
      "_view_module_version": "1.2.0",
      "_view_name": "LayoutView",
      "align_content": null,
      "align_items": null,
      "align_self": null,
      "border": null,
      "bottom": null,
      "display": null,
      "flex": null,
      "flex_flow": null,
      "grid_area": null,
      "grid_auto_columns": null,
      "grid_auto_flow": null,
      "grid_auto_rows": null,
      "grid_column": null,
      "grid_gap": null,
      "grid_row": null,
      "grid_template_areas": null,
      "grid_template_columns": null,
      "grid_template_rows": null,
      "height": null,
      "justify_content": null,
      "justify_items": null,
      "left": null,
      "margin": null,
      "max_height": null,
      "max_width": null,
      "min_height": null,
      "min_width": null,
      "object_fit": null,
      "object_position": null,
      "order": null,
      "overflow": null,
      "overflow_x": null,
      "overflow_y": null,
      "padding": null,
      "right": null,
      "top": null,
      "visibility": null,
      "width": null
     }
    },
    "b80bf82489cb4acbb777600fb0e3f2e1": {
     "model_module": "@jupyter-widgets/controls",
     "model_module_version": "1.5.0",
     "model_name": "DescriptionStyleModel",
     "state": {
      "_model_module": "@jupyter-widgets/controls",
      "_model_module_version": "1.5.0",
      "_model_name": "DescriptionStyleModel",
      "_view_count": null,
      "_view_module": "@jupyter-widgets/base",
      "_view_module_version": "1.2.0",
      "_view_name": "StyleView",
      "description_width": ""
     }
    },
    "be33956138d747c88e37b95ad00c2c4b": {
     "model_module": "@jupyter-widgets/controls",
     "model_module_version": "1.5.0",
     "model_name": "DescriptionStyleModel",
     "state": {
      "_model_module": "@jupyter-widgets/controls",
      "_model_module_version": "1.5.0",
      "_model_name": "DescriptionStyleModel",
      "_view_count": null,
      "_view_module": "@jupyter-widgets/base",
      "_view_module_version": "1.2.0",
      "_view_name": "StyleView",
      "description_width": ""
     }
    },
    "c4135c17b64940fa8e92572b36c2e5eb": {
     "model_module": "@jupyter-widgets/controls",
     "model_module_version": "1.5.0",
     "model_name": "ProgressStyleModel",
     "state": {
      "_model_module": "@jupyter-widgets/controls",
      "_model_module_version": "1.5.0",
      "_model_name": "ProgressStyleModel",
      "_view_count": null,
      "_view_module": "@jupyter-widgets/base",
      "_view_module_version": "1.2.0",
      "_view_name": "StyleView",
      "bar_color": null,
      "description_width": ""
     }
    },
    "d9942eea2cf74663b3e6a8f99f391667": {
     "model_module": "@jupyter-widgets/base",
     "model_module_version": "1.2.0",
     "model_name": "LayoutModel",
     "state": {
      "_model_module": "@jupyter-widgets/base",
      "_model_module_version": "1.2.0",
      "_model_name": "LayoutModel",
      "_view_count": null,
      "_view_module": "@jupyter-widgets/base",
      "_view_module_version": "1.2.0",
      "_view_name": "LayoutView",
      "align_content": null,
      "align_items": null,
      "align_self": null,
      "border": null,
      "bottom": null,
      "display": null,
      "flex": null,
      "flex_flow": null,
      "grid_area": null,
      "grid_auto_columns": null,
      "grid_auto_flow": null,
      "grid_auto_rows": null,
      "grid_column": null,
      "grid_gap": null,
      "grid_row": null,
      "grid_template_areas": null,
      "grid_template_columns": null,
      "grid_template_rows": null,
      "height": null,
      "justify_content": null,
      "justify_items": null,
      "left": null,
      "margin": null,
      "max_height": null,
      "max_width": null,
      "min_height": null,
      "min_width": null,
      "object_fit": null,
      "object_position": null,
      "order": null,
      "overflow": null,
      "overflow_x": null,
      "overflow_y": null,
      "padding": null,
      "right": null,
      "top": null,
      "visibility": null,
      "width": null
     }
    },
    "e1b25c64dc1a4aa09875947eb817be0c": {
     "model_module": "@jupyter-widgets/controls",
     "model_module_version": "1.5.0",
     "model_name": "FloatProgressModel",
     "state": {
      "_dom_classes": [],
      "_model_module": "@jupyter-widgets/controls",
      "_model_module_version": "1.5.0",
      "_model_name": "FloatProgressModel",
      "_view_count": null,
      "_view_module": "@jupyter-widgets/controls",
      "_view_module_version": "1.5.0",
      "_view_name": "ProgressView",
      "bar_style": "success",
      "description": "",
      "description_tooltip": null,
      "layout": "IPY_MODEL_93f1b9f4f1564334aee562f918d75445",
      "max": 1110,
      "min": 0,
      "orientation": "horizontal",
      "style": "IPY_MODEL_c4135c17b64940fa8e92572b36c2e5eb",
      "value": 1110
     }
    },
    "eb42ea972b2d439e8b404267525453fb": {
     "model_module": "@jupyter-widgets/controls",
     "model_module_version": "1.5.0",
     "model_name": "HTMLModel",
     "state": {
      "_dom_classes": [],
      "_model_module": "@jupyter-widgets/controls",
      "_model_module_version": "1.5.0",
      "_model_name": "HTMLModel",
      "_view_count": null,
      "_view_module": "@jupyter-widgets/controls",
      "_view_module_version": "1.5.0",
      "_view_name": "HTMLView",
      "description": "",
      "description_tooltip": null,
      "layout": "IPY_MODEL_29dd4cbad5d8471d8c342d91a50f734f",
      "placeholder": "​",
      "style": "IPY_MODEL_45e8271504544edeac9f4c0b93d70817",
      "value": "vocab.txt: 100%"
     }
    },
    "f016864eceb443d0bca3ad16f626a200": {
     "model_module": "@jupyter-widgets/controls",
     "model_module_version": "1.5.0",
     "model_name": "FloatProgressModel",
     "state": {
      "_dom_classes": [],
      "_model_module": "@jupyter-widgets/controls",
      "_model_module_version": "1.5.0",
      "_model_name": "FloatProgressModel",
      "_view_count": null,
      "_view_module": "@jupyter-widgets/controls",
      "_view_module_version": "1.5.0",
      "_view_name": "ProgressView",
      "bar_style": "success",
      "description": "",
      "description_tooltip": null,
      "layout": "IPY_MODEL_2e96d2bd8f4b44489a86e469a8ea0fee",
      "max": 213450,
      "min": 0,
      "orientation": "horizontal",
      "style": "IPY_MODEL_6c64197021694e289cb0b360a5dcedfc",
      "value": 213450
     }
    },
    "f05ed55fee144056a47fc0fa9163d647": {
     "model_module": "@jupyter-widgets/controls",
     "model_module_version": "1.5.0",
     "model_name": "HTMLModel",
     "state": {
      "_dom_classes": [],
      "_model_module": "@jupyter-widgets/controls",
      "_model_module_version": "1.5.0",
      "_model_name": "HTMLModel",
      "_view_count": null,
      "_view_module": "@jupyter-widgets/controls",
      "_view_module_version": "1.5.0",
      "_view_name": "HTMLView",
      "description": "",
      "description_tooltip": null,
      "layout": "IPY_MODEL_44b455b171724445980dabd4320e40c8",
      "placeholder": "​",
      "style": "IPY_MODEL_be33956138d747c88e37b95ad00c2c4b",
      "value": " 436M/436M [00:07&lt;00:00, 64.5MB/s]"
     }
    }
   }
  }
 },
 "nbformat": 4,
 "nbformat_minor": 0
}
