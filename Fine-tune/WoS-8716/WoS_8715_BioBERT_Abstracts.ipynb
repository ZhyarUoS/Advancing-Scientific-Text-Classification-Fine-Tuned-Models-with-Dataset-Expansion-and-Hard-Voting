{
 "cells": [
  {
   "cell_type": "code",
   "execution_count": null,
   "metadata": {
    "colab": {
     "base_uri": "https://localhost:8080/"
    },
    "id": "B4QvTrTDs5x7",
    "outputId": "5d442b9b-4e59-4a66-d704-7e2960e73cd8"
   },
   "outputs": [
    {
     "name": "stdout",
     "output_type": "stream",
     "text": [
      "Sat Nov  9 22:20:55 2024       \n",
      "+---------------------------------------------------------------------------------------+\n",
      "| NVIDIA-SMI 535.104.05             Driver Version: 535.104.05   CUDA Version: 12.2     |\n",
      "|-----------------------------------------+----------------------+----------------------+\n",
      "| GPU  Name                 Persistence-M | Bus-Id        Disp.A | Volatile Uncorr. ECC |\n",
      "| Fan  Temp   Perf          Pwr:Usage/Cap |         Memory-Usage | GPU-Util  Compute M. |\n",
      "|                                         |                      |               MIG M. |\n",
      "|=========================================+======================+======================|\n",
      "|   0  Tesla T4                       Off | 00000000:00:04.0 Off |                    0 |\n",
      "| N/A   63C    P8              11W /  70W |      0MiB / 15360MiB |      0%      Default |\n",
      "|                                         |                      |                  N/A |\n",
      "+-----------------------------------------+----------------------+----------------------+\n",
      "                                                                                         \n",
      "+---------------------------------------------------------------------------------------+\n",
      "| Processes:                                                                            |\n",
      "|  GPU   GI   CI        PID   Type   Process name                            GPU Memory |\n",
      "|        ID   ID                                                             Usage      |\n",
      "|=======================================================================================|\n",
      "|  No running processes found                                                           |\n",
      "+---------------------------------------------------------------------------------------+\n"
     ]
    }
   ],
   "source": [
    "gpu_info = !nvidia-smi\n",
    "gpu_info = '\\n'.join(gpu_info)\n",
    "if gpu_info.find('failed') >= 0:\n",
    "  print('Not connected to a GPU')\n",
    "else:\n",
    "  print(gpu_info)"
   ]
  },
  {
   "cell_type": "code",
   "execution_count": null,
   "metadata": {
    "colab": {
     "base_uri": "https://localhost:8080/"
    },
    "id": "NS75qQZEtQ8K",
    "outputId": "e575bf27-f7d6-4ff2-99ff-fe07ddfd7f23"
   },
   "outputs": [
    {
     "name": "stdout",
     "output_type": "stream",
     "text": [
      "Your runtime has 13.6 gigabytes of available RAM\n",
      "\n",
      "Not using a high-RAM runtime\n"
     ]
    }
   ],
   "source": [
    "from psutil import virtual_memory\n",
    "ram_gb = virtual_memory().total / 1e9\n",
    "print('Your runtime has {:.1f} gigabytes of available RAM\\n'.format(ram_gb))\n",
    "\n",
    "if ram_gb < 20:\n",
    "  print('Not using a high-RAM runtime')\n",
    "else:\n",
    "  print('You are using a high-RAM runtime!')"
   ]
  },
  {
   "cell_type": "code",
   "execution_count": null,
   "metadata": {
    "colab": {
     "base_uri": "https://localhost:8080/"
    },
    "id": "0AlVWD1utTsP",
    "outputId": "130a75e2-0f44-48b9-ed02-c1b04ee1f1b2"
   },
   "outputs": [
    {
     "name": "stdout",
     "output_type": "stream",
     "text": [
      "Mounted at /content/drive\n"
     ]
    }
   ],
   "source": [
    "from google.colab import drive\n",
    "drive.mount('/content/drive')"
   ]
  },
  {
   "cell_type": "code",
   "execution_count": null,
   "metadata": {
    "colab": {
     "base_uri": "https://localhost:8080/"
    },
    "id": "nzmetJDhtVtT",
    "outputId": "ff87f95d-cec0-4f99-ae2a-f14bd7e9b116"
   },
   "outputs": [
    {
     "name": "stdout",
     "output_type": "stream",
     "text": [
      "Requirement already satisfied: transformers in /usr/local/lib/python3.10/dist-packages (4.44.2)\n",
      "Requirement already satisfied: filelock in /usr/local/lib/python3.10/dist-packages (from transformers) (3.16.1)\n",
      "Requirement already satisfied: huggingface-hub<1.0,>=0.23.2 in /usr/local/lib/python3.10/dist-packages (from transformers) (0.24.7)\n",
      "Requirement already satisfied: numpy>=1.17 in /usr/local/lib/python3.10/dist-packages (from transformers) (1.26.4)\n",
      "Requirement already satisfied: packaging>=20.0 in /usr/local/lib/python3.10/dist-packages (from transformers) (24.1)\n",
      "Requirement already satisfied: pyyaml>=5.1 in /usr/local/lib/python3.10/dist-packages (from transformers) (6.0.2)\n",
      "Requirement already satisfied: regex!=2019.12.17 in /usr/local/lib/python3.10/dist-packages (from transformers) (2024.9.11)\n",
      "Requirement already satisfied: requests in /usr/local/lib/python3.10/dist-packages (from transformers) (2.32.3)\n",
      "Requirement already satisfied: safetensors>=0.4.1 in /usr/local/lib/python3.10/dist-packages (from transformers) (0.4.5)\n",
      "Requirement already satisfied: tokenizers<0.20,>=0.19 in /usr/local/lib/python3.10/dist-packages (from transformers) (0.19.1)\n",
      "Requirement already satisfied: tqdm>=4.27 in /usr/local/lib/python3.10/dist-packages (from transformers) (4.66.6)\n",
      "Requirement already satisfied: fsspec>=2023.5.0 in /usr/local/lib/python3.10/dist-packages (from huggingface-hub<1.0,>=0.23.2->transformers) (2024.10.0)\n",
      "Requirement already satisfied: typing-extensions>=3.7.4.3 in /usr/local/lib/python3.10/dist-packages (from huggingface-hub<1.0,>=0.23.2->transformers) (4.12.2)\n",
      "Requirement already satisfied: charset-normalizer<4,>=2 in /usr/local/lib/python3.10/dist-packages (from requests->transformers) (3.4.0)\n",
      "Requirement already satisfied: idna<4,>=2.5 in /usr/local/lib/python3.10/dist-packages (from requests->transformers) (3.10)\n",
      "Requirement already satisfied: urllib3<3,>=1.21.1 in /usr/local/lib/python3.10/dist-packages (from requests->transformers) (2.2.3)\n",
      "Requirement already satisfied: certifi>=2017.4.17 in /usr/local/lib/python3.10/dist-packages (from requests->transformers) (2024.8.30)\n"
     ]
    }
   ],
   "source": [
    "!pip install transformers"
   ]
  },
  {
   "cell_type": "code",
   "execution_count": null,
   "metadata": {
    "id": "o1b6s5YpuqI_"
   },
   "outputs": [],
   "source": [
    "import os\n",
    "import re\n",
    "import numpy as np\n",
    "import pandas as pd\n",
    "from sklearn.model_selection import train_test_split\n",
    "from sklearn.metrics import confusion_matrix, classification_report, f1_score, precision_score, recall_score\n",
    "from transformers import AutoTokenizer, AutoModelForSequenceClassification, AdamW, get_linear_schedule_with_warmup\n",
    "import torch\n",
    "from torch.utils.data import DataLoader, TensorDataset, RandomSampler, SequentialSampler\n",
    "import torch.nn.functional as F\n",
    "from tqdm import trange, tqdm\n",
    "import matplotlib.pyplot as plt\n",
    "import sklearn.utils\n",
    "import time\n",
    "from torch.utils.data import TensorDataset"
   ]
  },
  {
   "cell_type": "code",
   "execution_count": null,
   "metadata": {
    "id": "EnKxLmqAuzN3"
   },
   "outputs": [],
   "source": [
    "def clean_text(text):\n",
    "    if isinstance(text, (str, np.ndarray)): \n",
    "        if isinstance(text, str):\n",
    "            text = text.lower()\n",
    "            text = re.sub(r'[^a-zA-Z0-9\\s]', '', text)\n",
    "            return text\n",
    "        elif isinstance(text, np.ndarray):\n",
    "            return np.array([clean_text(t) for t in text])\n",
    "    elif pd.isnull(text): \n",
    "        return \"\"\n",
    "    else:\n",
    "        try:\n",
    "            text = str(text)\n",
    "            text = text.lower()\n",
    "            text = re.sub(r'[^a-zA-Z0-9\\s]', '', text)\n",
    "            return text\n",
    "        except Exception as e:\n",
    "            print(f\"Error cleaning text: {e}, Text Type: {type(text)}, Text Value: {text}\")\n",
    "            return \"\" "
   ]
  },
  {
   "cell_type": "code",
   "execution_count": null,
   "metadata": {
    "id": "1m8ZSsBZu1yh"
   },
   "outputs": [],
   "source": [
    "labeled_data = pd.read_csv(\"/content/drive/MyDrive/WoS/data/WoSDataset_8715.csv\")\n",
    "\n",
    "for col in ['Keywords', 'Abstract']:\n",
    "    labeled_data[col] = labeled_data[col].apply(clean_text)\n",
    "\n",
    "labeled_data['combined_text'] = labeled_data['Keywords'] + \" [SEP] \" + labeled_data['Abstract']"
   ]
  },
  {
   "cell_type": "code",
   "execution_count": null,
   "metadata": {
    "id": "kcD4ZhflKLyC"
   },
   "outputs": [],
   "source": [
    "abstractslbl = labeled_data['Abstract']\n",
    "keywordsslbl = labeled_data['Keywords']\n",
    "domainlbl = labeled_data['Domain']\n",
    "lbls = labeled_data['Label']"
   ]
  },
  {
   "cell_type": "code",
   "execution_count": null,
   "metadata": {
    "colab": {
     "base_uri": "https://localhost:8080/"
    },
    "id": "OhCyifkpJ49N",
    "outputId": "6fa513c5-5d57-4322-81a1-e96425983b33"
   },
   "outputs": [
    {
     "name": "stdout",
     "output_type": "stream",
     "text": [
      "(8716, 5)\n",
      "Index(['Label', 'Domain', 'Keywords', 'Abstract', 'combined_text'], dtype='object')\n"
     ]
    }
   ],
   "source": [
    "print(np.shape(labeled_data))\n",
    "print(labeled_data.columns)"
   ]
  },
  {
   "cell_type": "code",
   "execution_count": null,
   "metadata": {
    "colab": {
     "base_uri": "https://localhost:8080/"
    },
    "id": "2FCJG01mKbKQ",
    "outputId": "0194bc1e-bf5f-4e7f-bcc4-3cbe583e862d"
   },
   "outputs": [
    {
     "name": "stdout",
     "output_type": "stream",
     "text": [
      "Labels  ['ECE' 'Psychology' 'biochemistry']\n",
      "Label counts  [2245 2632 3839]\n"
     ]
    }
   ],
   "source": [
    "labels = np.unique(domainlbl, return_counts=True)[0]\n",
    "labelCounts=  np.unique(domainlbl, return_counts=True)[1]\n",
    "\n",
    "print(\"Labels \", labels)\n",
    "print(\"Label counts \", labelCounts)"
   ]
  },
  {
   "cell_type": "code",
   "execution_count": null,
   "metadata": {
    "colab": {
     "base_uri": "https://localhost:8080/",
     "height": 575
    },
    "id": "EiF7Vq6BKuWY",
    "outputId": "8b25a412-f91a-4a79-a535-a1cfa178d534"
   },
   "outputs": [
    {
     "data": {
      "image/png": "[encoded data removed]",
      "text/plain": [
       "<Figure size 1000x600 with 1 Axes>"
      ]
     },
     "metadata": {},
     "output_type": "display_data"
    },
    {
     "name": "stdout",
     "output_type": "stream",
     "text": [
      "The label ECE has 2245 records in the dataset.\n",
      "The label Psychology has 2632 records in the dataset.\n",
      "The label biochemistry has 3839 records in the dataset.\n"
     ]
    }
   ],
   "source": [
    "# Visualize domain counts in dataset\n",
    "plt.figure(figsize=(10, 6))\n",
    "plt.title(\"Class Counts (Dataset)\")\n",
    "plt.pie(labelCounts, labels=labels, autopct='%1.1f%%', startangle=140, colors=plt.cm.Paired(range(len(labels))))\n",
    "plt.axis('equal')\n",
    "plt.show()\n",
    "\n",
    "for i, label in enumerate(labels):\n",
    "    print(\"The label\", label, \"has\", labelCounts[i], \"records in the dataset.\")"
   ]
  },
  {
   "cell_type": "code",
   "execution_count": null,
   "metadata": {
    "id": "700DOQ7qhoQy"
   },
   "outputs": [],
   "source": [
    "labeled_data_shuffled = sklearn.utils.shuffle(labeled_data)\n",
    "abstracts_shuffled = labeled_data_shuffled['Abstract'].values\n",
    "keywords_shuffled = labeled_data_shuffled['Keywords'].values\n",
    "domains_shuffled = labeled_data_shuffled['Domain'].values\n",
    "allLabels_shuffled = labeled_data_shuffled['Label'].values\n",
    "allLabels_digit_shuffled = allLabels_shuffled.astype(int)"
   ]
  },
  {
   "cell_type": "code",
   "execution_count": null,
   "metadata": {
    "colab": {
     "base_uri": "https://localhost:8080/"
    },
    "id": "3GC2HbB_63Pu",
    "outputId": "0c05432f-1283-40c1-ccb5-18650d2bddbb"
   },
   "outputs": [
    {
     "name": "stdout",
     "output_type": "stream",
     "text": [
      "(8716, 5)\n",
      "(8716,)\n",
      "(8716,)\n",
      "(8716,)\n",
      " candidatus phytoplasma    16s rrna biosecurity taxonomy biodiversity vector seed transmission host range        [SEP] phytoplasmas are insectvectored bacteria that cause disease in a wide range of plant species the increasing availability of molecular dna analyses expertise and additional methods in recent years has led to a proliferation of discoveries of phytoplasmaplant host associations and in the numbers of taxonomic groupings for phytoplasmas the widespread use of common names based on the diseases with which they are associated as well as separate phenetic and taxonomic systems for classifying phytoplasmas based on variation at the 16s rrnaencoding gene complicates interpretation of the literature we explore this issue and related trends through a focus on australian pathosystems providing the first comprehensive compilation of information for this continent covering the phytoplasmas host plants vectors and diseases of the 33 16sr groups reported internationally only groups i ii iii x xi and xii have been recorded in australia and this highlights the need for ongoing biosecurity measures to prevent the introduction of additional pathogen groups many of the phytoplasmas reported in australia have not been sufficiently well studied to assign them to 16sr groups so it is likely that unrecognized groups and subgroups are present wide host plant ranges are apparent among well studied phytoplasmas with multiple crop and noncrop species infected by some disease management is further complicated by the fact that putative vectors have been identified for few phytoplasmas especially in australia despite rapid progress in recent years using molecular approaches phytoplasmas remain the least well studied group of plant pathogens making them a crouching tiger disease threat\n"
     ]
    }
   ],
   "source": [
    "print(np.shape(labeled_data_shuffled))\n",
    "print(np.shape(abstracts_shuffled))\n",
    "print(np.shape(keywords_shuffled))\n",
    "print(np.shape(domains_shuffled))\n",
    "\n",
    "print(labeled_data_shuffled['combined_text'][0])"
   ]
  },
  {
   "cell_type": "code",
   "execution_count": null,
   "metadata": {
    "colab": {
     "base_uri": "https://localhost:8080/"
    },
    "id": "Kudfd8zLhsTv",
    "outputId": "9454355f-29ee-47e2-ca3f-cd9089405414"
   },
   "outputs": [
    {
     "name": "stdout",
     "output_type": "stream",
     "text": [
      "(6972, 5)\n",
      "(1744, 5)\n",
      "(6972, 5)\n",
      "(1744, 5)\n",
      "(872, 5)\n"
     ]
    }
   ],
   "source": [
    "train_data, test_data = train_test_split(labeled_data_shuffled, test_size=0.2, random_state=42)\n",
    "print(np.shape(train_data))\n",
    "print(np.shape(test_data))\n",
    "\n",
    "_, val_data = train_test_split(test_data, test_size=0.5, random_state=42)\n",
    "print(np.shape(train_data))\n",
    "print(np.shape(test_data))\n",
    "print(np.shape(val_data))\n",
    "\n"
   ]
  },
  {
   "cell_type": "code",
   "execution_count": null,
   "metadata": {
    "colab": {
     "base_uri": "https://localhost:8080/",
     "height": 246,
     "referenced_widgets": [
      "0b01177629ac4258b30be91d08d0a067",
      "5b1071fbe7634a4ab8a93362479a19ea",
      "c94a8d693c69461791802044f785df84",
      "e4ca865f965942659d4ae1d2c01d6835",
      "585a3bbacada406c8121b88a3de7b9ba",
      "a35b0ebe047b4d04b9bcd28340cb79a4",
      "33409958918a4280b0f34983c1215360",
      "1d4963d55cbe4f929c4ca0fd6d11f362",
      "54eed2e1b2e54700ae94e034dc792979",
      "502a1a89dd7245dab2a311ab83736f57",
      "6544d02efd7a481dbaff43df6e58828a",
      "70d8d26c8fd447fcb6f9d646e3e226c3",
      "a54a4dc8c3b046b2a5bdbd3237317ef7",
      "d03ef0e7d4d24ca1bb11149f661c0a07",
      "562765d653ac4ecfa1fda0fc8d2f312d",
      "ffbe03660cdc41a4b3106141e2113c13",
      "1c5e5ec71be24677b9a584db49f32135",
      "23e3c59e3f724a6d9a5a9dc68441337b",
      "efe09ca33dce4fe3a896e80851c2da89",
      "faa0d793363c44e3870efe3b3e917293",
      "897ac3a159b7481799d1ae5fd275b5e2",
      "834fcc1fb2a3423f86cec41cefe69fde"
     ]
    },
    "id": "YIZ4uxq2h0Rn",
    "outputId": "2ad1269f-2199-46bd-ee3a-172f0c195350"
   },
   "outputs": [
    {
     "name": "stderr",
     "output_type": "stream",
     "text": [
      "/usr/local/lib/python3.10/dist-packages/huggingface_hub/utils/_token.py:89: UserWarning: \n",
      "The secret `HF_TOKEN` does not exist in your Colab secrets.\n",
      "To authenticate with the Hugging Face Hub, create a token in your settings tab (https://huggingface.co/settings/tokens), set it as secret in your Google Colab and restart your session.\n",
      "You will be able to reuse this secret in all of your notebooks.\n",
      "Please note that authentication is recommended but still optional to access public models or datasets.\n",
      "  warnings.warn(\n"
     ]
    },
    {
     "data": {
      "application/vnd.jupyter.widget-view+json": {
       "model_id": "0b01177629ac4258b30be91d08d0a067",
       "version_major": 2,
       "version_minor": 0
      },
      "text/plain": [
       "config.json:   0%|          | 0.00/1.11k [00:00<?, ?B/s]"
      ]
     },
     "metadata": {},
     "output_type": "display_data"
    },
    {
     "data": {
      "application/vnd.jupyter.widget-view+json": {
       "model_id": "70d8d26c8fd447fcb6f9d646e3e226c3",
       "version_major": 2,
       "version_minor": 0
      },
      "text/plain": [
       "vocab.txt:   0%|          | 0.00/213k [00:00<?, ?B/s]"
      ]
     },
     "metadata": {},
     "output_type": "display_data"
    },
    {
     "name": "stderr",
     "output_type": "stream",
     "text": [
      "/usr/local/lib/python3.10/dist-packages/transformers/tokenization_utils_base.py:1601: FutureWarning: `clean_up_tokenization_spaces` was not set. It will be set to `True` by default. This behavior will be depracted in transformers v4.45, and will be then set to `False` by default. For more details check this issue: https://github.com/huggingface/transformers/issues/31884\n",
      "  warnings.warn(\n"
     ]
    }
   ],
   "source": [
    "tokenizer = AutoTokenizer.from_pretrained(\"dmis-lab/biobert-base-cased-v1.2\")"
   ]
  },
  {
   "cell_type": "code",
   "execution_count": null,
   "metadata": {
    "id": "sCxmsPk9T7tW"
   },
   "outputs": [],
   "source": [
    "abstractslbltrain = train_data['Abstract']\n",
    "keywordsslbltrain = train_data['Keywords']\n",
    "domainlbltrain = train_data['Domain']\n",
    "lblstrain = train_data['Label']"
   ]
  },
  {
   "cell_type": "code",
   "execution_count": null,
   "metadata": {
    "colab": {
     "base_uri": "https://localhost:8080/"
    },
    "id": "e1aaQ3j-T8vi",
    "outputId": "12ba1bf5-aa19-45ad-c06d-d6ca65208f6b"
   },
   "outputs": [
    {
     "name": "stdout",
     "output_type": "stream",
     "text": [
      "(8716, 5)\n",
      "Index(['Label', 'Domain', 'Keywords', 'Abstract', 'combined_text'], dtype='object')\n"
     ]
    }
   ],
   "source": [
    "print(np.shape(labeled_data))\n",
    "print(labeled_data.columns)"
   ]
  },
  {
   "cell_type": "code",
   "execution_count": null,
   "metadata": {
    "colab": {
     "base_uri": "https://localhost:8080/"
    },
    "id": "8Gr4SA7PUATC",
    "outputId": "d9009d01-a075-4273-cef4-4ef370875dc1"
   },
   "outputs": [
    {
     "name": "stdout",
     "output_type": "stream",
     "text": [
      "Labels  ['ECE' 'Psychology' 'biochemistry']\n",
      "Label counts  [1786 2125 3061]\n"
     ]
    }
   ],
   "source": [
    "labels = np.unique(domainlbltrain, return_counts=True)[0]\n",
    "labelCounts=  np.unique(domainlbltrain, return_counts=True)[1]\n",
    "\n",
    "print(\"Labels \", labels)\n",
    "print(\"Label counts \", labelCounts)"
   ]
  },
  {
   "cell_type": "code",
   "execution_count": null,
   "metadata": {
    "colab": {
     "base_uri": "https://localhost:8080/",
     "height": 575
    },
    "id": "GDOn_hrNUGSy",
    "outputId": "59422502-c8b5-4825-ef33-2c3435690d35"
   },
   "outputs": [
    {
     "data": {
      "image/png": "[encoded data removed]",
      "text/plain": [
       "<Figure size 1000x600 with 1 Axes>"
      ]
     },
     "metadata": {},
     "output_type": "display_data"
    },
    {
     "name": "stdout",
     "output_type": "stream",
     "text": [
      "The label ECE has 1786 records in the dataset.\n",
      "The label Psychology has 2125 records in the dataset.\n",
      "The label biochemistry has 3061 records in the dataset.\n"
     ]
    }
   ],
   "source": [
    "# Visualize domain counts in dataset\n",
    "plt.figure(figsize=(10, 6))\n",
    "plt.title(\"Class Counts (Dataset)\")\n",
    "plt.pie(labelCounts, labels=labels, autopct='%1.1f%%', startangle=140, colors=plt.cm.Paired(range(len(labels))))\n",
    "plt.axis('equal')\n",
    "plt.show()\n",
    "\n",
    "for i, label in enumerate(labels):\n",
    "    print(\"The label\", label, \"has\", labelCounts[i], \"records in the dataset.\")"
   ]
  },
  {
   "cell_type": "code",
   "execution_count": null,
   "metadata": {
    "id": "JGvdipmIZEPq"
   },
   "outputs": [],
   "source": [
    "abstractslbltest = test_data['Abstract']\n",
    "keywordsslbltest = test_data['Keywords']\n",
    "domainlbltest = test_data['Domain']\n",
    "lblstest = test_data['Label']"
   ]
  },
  {
   "cell_type": "code",
   "execution_count": null,
   "metadata": {
    "colab": {
     "base_uri": "https://localhost:8080/"
    },
    "id": "l64aJDKxZEfQ",
    "outputId": "a9f32e82-9eb7-4a6b-ad2e-a5ab6349d6b8"
   },
   "outputs": [
    {
     "name": "stdout",
     "output_type": "stream",
     "text": [
      "Labels  ['ECE' 'Psychology' 'biochemistry']\n",
      "Label counts  [459 507 778]\n"
     ]
    }
   ],
   "source": [
    "labels = np.unique(domainlbltest, return_counts=True)[0]\n",
    "labelCounts=  np.unique(domainlbltest, return_counts=True)[1]\n",
    "\n",
    "print(\"Labels \", labels)\n",
    "print(\"Label counts \", labelCounts)"
   ]
  },
  {
   "cell_type": "code",
   "execution_count": null,
   "metadata": {
    "colab": {
     "base_uri": "https://localhost:8080/",
     "height": 575
    },
    "id": "RhCMATTGZErU",
    "outputId": "04a6c59b-8445-4d15-bb9b-c161c1fcd7e1"
   },
   "outputs": [
    {
     "data": {
      "image/png": "[encoded data removed]",
      "text/plain": [
       "<Figure size 1000x600 with 1 Axes>"
      ]
     },
     "metadata": {},
     "output_type": "display_data"
    },
    {
     "name": "stdout",
     "output_type": "stream",
     "text": [
      "The label ECE has 459 records in the dataset.\n",
      "The label Psychology has 507 records in the dataset.\n",
      "The label biochemistry has 778 records in the dataset.\n"
     ]
    }
   ],
   "source": [
    "# Visualize domain counts in dataset\n",
    "plt.figure(figsize=(10, 6))\n",
    "plt.title(\"Class Counts (Dataset)\")\n",
    "plt.pie(labelCounts, labels=labels, autopct='%1.1f%%', startangle=140, colors=plt.cm.Paired(range(len(labels))))\n",
    "plt.axis('equal')\n",
    "plt.show()\n",
    "\n",
    "for i, label in enumerate(labels):\n",
    "    print(\"The label\", label, \"has\", labelCounts[i], \"records in the dataset.\")"
   ]
  },
  {
   "cell_type": "code",
   "execution_count": null,
   "metadata": {
    "id": "0eWbApo_ZROV"
   },
   "outputs": [],
   "source": [
    "abstractslblval = val_data['Abstract']\n",
    "keywordsslblval = val_data['Keywords']\n",
    "domainlblval = val_data['Domain']\n",
    "lblsval = val_data['Label']"
   ]
  },
  {
   "cell_type": "code",
   "execution_count": null,
   "metadata": {
    "colab": {
     "base_uri": "https://localhost:8080/"
    },
    "id": "alfNPrPwZRmt",
    "outputId": "95a2b3b6-cbfc-43c9-a1a4-efe21d334274"
   },
   "outputs": [
    {
     "name": "stdout",
     "output_type": "stream",
     "text": [
      "Labels  ['ECE' 'Psychology' 'biochemistry']\n",
      "Label counts  [226 258 388]\n"
     ]
    }
   ],
   "source": [
    "labels = np.unique(domainlblval, return_counts=True)[0]\n",
    "labelCounts=  np.unique(domainlblval, return_counts=True)[1]\n",
    "\n",
    "print(\"Labels \", labels)\n",
    "print(\"Label counts \", labelCounts)"
   ]
  },
  {
   "cell_type": "code",
   "execution_count": null,
   "metadata": {
    "colab": {
     "base_uri": "https://localhost:8080/",
     "height": 575
    },
    "id": "-vH16QzfZE6m",
    "outputId": "89cf1df1-dfde-4929-a8bc-f214504484c2"
   },
   "outputs": [
    {
     "data": {
      "image/png": "[encoded data removed]",
      "text/plain": [
       "<Figure size 1000x600 with 1 Axes>"
      ]
     },
     "metadata": {},
     "output_type": "display_data"
    },
    {
     "name": "stdout",
     "output_type": "stream",
     "text": [
      "The label ECE has 226 records in the dataset.\n",
      "The label Psychology has 258 records in the dataset.\n",
      "The label biochemistry has 388 records in the dataset.\n"
     ]
    }
   ],
   "source": [
    "plt.figure(figsize=(10, 6))\n",
    "plt.title(\"Class Counts (Dataset)\")\n",
    "plt.pie(labelCounts, labels=labels, autopct='%1.1f%%', startangle=140, colors=plt.cm.Paired(range(len(labels))))\n",
    "plt.axis('equal')\n",
    "plt.show()\n",
    "\n",
    "for i, label in enumerate(labels):\n",
    "    print(\"The label\", label, \"has\", labelCounts[i], \"records in the dataset.\")"
   ]
  },
  {
   "cell_type": "code",
   "execution_count": null,
   "metadata": {
    "id": "pxeAvHMGh3fx"
   },
   "outputs": [],
   "source": [
    "def encode_data(data, tokenizer, max_length=128, labeled=True):\n",
    "    inputs = tokenizer(\n",
    "        data['combined_text'].tolist(),\n",
    "        max_length=max_length,\n",
    "        padding=\"max_length\",\n",
    "        truncation=True,\n",
    "        return_tensors=\"pt\"\n",
    "    )\n",
    "\n",
    "    if labeled and 'Label' in data.columns:\n",
    "        labels = torch.tensor(data['Label'].values.astype(int))\n",
    "        return TensorDataset(inputs['input_ids'], inputs['attention_mask'], labels)\n",
    "    else:\n",
    "        return TensorDataset(inputs['input_ids'], inputs['attention_mask'])\n"
   ]
  },
  {
   "cell_type": "code",
   "execution_count": null,
   "metadata": {
    "id": "bqVvQ4ZriHk_"
   },
   "outputs": [],
   "source": [
    "train_dataset = encode_data(train_data, tokenizer)\n",
    "val_dataset = encode_data(val_data, tokenizer)\n",
    "test_dataset = encode_data(test_data, tokenizer)"
   ]
  },
  {
   "cell_type": "code",
   "execution_count": null,
   "metadata": {
    "id": "MVqj6GkGiOLU"
   },
   "outputs": [],
   "source": [
    "train_dataloader = DataLoader(train_dataset, sampler=RandomSampler(train_dataset), batch_size=32)\n",
    "val_dataloader = DataLoader(val_dataset, sampler=SequentialSampler(val_dataset), batch_size=32)\n",
    "test_dataloader = DataLoader(test_dataset, sampler=SequentialSampler(test_dataset), batch_size=32)"
   ]
  },
  {
   "cell_type": "code",
   "execution_count": null,
   "metadata": {
    "colab": {
     "base_uri": "https://localhost:8080/",
     "height": 940,
     "referenced_widgets": [
      "19f49a46f28245db86d7e9351aeb9c8c",
      "1b4f70e52f7f4d5e934cbf1e494d1ec1",
      "6ae0c581a1c147d9aa6b914aedc435d6",
      "a6dc25c6813441b7ac579f1636792227",
      "2db2d5d41597438899b83bf73c01be47",
      "e67b8fe5a31641cfbff055b6b41aa829",
      "3a2787b534bb4c269b1f3bf967fe8941",
      "c63e01d731494a54ad7b0eacf083fbf1",
      "9dec901ccc1d441dbc46792c04ae1301",
      "0eaefc3eeb5d4230bdbb9aee1e23117c",
      "0c1d5298888045ee9fa847a4e85b4365"
     ]
    },
    "id": "xZnFwk-jiQ1N",
    "outputId": "f7bfdaaa-fc8b-4039-c3d6-c16a00f11f30"
   },
   "outputs": [
    {
     "name": "stdout",
     "output_type": "stream",
     "text": [
      "3\n"
     ]
    },
    {
     "data": {
      "application/vnd.jupyter.widget-view+json": {
       "model_id": "19f49a46f28245db86d7e9351aeb9c8c",
       "version_major": 2,
       "version_minor": 0
      },
      "text/plain": [
       "pytorch_model.bin:   0%|          | 0.00/436M [00:00<?, ?B/s]"
      ]
     },
     "metadata": {},
     "output_type": "display_data"
    },
    {
     "name": "stderr",
     "output_type": "stream",
     "text": [
      "Some weights of BertForSequenceClassification were not initialized from the model checkpoint at dmis-lab/biobert-base-cased-v1.2 and are newly initialized: ['classifier.bias', 'classifier.weight']\n",
      "You should probably TRAIN this model on a down-stream task to be able to use it for predictions and inference.\n"
     ]
    },
    {
     "data": {
      "text/plain": [
       "BertForSequenceClassification(\n",
       "  (bert): BertModel(\n",
       "    (embeddings): BertEmbeddings(\n",
       "      (word_embeddings): Embedding(28996, 768, padding_idx=0)\n",
       "      (position_embeddings): Embedding(512, 768)\n",
       "      (token_type_embeddings): Embedding(2, 768)\n",
       "      (LayerNorm): LayerNorm((768,), eps=1e-12, elementwise_affine=True)\n",
       "      (dropout): Dropout(p=0.1, inplace=False)\n",
       "    )\n",
       "    (encoder): BertEncoder(\n",
       "      (layer): ModuleList(\n",
       "        (0-11): 12 x BertLayer(\n",
       "          (attention): BertAttention(\n",
       "            (self): BertSdpaSelfAttention(\n",
       "              (query): Linear(in_features=768, out_features=768, bias=True)\n",
       "              (key): Linear(in_features=768, out_features=768, bias=True)\n",
       "              (value): Linear(in_features=768, out_features=768, bias=True)\n",
       "              (dropout): Dropout(p=0.1, inplace=False)\n",
       "            )\n",
       "            (output): BertSelfOutput(\n",
       "              (dense): Linear(in_features=768, out_features=768, bias=True)\n",
       "              (LayerNorm): LayerNorm((768,), eps=1e-12, elementwise_affine=True)\n",
       "              (dropout): Dropout(p=0.1, inplace=False)\n",
       "            )\n",
       "          )\n",
       "          (intermediate): BertIntermediate(\n",
       "            (dense): Linear(in_features=768, out_features=3072, bias=True)\n",
       "            (intermediate_act_fn): GELUActivation()\n",
       "          )\n",
       "          (output): BertOutput(\n",
       "            (dense): Linear(in_features=3072, out_features=768, bias=True)\n",
       "            (LayerNorm): LayerNorm((768,), eps=1e-12, elementwise_affine=True)\n",
       "            (dropout): Dropout(p=0.1, inplace=False)\n",
       "          )\n",
       "        )\n",
       "      )\n",
       "    )\n",
       "    (pooler): BertPooler(\n",
       "      (dense): Linear(in_features=768, out_features=768, bias=True)\n",
       "      (activation): Tanh()\n",
       "    )\n",
       "  )\n",
       "  (dropout): Dropout(p=0.1, inplace=False)\n",
       "  (classifier): Linear(in_features=768, out_features=3, bias=True)\n",
       ")"
      ]
     },
     "execution_count": 28,
     "metadata": {},
     "output_type": "execute_result"
    }
   ],
   "source": [
    "print(len(np.unique(train_data['Label'])))\n",
    "model = AutoModelForSequenceClassification.from_pretrained(\"dmis-lab/biobert-base-cased-v1.2\", num_labels=len(np.unique(train_data['Label'])))\n",
    "device = torch.device(\"cuda\" if torch.cuda.is_available() else \"cpu\")\n",
    "model.to(device)"
   ]
  },
  {
   "cell_type": "code",
   "execution_count": null,
   "metadata": {
    "id": "tkWRqh9eiozN"
   },
   "outputs": [],
   "source": [
    "def calculate_metrics_f(valType, predictions, true_labels):\n",
    "    if valType == 'test':\n",
    "        cm = confusion_matrix(true_labels, predictions)\n",
    "        report = classification_report(true_labels, predictions)\n",
    "        f1_micro = f1_score(true_labels, predictions, average='micro')\n",
    "        print(\"\\nClassification Report:\\n\", report)\n",
    "        return f1_micro\n",
    "    elif valType == 'val':\n",
    "        f1_micro = f1_score(true_labels, predictions, average='micro')\n",
    "        return f1_micro"
   ]
  },
  {
   "cell_type": "code",
   "execution_count": null,
   "metadata": {
    "id": "qtxucMQfkITn"
   },
   "outputs": [],
   "source": [
    "def calculate_metrics(valType, predictions, true_labels):\n",
    "    if(valType == 'test'):\n",
    "        cm = confusion_matrix(true_labels, predictions)\n",
    "        print(\"Confusion Matrix:\\n\", cm)\n",
    "\n",
    "        report = classification_report(true_labels, predictions, target_names=[str(i) for i in range(len(np.unique(true_labels)))])\n",
    "        print(\"\\nClassification Report:\\n\", report)\n",
    "\n",
    "        f1_macro = f1_score(true_labels, predictions, average='macro')\n",
    "        f1_micro = f1_score(true_labels, predictions, average='micro')\n",
    "        f1_weighted = f1_score(true_labels, predictions, average='weighted')\n",
    "\n",
    "        precision_macro = precision_score(true_labels, predictions, average='macro')\n",
    "        precision_micro = precision_score(true_labels, predictions, average='micro')\n",
    "        precision_weighted = precision_score(true_labels, predictions, average='weighted')\n",
    "\n",
    "        recall_macro = recall_score(true_labels, predictions, average='macro')\n",
    "        recall_micro = recall_score(true_labels, predictions, average='micro')\n",
    "        recall_weighted = recall_score(true_labels, predictions, average='weighted')\n",
    "\n",
    "        print(f\"Macro F1 Score: {f1_macro}\")\n",
    "        print(f\"Micro F1 Score: {f1_micro}\")\n",
    "        print(f\"Weighted F1 Score: {f1_weighted}\")\n",
    "\n",
    "        print(f\"Macro Precision: {precision_macro}\")\n",
    "        print(f\"Micro Precision: {precision_micro}\")\n",
    "        print(f\"Weighted Precision: {precision_weighted}\")\n",
    "\n",
    "        print(f\"Macro Recall: {recall_macro}\")\n",
    "        print(f\"Micro Recall: {recall_micro}\")\n",
    "        print(f\"Weighted Recall: {recall_weighted}\")\n",
    "\n",
    "    elif(valType == 'val'):\n",
    "        cm = confusion_matrix(true_labels, predictions)\n",
    "        f1_macro = f1_score(true_labels, predictions, average='macro')\n",
    "        f1_micro = f1_score(true_labels, predictions, average='micro')\n",
    "        f1_weighted = f1_score(true_labels, predictions, average='weighted')\n",
    "\n",
    "        precision_macro = precision_score(true_labels, predictions, average='macro')\n",
    "        precision_micro = precision_score(true_labels, predictions, average='micro')\n",
    "        precision_weighted = precision_score(true_labels, predictions, average='weighted')\n",
    "\n",
    "        recall_macro = recall_score(true_labels, predictions, average='macro')\n",
    "        recall_micro = recall_score(true_labels, predictions, average='micro')\n",
    "        recall_weighted = recall_score(true_labels, predictions, average='weighted')\n",
    "        # print('Val Micro F1:', f1_micro)\n",
    "        return f1_micro"
   ]
  },
  {
   "cell_type": "code",
   "execution_count": null,
   "metadata": {
    "colab": {
     "base_uri": "https://localhost:8080/"
    },
    "id": "TacIdpsRite9",
    "outputId": "eb86e99c-c81d-45d1-82f7-17bec60d91dc"
   },
   "outputs": [
    {
     "name": "stdout",
     "output_type": "stream",
     "text": [
      "\n",
      "Training with learning rate: 2e-05\n"
     ]
    },
    {
     "name": "stderr",
     "output_type": "stream",
     "text": [
      "/usr/local/lib/python3.10/dist-packages/transformers/optimization.py:591: FutureWarning: This implementation of AdamW is deprecated and will be removed in a future version. Use the PyTorch implementation torch.optim.AdamW instead, or set `no_deprecation_warning=True` to disable this warning\n",
      "  warnings.warn(\n",
      "Epoch 1/20: 100%|██████████| 218/218 [02:14<00:00,  1.62batch/s]\n"
     ]
    },
    {
     "name": "stdout",
     "output_type": "stream",
     "text": [
      "Train Loss: 0.6364196873517758\n",
      "Validation Micro F1: 0.9587155963302753\n",
      "Epoch 1/20, Train Loss: 0.6364196873517758, Val Micro F1: 0.9587155963302753\n",
      "Best model saved.\n"
     ]
    },
    {
     "name": "stderr",
     "output_type": "stream",
     "text": [
      "Epoch 2/20: 100%|██████████| 218/218 [02:21<00:00,  1.54batch/s]\n"
     ]
    },
    {
     "name": "stdout",
     "output_type": "stream",
     "text": [
      "Train Loss: 0.13752805245100358\n",
      "Validation Micro F1: 0.9690366972477065\n",
      "Epoch 2/20, Train Loss: 0.13752805245100358, Val Micro F1: 0.9690366972477065\n",
      "Best model saved.\n"
     ]
    },
    {
     "name": "stderr",
     "output_type": "stream",
     "text": [
      "Epoch 3/20: 100%|██████████| 218/218 [02:21<00:00,  1.54batch/s]\n"
     ]
    },
    {
     "name": "stdout",
     "output_type": "stream",
     "text": [
      "Train Loss: 0.07479159554270087\n",
      "Validation Micro F1: 0.9759174311926605\n",
      "Epoch 3/20, Train Loss: 0.07479159554270087, Val Micro F1: 0.9759174311926605\n",
      "Best model saved.\n"
     ]
    },
    {
     "name": "stderr",
     "output_type": "stream",
     "text": [
      "Epoch 4/20: 100%|██████████| 218/218 [02:21<00:00,  1.55batch/s]\n"
     ]
    },
    {
     "name": "stdout",
     "output_type": "stream",
     "text": [
      "Train Loss: 0.04231593875137559\n",
      "Validation Micro F1: 0.9782110091743119\n",
      "Epoch 4/20, Train Loss: 0.04231593875137559, Val Micro F1: 0.9782110091743119\n",
      "Best model saved.\n"
     ]
    },
    {
     "name": "stderr",
     "output_type": "stream",
     "text": [
      "Epoch 5/20: 100%|██████████| 218/218 [02:21<00:00,  1.54batch/s]\n"
     ]
    },
    {
     "name": "stdout",
     "output_type": "stream",
     "text": [
      "Train Loss: 0.02014773505165267\n",
      "Validation Micro F1: 0.9827981651376146\n",
      "Epoch 5/20, Train Loss: 0.02014773505165267, Val Micro F1: 0.9827981651376146\n",
      "Best model saved.\n"
     ]
    },
    {
     "name": "stderr",
     "output_type": "stream",
     "text": [
      "Epoch 6/20: 100%|██████████| 218/218 [02:21<00:00,  1.54batch/s]\n"
     ]
    },
    {
     "name": "stdout",
     "output_type": "stream",
     "text": [
      "Train Loss: 0.012418134376692902\n",
      "Validation Micro F1: 0.9782110091743119\n",
      "Epoch 6/20, Train Loss: 0.012418134376692902, Val Micro F1: 0.9782110091743119\n"
     ]
    },
    {
     "name": "stderr",
     "output_type": "stream",
     "text": [
      "Epoch 7/20: 100%|██████████| 218/218 [02:20<00:00,  1.55batch/s]\n"
     ]
    },
    {
     "name": "stdout",
     "output_type": "stream",
     "text": [
      "Train Loss: 0.014368378806649922\n",
      "Validation Micro F1: 0.9770642201834863\n",
      "Epoch 7/20, Train Loss: 0.014368378806649922, Val Micro F1: 0.9770642201834863\n"
     ]
    },
    {
     "name": "stderr",
     "output_type": "stream",
     "text": [
      "Epoch 8/20: 100%|██████████| 218/218 [02:21<00:00,  1.54batch/s]\n"
     ]
    },
    {
     "name": "stdout",
     "output_type": "stream",
     "text": [
      "Train Loss: 0.011619140789470284\n",
      "Validation Micro F1: 0.9782110091743119\n",
      "Epoch 8/20, Train Loss: 0.011619140789470284, Val Micro F1: 0.9782110091743119\n"
     ]
    },
    {
     "name": "stderr",
     "output_type": "stream",
     "text": [
      "Epoch 9/20: 100%|██████████| 218/218 [02:21<00:00,  1.54batch/s]\n"
     ]
    },
    {
     "name": "stdout",
     "output_type": "stream",
     "text": [
      "Train Loss: 0.004314310472899698\n",
      "Validation Micro F1: 0.9805045871559633\n",
      "Epoch 9/20, Train Loss: 0.004314310472899698, Val Micro F1: 0.9805045871559633\n"
     ]
    },
    {
     "name": "stderr",
     "output_type": "stream",
     "text": [
      "Epoch 10/20: 100%|██████████| 218/218 [02:21<00:00,  1.54batch/s]\n"
     ]
    },
    {
     "name": "stdout",
     "output_type": "stream",
     "text": [
      "Train Loss: 0.003090376795350719\n"
     ]
    },
    {
     "name": "stderr",
     "output_type": "stream",
     "text": [
      "/usr/local/lib/python3.10/dist-packages/transformers/optimization.py:591: FutureWarning: This implementation of AdamW is deprecated and will be removed in a future version. Use the PyTorch implementation torch.optim.AdamW instead, or set `no_deprecation_warning=True` to disable this warning\n",
      "  warnings.warn(\n"
     ]
    },
    {
     "name": "stdout",
     "output_type": "stream",
     "text": [
      "Validation Micro F1: 0.981651376146789\n",
      "Epoch 10/20, Train Loss: 0.003090376795350719, Val Micro F1: 0.981651376146789\n",
      "Early stopping applied.\n",
      "\n",
      "Training with learning rate: 5e-06\n"
     ]
    },
    {
     "name": "stderr",
     "output_type": "stream",
     "text": [
      "Epoch 1/20: 100%|██████████| 218/218 [02:21<00:00,  1.54batch/s]\n"
     ]
    },
    {
     "name": "stdout",
     "output_type": "stream",
     "text": [
      "Train Loss: 0.0024309107884786033\n"
     ]
    },
    {
     "name": "stderr",
     "output_type": "stream",
     "text": [
      "/usr/local/lib/python3.10/dist-packages/transformers/optimization.py:591: FutureWarning: This implementation of AdamW is deprecated and will be removed in a future version. Use the PyTorch implementation torch.optim.AdamW instead, or set `no_deprecation_warning=True` to disable this warning\n",
      "  warnings.warn(\n"
     ]
    },
    {
     "name": "stdout",
     "output_type": "stream",
     "text": [
      "Validation Micro F1: 0.981651376146789\n",
      "Epoch 1/20, Train Loss: 0.0024309107884786033, Val Micro F1: 0.981651376146789\n",
      "Early stopping applied.\n",
      "\n",
      "Training with learning rate: 1e-06\n"
     ]
    },
    {
     "name": "stderr",
     "output_type": "stream",
     "text": [
      "Epoch 1/20: 100%|██████████| 218/218 [02:21<00:00,  1.54batch/s]\n"
     ]
    },
    {
     "name": "stdout",
     "output_type": "stream",
     "text": [
      "Train Loss: 0.0020766484146214673\n"
     ]
    },
    {
     "name": "stderr",
     "output_type": "stream",
     "text": [
      "/usr/local/lib/python3.10/dist-packages/transformers/optimization.py:591: FutureWarning: This implementation of AdamW is deprecated and will be removed in a future version. Use the PyTorch implementation torch.optim.AdamW instead, or set `no_deprecation_warning=True` to disable this warning\n",
      "  warnings.warn(\n"
     ]
    },
    {
     "name": "stdout",
     "output_type": "stream",
     "text": [
      "Validation Micro F1: 0.981651376146789\n",
      "Epoch 1/20, Train Loss: 0.0020766484146214673, Val Micro F1: 0.981651376146789\n",
      "Early stopping applied.\n",
      "\n",
      "Training with learning rate: 2e-06\n"
     ]
    },
    {
     "name": "stderr",
     "output_type": "stream",
     "text": [
      "Epoch 1/20: 100%|██████████| 218/218 [02:21<00:00,  1.54batch/s]\n"
     ]
    },
    {
     "name": "stdout",
     "output_type": "stream",
     "text": [
      "Train Loss: 0.0023071033807488483\n",
      "Validation Micro F1: 0.981651376146789\n",
      "Epoch 1/20, Train Loss: 0.0023071033807488483, Val Micro F1: 0.981651376146789\n",
      "Early stopping applied.\n"
     ]
    },
    {
     "name": "stderr",
     "output_type": "stream",
     "text": [
      "<ipython-input-31-99034260d263>:60: FutureWarning: You are using `torch.load` with `weights_only=False` (the current default value), which uses the default pickle module implicitly. It is possible to construct malicious pickle data which will execute arbitrary code during unpickling (See https://github.com/pytorch/pytorch/blob/main/SECURITY.md#untrusted-models for more details). In a future release, the default value for `weights_only` will be flipped to `True`. This limits the functions that could be executed during unpickling. Arbitrary objects will no longer be allowed to be loaded via this mode unless they are explicitly allowlisted by the user via `torch.serialization.add_safe_globals`. We recommend you start setting `weights_only=True` for any use case where you don't have full control of the loaded file. Please open an issue on GitHub for any issues related to this experimental feature.\n",
      "  model.load_state_dict(torch.load('best_model.pth'))\n"
     ]
    },
    {
     "name": "stdout",
     "output_type": "stream",
     "text": [
      "Best model loaded.\n"
     ]
    }
   ],
   "source": [
    "\n",
    "epochs = 20\n",
    "learning_rates = [2e-5, 5e-6, 1e-6, 2e-6]\n",
    "early_stopping_patience = 5\n",
    "best_val_f1 = 0\n",
    "early_stopping_counter = 0\n",
    "\n",
    "for lr in learning_rates:\n",
    "    print(f\"\\nTraining with learning rate: {lr}\")\n",
    "    optimizer = AdamW(model.parameters(), lr=lr, eps=1e-8)\n",
    "    total_steps = len(train_dataloader) * epochs\n",
    "    scheduler = get_linear_schedule_with_warmup(optimizer, num_warmup_steps=0.1 * total_steps, num_training_steps=total_steps)\n",
    "\n",
    "    for epoch in range(epochs):\n",
    "        model.train()\n",
    "        total_train_loss = 0\n",
    "        for batch in tqdm(train_dataloader, desc=f\"Epoch {epoch + 1}/{epochs}\", unit=\"batch\"):\n",
    "            batch = tuple(t.to(device) for t in batch)\n",
    "            input_ids, input_mask, labels = batch\n",
    "            model.zero_grad()\n",
    "            outputs = model(input_ids=input_ids, attention_mask=input_mask, labels=labels)\n",
    "            loss = outputs.loss\n",
    "            total_train_loss += loss.item()\n",
    "            loss.backward()\n",
    "            optimizer.step()\n",
    "            scheduler.step()\n",
    "        avg_train_loss = total_train_loss / len(train_dataloader)\n",
    "        print(f\"Train Loss: {avg_train_loss}\")\n",
    "\n",
    "        # Validation\n",
    "        model.eval()\n",
    "        predictions, true_labels = [], []\n",
    "        for batch in val_dataloader:\n",
    "            batch = tuple(t.to(device) for t in batch)\n",
    "            input_ids, input_mask, labels = batch\n",
    "            with torch.no_grad():\n",
    "                outputs = model(input_ids=input_ids, attention_mask=input_mask)\n",
    "            logits = outputs.logits.detach().cpu().numpy()\n",
    "            batch_predictions = np.argmax(logits, axis=1)\n",
    "            predictions.extend(batch_predictions)\n",
    "            true_labels.extend(labels.to('cpu').numpy())\n",
    "        val_f1 = f1_score(true_labels, predictions, average='micro')\n",
    "        print(f\"Validation Micro F1: {val_f1}\")\n",
    "        val_micro_f1 = calculate_metrics_f('val', predictions, true_labels)\n",
    "        print(f\"Epoch {epoch + 1}/{epochs}, Train Loss: {avg_train_loss}, Val Micro F1: {val_micro_f1}\")\n",
    "\n",
    "        # Early stopping check\n",
    "        if val_f1 > best_val_f1:\n",
    "            best_val_f1 = val_f1\n",
    "            early_stopping_counter = 0\n",
    "            torch.save(model.state_dict(), 'best_model.pth')\n",
    "            print(\"Best model saved.\")\n",
    "        else:\n",
    "            early_stopping_counter += 1\n",
    "            if early_stopping_counter >= early_stopping_patience:\n",
    "                print(\"Early stopping applied.\")\n",
    "                break\n",
    "\n",
    "# Load the best model for testing\n",
    "model.load_state_dict(torch.load('best_model.pth'))\n",
    "print(\"Best model loaded.\")"
   ]
  },
  {
   "cell_type": "code",
   "execution_count": null,
   "metadata": {
    "colab": {
     "base_uri": "https://localhost:8080/"
    },
    "id": "zCM_A6DjkgfI",
    "outputId": "e6d09b21-b431-4848-e47e-451361a7f102"
   },
   "outputs": [
    {
     "name": "stdout",
     "output_type": "stream",
     "text": [
      "Confusion Matrix:\n",
      " [[449   8   2]\n",
      " [  9 492   6]\n",
      " [  0   5 773]]\n",
      "\n",
      "Classification Report:\n",
      "               precision    recall  f1-score   support\n",
      "\n",
      "           0       0.98      0.98      0.98       459\n",
      "           1       0.97      0.97      0.97       507\n",
      "           2       0.99      0.99      0.99       778\n",
      "\n",
      "    accuracy                           0.98      1744\n",
      "   macro avg       0.98      0.98      0.98      1744\n",
      "weighted avg       0.98      0.98      0.98      1744\n",
      "\n",
      "Macro F1 Score: 0.9810911996310442\n",
      "Micro F1 Score: 0.9827981651376146\n",
      "Weighted F1 Score: 0.9827835322044909\n",
      "Macro Precision: 0.9814544976239429\n",
      "Micro Precision: 0.9827981651376146\n",
      "Weighted Precision: 0.9827749965768406\n",
      "Macro Recall: 0.9807336578633984\n",
      "Micro Recall: 0.9827981651376146\n",
      "Weighted Recall: 0.9827981651376146\n"
     ]
    }
   ],
   "source": [
    "# Evaluation\n",
    "model.eval()\n",
    "predictions = []\n",
    "true_labels = []\n",
    "\n",
    "for batch in test_dataloader:\n",
    "    batch = tuple(t.to(device) for t in batch)\n",
    "    input_ids, input_mask, labels = batch\n",
    "\n",
    "    with torch.no_grad():\n",
    "        outputs = model(input_ids=input_ids, attention_mask=input_mask)\n",
    "        logits = outputs.logits\n",
    "\n",
    "    logits = logits.detach().cpu().numpy()\n",
    "    label_ids = labels.to('cpu').numpy()\n",
    "\n",
    "    batch_predictions = np.argmax(logits, axis=1)\n",
    "    predictions.extend(batch_predictions)\n",
    "    true_labels.extend(label_ids)\n",
    "\n",
    "# Calculate and print metrics\n",
    "calculate_metrics('test', predictions, true_labels)"
   ]
  },
  {
   "cell_type": "code",
   "execution_count": null,
   "metadata": {
    "colab": {
     "base_uri": "https://localhost:8080/"
    },
    "id": "XGeuh6E0UgD-",
    "outputId": "91260b51-1b36-4e46-a385-b0fef68a4333"
   },
   "outputs": [
    {
     "name": "stdout",
     "output_type": "stream",
     "text": [
      "\n",
      "Test Metrics:\n",
      "Confusion Matrix:\n",
      " [[449   8   2]\n",
      " [  9 492   6]\n",
      " [  0   5 773]]\n",
      "Classification Report:\n",
      "               precision    recall  f1-score   support\n",
      "\n",
      "           0       0.98      0.98      0.98       459\n",
      "           1       0.97      0.97      0.97       507\n",
      "           2       0.99      0.99      0.99       778\n",
      "\n",
      "    accuracy                           0.98      1744\n",
      "   macro avg       0.98      0.98      0.98      1744\n",
      "weighted avg       0.98      0.98      0.98      1744\n",
      "\n",
      "Macro F1: 0.9810911996310442\n",
      "Micro F1: 0.9827981651376146\n",
      "Weighted F1: 0.9827835322044909\n"
     ]
    }
   ],
   "source": [
    "print(\"\\nTest Metrics:\")\n",
    "print(\"Confusion Matrix:\\n\", confusion_matrix(true_labels, predictions))\n",
    "print(\"Classification Report:\\n\", classification_report(true_labels, predictions))\n",
    "print(\"Macro F1:\", f1_score(true_labels, predictions, average='macro'))\n",
    "print(\"Micro F1:\", f1_score(true_labels, predictions, average='micro'))\n",
    "print(\"Weighted F1:\", f1_score(true_labels, predictions, average='weighted'))"
   ]
  },
  {
   "cell_type": "code",
   "execution_count": null,
   "metadata": {
    "id": "q2YXRSBbhOZR"
   },
   "outputs": [],
   "source": [
    "model.save_pretrained('/content/drive/MyDrive/WoS/BioBERT_WoS_8715_records')"
   ]
  },
  {
   "cell_type": "code",
   "execution_count": null,
   "metadata": {
    "id": "yVRdYSJFbBUs"
   },
   "outputs": [],
   "source": [
    "from google.colab import runtime\n",
    "print('End of the runtime!')\n",
    "runtime.unassign()"
   ]
  }
 ],
 "metadata": {
  "accelerator": "GPU",
  "colab": {
   "gpuType": "T4",
   "provenance": []
  },
  "kernelspec": {
   "display_name": "Python 3",
   "name": "python3"
  },
  "language_info": {
   "name": "python"
  },
  "widgets": {
   "application/vnd.jupyter.widget-state+json": {
    "0b01177629ac4258b30be91d08d0a067": {
     "model_module": "@jupyter-widgets/controls",
     "model_module_version": "1.5.0",
     "model_name": "HBoxModel",
     "state": {
      "_dom_classes": [],
      "_model_module": "@jupyter-widgets/controls",
      "_model_module_version": "1.5.0",
      "_model_name": "HBoxModel",
      "_view_count": null,
      "_view_module": "@jupyter-widgets/controls",
      "_view_module_version": "1.5.0",
      "_view_name": "HBoxView",
      "box_style": "",
      "children": [
       "IPY_MODEL_5b1071fbe7634a4ab8a93362479a19ea",
       "IPY_MODEL_c94a8d693c69461791802044f785df84",
       "IPY_MODEL_e4ca865f965942659d4ae1d2c01d6835"
      ],
      "layout": "IPY_MODEL_585a3bbacada406c8121b88a3de7b9ba"
     }
    },
    "0c1d5298888045ee9fa847a4e85b4365": {
     "model_module": "@jupyter-widgets/controls",
     "model_module_version": "1.5.0",
     "model_name": "DescriptionStyleModel",
     "state": {
      "_model_module": "@jupyter-widgets/controls",
      "_model_module_version": "1.5.0",
      "_model_name": "DescriptionStyleModel",
      "_view_count": null,
      "_view_module": "@jupyter-widgets/base",
      "_view_module_version": "1.2.0",
      "_view_name": "StyleView",
      "description_width": ""
     }
    },
    "0eaefc3eeb5d4230bdbb9aee1e23117c": {
     "model_module": "@jupyter-widgets/base",
     "model_module_version": "1.2.0",
     "model_name": "LayoutModel",
     "state": {
      "_model_module": "@jupyter-widgets/base",
      "_model_module_version": "1.2.0",
      "_model_name": "LayoutModel",
      "_view_count": null,
      "_view_module": "@jupyter-widgets/base",
      "_view_module_version": "1.2.0",
      "_view_name": "LayoutView",
      "align_content": null,
      "align_items": null,
      "align_self": null,
      "border": null,
      "bottom": null,
      "display": null,
      "flex": null,
      "flex_flow": null,
      "grid_area": null,
      "grid_auto_columns": null,
      "grid_auto_flow": null,
      "grid_auto_rows": null,
      "grid_column": null,
      "grid_gap": null,
      "grid_row": null,
      "grid_template_areas": null,
      "grid_template_columns": null,
      "grid_template_rows": null,
      "height": null,
      "justify_content": null,
      "justify_items": null,
      "left": null,
      "margin": null,
      "max_height": null,
      "max_width": null,
      "min_height": null,
      "min_width": null,
      "object_fit": null,
      "object_position": null,
      "order": null,
      "overflow": null,
      "overflow_x": null,
      "overflow_y": null,
      "padding": null,
      "right": null,
      "top": null,
      "visibility": null,
      "width": null
     }
    },
    "19f49a46f28245db86d7e9351aeb9c8c": {
     "model_module": "@jupyter-widgets/controls",
     "model_module_version": "1.5.0",
     "model_name": "HBoxModel",
     "state": {
      "_dom_classes": [],
      "_model_module": "@jupyter-widgets/controls",
      "_model_module_version": "1.5.0",
      "_model_name": "HBoxModel",
      "_view_count": null,
      "_view_module": "@jupyter-widgets/controls",
      "_view_module_version": "1.5.0",
      "_view_name": "HBoxView",
      "box_style": "",
      "children": [
       "IPY_MODEL_1b4f70e52f7f4d5e934cbf1e494d1ec1",
       "IPY_MODEL_6ae0c581a1c147d9aa6b914aedc435d6",
       "IPY_MODEL_a6dc25c6813441b7ac579f1636792227"
      ],
      "layout": "IPY_MODEL_2db2d5d41597438899b83bf73c01be47"
     }
    },
    "1b4f70e52f7f4d5e934cbf1e494d1ec1": {
     "model_module": "@jupyter-widgets/controls",
     "model_module_version": "1.5.0",
     "model_name": "HTMLModel",
     "state": {
      "_dom_classes": [],
      "_model_module": "@jupyter-widgets/controls",
      "_model_module_version": "1.5.0",
      "_model_name": "HTMLModel",
      "_view_count": null,
      "_view_module": "@jupyter-widgets/controls",
      "_view_module_version": "1.5.0",
      "_view_name": "HTMLView",
      "description": "",
      "description_tooltip": null,
      "layout": "IPY_MODEL_e67b8fe5a31641cfbff055b6b41aa829",
      "placeholder": "​",
      "style": "IPY_MODEL_3a2787b534bb4c269b1f3bf967fe8941",
      "value": "pytorch_model.bin: 100%"
     }
    },
    "1c5e5ec71be24677b9a584db49f32135": {
     "model_module": "@jupyter-widgets/base",
     "model_module_version": "1.2.0",
     "model_name": "LayoutModel",
     "state": {
      "_model_module": "@jupyter-widgets/base",
      "_model_module_version": "1.2.0",
      "_model_name": "LayoutModel",
      "_view_count": null,
      "_view_module": "@jupyter-widgets/base",
      "_view_module_version": "1.2.0",
      "_view_name": "LayoutView",
      "align_content": null,
      "align_items": null,
      "align_self": null,
      "border": null,
      "bottom": null,
      "display": null,
      "flex": null,
      "flex_flow": null,
      "grid_area": null,
      "grid_auto_columns": null,
      "grid_auto_flow": null,
      "grid_auto_rows": null,
      "grid_column": null,
      "grid_gap": null,
      "grid_row": null,
      "grid_template_areas": null,
      "grid_template_columns": null,
      "grid_template_rows": null,
      "height": null,
      "justify_content": null,
      "justify_items": null,
      "left": null,
      "margin": null,
      "max_height": null,
      "max_width": null,
      "min_height": null,
      "min_width": null,
      "object_fit": null,
      "object_position": null,
      "order": null,
      "overflow": null,
      "overflow_x": null,
      "overflow_y": null,
      "padding": null,
      "right": null,
      "top": null,
      "visibility": null,
      "width": null
     }
    },
    "1d4963d55cbe4f929c4ca0fd6d11f362": {
     "model_module": "@jupyter-widgets/base",
     "model_module_version": "1.2.0",
     "model_name": "LayoutModel",
     "state": {
      "_model_module": "@jupyter-widgets/base",
      "_model_module_version": "1.2.0",
      "_model_name": "LayoutModel",
      "_view_count": null,
      "_view_module": "@jupyter-widgets/base",
      "_view_module_version": "1.2.0",
      "_view_name": "LayoutView",
      "align_content": null,
      "align_items": null,
      "align_self": null,
      "border": null,
      "bottom": null,
      "display": null,
      "flex": null,
      "flex_flow": null,
      "grid_area": null,
      "grid_auto_columns": null,
      "grid_auto_flow": null,
      "grid_auto_rows": null,
      "grid_column": null,
      "grid_gap": null,
      "grid_row": null,
      "grid_template_areas": null,
      "grid_template_columns": null,
      "grid_template_rows": null,
      "height": null,
      "justify_content": null,
      "justify_items": null,
      "left": null,
      "margin": null,
      "max_height": null,
      "max_width": null,
      "min_height": null,
      "min_width": null,
      "object_fit": null,
      "object_position": null,
      "order": null,
      "overflow": null,
      "overflow_x": null,
      "overflow_y": null,
      "padding": null,
      "right": null,
      "top": null,
      "visibility": null,
      "width": null
     }
    },
    "23e3c59e3f724a6d9a5a9dc68441337b": {
     "model_module": "@jupyter-widgets/controls",
     "model_module_version": "1.5.0",
     "model_name": "DescriptionStyleModel",
     "state": {
      "_model_module": "@jupyter-widgets/controls",
      "_model_module_version": "1.5.0",
      "_model_name": "DescriptionStyleModel",
      "_view_count": null,
      "_view_module": "@jupyter-widgets/base",
      "_view_module_version": "1.2.0",
      "_view_name": "StyleView",
      "description_width": ""
     }
    },
    "2db2d5d41597438899b83bf73c01be47": {
     "model_module": "@jupyter-widgets/base",
     "model_module_version": "1.2.0",
     "model_name": "LayoutModel",
     "state": {
      "_model_module": "@jupyter-widgets/base",
      "_model_module_version": "1.2.0",
      "_model_name": "LayoutModel",
      "_view_count": null,
      "_view_module": "@jupyter-widgets/base",
      "_view_module_version": "1.2.0",
      "_view_name": "LayoutView",
      "align_content": null,
      "align_items": null,
      "align_self": null,
      "border": null,
      "bottom": null,
      "display": null,
      "flex": null,
      "flex_flow": null,
      "grid_area": null,
      "grid_auto_columns": null,
      "grid_auto_flow": null,
      "grid_auto_rows": null,
      "grid_column": null,
      "grid_gap": null,
      "grid_row": null,
      "grid_template_areas": null,
      "grid_template_columns": null,
      "grid_template_rows": null,
      "height": null,
      "justify_content": null,
      "justify_items": null,
      "left": null,
      "margin": null,
      "max_height": null,
      "max_width": null,
      "min_height": null,
      "min_width": null,
      "object_fit": null,
      "object_position": null,
      "order": null,
      "overflow": null,
      "overflow_x": null,
      "overflow_y": null,
      "padding": null,
      "right": null,
      "top": null,
      "visibility": null,
      "width": null
     }
    },
    "33409958918a4280b0f34983c1215360": {
     "model_module": "@jupyter-widgets/controls",
     "model_module_version": "1.5.0",
     "model_name": "DescriptionStyleModel",
     "state": {
      "_model_module": "@jupyter-widgets/controls",
      "_model_module_version": "1.5.0",
      "_model_name": "DescriptionStyleModel",
      "_view_count": null,
      "_view_module": "@jupyter-widgets/base",
      "_view_module_version": "1.2.0",
      "_view_name": "StyleView",
      "description_width": ""
     }
    },
    "3a2787b534bb4c269b1f3bf967fe8941": {
     "model_module": "@jupyter-widgets/controls",
     "model_module_version": "1.5.0",
     "model_name": "DescriptionStyleModel",
     "state": {
      "_model_module": "@jupyter-widgets/controls",
      "_model_module_version": "1.5.0",
      "_model_name": "DescriptionStyleModel",
      "_view_count": null,
      "_view_module": "@jupyter-widgets/base",
      "_view_module_version": "1.2.0",
      "_view_name": "StyleView",
      "description_width": ""
     }
    },
    "502a1a89dd7245dab2a311ab83736f57": {
     "model_module": "@jupyter-widgets/base",
     "model_module_version": "1.2.0",
     "model_name": "LayoutModel",
     "state": {
      "_model_module": "@jupyter-widgets/base",
      "_model_module_version": "1.2.0",
      "_model_name": "LayoutModel",
      "_view_count": null,
      "_view_module": "@jupyter-widgets/base",
      "_view_module_version": "1.2.0",
      "_view_name": "LayoutView",
      "align_content": null,
      "align_items": null,
      "align_self": null,
      "border": null,
      "bottom": null,
      "display": null,
      "flex": null,
      "flex_flow": null,
      "grid_area": null,
      "grid_auto_columns": null,
      "grid_auto_flow": null,
      "grid_auto_rows": null,
      "grid_column": null,
      "grid_gap": null,
      "grid_row": null,
      "grid_template_areas": null,
      "grid_template_columns": null,
      "grid_template_rows": null,
      "height": null,
      "justify_content": null,
      "justify_items": null,
      "left": null,
      "margin": null,
      "max_height": null,
      "max_width": null,
      "min_height": null,
      "min_width": null,
      "object_fit": null,
      "object_position": null,
      "order": null,
      "overflow": null,
      "overflow_x": null,
      "overflow_y": null,
      "padding": null,
      "right": null,
      "top": null,
      "visibility": null,
      "width": null
     }
    },
    "54eed2e1b2e54700ae94e034dc792979": {
     "model_module": "@jupyter-widgets/controls",
     "model_module_version": "1.5.0",
     "model_name": "ProgressStyleModel",
     "state": {
      "_model_module": "@jupyter-widgets/controls",
      "_model_module_version": "1.5.0",
      "_model_name": "ProgressStyleModel",
      "_view_count": null,
      "_view_module": "@jupyter-widgets/base",
      "_view_module_version": "1.2.0",
      "_view_name": "StyleView",
      "bar_color": null,
      "description_width": ""
     }
    },
    "562765d653ac4ecfa1fda0fc8d2f312d": {
     "model_module": "@jupyter-widgets/controls",
     "model_module_version": "1.5.0",
     "model_name": "HTMLModel",
     "state": {
      "_dom_classes": [],
      "_model_module": "@jupyter-widgets/controls",
      "_model_module_version": "1.5.0",
      "_model_name": "HTMLModel",
      "_view_count": null,
      "_view_module": "@jupyter-widgets/controls",
      "_view_module_version": "1.5.0",
      "_view_name": "HTMLView",
      "description": "",
      "description_tooltip": null,
      "layout": "IPY_MODEL_897ac3a159b7481799d1ae5fd275b5e2",
      "placeholder": "​",
      "style": "IPY_MODEL_834fcc1fb2a3423f86cec41cefe69fde",
      "value": " 213k/213k [00:00&lt;00:00, 3.11MB/s]"
     }
    },
    "585a3bbacada406c8121b88a3de7b9ba": {
     "model_module": "@jupyter-widgets/base",
     "model_module_version": "1.2.0",
     "model_name": "LayoutModel",
     "state": {
      "_model_module": "@jupyter-widgets/base",
      "_model_module_version": "1.2.0",
      "_model_name": "LayoutModel",
      "_view_count": null,
      "_view_module": "@jupyter-widgets/base",
      "_view_module_version": "1.2.0",
      "_view_name": "LayoutView",
      "align_content": null,
      "align_items": null,
      "align_self": null,
      "border": null,
      "bottom": null,
      "display": null,
      "flex": null,
      "flex_flow": null,
      "grid_area": null,
      "grid_auto_columns": null,
      "grid_auto_flow": null,
      "grid_auto_rows": null,
      "grid_column": null,
      "grid_gap": null,
      "grid_row": null,
      "grid_template_areas": null,
      "grid_template_columns": null,
      "grid_template_rows": null,
      "height": null,
      "justify_content": null,
      "justify_items": null,
      "left": null,
      "margin": null,
      "max_height": null,
      "max_width": null,
      "min_height": null,
      "min_width": null,
      "object_fit": null,
      "object_position": null,
      "order": null,
      "overflow": null,
      "overflow_x": null,
      "overflow_y": null,
      "padding": null,
      "right": null,
      "top": null,
      "visibility": null,
      "width": null
     }
    },
    "5b1071fbe7634a4ab8a93362479a19ea": {
     "model_module": "@jupyter-widgets/controls",
     "model_module_version": "1.5.0",
     "model_name": "HTMLModel",
     "state": {
      "_dom_classes": [],
      "_model_module": "@jupyter-widgets/controls",
      "_model_module_version": "1.5.0",
      "_model_name": "HTMLModel",
      "_view_count": null,
      "_view_module": "@jupyter-widgets/controls",
      "_view_module_version": "1.5.0",
      "_view_name": "HTMLView",
      "description": "",
      "description_tooltip": null,
      "layout": "IPY_MODEL_a35b0ebe047b4d04b9bcd28340cb79a4",
      "placeholder": "​",
      "style": "IPY_MODEL_33409958918a4280b0f34983c1215360",
      "value": "config.json: 100%"
     }
    },
    "6544d02efd7a481dbaff43df6e58828a": {
     "model_module": "@jupyter-widgets/controls",
     "model_module_version": "1.5.0",
     "model_name": "DescriptionStyleModel",
     "state": {
      "_model_module": "@jupyter-widgets/controls",
      "_model_module_version": "1.5.0",
      "_model_name": "DescriptionStyleModel",
      "_view_count": null,
      "_view_module": "@jupyter-widgets/base",
      "_view_module_version": "1.2.0",
      "_view_name": "StyleView",
      "description_width": ""
     }
    },
    "6ae0c581a1c147d9aa6b914aedc435d6": {
     "model_module": "@jupyter-widgets/controls",
     "model_module_version": "1.5.0",
     "model_name": "FloatProgressModel",
     "state": {
      "_dom_classes": [],
      "_model_module": "@jupyter-widgets/controls",
      "_model_module_version": "1.5.0",
      "_model_name": "FloatProgressModel",
      "_view_count": null,
      "_view_module": "@jupyter-widgets/controls",
      "_view_module_version": "1.5.0",
      "_view_name": "ProgressView",
      "bar_style": "success",
      "description": "",
      "description_tooltip": null,
      "layout": "IPY_MODEL_c63e01d731494a54ad7b0eacf083fbf1",
      "max": 435783451,
      "min": 0,
      "orientation": "horizontal",
      "style": "IPY_MODEL_9dec901ccc1d441dbc46792c04ae1301",
      "value": 435783451
     }
    },
    "70d8d26c8fd447fcb6f9d646e3e226c3": {
     "model_module": "@jupyter-widgets/controls",
     "model_module_version": "1.5.0",
     "model_name": "HBoxModel",
     "state": {
      "_dom_classes": [],
      "_model_module": "@jupyter-widgets/controls",
      "_model_module_version": "1.5.0",
      "_model_name": "HBoxModel",
      "_view_count": null,
      "_view_module": "@jupyter-widgets/controls",
      "_view_module_version": "1.5.0",
      "_view_name": "HBoxView",
      "box_style": "",
      "children": [
       "IPY_MODEL_a54a4dc8c3b046b2a5bdbd3237317ef7",
       "IPY_MODEL_d03ef0e7d4d24ca1bb11149f661c0a07",
       "IPY_MODEL_562765d653ac4ecfa1fda0fc8d2f312d"
      ],
      "layout": "IPY_MODEL_ffbe03660cdc41a4b3106141e2113c13"
     }
    },
    "834fcc1fb2a3423f86cec41cefe69fde": {
     "model_module": "@jupyter-widgets/controls",
     "model_module_version": "1.5.0",
     "model_name": "DescriptionStyleModel",
     "state": {
      "_model_module": "@jupyter-widgets/controls",
      "_model_module_version": "1.5.0",
      "_model_name": "DescriptionStyleModel",
      "_view_count": null,
      "_view_module": "@jupyter-widgets/base",
      "_view_module_version": "1.2.0",
      "_view_name": "StyleView",
      "description_width": ""
     }
    },
    "897ac3a159b7481799d1ae5fd275b5e2": {
     "model_module": "@jupyter-widgets/base",
     "model_module_version": "1.2.0",
     "model_name": "LayoutModel",
     "state": {
      "_model_module": "@jupyter-widgets/base",
      "_model_module_version": "1.2.0",
      "_model_name": "LayoutModel",
      "_view_count": null,
      "_view_module": "@jupyter-widgets/base",
      "_view_module_version": "1.2.0",
      "_view_name": "LayoutView",
      "align_content": null,
      "align_items": null,
      "align_self": null,
      "border": null,
      "bottom": null,
      "display": null,
      "flex": null,
      "flex_flow": null,
      "grid_area": null,
      "grid_auto_columns": null,
      "grid_auto_flow": null,
      "grid_auto_rows": null,
      "grid_column": null,
      "grid_gap": null,
      "grid_row": null,
      "grid_template_areas": null,
      "grid_template_columns": null,
      "grid_template_rows": null,
      "height": null,
      "justify_content": null,
      "justify_items": null,
      "left": null,
      "margin": null,
      "max_height": null,
      "max_width": null,
      "min_height": null,
      "min_width": null,
      "object_fit": null,
      "object_position": null,
      "order": null,
      "overflow": null,
      "overflow_x": null,
      "overflow_y": null,
      "padding": null,
      "right": null,
      "top": null,
      "visibility": null,
      "width": null
     }
    },
    "9dec901ccc1d441dbc46792c04ae1301": {
     "model_module": "@jupyter-widgets/controls",
     "model_module_version": "1.5.0",
     "model_name": "ProgressStyleModel",
     "state": {
      "_model_module": "@jupyter-widgets/controls",
      "_model_module_version": "1.5.0",
      "_model_name": "ProgressStyleModel",
      "_view_count": null,
      "_view_module": "@jupyter-widgets/base",
      "_view_module_version": "1.2.0",
      "_view_name": "StyleView",
      "bar_color": null,
      "description_width": ""
     }
    },
    "a35b0ebe047b4d04b9bcd28340cb79a4": {
     "model_module": "@jupyter-widgets/base",
     "model_module_version": "1.2.0",
     "model_name": "LayoutModel",
     "state": {
      "_model_module": "@jupyter-widgets/base",
      "_model_module_version": "1.2.0",
      "_model_name": "LayoutModel",
      "_view_count": null,
      "_view_module": "@jupyter-widgets/base",
      "_view_module_version": "1.2.0",
      "_view_name": "LayoutView",
      "align_content": null,
      "align_items": null,
      "align_self": null,
      "border": null,
      "bottom": null,
      "display": null,
      "flex": null,
      "flex_flow": null,
      "grid_area": null,
      "grid_auto_columns": null,
      "grid_auto_flow": null,
      "grid_auto_rows": null,
      "grid_column": null,
      "grid_gap": null,
      "grid_row": null,
      "grid_template_areas": null,
      "grid_template_columns": null,
      "grid_template_rows": null,
      "height": null,
      "justify_content": null,
      "justify_items": null,
      "left": null,
      "margin": null,
      "max_height": null,
      "max_width": null,
      "min_height": null,
      "min_width": null,
      "object_fit": null,
      "object_position": null,
      "order": null,
      "overflow": null,
      "overflow_x": null,
      "overflow_y": null,
      "padding": null,
      "right": null,
      "top": null,
      "visibility": null,
      "width": null
     }
    },
    "a54a4dc8c3b046b2a5bdbd3237317ef7": {
     "model_module": "@jupyter-widgets/controls",
     "model_module_version": "1.5.0",
     "model_name": "HTMLModel",
     "state": {
      "_dom_classes": [],
      "_model_module": "@jupyter-widgets/controls",
      "_model_module_version": "1.5.0",
      "_model_name": "HTMLModel",
      "_view_count": null,
      "_view_module": "@jupyter-widgets/controls",
      "_view_module_version": "1.5.0",
      "_view_name": "HTMLView",
      "description": "",
      "description_tooltip": null,
      "layout": "IPY_MODEL_1c5e5ec71be24677b9a584db49f32135",
      "placeholder": "​",
      "style": "IPY_MODEL_23e3c59e3f724a6d9a5a9dc68441337b",
      "value": "vocab.txt: 100%"
     }
    },
    "a6dc25c6813441b7ac579f1636792227": {
     "model_module": "@jupyter-widgets/controls",
     "model_module_version": "1.5.0",
     "model_name": "HTMLModel",
     "state": {
      "_dom_classes": [],
      "_model_module": "@jupyter-widgets/controls",
      "_model_module_version": "1.5.0",
      "_model_name": "HTMLModel",
      "_view_count": null,
      "_view_module": "@jupyter-widgets/controls",
      "_view_module_version": "1.5.0",
      "_view_name": "HTMLView",
      "description": "",
      "description_tooltip": null,
      "layout": "IPY_MODEL_0eaefc3eeb5d4230bdbb9aee1e23117c",
      "placeholder": "​",
      "style": "IPY_MODEL_0c1d5298888045ee9fa847a4e85b4365",
      "value": " 436M/436M [00:07&lt;00:00, 114MB/s]"
     }
    },
    "c63e01d731494a54ad7b0eacf083fbf1": {
     "model_module": "@jupyter-widgets/base",
     "model_module_version": "1.2.0",
     "model_name": "LayoutModel",
     "state": {
      "_model_module": "@jupyter-widgets/base",
      "_model_module_version": "1.2.0",
      "_model_name": "LayoutModel",
      "_view_count": null,
      "_view_module": "@jupyter-widgets/base",
      "_view_module_version": "1.2.0",
      "_view_name": "LayoutView",
      "align_content": null,
      "align_items": null,
      "align_self": null,
      "border": null,
      "bottom": null,
      "display": null,
      "flex": null,
      "flex_flow": null,
      "grid_area": null,
      "grid_auto_columns": null,
      "grid_auto_flow": null,
      "grid_auto_rows": null,
      "grid_column": null,
      "grid_gap": null,
      "grid_row": null,
      "grid_template_areas": null,
      "grid_template_columns": null,
      "grid_template_rows": null,
      "height": null,
      "justify_content": null,
      "justify_items": null,
      "left": null,
      "margin": null,
      "max_height": null,
      "max_width": null,
      "min_height": null,
      "min_width": null,
      "object_fit": null,
      "object_position": null,
      "order": null,
      "overflow": null,
      "overflow_x": null,
      "overflow_y": null,
      "padding": null,
      "right": null,
      "top": null,
      "visibility": null,
      "width": null
     }
    },
    "c94a8d693c69461791802044f785df84": {
     "model_module": "@jupyter-widgets/controls",
     "model_module_version": "1.5.0",
     "model_name": "FloatProgressModel",
     "state": {
      "_dom_classes": [],
      "_model_module": "@jupyter-widgets/controls",
      "_model_module_version": "1.5.0",
      "_model_name": "FloatProgressModel",
      "_view_count": null,
      "_view_module": "@jupyter-widgets/controls",
      "_view_module_version": "1.5.0",
      "_view_name": "ProgressView",
      "bar_style": "success",
      "description": "",
      "description_tooltip": null,
      "layout": "IPY_MODEL_1d4963d55cbe4f929c4ca0fd6d11f362",
      "max": 1110,
      "min": 0,
      "orientation": "horizontal",
      "style": "IPY_MODEL_54eed2e1b2e54700ae94e034dc792979",
      "value": 1110
     }
    },
    "d03ef0e7d4d24ca1bb11149f661c0a07": {
     "model_module": "@jupyter-widgets/controls",
     "model_module_version": "1.5.0",
     "model_name": "FloatProgressModel",
     "state": {
      "_dom_classes": [],
      "_model_module": "@jupyter-widgets/controls",
      "_model_module_version": "1.5.0",
      "_model_name": "FloatProgressModel",
      "_view_count": null,
      "_view_module": "@jupyter-widgets/controls",
      "_view_module_version": "1.5.0",
      "_view_name": "ProgressView",
      "bar_style": "success",
      "description": "",
      "description_tooltip": null,
      "layout": "IPY_MODEL_efe09ca33dce4fe3a896e80851c2da89",
      "max": 213450,
      "min": 0,
      "orientation": "horizontal",
      "style": "IPY_MODEL_faa0d793363c44e3870efe3b3e917293",
      "value": 213450
     }
    },
    "e4ca865f965942659d4ae1d2c01d6835": {
     "model_module": "@jupyter-widgets/controls",
     "model_module_version": "1.5.0",
     "model_name": "HTMLModel",
     "state": {
      "_dom_classes": [],
      "_model_module": "@jupyter-widgets/controls",
      "_model_module_version": "1.5.0",
      "_model_name": "HTMLModel",
      "_view_count": null,
      "_view_module": "@jupyter-widgets/controls",
      "_view_module_version": "1.5.0",
      "_view_name": "HTMLView",
      "description": "",
      "description_tooltip": null,
      "layout": "IPY_MODEL_502a1a89dd7245dab2a311ab83736f57",
      "placeholder": "​",
      "style": "IPY_MODEL_6544d02efd7a481dbaff43df6e58828a",
      "value": " 1.11k/1.11k [00:00&lt;00:00, 24.4kB/s]"
     }
    },
    "e67b8fe5a31641cfbff055b6b41aa829": {
     "model_module": "@jupyter-widgets/base",
     "model_module_version": "1.2.0",
     "model_name": "LayoutModel",
     "state": {
      "_model_module": "@jupyter-widgets/base",
      "_model_module_version": "1.2.0",
      "_model_name": "LayoutModel",
      "_view_count": null,
      "_view_module": "@jupyter-widgets/base",
      "_view_module_version": "1.2.0",
      "_view_name": "LayoutView",
      "align_content": null,
      "align_items": null,
      "align_self": null,
      "border": null,
      "bottom": null,
      "display": null,
      "flex": null,
      "flex_flow": null,
      "grid_area": null,
      "grid_auto_columns": null,
      "grid_auto_flow": null,
      "grid_auto_rows": null,
      "grid_column": null,
      "grid_gap": null,
      "grid_row": null,
      "grid_template_areas": null,
      "grid_template_columns": null,
      "grid_template_rows": null,
      "height": null,
      "justify_content": null,
      "justify_items": null,
      "left": null,
      "margin": null,
      "max_height": null,
      "max_width": null,
      "min_height": null,
      "min_width": null,
      "object_fit": null,
      "object_position": null,
      "order": null,
      "overflow": null,
      "overflow_x": null,
      "overflow_y": null,
      "padding": null,
      "right": null,
      "top": null,
      "visibility": null,
      "width": null
     }
    },
    "efe09ca33dce4fe3a896e80851c2da89": {
     "model_module": "@jupyter-widgets/base",
     "model_module_version": "1.2.0",
     "model_name": "LayoutModel",
     "state": {
      "_model_module": "@jupyter-widgets/base",
      "_model_module_version": "1.2.0",
      "_model_name": "LayoutModel",
      "_view_count": null,
      "_view_module": "@jupyter-widgets/base",
      "_view_module_version": "1.2.0",
      "_view_name": "LayoutView",
      "align_content": null,
      "align_items": null,
      "align_self": null,
      "border": null,
      "bottom": null,
      "display": null,
      "flex": null,
      "flex_flow": null,
      "grid_area": null,
      "grid_auto_columns": null,
      "grid_auto_flow": null,
      "grid_auto_rows": null,
      "grid_column": null,
      "grid_gap": null,
      "grid_row": null,
      "grid_template_areas": null,
      "grid_template_columns": null,
      "grid_template_rows": null,
      "height": null,
      "justify_content": null,
      "justify_items": null,
      "left": null,
      "margin": null,
      "max_height": null,
      "max_width": null,
      "min_height": null,
      "min_width": null,
      "object_fit": null,
      "object_position": null,
      "order": null,
      "overflow": null,
      "overflow_x": null,
      "overflow_y": null,
      "padding": null,
      "right": null,
      "top": null,
      "visibility": null,
      "width": null
     }
    },
    "faa0d793363c44e3870efe3b3e917293": {
     "model_module": "@jupyter-widgets/controls",
     "model_module_version": "1.5.0",
     "model_name": "ProgressStyleModel",
     "state": {
      "_model_module": "@jupyter-widgets/controls",
      "_model_module_version": "1.5.0",
      "_model_name": "ProgressStyleModel",
      "_view_count": null,
      "_view_module": "@jupyter-widgets/base",
      "_view_module_version": "1.2.0",
      "_view_name": "StyleView",
      "bar_color": null,
      "description_width": ""
     }
    },
    "ffbe03660cdc41a4b3106141e2113c13": {
     "model_module": "@jupyter-widgets/base",
     "model_module_version": "1.2.0",
     "model_name": "LayoutModel",
     "state": {
      "_model_module": "@jupyter-widgets/base",
      "_model_module_version": "1.2.0",
      "_model_name": "LayoutModel",
      "_view_count": null,
      "_view_module": "@jupyter-widgets/base",
      "_view_module_version": "1.2.0",
      "_view_name": "LayoutView",
      "align_content": null,
      "align_items": null,
      "align_self": null,
      "border": null,
      "bottom": null,
      "display": null,
      "flex": null,
      "flex_flow": null,
      "grid_area": null,
      "grid_auto_columns": null,
      "grid_auto_flow": null,
      "grid_auto_rows": null,
      "grid_column": null,
      "grid_gap": null,
      "grid_row": null,
      "grid_template_areas": null,
      "grid_template_columns": null,
      "grid_template_rows": null,
      "height": null,
      "justify_content": null,
      "justify_items": null,
      "left": null,
      "margin": null,
      "max_height": null,
      "max_width": null,
      "min_height": null,
      "min_width": null,
      "object_fit": null,
      "object_position": null,
      "order": null,
      "overflow": null,
      "overflow_x": null,
      "overflow_y": null,
      "padding": null,
      "right": null,
      "top": null,
      "visibility": null,
      "width": null
     }
    }
   }
  }
 },
 "nbformat": 4,
 "nbformat_minor": 0
}
