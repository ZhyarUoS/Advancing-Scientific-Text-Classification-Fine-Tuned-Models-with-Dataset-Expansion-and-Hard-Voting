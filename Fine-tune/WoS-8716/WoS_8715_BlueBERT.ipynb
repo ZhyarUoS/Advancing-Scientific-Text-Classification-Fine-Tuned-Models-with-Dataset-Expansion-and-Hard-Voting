{
 "cells": [
  {
   "cell_type": "code",
   "execution_count": null,
   "metadata": {
    "colab": {
     "base_uri": "https://localhost:8080/"
    },
    "id": "B4QvTrTDs5x7",
    "outputId": "869098f5-65fc-433b-8715-25b91eb06d39"
   },
   "outputs": [
    {
     "name": "stdout",
     "output_type": "stream",
     "text": [
      "Sat Nov  9 22:26:30 2024       \n",
      "+---------------------------------------------------------------------------------------+\n",
      "| NVIDIA-SMI 535.104.05             Driver Version: 535.104.05   CUDA Version: 12.2     |\n",
      "|-----------------------------------------+----------------------+----------------------+\n",
      "| GPU  Name                 Persistence-M | Bus-Id        Disp.A | Volatile Uncorr. ECC |\n",
      "| Fan  Temp   Perf          Pwr:Usage/Cap |         Memory-Usage | GPU-Util  Compute M. |\n",
      "|                                         |                      |               MIG M. |\n",
      "|=========================================+======================+======================|\n",
      "|   0  Tesla T4                       Off | 00000000:00:04.0 Off |                    0 |\n",
      "| N/A   37C    P8               9W /  70W |      0MiB / 15360MiB |      0%      Default |\n",
      "|                                         |                      |                  N/A |\n",
      "+-----------------------------------------+----------------------+----------------------+\n",
      "                                                                                         \n",
      "+---------------------------------------------------------------------------------------+\n",
      "| Processes:                                                                            |\n",
      "|  GPU   GI   CI        PID   Type   Process name                            GPU Memory |\n",
      "|        ID   ID                                                             Usage      |\n",
      "|=======================================================================================|\n",
      "|  No running processes found                                                           |\n",
      "+---------------------------------------------------------------------------------------+\n"
     ]
    }
   ],
   "source": [
    "gpu_info = !nvidia-smi\n",
    "gpu_info = '\\n'.join(gpu_info)\n",
    "if gpu_info.find('failed') >= 0:\n",
    "  print('Not connected to a GPU')\n",
    "else:\n",
    "  print(gpu_info)"
   ]
  },
  {
   "cell_type": "code",
   "execution_count": null,
   "metadata": {
    "colab": {
     "base_uri": "https://localhost:8080/"
    },
    "id": "NS75qQZEtQ8K",
    "outputId": "f63bbfbf-8fad-490e-9f27-131d76a939b2"
   },
   "outputs": [
    {
     "name": "stdout",
     "output_type": "stream",
     "text": [
      "Your runtime has 13.6 gigabytes of available RAM\n",
      "\n",
      "Not using a high-RAM runtime\n"
     ]
    }
   ],
   "source": [
    "from psutil import virtual_memory\n",
    "ram_gb = virtual_memory().total / 1e9\n",
    "print('Your runtime has {:.1f} gigabytes of available RAM\\n'.format(ram_gb))\n",
    "\n",
    "if ram_gb < 20:\n",
    "  print('Not using a high-RAM runtime')\n",
    "else:\n",
    "  print('You are using a high-RAM runtime!')"
   ]
  },
  {
   "cell_type": "code",
   "execution_count": null,
   "metadata": {
    "colab": {
     "base_uri": "https://localhost:8080/"
    },
    "id": "0AlVWD1utTsP",
    "outputId": "3622973a-6d28-4d83-f3ae-9a16ec74ee41"
   },
   "outputs": [
    {
     "name": "stdout",
     "output_type": "stream",
     "text": [
      "Mounted at /content/drive\n"
     ]
    }
   ],
   "source": [
    "from google.colab import drive\n",
    "drive.mount('/content/drive')"
   ]
  },
  {
   "cell_type": "code",
   "execution_count": null,
   "metadata": {
    "colab": {
     "base_uri": "https://localhost:8080/"
    },
    "id": "nzmetJDhtVtT",
    "outputId": "ff87f95d-cec0-4f99-ae2a-f14bd7e9b116"
   },
   "outputs": [
    {
     "name": "stdout",
     "output_type": "stream",
     "text": [
      "Requirement already satisfied: transformers in /usr/local/lib/python3.10/dist-packages (4.44.2)\n",
      "Requirement already satisfied: filelock in /usr/local/lib/python3.10/dist-packages (from transformers) (3.16.1)\n",
      "Requirement already satisfied: huggingface-hub<1.0,>=0.23.2 in /usr/local/lib/python3.10/dist-packages (from transformers) (0.24.7)\n",
      "Requirement already satisfied: numpy>=1.17 in /usr/local/lib/python3.10/dist-packages (from transformers) (1.26.4)\n",
      "Requirement already satisfied: packaging>=20.0 in /usr/local/lib/python3.10/dist-packages (from transformers) (24.1)\n",
      "Requirement already satisfied: pyyaml>=5.1 in /usr/local/lib/python3.10/dist-packages (from transformers) (6.0.2)\n",
      "Requirement already satisfied: regex!=2019.12.17 in /usr/local/lib/python3.10/dist-packages (from transformers) (2024.9.11)\n",
      "Requirement already satisfied: requests in /usr/local/lib/python3.10/dist-packages (from transformers) (2.32.3)\n",
      "Requirement already satisfied: safetensors>=0.4.1 in /usr/local/lib/python3.10/dist-packages (from transformers) (0.4.5)\n",
      "Requirement already satisfied: tokenizers<0.20,>=0.19 in /usr/local/lib/python3.10/dist-packages (from transformers) (0.19.1)\n",
      "Requirement already satisfied: tqdm>=4.27 in /usr/local/lib/python3.10/dist-packages (from transformers) (4.66.6)\n",
      "Requirement already satisfied: fsspec>=2023.5.0 in /usr/local/lib/python3.10/dist-packages (from huggingface-hub<1.0,>=0.23.2->transformers) (2024.10.0)\n",
      "Requirement already satisfied: typing-extensions>=3.7.4.3 in /usr/local/lib/python3.10/dist-packages (from huggingface-hub<1.0,>=0.23.2->transformers) (4.12.2)\n",
      "Requirement already satisfied: charset-normalizer<4,>=2 in /usr/local/lib/python3.10/dist-packages (from requests->transformers) (3.4.0)\n",
      "Requirement already satisfied: idna<4,>=2.5 in /usr/local/lib/python3.10/dist-packages (from requests->transformers) (3.10)\n",
      "Requirement already satisfied: urllib3<3,>=1.21.1 in /usr/local/lib/python3.10/dist-packages (from requests->transformers) (2.2.3)\n",
      "Requirement already satisfied: certifi>=2017.4.17 in /usr/local/lib/python3.10/dist-packages (from requests->transformers) (2024.8.30)\n"
     ]
    }
   ],
   "source": [
    "!pip install transformers"
   ]
  },
  {
   "cell_type": "code",
   "execution_count": null,
   "metadata": {
    "id": "o1b6s5YpuqI_"
   },
   "outputs": [],
   "source": [
    "import os\n",
    "import re\n",
    "import numpy as np\n",
    "import pandas as pd\n",
    "from sklearn.model_selection import train_test_split\n",
    "from sklearn.metrics import confusion_matrix, classification_report, f1_score, precision_score, recall_score\n",
    "from transformers import AutoTokenizer, AutoModelForSequenceClassification, AdamW, get_linear_schedule_with_warmup\n",
    "import torch\n",
    "from torch.utils.data import DataLoader, TensorDataset, RandomSampler, SequentialSampler\n",
    "import torch.nn.functional as F\n",
    "from tqdm import trange, tqdm\n",
    "import matplotlib.pyplot as plt\n",
    "import sklearn.utils\n",
    "import time\n",
    "from torch.utils.data import TensorDataset"
   ]
  },
  {
   "cell_type": "code",
   "execution_count": null,
   "metadata": {
    "id": "EnKxLmqAuzN3"
   },
   "outputs": [],
   "source": [
    "def clean_text(text):\n",
    "    if isinstance(text, (str, np.ndarray)): \n",
    "        if isinstance(text, str):\n",
    "            text = text.lower()\n",
    "            text = re.sub(r'[^a-zA-Z0-9\\s]', '', text)\n",
    "            return text\n",
    "        elif isinstance(text, np.ndarray):\n",
    "            return np.array([clean_text(t) for t in text])\n",
    "    elif pd.isnull(text): \n",
    "        return \"\"\n",
    "    else:\n",
    "       \n",
    "        try:\n",
    "            text = str(text)\n",
    "            text = text.lower()\n",
    "            text = re.sub(r'[^a-zA-Z0-9\\s]', '', text)\n",
    "            return text\n",
    "        except Exception as e:\n",
    "            print(f\"Error cleaning text: {e}, Text Type: {type(text)}, Text Value: {text}\")\n",
    "            return \"\""
   ]
  },
  {
   "cell_type": "code",
   "execution_count": null,
   "metadata": {
    "id": "1m8ZSsBZu1yh"
   },
   "outputs": [],
   "source": [
    "labeled_data = pd.read_csv(\"/content/drive/MyDrive/WoS/data/WoSDataset_8715.csv\")\n",
    "\n",
    "for col in ['Keywords', 'Abstract']:\n",
    "    labeled_data[col] = labeled_data[col].apply(clean_text)\n",
    "\n",
    "labeled_data['combined_text'] = labeled_data['Keywords'] + \" [SEP] \" + labeled_data['Abstract']"
   ]
  },
  {
   "cell_type": "code",
   "execution_count": null,
   "metadata": {
    "id": "kcD4ZhflKLyC"
   },
   "outputs": [],
   "source": [
    "abstractslbl = labeled_data['Abstract']\n",
    "keywordsslbl = labeled_data['Keywords']\n",
    "domainlbl = labeled_data['Domain']\n",
    "lbls = labeled_data['Label']"
   ]
  },
  {
   "cell_type": "code",
   "execution_count": null,
   "metadata": {
    "colab": {
     "base_uri": "https://localhost:8080/"
    },
    "id": "OhCyifkpJ49N",
    "outputId": "bb68fc3e-be6b-4989-d5f4-b121192b53f1"
   },
   "outputs": [
    {
     "name": "stdout",
     "output_type": "stream",
     "text": [
      "(8716, 5)\n",
      "Index(['Label', 'Domain', 'Keywords', 'Abstract', 'combined_text'], dtype='object')\n"
     ]
    }
   ],
   "source": [
    "print(np.shape(labeled_data))\n",
    "print(labeled_data.columns)"
   ]
  },
  {
   "cell_type": "code",
   "execution_count": null,
   "metadata": {
    "colab": {
     "base_uri": "https://localhost:8080/"
    },
    "id": "2FCJG01mKbKQ",
    "outputId": "010f61e9-f120-4007-f435-55409b5f51da"
   },
   "outputs": [
    {
     "name": "stdout",
     "output_type": "stream",
     "text": [
      "Labels  ['ECE' 'Psychology' 'biochemistry']\n",
      "Label counts  [2245 2632 3839]\n"
     ]
    }
   ],
   "source": [
    "labels = np.unique(domainlbl, return_counts=True)[0]\n",
    "labelCounts=  np.unique(domainlbl, return_counts=True)[1]\n",
    "\n",
    "print(\"Labels \", labels)\n",
    "print(\"Label counts \", labelCounts)"
   ]
  },
  {
   "cell_type": "code",
   "execution_count": null,
   "metadata": {
    "colab": {
     "base_uri": "https://localhost:8080/",
     "height": 481
    },
    "id": "EiF7Vq6BKuWY",
    "outputId": "d492b82f-6e29-47da-a098-570b3cb18330"
   },
   "outputs": [
    {
     "data": {
      "image/png": "[encoded data removed]",
      "text/plain": [
       "<Figure size 1000x600 with 1 Axes>"
      ]
     },
     "metadata": {},
     "output_type": "display_data"
    },
    {
     "name": "stdout",
     "output_type": "stream",
     "text": [
      "The label ECE has 2245 records in the dataset.\n",
      "The label Psychology has 2632 records in the dataset.\n",
      "The label biochemistry has 3839 records in the dataset.\n"
     ]
    }
   ],
   "source": [
    "plt.figure(figsize=(10, 6))\n",
    "plt.title(\"Class Counts (Dataset)\")\n",
    "plt.pie(labelCounts, labels=labels, autopct='%1.1f%%', startangle=140, colors=plt.cm.Paired(range(len(labels))))\n",
    "plt.axis('equal')\n",
    "plt.show()\n",
    "\n",
    "for i, label in enumerate(labels):\n",
    "    print(\"The label\", label, \"has\", labelCounts[i], \"records in the dataset.\")"
   ]
  },
  {
   "cell_type": "code",
   "execution_count": null,
   "metadata": {
    "id": "700DOQ7qhoQy"
   },
   "outputs": [],
   "source": [
    "labeled_data_shuffled = sklearn.utils.shuffle(labeled_data)\n",
    "abstracts_shuffled = labeled_data_shuffled['Abstract'].values\n",
    "keywords_shuffled = labeled_data_shuffled['Keywords'].values\n",
    "domains_shuffled = labeled_data_shuffled['Domain'].values\n",
    "allLabels_shuffled = labeled_data_shuffled['Label'].values\n",
    "allLabels_digit_shuffled = allLabels_shuffled.astype(int)"
   ]
  },
  {
   "cell_type": "code",
   "execution_count": null,
   "metadata": {
    "colab": {
     "base_uri": "https://localhost:8080/"
    },
    "id": "3GC2HbB_63Pu",
    "outputId": "427ee3bb-c34b-4275-8d0c-eb7fc6910452"
   },
   "outputs": [
    {
     "name": "stdout",
     "output_type": "stream",
     "text": [
      "(8716, 5)\n",
      "(8716,)\n",
      "(8716,)\n",
      "(8716,)\n",
      " candidatus phytoplasma    16s rrna biosecurity taxonomy biodiversity vector seed transmission host range        [SEP] phytoplasmas are insectvectored bacteria that cause disease in a wide range of plant species the increasing availability of molecular dna analyses expertise and additional methods in recent years has led to a proliferation of discoveries of phytoplasmaplant host associations and in the numbers of taxonomic groupings for phytoplasmas the widespread use of common names based on the diseases with which they are associated as well as separate phenetic and taxonomic systems for classifying phytoplasmas based on variation at the 16s rrnaencoding gene complicates interpretation of the literature we explore this issue and related trends through a focus on australian pathosystems providing the first comprehensive compilation of information for this continent covering the phytoplasmas host plants vectors and diseases of the 33 16sr groups reported internationally only groups i ii iii x xi and xii have been recorded in australia and this highlights the need for ongoing biosecurity measures to prevent the introduction of additional pathogen groups many of the phytoplasmas reported in australia have not been sufficiently well studied to assign them to 16sr groups so it is likely that unrecognized groups and subgroups are present wide host plant ranges are apparent among well studied phytoplasmas with multiple crop and noncrop species infected by some disease management is further complicated by the fact that putative vectors have been identified for few phytoplasmas especially in australia despite rapid progress in recent years using molecular approaches phytoplasmas remain the least well studied group of plant pathogens making them a crouching tiger disease threat\n"
     ]
    }
   ],
   "source": [
    "print(np.shape(labeled_data_shuffled))\n",
    "print(np.shape(abstracts_shuffled))\n",
    "print(np.shape(keywords_shuffled))\n",
    "print(np.shape(domains_shuffled))\n",
    "\n",
    "print(labeled_data_shuffled['combined_text'][0])"
   ]
  },
  {
   "cell_type": "code",
   "execution_count": null,
   "metadata": {
    "colab": {
     "base_uri": "https://localhost:8080/"
    },
    "id": "Kudfd8zLhsTv",
    "outputId": "3712e652-8b55-4ad9-cb6a-a1487af5d754"
   },
   "outputs": [
    {
     "name": "stdout",
     "output_type": "stream",
     "text": [
      "(6972, 5)\n",
      "(1744, 5)\n",
      "(6972, 5)\n",
      "(1744, 5)\n",
      "(872, 5)\n"
     ]
    }
   ],
   "source": [
    "train_data, test_data = train_test_split(labeled_data_shuffled, test_size=0.2, random_state=42)\n",
    "print(np.shape(train_data))\n",
    "print(np.shape(test_data))\n",
    "\n",
    "_, val_data = train_test_split(test_data, test_size=0.5, random_state=42)\n",
    "print(np.shape(train_data))\n",
    "print(np.shape(test_data))\n",
    "print(np.shape(val_data))\n",
    "\n"
   ]
  },
  {
   "cell_type": "code",
   "execution_count": null,
   "metadata": {
    "colab": {
     "base_uri": "https://localhost:8080/",
     "height": 246,
     "referenced_widgets": [
      "2227fe59217346878a8866430f5f0f9a",
      "89a3983da3cb4d2898b49353e2698bef",
      "c4cc2b6a321c42f696e1d87f622d1376",
      "5967b2265a4b4ec190afbc691c9e8abd",
      "f7336fd6780544d38b5b2f05ecaa9f4b",
      "572134e54c9b4ea1a1bad2e71e844714",
      "8ceadf1141a34f8e90b7d9406bbe0d2f",
      "0795761f2a1b4a86ad52558cb0d4aeed",
      "89089444c9264a019dd2fa5f0768a22a",
      "256683b342e44ce7811c5f69ef924172",
      "2cc1732945cb4dfb8ef88b896f38fc7f",
      "21a285f433a54dab966d684bfcffb3ba",
      "bb6fd4ffa84345af83092012e22a1f06",
      "f7c398b5069245718ea886abfe274ff6",
      "8303f829ea224caa81ece9cc71192673",
      "149527ee2e99471d84560cab0c8369cf",
      "5d85c259a796413fb3c88e7e4e4fb7ba",
      "018cbf6cc49642d69043bf63767251d1",
      "e6f497ea4ec24307a851cac94dc64296",
      "8320d1433d314dd2b1780ab33d1f2aa5",
      "1d47c44391d04d1483fb22e185c643fe",
      "beed86cc1f634560ba7d3769be0ae4c8"
     ]
    },
    "id": "YIZ4uxq2h0Rn",
    "outputId": "3b06cfe2-88c4-4ce1-ddbc-f9ce3ad162de"
   },
   "outputs": [
    {
     "name": "stderr",
     "output_type": "stream",
     "text": [
      "/usr/local/lib/python3.10/dist-packages/huggingface_hub/utils/_token.py:89: UserWarning: \n",
      "The secret `HF_TOKEN` does not exist in your Colab secrets.\n",
      "To authenticate with the Hugging Face Hub, create a token in your settings tab (https://huggingface.co/settings/tokens), set it as secret in your Google Colab and restart your session.\n",
      "You will be able to reuse this secret in all of your notebooks.\n",
      "Please note that authentication is recommended but still optional to access public models or datasets.\n",
      "  warnings.warn(\n"
     ]
    },
    {
     "data": {
      "application/vnd.jupyter.widget-view+json": {
       "model_id": "2227fe59217346878a8866430f5f0f9a",
       "version_major": 2,
       "version_minor": 0
      },
      "text/plain": [
       "config.json:   0%|          | 0.00/314 [00:00<?, ?B/s]"
      ]
     },
     "metadata": {},
     "output_type": "display_data"
    },
    {
     "data": {
      "application/vnd.jupyter.widget-view+json": {
       "model_id": "21a285f433a54dab966d684bfcffb3ba",
       "version_major": 2,
       "version_minor": 0
      },
      "text/plain": [
       "vocab.txt:   0%|          | 0.00/232k [00:00<?, ?B/s]"
      ]
     },
     "metadata": {},
     "output_type": "display_data"
    },
    {
     "name": "stderr",
     "output_type": "stream",
     "text": [
      "/usr/local/lib/python3.10/dist-packages/transformers/tokenization_utils_base.py:1601: FutureWarning: `clean_up_tokenization_spaces` was not set. It will be set to `True` by default. This behavior will be depracted in transformers v4.45, and will be then set to `False` by default. For more details check this issue: https://github.com/huggingface/transformers/issues/31884\n",
      "  warnings.warn(\n"
     ]
    }
   ],
   "source": [
    "tokenizer = AutoTokenizer.from_pretrained(\"bionlp/bluebert_pubmed_uncased_L-24_H-1024_A-16\")"
   ]
  },
  {
   "cell_type": "code",
   "execution_count": null,
   "metadata": {
    "id": "sCxmsPk9T7tW"
   },
   "outputs": [],
   "source": [
    "abstractslbltrain = train_data['Abstract']\n",
    "keywordsslbltrain = train_data['Keywords']\n",
    "domainlbltrain = train_data['Domain']\n",
    "lblstrain = train_data['Label']"
   ]
  },
  {
   "cell_type": "code",
   "execution_count": null,
   "metadata": {
    "colab": {
     "base_uri": "https://localhost:8080/"
    },
    "id": "e1aaQ3j-T8vi",
    "outputId": "890a7f0e-97a5-492e-93b3-a293cc6b4b0e"
   },
   "outputs": [
    {
     "name": "stdout",
     "output_type": "stream",
     "text": [
      "(8716, 5)\n",
      "Index(['Label', 'Domain', 'Keywords', 'Abstract', 'combined_text'], dtype='object')\n"
     ]
    }
   ],
   "source": [
    "print(np.shape(labeled_data))\n",
    "print(labeled_data.columns)"
   ]
  },
  {
   "cell_type": "code",
   "execution_count": null,
   "metadata": {
    "colab": {
     "base_uri": "https://localhost:8080/"
    },
    "id": "8Gr4SA7PUATC",
    "outputId": "cea9f507-62c7-4a3a-8014-552a58ff6f55"
   },
   "outputs": [
    {
     "name": "stdout",
     "output_type": "stream",
     "text": [
      "Labels  ['ECE' 'Psychology' 'biochemistry']\n",
      "Label counts  [1803 2097 3072]\n"
     ]
    }
   ],
   "source": [
    "labels = np.unique(domainlbltrain, return_counts=True)[0]\n",
    "labelCounts=  np.unique(domainlbltrain, return_counts=True)[1]\n",
    "\n",
    "print(\"Labels \", labels)\n",
    "print(\"Label counts \", labelCounts)"
   ]
  },
  {
   "cell_type": "code",
   "execution_count": null,
   "metadata": {
    "colab": {
     "base_uri": "https://localhost:8080/",
     "height": 481
    },
    "id": "GDOn_hrNUGSy",
    "outputId": "1b8ae0b1-6fdf-4122-fad7-d152927861be"
   },
   "outputs": [
    {
     "data": {
      "image/png": "[encoded data removed]",
      "text/plain": [
       "<Figure size 1000x600 with 1 Axes>"
      ]
     },
     "metadata": {},
     "output_type": "display_data"
    },
    {
     "name": "stdout",
     "output_type": "stream",
     "text": [
      "The label ECE has 1803 records in the dataset.\n",
      "The label Psychology has 2097 records in the dataset.\n",
      "The label biochemistry has 3072 records in the dataset.\n"
     ]
    }
   ],
   "source": [
    "plt.figure(figsize=(10, 6))\n",
    "plt.title(\"Class Counts (Dataset)\")\n",
    "plt.pie(labelCounts, labels=labels, autopct='%1.1f%%', startangle=140, colors=plt.cm.Paired(range(len(labels))))\n",
    "plt.axis('equal')\n",
    "plt.show()\n",
    "\n",
    "for i, label in enumerate(labels):\n",
    "    print(\"The label\", label, \"has\", labelCounts[i], \"records in the dataset.\")"
   ]
  },
  {
   "cell_type": "code",
   "execution_count": null,
   "metadata": {
    "id": "JGvdipmIZEPq"
   },
   "outputs": [],
   "source": [
    "abstractslbltest = test_data['Abstract']\n",
    "keywordsslbltest = test_data['Keywords']\n",
    "domainlbltest = test_data['Domain']\n",
    "lblstest = test_data['Label']"
   ]
  },
  {
   "cell_type": "code",
   "execution_count": null,
   "metadata": {
    "colab": {
     "base_uri": "https://localhost:8080/"
    },
    "id": "l64aJDKxZEfQ",
    "outputId": "909a69dc-535d-4534-fedd-d9f80d0efc78"
   },
   "outputs": [
    {
     "name": "stdout",
     "output_type": "stream",
     "text": [
      "Labels  ['ECE' 'Psychology' 'biochemistry']\n",
      "Label counts  [442 535 767]\n"
     ]
    }
   ],
   "source": [
    "labels = np.unique(domainlbltest, return_counts=True)[0]\n",
    "labelCounts=  np.unique(domainlbltest, return_counts=True)[1]\n",
    "\n",
    "print(\"Labels \", labels)\n",
    "print(\"Label counts \", labelCounts)"
   ]
  },
  {
   "cell_type": "code",
   "execution_count": null,
   "metadata": {
    "colab": {
     "base_uri": "https://localhost:8080/",
     "height": 481
    },
    "id": "RhCMATTGZErU",
    "outputId": "66fda29c-e691-42da-f049-9beae9d26391"
   },
   "outputs": [
    {
     "data": {
      "image/png": "[encoded data removed]",
      "text/plain": [
       "<Figure size 1000x600 with 1 Axes>"
      ]
     },
     "metadata": {},
     "output_type": "display_data"
    },
    {
     "name": "stdout",
     "output_type": "stream",
     "text": [
      "The label ECE has 442 records in the dataset.\n",
      "The label Psychology has 535 records in the dataset.\n",
      "The label biochemistry has 767 records in the dataset.\n"
     ]
    }
   ],
   "source": [
    "plt.figure(figsize=(10, 6))\n",
    "plt.title(\"Class Counts (Dataset)\")\n",
    "plt.pie(labelCounts, labels=labels, autopct='%1.1f%%', startangle=140, colors=plt.cm.Paired(range(len(labels))))\n",
    "plt.axis('equal')\n",
    "plt.show()\n",
    "\n",
    "for i, label in enumerate(labels):\n",
    "    print(\"The label\", label, \"has\", labelCounts[i], \"records in the dataset.\")"
   ]
  },
  {
   "cell_type": "code",
   "execution_count": null,
   "metadata": {
    "id": "0eWbApo_ZROV"
   },
   "outputs": [],
   "source": [
    "abstractslblval = val_data['Abstract']\n",
    "keywordsslblval = val_data['Keywords']\n",
    "domainlblval = val_data['Domain']\n",
    "lblsval = val_data['Label']"
   ]
  },
  {
   "cell_type": "code",
   "execution_count": null,
   "metadata": {
    "colab": {
     "base_uri": "https://localhost:8080/"
    },
    "id": "alfNPrPwZRmt",
    "outputId": "11847455-1159-498e-8507-35919cb931cd"
   },
   "outputs": [
    {
     "name": "stdout",
     "output_type": "stream",
     "text": [
      "Labels  ['ECE' 'Psychology' 'biochemistry']\n",
      "Label counts  [216 272 384]\n"
     ]
    }
   ],
   "source": [
    "labels = np.unique(domainlblval, return_counts=True)[0]\n",
    "labelCounts=  np.unique(domainlblval, return_counts=True)[1]\n",
    "\n",
    "print(\"Labels \", labels)\n",
    "print(\"Label counts \", labelCounts)"
   ]
  },
  {
   "cell_type": "code",
   "execution_count": null,
   "metadata": {
    "colab": {
     "base_uri": "https://localhost:8080/",
     "height": 481
    },
    "id": "-vH16QzfZE6m",
    "outputId": "4b5d020b-6f3b-4189-8e4c-1e0e1f4f1f03"
   },
   "outputs": [
    {
     "data": {
      "image/png": "[encoded data removed]",
      "text/plain": [
       "<Figure size 1000x600 with 1 Axes>"
      ]
     },
     "metadata": {},
     "output_type": "display_data"
    },
    {
     "name": "stdout",
     "output_type": "stream",
     "text": [
      "The label ECE has 216 records in the dataset.\n",
      "The label Psychology has 272 records in the dataset.\n",
      "The label biochemistry has 384 records in the dataset.\n"
     ]
    }
   ],
   "source": [
    "plt.figure(figsize=(10, 6))\n",
    "plt.title(\"Class Counts (Dataset)\")\n",
    "plt.pie(labelCounts, labels=labels, autopct='%1.1f%%', startangle=140, colors=plt.cm.Paired(range(len(labels))))\n",
    "plt.axis('equal')\n",
    "plt.show()\n",
    "\n",
    "for i, label in enumerate(labels):\n",
    "    print(\"The label\", label, \"has\", labelCounts[i], \"records in the dataset.\")"
   ]
  },
  {
   "cell_type": "code",
   "execution_count": null,
   "metadata": {
    "id": "pxeAvHMGh3fx"
   },
   "outputs": [],
   "source": [
    "def encode_data(data, tokenizer, max_length=128, labeled=True):\n",
    "    inputs = tokenizer(\n",
    "        data['combined_text'].tolist(),\n",
    "        max_length=max_length,\n",
    "        padding=\"max_length\",\n",
    "        truncation=True,\n",
    "        return_tensors=\"pt\"\n",
    "    )\n",
    "\n",
    "    # Only create labels tensor if data is labeled\n",
    "    if labeled and 'Label' in data.columns:\n",
    "        labels = torch.tensor(data['Label'].values.astype(int))\n",
    "        return TensorDataset(inputs['input_ids'], inputs['attention_mask'], labels)\n",
    "    else:\n",
    "        # For unlabeled data, only return inputs (no labels)\n",
    "        return TensorDataset(inputs['input_ids'], inputs['attention_mask'])\n"
   ]
  },
  {
   "cell_type": "code",
   "execution_count": null,
   "metadata": {
    "id": "bqVvQ4ZriHk_"
   },
   "outputs": [],
   "source": [
    "train_dataset = encode_data(train_data, tokenizer)\n",
    "val_dataset = encode_data(val_data, tokenizer)\n",
    "test_dataset = encode_data(test_data, tokenizer)"
   ]
  },
  {
   "cell_type": "code",
   "execution_count": null,
   "metadata": {
    "id": "MVqj6GkGiOLU"
   },
   "outputs": [],
   "source": [
    "train_dataloader = DataLoader(train_dataset, sampler=RandomSampler(train_dataset), batch_size=32)\n",
    "val_dataloader = DataLoader(val_dataset, sampler=SequentialSampler(val_dataset), batch_size=32)\n",
    "test_dataloader = DataLoader(test_dataset, sampler=SequentialSampler(test_dataset), batch_size=32)"
   ]
  },
  {
   "cell_type": "code",
   "execution_count": null,
   "metadata": {
    "colab": {
     "base_uri": "https://localhost:8080/",
     "height": 940,
     "referenced_widgets": [
      "187c763cdc324422ae7f07146eae03c2",
      "1f3c720e21534ad6b7f760165814e7bb",
      "228bdf52e17f402cbe6f97e03fe1839b",
      "f4f35f9203734017a36bfd3391d799aa",
      "0b71d532baec4159833331895467a0df",
      "4864b42dcb2b4c4d9d5ba2614fdcf01f",
      "134f3128f18149b6b9dd520f9fd08bbf",
      "40a2be04ab484592b581753501f646bd",
      "64174a4684e94b538a44ca8fbb8c6b6f",
      "d4d18147f1da456b8caacfb93ec07b31",
      "dec613593c004c17af509b1c5c1d2325"
     ]
    },
    "id": "xZnFwk-jiQ1N",
    "outputId": "2627d3be-a77f-4234-a3f1-fa8a66d5b21a"
   },
   "outputs": [
    {
     "name": "stdout",
     "output_type": "stream",
     "text": [
      "3\n"
     ]
    },
    {
     "data": {
      "application/vnd.jupyter.widget-view+json": {
       "model_id": "187c763cdc324422ae7f07146eae03c2",
       "version_major": 2,
       "version_minor": 0
      },
      "text/plain": [
       "pytorch_model.bin:   0%|          | 0.00/1.35G [00:00<?, ?B/s]"
      ]
     },
     "metadata": {},
     "output_type": "display_data"
    },
    {
     "name": "stderr",
     "output_type": "stream",
     "text": [
      "Some weights of BertForSequenceClassification were not initialized from the model checkpoint at bionlp/bluebert_pubmed_uncased_L-24_H-1024_A-16 and are newly initialized: ['classifier.bias', 'classifier.weight']\n",
      "You should probably TRAIN this model on a down-stream task to be able to use it for predictions and inference.\n"
     ]
    },
    {
     "data": {
      "text/plain": [
       "BertForSequenceClassification(\n",
       "  (bert): BertModel(\n",
       "    (embeddings): BertEmbeddings(\n",
       "      (word_embeddings): Embedding(30522, 1024, padding_idx=0)\n",
       "      (position_embeddings): Embedding(512, 1024)\n",
       "      (token_type_embeddings): Embedding(2, 1024)\n",
       "      (LayerNorm): LayerNorm((1024,), eps=1e-12, elementwise_affine=True)\n",
       "      (dropout): Dropout(p=0.1, inplace=False)\n",
       "    )\n",
       "    (encoder): BertEncoder(\n",
       "      (layer): ModuleList(\n",
       "        (0-23): 24 x BertLayer(\n",
       "          (attention): BertAttention(\n",
       "            (self): BertSdpaSelfAttention(\n",
       "              (query): Linear(in_features=1024, out_features=1024, bias=True)\n",
       "              (key): Linear(in_features=1024, out_features=1024, bias=True)\n",
       "              (value): Linear(in_features=1024, out_features=1024, bias=True)\n",
       "              (dropout): Dropout(p=0.1, inplace=False)\n",
       "            )\n",
       "            (output): BertSelfOutput(\n",
       "              (dense): Linear(in_features=1024, out_features=1024, bias=True)\n",
       "              (LayerNorm): LayerNorm((1024,), eps=1e-12, elementwise_affine=True)\n",
       "              (dropout): Dropout(p=0.1, inplace=False)\n",
       "            )\n",
       "          )\n",
       "          (intermediate): BertIntermediate(\n",
       "            (dense): Linear(in_features=1024, out_features=4096, bias=True)\n",
       "            (intermediate_act_fn): GELUActivation()\n",
       "          )\n",
       "          (output): BertOutput(\n",
       "            (dense): Linear(in_features=4096, out_features=1024, bias=True)\n",
       "            (LayerNorm): LayerNorm((1024,), eps=1e-12, elementwise_affine=True)\n",
       "            (dropout): Dropout(p=0.1, inplace=False)\n",
       "          )\n",
       "        )\n",
       "      )\n",
       "    )\n",
       "    (pooler): BertPooler(\n",
       "      (dense): Linear(in_features=1024, out_features=1024, bias=True)\n",
       "      (activation): Tanh()\n",
       "    )\n",
       "  )\n",
       "  (dropout): Dropout(p=0.1, inplace=False)\n",
       "  (classifier): Linear(in_features=1024, out_features=3, bias=True)\n",
       ")"
      ]
     },
     "execution_count": 29,
     "metadata": {},
     "output_type": "execute_result"
    }
   ],
   "source": [
    "print(len(np.unique(train_data['Label'])))\n",
    "model = AutoModelForSequenceClassification.from_pretrained(\"bionlp/bluebert_pubmed_uncased_L-24_H-1024_A-16\", num_labels=len(np.unique(train_data['Label'])))\n",
    "device = torch.device(\"cuda\" if torch.cuda.is_available() else \"cpu\")\n",
    "model.to(device)"
   ]
  },
  {
   "cell_type": "code",
   "execution_count": null,
   "metadata": {
    "id": "tkWRqh9eiozN"
   },
   "outputs": [],
   "source": [
    "def calculate_metrics_f(valType, predictions, true_labels):\n",
    "    if valType == 'test':\n",
    "        cm = confusion_matrix(true_labels, predictions)\n",
    "        report = classification_report(true_labels, predictions)\n",
    "        f1_micro = f1_score(true_labels, predictions, average='micro')\n",
    "        print(\"\\nClassification Report:\\n\", report)\n",
    "        return f1_micro\n",
    "    elif valType == 'val':\n",
    "        f1_micro = f1_score(true_labels, predictions, average='micro')\n",
    "        return f1_micro"
   ]
  },
  {
   "cell_type": "code",
   "execution_count": null,
   "metadata": {
    "id": "qtxucMQfkITn"
   },
   "outputs": [],
   "source": [
    "def calculate_metrics(valType, predictions, true_labels):\n",
    "    if(valType == 'test'):\n",
    "        cm = confusion_matrix(true_labels, predictions)\n",
    "        print(\"Confusion Matrix:\\n\", cm)\n",
    "\n",
    "        report = classification_report(true_labels, predictions, target_names=[str(i) for i in range(len(np.unique(true_labels)))])\n",
    "        print(\"\\nClassification Report:\\n\", report)\n",
    "\n",
    "        f1_macro = f1_score(true_labels, predictions, average='macro')\n",
    "        f1_micro = f1_score(true_labels, predictions, average='micro')\n",
    "        f1_weighted = f1_score(true_labels, predictions, average='weighted')\n",
    "\n",
    "        precision_macro = precision_score(true_labels, predictions, average='macro')\n",
    "        precision_micro = precision_score(true_labels, predictions, average='micro')\n",
    "        precision_weighted = precision_score(true_labels, predictions, average='weighted')\n",
    "\n",
    "        recall_macro = recall_score(true_labels, predictions, average='macro')\n",
    "        recall_micro = recall_score(true_labels, predictions, average='micro')\n",
    "        recall_weighted = recall_score(true_labels, predictions, average='weighted')\n",
    "\n",
    "        print(f\"Macro F1 Score: {f1_macro}\")\n",
    "        print(f\"Micro F1 Score: {f1_micro}\")\n",
    "        print(f\"Weighted F1 Score: {f1_weighted}\")\n",
    "\n",
    "        print(f\"Macro Precision: {precision_macro}\")\n",
    "        print(f\"Micro Precision: {precision_micro}\")\n",
    "        print(f\"Weighted Precision: {precision_weighted}\")\n",
    "\n",
    "        print(f\"Macro Recall: {recall_macro}\")\n",
    "        print(f\"Micro Recall: {recall_micro}\")\n",
    "        print(f\"Weighted Recall: {recall_weighted}\")\n",
    "\n",
    "    elif(valType == 'val'):\n",
    "        cm = confusion_matrix(true_labels, predictions)\n",
    "        f1_macro = f1_score(true_labels, predictions, average='macro')\n",
    "        f1_micro = f1_score(true_labels, predictions, average='micro')\n",
    "        f1_weighted = f1_score(true_labels, predictions, average='weighted')\n",
    "\n",
    "        precision_macro = precision_score(true_labels, predictions, average='macro')\n",
    "        precision_micro = precision_score(true_labels, predictions, average='micro')\n",
    "        precision_weighted = precision_score(true_labels, predictions, average='weighted')\n",
    "\n",
    "        recall_macro = recall_score(true_labels, predictions, average='macro')\n",
    "        recall_micro = recall_score(true_labels, predictions, average='micro')\n",
    "        recall_weighted = recall_score(true_labels, predictions, average='weighted')\n",
    "        return f1_micro"
   ]
  },
  {
   "cell_type": "code",
   "execution_count": null,
   "metadata": {
    "colab": {
     "base_uri": "https://localhost:8080/"
    },
    "id": "TacIdpsRite9",
    "outputId": "3de1ae38-4fa6-411c-fbd8-87627ad46e38"
   },
   "outputs": [
    {
     "name": "stdout",
     "output_type": "stream",
     "text": [
      "\n",
      "Training with learning rate: 2e-05\n"
     ]
    },
    {
     "name": "stderr",
     "output_type": "stream",
     "text": [
      "/usr/local/lib/python3.10/dist-packages/transformers/optimization.py:591: FutureWarning: This implementation of AdamW is deprecated and will be removed in a future version. Use the PyTorch implementation torch.optim.AdamW instead, or set `no_deprecation_warning=True` to disable this warning\n",
      "  warnings.warn(\n",
      "Epoch 1/20: 100%|██████████| 218/218 [07:57<00:00,  2.19s/batch]\n"
     ]
    },
    {
     "name": "stdout",
     "output_type": "stream",
     "text": [
      "Train Loss: 0.7197800159044222\n",
      "Validation Micro F1: 0.9564220183486238\n",
      "Epoch 1/20, Train Loss: 0.7197800159044222, Val Micro F1: 0.9564220183486238\n",
      "Best model saved.\n"
     ]
    },
    {
     "name": "stderr",
     "output_type": "stream",
     "text": [
      "Epoch 2/20: 100%|██████████| 218/218 [08:06<00:00,  2.23s/batch]\n"
     ]
    },
    {
     "name": "stdout",
     "output_type": "stream",
     "text": [
      "Train Loss: 0.13088571387898484\n",
      "Validation Micro F1: 0.963302752293578\n",
      "Epoch 2/20, Train Loss: 0.13088571387898484, Val Micro F1: 0.963302752293578\n",
      "Best model saved.\n"
     ]
    },
    {
     "name": "stderr",
     "output_type": "stream",
     "text": [
      "Epoch 3/20: 100%|██████████| 218/218 [08:06<00:00,  2.23s/batch]\n"
     ]
    },
    {
     "name": "stdout",
     "output_type": "stream",
     "text": [
      "Train Loss: 0.08465369667328142\n",
      "Validation Micro F1: 0.9713302752293578\n",
      "Epoch 3/20, Train Loss: 0.08465369667328142, Val Micro F1: 0.9713302752293578\n",
      "Best model saved.\n"
     ]
    },
    {
     "name": "stderr",
     "output_type": "stream",
     "text": [
      "Epoch 4/20: 100%|██████████| 218/218 [08:06<00:00,  2.23s/batch]\n"
     ]
    },
    {
     "name": "stdout",
     "output_type": "stream",
     "text": [
      "Train Loss: 0.044348998147985735\n",
      "Validation Micro F1: 0.9747706422018348\n",
      "Epoch 4/20, Train Loss: 0.044348998147985735, Val Micro F1: 0.9747706422018348\n",
      "Best model saved.\n"
     ]
    },
    {
     "name": "stderr",
     "output_type": "stream",
     "text": [
      "Epoch 5/20: 100%|██████████| 218/218 [08:06<00:00,  2.23s/batch]\n"
     ]
    },
    {
     "name": "stdout",
     "output_type": "stream",
     "text": [
      "Train Loss: 0.021385585119170266\n",
      "Validation Micro F1: 0.9759174311926605\n",
      "Epoch 5/20, Train Loss: 0.021385585119170266, Val Micro F1: 0.9759174311926605\n",
      "Best model saved.\n"
     ]
    },
    {
     "name": "stderr",
     "output_type": "stream",
     "text": [
      "Epoch 6/20: 100%|██████████| 218/218 [08:07<00:00,  2.24s/batch]\n"
     ]
    },
    {
     "name": "stdout",
     "output_type": "stream",
     "text": [
      "Train Loss: 0.011707217716120627\n",
      "Validation Micro F1: 0.9770642201834863\n",
      "Epoch 6/20, Train Loss: 0.011707217716120627, Val Micro F1: 0.9770642201834863\n",
      "Best model saved.\n"
     ]
    },
    {
     "name": "stderr",
     "output_type": "stream",
     "text": [
      "Epoch 7/20: 100%|██████████| 218/218 [08:06<00:00,  2.23s/batch]\n"
     ]
    },
    {
     "name": "stdout",
     "output_type": "stream",
     "text": [
      "Train Loss: 0.006215340098197393\n",
      "Validation Micro F1: 0.9736238532110092\n",
      "Epoch 7/20, Train Loss: 0.006215340098197393, Val Micro F1: 0.9736238532110092\n"
     ]
    },
    {
     "name": "stderr",
     "output_type": "stream",
     "text": [
      "Epoch 8/20: 100%|██████████| 218/218 [08:06<00:00,  2.23s/batch]\n"
     ]
    },
    {
     "name": "stdout",
     "output_type": "stream",
     "text": [
      "Train Loss: 0.005170451531906552\n",
      "Validation Micro F1: 0.9736238532110092\n",
      "Epoch 8/20, Train Loss: 0.005170451531906552, Val Micro F1: 0.9736238532110092\n"
     ]
    },
    {
     "name": "stderr",
     "output_type": "stream",
     "text": [
      "Epoch 9/20: 100%|██████████| 218/218 [08:06<00:00,  2.23s/batch]\n"
     ]
    },
    {
     "name": "stdout",
     "output_type": "stream",
     "text": [
      "Train Loss: 0.00748880190657048\n",
      "Validation Micro F1: 0.9736238532110092\n",
      "Epoch 9/20, Train Loss: 0.00748880190657048, Val Micro F1: 0.9736238532110092\n"
     ]
    },
    {
     "name": "stderr",
     "output_type": "stream",
     "text": [
      "Epoch 10/20: 100%|██████████| 218/218 [08:06<00:00,  2.23s/batch]\n"
     ]
    },
    {
     "name": "stdout",
     "output_type": "stream",
     "text": [
      "Train Loss: 0.0014729021103273535\n",
      "Validation Micro F1: 0.9782110091743119\n",
      "Epoch 10/20, Train Loss: 0.0014729021103273535, Val Micro F1: 0.9782110091743119\n",
      "Best model saved.\n"
     ]
    },
    {
     "name": "stderr",
     "output_type": "stream",
     "text": [
      "Epoch 11/20: 100%|██████████| 218/218 [08:06<00:00,  2.23s/batch]\n"
     ]
    },
    {
     "name": "stdout",
     "output_type": "stream",
     "text": [
      "Train Loss: 0.0010900105883200747\n",
      "Validation Micro F1: 0.9747706422018348\n",
      "Epoch 11/20, Train Loss: 0.0010900105883200747, Val Micro F1: 0.9747706422018348\n"
     ]
    },
    {
     "name": "stderr",
     "output_type": "stream",
     "text": [
      "Epoch 12/20: 100%|██████████| 218/218 [08:06<00:00,  2.23s/batch]\n"
     ]
    },
    {
     "name": "stdout",
     "output_type": "stream",
     "text": [
      "Train Loss: 0.0007597812151505907\n",
      "Validation Micro F1: 0.9770642201834863\n",
      "Epoch 12/20, Train Loss: 0.0007597812151505907, Val Micro F1: 0.9770642201834863\n"
     ]
    },
    {
     "name": "stderr",
     "output_type": "stream",
     "text": [
      "Epoch 13/20: 100%|██████████| 218/218 [08:06<00:00,  2.23s/batch]\n"
     ]
    },
    {
     "name": "stdout",
     "output_type": "stream",
     "text": [
      "Train Loss: 0.00235040279502079\n",
      "Validation Micro F1: 0.9793577981651376\n",
      "Epoch 13/20, Train Loss: 0.00235040279502079, Val Micro F1: 0.9793577981651376\n",
      "Best model saved.\n"
     ]
    },
    {
     "name": "stderr",
     "output_type": "stream",
     "text": [
      "Epoch 14/20: 100%|██████████| 218/218 [08:06<00:00,  2.23s/batch]\n"
     ]
    },
    {
     "name": "stdout",
     "output_type": "stream",
     "text": [
      "Train Loss: 0.0006730503844147454\n",
      "Validation Micro F1: 0.9793577981651376\n",
      "Epoch 14/20, Train Loss: 0.0006730503844147454, Val Micro F1: 0.9793577981651376\n"
     ]
    },
    {
     "name": "stderr",
     "output_type": "stream",
     "text": [
      "Epoch 15/20: 100%|██████████| 218/218 [08:05<00:00,  2.23s/batch]\n"
     ]
    },
    {
     "name": "stdout",
     "output_type": "stream",
     "text": [
      "Train Loss: 0.000477239336726873\n",
      "Validation Micro F1: 0.9793577981651376\n",
      "Epoch 15/20, Train Loss: 0.000477239336726873, Val Micro F1: 0.9793577981651376\n"
     ]
    },
    {
     "name": "stderr",
     "output_type": "stream",
     "text": [
      "Epoch 16/20: 100%|██████████| 218/218 [08:06<00:00,  2.23s/batch]\n"
     ]
    },
    {
     "name": "stdout",
     "output_type": "stream",
     "text": [
      "Train Loss: 0.0005819059916166642\n",
      "Validation Micro F1: 0.9793577981651376\n",
      "Epoch 16/20, Train Loss: 0.0005819059916166642, Val Micro F1: 0.9793577981651376\n"
     ]
    },
    {
     "name": "stderr",
     "output_type": "stream",
     "text": [
      "Epoch 17/20: 100%|██████████| 218/218 [08:05<00:00,  2.23s/batch]\n"
     ]
    },
    {
     "name": "stdout",
     "output_type": "stream",
     "text": [
      "Train Loss: 0.0005249202025579256\n",
      "Validation Micro F1: 0.9782110091743119\n",
      "Epoch 17/20, Train Loss: 0.0005249202025579256, Val Micro F1: 0.9782110091743119\n"
     ]
    },
    {
     "name": "stderr",
     "output_type": "stream",
     "text": [
      "Epoch 18/20: 100%|██████████| 218/218 [08:05<00:00,  2.23s/batch]\n"
     ]
    },
    {
     "name": "stdout",
     "output_type": "stream",
     "text": [
      "Train Loss: 0.00045259916104767214\n"
     ]
    },
    {
     "name": "stderr",
     "output_type": "stream",
     "text": [
      "/usr/local/lib/python3.10/dist-packages/transformers/optimization.py:591: FutureWarning: This implementation of AdamW is deprecated and will be removed in a future version. Use the PyTorch implementation torch.optim.AdamW instead, or set `no_deprecation_warning=True` to disable this warning\n",
      "  warnings.warn(\n"
     ]
    },
    {
     "name": "stdout",
     "output_type": "stream",
     "text": [
      "Validation Micro F1: 0.9782110091743119\n",
      "Epoch 18/20, Train Loss: 0.00045259916104767214, Val Micro F1: 0.9782110091743119\n",
      "Early stopping applied.\n",
      "\n",
      "Training with learning rate: 5e-06\n"
     ]
    },
    {
     "name": "stderr",
     "output_type": "stream",
     "text": [
      "Epoch 1/20: 100%|██████████| 218/218 [08:05<00:00,  2.23s/batch]\n"
     ]
    },
    {
     "name": "stdout",
     "output_type": "stream",
     "text": [
      "Train Loss: 0.000807483805071962\n"
     ]
    },
    {
     "name": "stderr",
     "output_type": "stream",
     "text": [
      "/usr/local/lib/python3.10/dist-packages/transformers/optimization.py:591: FutureWarning: This implementation of AdamW is deprecated and will be removed in a future version. Use the PyTorch implementation torch.optim.AdamW instead, or set `no_deprecation_warning=True` to disable this warning\n",
      "  warnings.warn(\n"
     ]
    },
    {
     "name": "stdout",
     "output_type": "stream",
     "text": [
      "Validation Micro F1: 0.9759174311926605\n",
      "Epoch 1/20, Train Loss: 0.000807483805071962, Val Micro F1: 0.9759174311926605\n",
      "Early stopping applied.\n",
      "\n",
      "Training with learning rate: 1e-06\n"
     ]
    },
    {
     "name": "stderr",
     "output_type": "stream",
     "text": [
      "Epoch 1/20: 100%|██████████| 218/218 [08:05<00:00,  2.23s/batch]\n"
     ]
    },
    {
     "name": "stdout",
     "output_type": "stream",
     "text": [
      "Train Loss: 0.00036672407971751673\n"
     ]
    },
    {
     "name": "stderr",
     "output_type": "stream",
     "text": [
      "/usr/local/lib/python3.10/dist-packages/transformers/optimization.py:591: FutureWarning: This implementation of AdamW is deprecated and will be removed in a future version. Use the PyTorch implementation torch.optim.AdamW instead, or set `no_deprecation_warning=True` to disable this warning\n",
      "  warnings.warn(\n"
     ]
    },
    {
     "name": "stdout",
     "output_type": "stream",
     "text": [
      "Validation Micro F1: 0.9770642201834863\n",
      "Epoch 1/20, Train Loss: 0.00036672407971751673, Val Micro F1: 0.9770642201834863\n",
      "Early stopping applied.\n",
      "\n",
      "Training with learning rate: 2e-06\n"
     ]
    },
    {
     "name": "stderr",
     "output_type": "stream",
     "text": [
      "Epoch 1/20: 100%|██████████| 218/218 [08:05<00:00,  2.23s/batch]\n"
     ]
    },
    {
     "name": "stdout",
     "output_type": "stream",
     "text": [
      "Train Loss: 0.0003740385868904339\n",
      "Validation Micro F1: 0.9770642201834863\n",
      "Epoch 1/20, Train Loss: 0.0003740385868904339, Val Micro F1: 0.9770642201834863\n",
      "Early stopping applied.\n"
     ]
    },
    {
     "name": "stderr",
     "output_type": "stream",
     "text": [
      "<ipython-input-32-99034260d263>:60: FutureWarning: You are using `torch.load` with `weights_only=False` (the current default value), which uses the default pickle module implicitly. It is possible to construct malicious pickle data which will execute arbitrary code during unpickling (See https://github.com/pytorch/pytorch/blob/main/SECURITY.md#untrusted-models for more details). In a future release, the default value for `weights_only` will be flipped to `True`. This limits the functions that could be executed during unpickling. Arbitrary objects will no longer be allowed to be loaded via this mode unless they are explicitly allowlisted by the user via `torch.serialization.add_safe_globals`. We recommend you start setting `weights_only=True` for any use case where you don't have full control of the loaded file. Please open an issue on GitHub for any issues related to this experimental feature.\n",
      "  model.load_state_dict(torch.load('best_model.pth'))\n"
     ]
    },
    {
     "name": "stdout",
     "output_type": "stream",
     "text": [
      "Best model loaded.\n"
     ]
    }
   ],
   "source": [
    "\n",
    "epochs = 20\n",
    "learning_rates = [2e-5, 5e-6, 1e-6, 2e-6]\n",
    "early_stopping_patience = 5\n",
    "best_val_f1 = 0\n",
    "early_stopping_counter = 0\n",
    "\n",
    "for lr in learning_rates:\n",
    "    print(f\"\\nTraining with learning rate: {lr}\")\n",
    "    optimizer = AdamW(model.parameters(), lr=lr, eps=1e-8)\n",
    "    total_steps = len(train_dataloader) * epochs\n",
    "    scheduler = get_linear_schedule_with_warmup(optimizer, num_warmup_steps=0.1 * total_steps, num_training_steps=total_steps)\n",
    "\n",
    "    for epoch in range(epochs):\n",
    "        model.train()\n",
    "        total_train_loss = 0\n",
    "        for batch in tqdm(train_dataloader, desc=f\"Epoch {epoch + 1}/{epochs}\", unit=\"batch\"):\n",
    "            batch = tuple(t.to(device) for t in batch)\n",
    "            input_ids, input_mask, labels = batch\n",
    "            model.zero_grad()\n",
    "            outputs = model(input_ids=input_ids, attention_mask=input_mask, labels=labels)\n",
    "            loss = outputs.loss\n",
    "            total_train_loss += loss.item()\n",
    "            loss.backward()\n",
    "            optimizer.step()\n",
    "            scheduler.step()\n",
    "        avg_train_loss = total_train_loss / len(train_dataloader)\n",
    "        print(f\"Train Loss: {avg_train_loss}\")\n",
    "\n",
    "        # Validation\n",
    "        model.eval()\n",
    "        predictions, true_labels = [], []\n",
    "        for batch in val_dataloader:\n",
    "            batch = tuple(t.to(device) for t in batch)\n",
    "            input_ids, input_mask, labels = batch\n",
    "            with torch.no_grad():\n",
    "                outputs = model(input_ids=input_ids, attention_mask=input_mask)\n",
    "            logits = outputs.logits.detach().cpu().numpy()\n",
    "            batch_predictions = np.argmax(logits, axis=1)\n",
    "            predictions.extend(batch_predictions)\n",
    "            true_labels.extend(labels.to('cpu').numpy())\n",
    "        val_f1 = f1_score(true_labels, predictions, average='micro')\n",
    "        print(f\"Validation Micro F1: {val_f1}\")\n",
    "        val_micro_f1 = calculate_metrics_f('val', predictions, true_labels)\n",
    "        print(f\"Epoch {epoch + 1}/{epochs}, Train Loss: {avg_train_loss}, Val Micro F1: {val_micro_f1}\")\n",
    "\n",
    "        # Early stopping check\n",
    "        if val_f1 > best_val_f1:\n",
    "            best_val_f1 = val_f1\n",
    "            early_stopping_counter = 0\n",
    "            torch.save(model.state_dict(), 'best_model.pth')\n",
    "            print(\"Best model saved.\")\n",
    "        else:\n",
    "            early_stopping_counter += 1\n",
    "            if early_stopping_counter >= early_stopping_patience:\n",
    "                print(\"Early stopping applied.\")\n",
    "                break\n",
    "\n",
    "model.load_state_dict(torch.load('best_model.pth'))\n",
    "print(\"Best model loaded.\")"
   ]
  },
  {
   "cell_type": "code",
   "execution_count": null,
   "metadata": {
    "colab": {
     "base_uri": "https://localhost:8080/"
    },
    "id": "zCM_A6DjkgfI",
    "outputId": "8e641424-7cd4-4b6f-c654-360c568aeccd"
   },
   "outputs": [
    {
     "name": "stdout",
     "output_type": "stream",
     "text": [
      "Confusion Matrix:\n",
      " [[433   7   2]\n",
      " [ 16 508  11]\n",
      " [  2   6 759]]\n",
      "\n",
      "Classification Report:\n",
      "               precision    recall  f1-score   support\n",
      "\n",
      "           0       0.96      0.98      0.97       442\n",
      "           1       0.98      0.95      0.96       535\n",
      "           2       0.98      0.99      0.99       767\n",
      "\n",
      "    accuracy                           0.97      1744\n",
      "   macro avg       0.97      0.97      0.97      1744\n",
      "weighted avg       0.97      0.97      0.97      1744\n",
      "\n",
      "Macro F1 Score: 0.9727469418585507\n",
      "Micro F1 Score: 0.9747706422018348\n",
      "Weighted F1 Score: 0.9747161810641976\n",
      "Macro Precision: 0.9727657660675267\n",
      "Micro Precision: 0.9747706422018348\n",
      "Weighted Precision: 0.9748245816800781\n",
      "Macro Recall: 0.9729134905372548\n",
      "Micro Recall: 0.9747706422018348\n",
      "Weighted Recall: 0.9747706422018348\n"
     ]
    }
   ],
   "source": [
    "# Evaluation\n",
    "model.eval()\n",
    "predictions = []\n",
    "true_labels = []\n",
    "\n",
    "for batch in test_dataloader:\n",
    "    batch = tuple(t.to(device) for t in batch)\n",
    "    input_ids, input_mask, labels = batch\n",
    "\n",
    "    with torch.no_grad():\n",
    "        outputs = model(input_ids=input_ids, attention_mask=input_mask)\n",
    "        logits = outputs.logits\n",
    "\n",
    "    logits = logits.detach().cpu().numpy()\n",
    "    label_ids = labels.to('cpu').numpy()\n",
    "\n",
    "    batch_predictions = np.argmax(logits, axis=1)\n",
    "    predictions.extend(batch_predictions)\n",
    "    true_labels.extend(label_ids)\n",
    "\n",
    "# Calculate and print metrics\n",
    "calculate_metrics('test', predictions, true_labels)"
   ]
  },
  {
   "cell_type": "code",
   "execution_count": null,
   "metadata": {
    "colab": {
     "base_uri": "https://localhost:8080/"
    },
    "id": "XGeuh6E0UgD-",
    "outputId": "dbf27758-0221-4299-f7ea-7f62c2f86e6f"
   },
   "outputs": [
    {
     "name": "stdout",
     "output_type": "stream",
     "text": [
      "\n",
      "Test Metrics:\n",
      "Confusion Matrix:\n",
      " [[433   7   2]\n",
      " [ 16 508  11]\n",
      " [  2   6 759]]\n",
      "Classification Report:\n",
      "               precision    recall  f1-score   support\n",
      "\n",
      "           0       0.96      0.98      0.97       442\n",
      "           1       0.98      0.95      0.96       535\n",
      "           2       0.98      0.99      0.99       767\n",
      "\n",
      "    accuracy                           0.97      1744\n",
      "   macro avg       0.97      0.97      0.97      1744\n",
      "weighted avg       0.97      0.97      0.97      1744\n",
      "\n",
      "Macro F1: 0.9727469418585507\n",
      "Micro F1: 0.9747706422018348\n",
      "Weighted F1: 0.9747161810641976\n"
     ]
    }
   ],
   "source": [
    "# Calculate and display test metrics\n",
    "print(\"\\nTest Metrics:\")\n",
    "print(\"Confusion Matrix:\\n\", confusion_matrix(true_labels, predictions))\n",
    "print(\"Classification Report:\\n\", classification_report(true_labels, predictions))\n",
    "print(\"Macro F1:\", f1_score(true_labels, predictions, average='macro'))\n",
    "print(\"Micro F1:\", f1_score(true_labels, predictions, average='micro'))\n",
    "print(\"Weighted F1:\", f1_score(true_labels, predictions, average='weighted'))"
   ]
  },
  {
   "cell_type": "code",
   "execution_count": null,
   "metadata": {
    "id": "q2YXRSBbhOZR"
   },
   "outputs": [],
   "source": [
    "for name, param in model.named_parameters():\n",
    "    if not param.is_contiguous():\n",
    "        param.data = param.data.contiguous()\n",
    "model.save_pretrained('/content/drive/MyDrive/WoS/BlueBERT_WoS_8715_records')"
   ]
  },
  {
   "cell_type": "code",
   "execution_count": null,
   "metadata": {
    "id": "yVRdYSJFbBUs"
   },
   "outputs": [],
   "source": [
    "from google.colab import runtime\n",
    "print('End of the runtime!')\n",
    "runtime.unassign()"
   ]
  }
 ],
 "metadata": {
  "accelerator": "GPU",
  "colab": {
   "gpuType": "T4",
   "provenance": []
  },
  "kernelspec": {
   "display_name": "Python 3",
   "name": "python3"
  },
  "language_info": {
   "name": "python"
  },
  "widgets": {
   "application/vnd.jupyter.widget-state+json": {
    "018cbf6cc49642d69043bf63767251d1": {
     "model_module": "@jupyter-widgets/controls",
     "model_module_version": "1.5.0",
     "model_name": "DescriptionStyleModel",
     "state": {
      "_model_module": "@jupyter-widgets/controls",
      "_model_module_version": "1.5.0",
      "_model_name": "DescriptionStyleModel",
      "_view_count": null,
      "_view_module": "@jupyter-widgets/base",
      "_view_module_version": "1.2.0",
      "_view_name": "StyleView",
      "description_width": ""
     }
    },
    "0795761f2a1b4a86ad52558cb0d4aeed": {
     "model_module": "@jupyter-widgets/base",
     "model_module_version": "1.2.0",
     "model_name": "LayoutModel",
     "state": {
      "_model_module": "@jupyter-widgets/base",
      "_model_module_version": "1.2.0",
      "_model_name": "LayoutModel",
      "_view_count": null,
      "_view_module": "@jupyter-widgets/base",
      "_view_module_version": "1.2.0",
      "_view_name": "LayoutView",
      "align_content": null,
      "align_items": null,
      "align_self": null,
      "border": null,
      "bottom": null,
      "display": null,
      "flex": null,
      "flex_flow": null,
      "grid_area": null,
      "grid_auto_columns": null,
      "grid_auto_flow": null,
      "grid_auto_rows": null,
      "grid_column": null,
      "grid_gap": null,
      "grid_row": null,
      "grid_template_areas": null,
      "grid_template_columns": null,
      "grid_template_rows": null,
      "height": null,
      "justify_content": null,
      "justify_items": null,
      "left": null,
      "margin": null,
      "max_height": null,
      "max_width": null,
      "min_height": null,
      "min_width": null,
      "object_fit": null,
      "object_position": null,
      "order": null,
      "overflow": null,
      "overflow_x": null,
      "overflow_y": null,
      "padding": null,
      "right": null,
      "top": null,
      "visibility": null,
      "width": null
     }
    },
    "0b71d532baec4159833331895467a0df": {
     "model_module": "@jupyter-widgets/base",
     "model_module_version": "1.2.0",
     "model_name": "LayoutModel",
     "state": {
      "_model_module": "@jupyter-widgets/base",
      "_model_module_version": "1.2.0",
      "_model_name": "LayoutModel",
      "_view_count": null,
      "_view_module": "@jupyter-widgets/base",
      "_view_module_version": "1.2.0",
      "_view_name": "LayoutView",
      "align_content": null,
      "align_items": null,
      "align_self": null,
      "border": null,
      "bottom": null,
      "display": null,
      "flex": null,
      "flex_flow": null,
      "grid_area": null,
      "grid_auto_columns": null,
      "grid_auto_flow": null,
      "grid_auto_rows": null,
      "grid_column": null,
      "grid_gap": null,
      "grid_row": null,
      "grid_template_areas": null,
      "grid_template_columns": null,
      "grid_template_rows": null,
      "height": null,
      "justify_content": null,
      "justify_items": null,
      "left": null,
      "margin": null,
      "max_height": null,
      "max_width": null,
      "min_height": null,
      "min_width": null,
      "object_fit": null,
      "object_position": null,
      "order": null,
      "overflow": null,
      "overflow_x": null,
      "overflow_y": null,
      "padding": null,
      "right": null,
      "top": null,
      "visibility": null,
      "width": null
     }
    },
    "134f3128f18149b6b9dd520f9fd08bbf": {
     "model_module": "@jupyter-widgets/controls",
     "model_module_version": "1.5.0",
     "model_name": "DescriptionStyleModel",
     "state": {
      "_model_module": "@jupyter-widgets/controls",
      "_model_module_version": "1.5.0",
      "_model_name": "DescriptionStyleModel",
      "_view_count": null,
      "_view_module": "@jupyter-widgets/base",
      "_view_module_version": "1.2.0",
      "_view_name": "StyleView",
      "description_width": ""
     }
    },
    "149527ee2e99471d84560cab0c8369cf": {
     "model_module": "@jupyter-widgets/base",
     "model_module_version": "1.2.0",
     "model_name": "LayoutModel",
     "state": {
      "_model_module": "@jupyter-widgets/base",
      "_model_module_version": "1.2.0",
      "_model_name": "LayoutModel",
      "_view_count": null,
      "_view_module": "@jupyter-widgets/base",
      "_view_module_version": "1.2.0",
      "_view_name": "LayoutView",
      "align_content": null,
      "align_items": null,
      "align_self": null,
      "border": null,
      "bottom": null,
      "display": null,
      "flex": null,
      "flex_flow": null,
      "grid_area": null,
      "grid_auto_columns": null,
      "grid_auto_flow": null,
      "grid_auto_rows": null,
      "grid_column": null,
      "grid_gap": null,
      "grid_row": null,
      "grid_template_areas": null,
      "grid_template_columns": null,
      "grid_template_rows": null,
      "height": null,
      "justify_content": null,
      "justify_items": null,
      "left": null,
      "margin": null,
      "max_height": null,
      "max_width": null,
      "min_height": null,
      "min_width": null,
      "object_fit": null,
      "object_position": null,
      "order": null,
      "overflow": null,
      "overflow_x": null,
      "overflow_y": null,
      "padding": null,
      "right": null,
      "top": null,
      "visibility": null,
      "width": null
     }
    },
    "187c763cdc324422ae7f07146eae03c2": {
     "model_module": "@jupyter-widgets/controls",
     "model_module_version": "1.5.0",
     "model_name": "HBoxModel",
     "state": {
      "_dom_classes": [],
      "_model_module": "@jupyter-widgets/controls",
      "_model_module_version": "1.5.0",
      "_model_name": "HBoxModel",
      "_view_count": null,
      "_view_module": "@jupyter-widgets/controls",
      "_view_module_version": "1.5.0",
      "_view_name": "HBoxView",
      "box_style": "",
      "children": [
       "IPY_MODEL_1f3c720e21534ad6b7f760165814e7bb",
       "IPY_MODEL_228bdf52e17f402cbe6f97e03fe1839b",
       "IPY_MODEL_f4f35f9203734017a36bfd3391d799aa"
      ],
      "layout": "IPY_MODEL_0b71d532baec4159833331895467a0df"
     }
    },
    "1d47c44391d04d1483fb22e185c643fe": {
     "model_module": "@jupyter-widgets/base",
     "model_module_version": "1.2.0",
     "model_name": "LayoutModel",
     "state": {
      "_model_module": "@jupyter-widgets/base",
      "_model_module_version": "1.2.0",
      "_model_name": "LayoutModel",
      "_view_count": null,
      "_view_module": "@jupyter-widgets/base",
      "_view_module_version": "1.2.0",
      "_view_name": "LayoutView",
      "align_content": null,
      "align_items": null,
      "align_self": null,
      "border": null,
      "bottom": null,
      "display": null,
      "flex": null,
      "flex_flow": null,
      "grid_area": null,
      "grid_auto_columns": null,
      "grid_auto_flow": null,
      "grid_auto_rows": null,
      "grid_column": null,
      "grid_gap": null,
      "grid_row": null,
      "grid_template_areas": null,
      "grid_template_columns": null,
      "grid_template_rows": null,
      "height": null,
      "justify_content": null,
      "justify_items": null,
      "left": null,
      "margin": null,
      "max_height": null,
      "max_width": null,
      "min_height": null,
      "min_width": null,
      "object_fit": null,
      "object_position": null,
      "order": null,
      "overflow": null,
      "overflow_x": null,
      "overflow_y": null,
      "padding": null,
      "right": null,
      "top": null,
      "visibility": null,
      "width": null
     }
    },
    "1f3c720e21534ad6b7f760165814e7bb": {
     "model_module": "@jupyter-widgets/controls",
     "model_module_version": "1.5.0",
     "model_name": "HTMLModel",
     "state": {
      "_dom_classes": [],
      "_model_module": "@jupyter-widgets/controls",
      "_model_module_version": "1.5.0",
      "_model_name": "HTMLModel",
      "_view_count": null,
      "_view_module": "@jupyter-widgets/controls",
      "_view_module_version": "1.5.0",
      "_view_name": "HTMLView",
      "description": "",
      "description_tooltip": null,
      "layout": "IPY_MODEL_4864b42dcb2b4c4d9d5ba2614fdcf01f",
      "placeholder": "​",
      "style": "IPY_MODEL_134f3128f18149b6b9dd520f9fd08bbf",
      "value": "pytorch_model.bin: 100%"
     }
    },
    "21a285f433a54dab966d684bfcffb3ba": {
     "model_module": "@jupyter-widgets/controls",
     "model_module_version": "1.5.0",
     "model_name": "HBoxModel",
     "state": {
      "_dom_classes": [],
      "_model_module": "@jupyter-widgets/controls",
      "_model_module_version": "1.5.0",
      "_model_name": "HBoxModel",
      "_view_count": null,
      "_view_module": "@jupyter-widgets/controls",
      "_view_module_version": "1.5.0",
      "_view_name": "HBoxView",
      "box_style": "",
      "children": [
       "IPY_MODEL_bb6fd4ffa84345af83092012e22a1f06",
       "IPY_MODEL_f7c398b5069245718ea886abfe274ff6",
       "IPY_MODEL_8303f829ea224caa81ece9cc71192673"
      ],
      "layout": "IPY_MODEL_149527ee2e99471d84560cab0c8369cf"
     }
    },
    "2227fe59217346878a8866430f5f0f9a": {
     "model_module": "@jupyter-widgets/controls",
     "model_module_version": "1.5.0",
     "model_name": "HBoxModel",
     "state": {
      "_dom_classes": [],
      "_model_module": "@jupyter-widgets/controls",
      "_model_module_version": "1.5.0",
      "_model_name": "HBoxModel",
      "_view_count": null,
      "_view_module": "@jupyter-widgets/controls",
      "_view_module_version": "1.5.0",
      "_view_name": "HBoxView",
      "box_style": "",
      "children": [
       "IPY_MODEL_89a3983da3cb4d2898b49353e2698bef",
       "IPY_MODEL_c4cc2b6a321c42f696e1d87f622d1376",
       "IPY_MODEL_5967b2265a4b4ec190afbc691c9e8abd"
      ],
      "layout": "IPY_MODEL_f7336fd6780544d38b5b2f05ecaa9f4b"
     }
    },
    "228bdf52e17f402cbe6f97e03fe1839b": {
     "model_module": "@jupyter-widgets/controls",
     "model_module_version": "1.5.0",
     "model_name": "FloatProgressModel",
     "state": {
      "_dom_classes": [],
      "_model_module": "@jupyter-widgets/controls",
      "_model_module_version": "1.5.0",
      "_model_name": "FloatProgressModel",
      "_view_count": null,
      "_view_module": "@jupyter-widgets/controls",
      "_view_module_version": "1.5.0",
      "_view_name": "ProgressView",
      "bar_style": "success",
      "description": "",
      "description_tooltip": null,
      "layout": "IPY_MODEL_40a2be04ab484592b581753501f646bd",
      "max": 1345067985,
      "min": 0,
      "orientation": "horizontal",
      "style": "IPY_MODEL_64174a4684e94b538a44ca8fbb8c6b6f",
      "value": 1345067985
     }
    },
    "256683b342e44ce7811c5f69ef924172": {
     "model_module": "@jupyter-widgets/base",
     "model_module_version": "1.2.0",
     "model_name": "LayoutModel",
     "state": {
      "_model_module": "@jupyter-widgets/base",
      "_model_module_version": "1.2.0",
      "_model_name": "LayoutModel",
      "_view_count": null,
      "_view_module": "@jupyter-widgets/base",
      "_view_module_version": "1.2.0",
      "_view_name": "LayoutView",
      "align_content": null,
      "align_items": null,
      "align_self": null,
      "border": null,
      "bottom": null,
      "display": null,
      "flex": null,
      "flex_flow": null,
      "grid_area": null,
      "grid_auto_columns": null,
      "grid_auto_flow": null,
      "grid_auto_rows": null,
      "grid_column": null,
      "grid_gap": null,
      "grid_row": null,
      "grid_template_areas": null,
      "grid_template_columns": null,
      "grid_template_rows": null,
      "height": null,
      "justify_content": null,
      "justify_items": null,
      "left": null,
      "margin": null,
      "max_height": null,
      "max_width": null,
      "min_height": null,
      "min_width": null,
      "object_fit": null,
      "object_position": null,
      "order": null,
      "overflow": null,
      "overflow_x": null,
      "overflow_y": null,
      "padding": null,
      "right": null,
      "top": null,
      "visibility": null,
      "width": null
     }
    },
    "2cc1732945cb4dfb8ef88b896f38fc7f": {
     "model_module": "@jupyter-widgets/controls",
     "model_module_version": "1.5.0",
     "model_name": "DescriptionStyleModel",
     "state": {
      "_model_module": "@jupyter-widgets/controls",
      "_model_module_version": "1.5.0",
      "_model_name": "DescriptionStyleModel",
      "_view_count": null,
      "_view_module": "@jupyter-widgets/base",
      "_view_module_version": "1.2.0",
      "_view_name": "StyleView",
      "description_width": ""
     }
    },
    "40a2be04ab484592b581753501f646bd": {
     "model_module": "@jupyter-widgets/base",
     "model_module_version": "1.2.0",
     "model_name": "LayoutModel",
     "state": {
      "_model_module": "@jupyter-widgets/base",
      "_model_module_version": "1.2.0",
      "_model_name": "LayoutModel",
      "_view_count": null,
      "_view_module": "@jupyter-widgets/base",
      "_view_module_version": "1.2.0",
      "_view_name": "LayoutView",
      "align_content": null,
      "align_items": null,
      "align_self": null,
      "border": null,
      "bottom": null,
      "display": null,
      "flex": null,
      "flex_flow": null,
      "grid_area": null,
      "grid_auto_columns": null,
      "grid_auto_flow": null,
      "grid_auto_rows": null,
      "grid_column": null,
      "grid_gap": null,
      "grid_row": null,
      "grid_template_areas": null,
      "grid_template_columns": null,
      "grid_template_rows": null,
      "height": null,
      "justify_content": null,
      "justify_items": null,
      "left": null,
      "margin": null,
      "max_height": null,
      "max_width": null,
      "min_height": null,
      "min_width": null,
      "object_fit": null,
      "object_position": null,
      "order": null,
      "overflow": null,
      "overflow_x": null,
      "overflow_y": null,
      "padding": null,
      "right": null,
      "top": null,
      "visibility": null,
      "width": null
     }
    },
    "4864b42dcb2b4c4d9d5ba2614fdcf01f": {
     "model_module": "@jupyter-widgets/base",
     "model_module_version": "1.2.0",
     "model_name": "LayoutModel",
     "state": {
      "_model_module": "@jupyter-widgets/base",
      "_model_module_version": "1.2.0",
      "_model_name": "LayoutModel",
      "_view_count": null,
      "_view_module": "@jupyter-widgets/base",
      "_view_module_version": "1.2.0",
      "_view_name": "LayoutView",
      "align_content": null,
      "align_items": null,
      "align_self": null,
      "border": null,
      "bottom": null,
      "display": null,
      "flex": null,
      "flex_flow": null,
      "grid_area": null,
      "grid_auto_columns": null,
      "grid_auto_flow": null,
      "grid_auto_rows": null,
      "grid_column": null,
      "grid_gap": null,
      "grid_row": null,
      "grid_template_areas": null,
      "grid_template_columns": null,
      "grid_template_rows": null,
      "height": null,
      "justify_content": null,
      "justify_items": null,
      "left": null,
      "margin": null,
      "max_height": null,
      "max_width": null,
      "min_height": null,
      "min_width": null,
      "object_fit": null,
      "object_position": null,
      "order": null,
      "overflow": null,
      "overflow_x": null,
      "overflow_y": null,
      "padding": null,
      "right": null,
      "top": null,
      "visibility": null,
      "width": null
     }
    },
    "572134e54c9b4ea1a1bad2e71e844714": {
     "model_module": "@jupyter-widgets/base",
     "model_module_version": "1.2.0",
     "model_name": "LayoutModel",
     "state": {
      "_model_module": "@jupyter-widgets/base",
      "_model_module_version": "1.2.0",
      "_model_name": "LayoutModel",
      "_view_count": null,
      "_view_module": "@jupyter-widgets/base",
      "_view_module_version": "1.2.0",
      "_view_name": "LayoutView",
      "align_content": null,
      "align_items": null,
      "align_self": null,
      "border": null,
      "bottom": null,
      "display": null,
      "flex": null,
      "flex_flow": null,
      "grid_area": null,
      "grid_auto_columns": null,
      "grid_auto_flow": null,
      "grid_auto_rows": null,
      "grid_column": null,
      "grid_gap": null,
      "grid_row": null,
      "grid_template_areas": null,
      "grid_template_columns": null,
      "grid_template_rows": null,
      "height": null,
      "justify_content": null,
      "justify_items": null,
      "left": null,
      "margin": null,
      "max_height": null,
      "max_width": null,
      "min_height": null,
      "min_width": null,
      "object_fit": null,
      "object_position": null,
      "order": null,
      "overflow": null,
      "overflow_x": null,
      "overflow_y": null,
      "padding": null,
      "right": null,
      "top": null,
      "visibility": null,
      "width": null
     }
    },
    "5967b2265a4b4ec190afbc691c9e8abd": {
     "model_module": "@jupyter-widgets/controls",
     "model_module_version": "1.5.0",
     "model_name": "HTMLModel",
     "state": {
      "_dom_classes": [],
      "_model_module": "@jupyter-widgets/controls",
      "_model_module_version": "1.5.0",
      "_model_name": "HTMLModel",
      "_view_count": null,
      "_view_module": "@jupyter-widgets/controls",
      "_view_module_version": "1.5.0",
      "_view_name": "HTMLView",
      "description": "",
      "description_tooltip": null,
      "layout": "IPY_MODEL_256683b342e44ce7811c5f69ef924172",
      "placeholder": "​",
      "style": "IPY_MODEL_2cc1732945cb4dfb8ef88b896f38fc7f",
      "value": " 314/314 [00:00&lt;00:00, 4.39kB/s]"
     }
    },
    "5d85c259a796413fb3c88e7e4e4fb7ba": {
     "model_module": "@jupyter-widgets/base",
     "model_module_version": "1.2.0",
     "model_name": "LayoutModel",
     "state": {
      "_model_module": "@jupyter-widgets/base",
      "_model_module_version": "1.2.0",
      "_model_name": "LayoutModel",
      "_view_count": null,
      "_view_module": "@jupyter-widgets/base",
      "_view_module_version": "1.2.0",
      "_view_name": "LayoutView",
      "align_content": null,
      "align_items": null,
      "align_self": null,
      "border": null,
      "bottom": null,
      "display": null,
      "flex": null,
      "flex_flow": null,
      "grid_area": null,
      "grid_auto_columns": null,
      "grid_auto_flow": null,
      "grid_auto_rows": null,
      "grid_column": null,
      "grid_gap": null,
      "grid_row": null,
      "grid_template_areas": null,
      "grid_template_columns": null,
      "grid_template_rows": null,
      "height": null,
      "justify_content": null,
      "justify_items": null,
      "left": null,
      "margin": null,
      "max_height": null,
      "max_width": null,
      "min_height": null,
      "min_width": null,
      "object_fit": null,
      "object_position": null,
      "order": null,
      "overflow": null,
      "overflow_x": null,
      "overflow_y": null,
      "padding": null,
      "right": null,
      "top": null,
      "visibility": null,
      "width": null
     }
    },
    "64174a4684e94b538a44ca8fbb8c6b6f": {
     "model_module": "@jupyter-widgets/controls",
     "model_module_version": "1.5.0",
     "model_name": "ProgressStyleModel",
     "state": {
      "_model_module": "@jupyter-widgets/controls",
      "_model_module_version": "1.5.0",
      "_model_name": "ProgressStyleModel",
      "_view_count": null,
      "_view_module": "@jupyter-widgets/base",
      "_view_module_version": "1.2.0",
      "_view_name": "StyleView",
      "bar_color": null,
      "description_width": ""
     }
    },
    "8303f829ea224caa81ece9cc71192673": {
     "model_module": "@jupyter-widgets/controls",
     "model_module_version": "1.5.0",
     "model_name": "HTMLModel",
     "state": {
      "_dom_classes": [],
      "_model_module": "@jupyter-widgets/controls",
      "_model_module_version": "1.5.0",
      "_model_name": "HTMLModel",
      "_view_count": null,
      "_view_module": "@jupyter-widgets/controls",
      "_view_module_version": "1.5.0",
      "_view_name": "HTMLView",
      "description": "",
      "description_tooltip": null,
      "layout": "IPY_MODEL_1d47c44391d04d1483fb22e185c643fe",
      "placeholder": "​",
      "style": "IPY_MODEL_beed86cc1f634560ba7d3769be0ae4c8",
      "value": " 232k/232k [00:00&lt;00:00, 1.41MB/s]"
     }
    },
    "8320d1433d314dd2b1780ab33d1f2aa5": {
     "model_module": "@jupyter-widgets/controls",
     "model_module_version": "1.5.0",
     "model_name": "ProgressStyleModel",
     "state": {
      "_model_module": "@jupyter-widgets/controls",
      "_model_module_version": "1.5.0",
      "_model_name": "ProgressStyleModel",
      "_view_count": null,
      "_view_module": "@jupyter-widgets/base",
      "_view_module_version": "1.2.0",
      "_view_name": "StyleView",
      "bar_color": null,
      "description_width": ""
     }
    },
    "89089444c9264a019dd2fa5f0768a22a": {
     "model_module": "@jupyter-widgets/controls",
     "model_module_version": "1.5.0",
     "model_name": "ProgressStyleModel",
     "state": {
      "_model_module": "@jupyter-widgets/controls",
      "_model_module_version": "1.5.0",
      "_model_name": "ProgressStyleModel",
      "_view_count": null,
      "_view_module": "@jupyter-widgets/base",
      "_view_module_version": "1.2.0",
      "_view_name": "StyleView",
      "bar_color": null,
      "description_width": ""
     }
    },
    "89a3983da3cb4d2898b49353e2698bef": {
     "model_module": "@jupyter-widgets/controls",
     "model_module_version": "1.5.0",
     "model_name": "HTMLModel",
     "state": {
      "_dom_classes": [],
      "_model_module": "@jupyter-widgets/controls",
      "_model_module_version": "1.5.0",
      "_model_name": "HTMLModel",
      "_view_count": null,
      "_view_module": "@jupyter-widgets/controls",
      "_view_module_version": "1.5.0",
      "_view_name": "HTMLView",
      "description": "",
      "description_tooltip": null,
      "layout": "IPY_MODEL_572134e54c9b4ea1a1bad2e71e844714",
      "placeholder": "​",
      "style": "IPY_MODEL_8ceadf1141a34f8e90b7d9406bbe0d2f",
      "value": "config.json: 100%"
     }
    },
    "8ceadf1141a34f8e90b7d9406bbe0d2f": {
     "model_module": "@jupyter-widgets/controls",
     "model_module_version": "1.5.0",
     "model_name": "DescriptionStyleModel",
     "state": {
      "_model_module": "@jupyter-widgets/controls",
      "_model_module_version": "1.5.0",
      "_model_name": "DescriptionStyleModel",
      "_view_count": null,
      "_view_module": "@jupyter-widgets/base",
      "_view_module_version": "1.2.0",
      "_view_name": "StyleView",
      "description_width": ""
     }
    },
    "bb6fd4ffa84345af83092012e22a1f06": {
     "model_module": "@jupyter-widgets/controls",
     "model_module_version": "1.5.0",
     "model_name": "HTMLModel",
     "state": {
      "_dom_classes": [],
      "_model_module": "@jupyter-widgets/controls",
      "_model_module_version": "1.5.0",
      "_model_name": "HTMLModel",
      "_view_count": null,
      "_view_module": "@jupyter-widgets/controls",
      "_view_module_version": "1.5.0",
      "_view_name": "HTMLView",
      "description": "",
      "description_tooltip": null,
      "layout": "IPY_MODEL_5d85c259a796413fb3c88e7e4e4fb7ba",
      "placeholder": "​",
      "style": "IPY_MODEL_018cbf6cc49642d69043bf63767251d1",
      "value": "vocab.txt: 100%"
     }
    },
    "beed86cc1f634560ba7d3769be0ae4c8": {
     "model_module": "@jupyter-widgets/controls",
     "model_module_version": "1.5.0",
     "model_name": "DescriptionStyleModel",
     "state": {
      "_model_module": "@jupyter-widgets/controls",
      "_model_module_version": "1.5.0",
      "_model_name": "DescriptionStyleModel",
      "_view_count": null,
      "_view_module": "@jupyter-widgets/base",
      "_view_module_version": "1.2.0",
      "_view_name": "StyleView",
      "description_width": ""
     }
    },
    "c4cc2b6a321c42f696e1d87f622d1376": {
     "model_module": "@jupyter-widgets/controls",
     "model_module_version": "1.5.0",
     "model_name": "FloatProgressModel",
     "state": {
      "_dom_classes": [],
      "_model_module": "@jupyter-widgets/controls",
      "_model_module_version": "1.5.0",
      "_model_name": "FloatProgressModel",
      "_view_count": null,
      "_view_module": "@jupyter-widgets/controls",
      "_view_module_version": "1.5.0",
      "_view_name": "ProgressView",
      "bar_style": "success",
      "description": "",
      "description_tooltip": null,
      "layout": "IPY_MODEL_0795761f2a1b4a86ad52558cb0d4aeed",
      "max": 314,
      "min": 0,
      "orientation": "horizontal",
      "style": "IPY_MODEL_89089444c9264a019dd2fa5f0768a22a",
      "value": 314
     }
    },
    "d4d18147f1da456b8caacfb93ec07b31": {
     "model_module": "@jupyter-widgets/base",
     "model_module_version": "1.2.0",
     "model_name": "LayoutModel",
     "state": {
      "_model_module": "@jupyter-widgets/base",
      "_model_module_version": "1.2.0",
      "_model_name": "LayoutModel",
      "_view_count": null,
      "_view_module": "@jupyter-widgets/base",
      "_view_module_version": "1.2.0",
      "_view_name": "LayoutView",
      "align_content": null,
      "align_items": null,
      "align_self": null,
      "border": null,
      "bottom": null,
      "display": null,
      "flex": null,
      "flex_flow": null,
      "grid_area": null,
      "grid_auto_columns": null,
      "grid_auto_flow": null,
      "grid_auto_rows": null,
      "grid_column": null,
      "grid_gap": null,
      "grid_row": null,
      "grid_template_areas": null,
      "grid_template_columns": null,
      "grid_template_rows": null,
      "height": null,
      "justify_content": null,
      "justify_items": null,
      "left": null,
      "margin": null,
      "max_height": null,
      "max_width": null,
      "min_height": null,
      "min_width": null,
      "object_fit": null,
      "object_position": null,
      "order": null,
      "overflow": null,
      "overflow_x": null,
      "overflow_y": null,
      "padding": null,
      "right": null,
      "top": null,
      "visibility": null,
      "width": null
     }
    },
    "dec613593c004c17af509b1c5c1d2325": {
     "model_module": "@jupyter-widgets/controls",
     "model_module_version": "1.5.0",
     "model_name": "DescriptionStyleModel",
     "state": {
      "_model_module": "@jupyter-widgets/controls",
      "_model_module_version": "1.5.0",
      "_model_name": "DescriptionStyleModel",
      "_view_count": null,
      "_view_module": "@jupyter-widgets/base",
      "_view_module_version": "1.2.0",
      "_view_name": "StyleView",
      "description_width": ""
     }
    },
    "e6f497ea4ec24307a851cac94dc64296": {
     "model_module": "@jupyter-widgets/base",
     "model_module_version": "1.2.0",
     "model_name": "LayoutModel",
     "state": {
      "_model_module": "@jupyter-widgets/base",
      "_model_module_version": "1.2.0",
      "_model_name": "LayoutModel",
      "_view_count": null,
      "_view_module": "@jupyter-widgets/base",
      "_view_module_version": "1.2.0",
      "_view_name": "LayoutView",
      "align_content": null,
      "align_items": null,
      "align_self": null,
      "border": null,
      "bottom": null,
      "display": null,
      "flex": null,
      "flex_flow": null,
      "grid_area": null,
      "grid_auto_columns": null,
      "grid_auto_flow": null,
      "grid_auto_rows": null,
      "grid_column": null,
      "grid_gap": null,
      "grid_row": null,
      "grid_template_areas": null,
      "grid_template_columns": null,
      "grid_template_rows": null,
      "height": null,
      "justify_content": null,
      "justify_items": null,
      "left": null,
      "margin": null,
      "max_height": null,
      "max_width": null,
      "min_height": null,
      "min_width": null,
      "object_fit": null,
      "object_position": null,
      "order": null,
      "overflow": null,
      "overflow_x": null,
      "overflow_y": null,
      "padding": null,
      "right": null,
      "top": null,
      "visibility": null,
      "width": null
     }
    },
    "f4f35f9203734017a36bfd3391d799aa": {
     "model_module": "@jupyter-widgets/controls",
     "model_module_version": "1.5.0",
     "model_name": "HTMLModel",
     "state": {
      "_dom_classes": [],
      "_model_module": "@jupyter-widgets/controls",
      "_model_module_version": "1.5.0",
      "_model_name": "HTMLModel",
      "_view_count": null,
      "_view_module": "@jupyter-widgets/controls",
      "_view_module_version": "1.5.0",
      "_view_name": "HTMLView",
      "description": "",
      "description_tooltip": null,
      "layout": "IPY_MODEL_d4d18147f1da456b8caacfb93ec07b31",
      "placeholder": "​",
      "style": "IPY_MODEL_dec613593c004c17af509b1c5c1d2325",
      "value": " 1.35G/1.35G [00:36&lt;00:00, 35.4MB/s]"
     }
    },
    "f7336fd6780544d38b5b2f05ecaa9f4b": {
     "model_module": "@jupyter-widgets/base",
     "model_module_version": "1.2.0",
     "model_name": "LayoutModel",
     "state": {
      "_model_module": "@jupyter-widgets/base",
      "_model_module_version": "1.2.0",
      "_model_name": "LayoutModel",
      "_view_count": null,
      "_view_module": "@jupyter-widgets/base",
      "_view_module_version": "1.2.0",
      "_view_name": "LayoutView",
      "align_content": null,
      "align_items": null,
      "align_self": null,
      "border": null,
      "bottom": null,
      "display": null,
      "flex": null,
      "flex_flow": null,
      "grid_area": null,
      "grid_auto_columns": null,
      "grid_auto_flow": null,
      "grid_auto_rows": null,
      "grid_column": null,
      "grid_gap": null,
      "grid_row": null,
      "grid_template_areas": null,
      "grid_template_columns": null,
      "grid_template_rows": null,
      "height": null,
      "justify_content": null,
      "justify_items": null,
      "left": null,
      "margin": null,
      "max_height": null,
      "max_width": null,
      "min_height": null,
      "min_width": null,
      "object_fit": null,
      "object_position": null,
      "order": null,
      "overflow": null,
      "overflow_x": null,
      "overflow_y": null,
      "padding": null,
      "right": null,
      "top": null,
      "visibility": null,
      "width": null
     }
    },
    "f7c398b5069245718ea886abfe274ff6": {
     "model_module": "@jupyter-widgets/controls",
     "model_module_version": "1.5.0",
     "model_name": "FloatProgressModel",
     "state": {
      "_dom_classes": [],
      "_model_module": "@jupyter-widgets/controls",
      "_model_module_version": "1.5.0",
      "_model_name": "FloatProgressModel",
      "_view_count": null,
      "_view_module": "@jupyter-widgets/controls",
      "_view_module_version": "1.5.0",
      "_view_name": "ProgressView",
      "bar_style": "success",
      "description": "",
      "description_tooltip": null,
      "layout": "IPY_MODEL_e6f497ea4ec24307a851cac94dc64296",
      "max": 231508,
      "min": 0,
      "orientation": "horizontal",
      "style": "IPY_MODEL_8320d1433d314dd2b1780ab33d1f2aa5",
      "value": 231508
     }
    }
   }
  }
 },
 "nbformat": 4,
 "nbformat_minor": 0
}
